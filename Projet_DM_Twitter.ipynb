{
  "nbformat": 4,
  "nbformat_minor": 0,
  "metadata": {
    "colab": {
      "name": "Projet DM Twitter.ipynb",
      "provenance": [],
      "collapsed_sections": [],
      "authorship_tag": "ABX9TyNulUtiMm2HRGAP70Lryp5P",
      "include_colab_link": true
    },
    "kernelspec": {
      "name": "python3",
      "display_name": "Python 3"
    }
  },
  "cells": [
    {
      "cell_type": "markdown",
      "metadata": {
        "id": "view-in-github",
        "colab_type": "text"
      },
      "source": [
        "<a href=\"https://colab.research.google.com/github/wafazgon/CNNMNIST/blob/master/Projet_DM_Twitter.ipynb\" target=\"_parent\"><img src=\"https://colab.research.google.com/assets/colab-badge.svg\" alt=\"Open In Colab\"/></a>"
      ]
    },
    {
      "cell_type": "code",
      "metadata": {
        "id": "b3f1lV7MzkWr"
      },
      "source": [
        "from warnings import filterwarnings\r\n",
        "filterwarnings('ignore')"
      ],
      "execution_count": null,
      "outputs": []
    },
    {
      "cell_type": "markdown",
      "metadata": {
        "id": "Uue8KQhlQ3AK"
      },
      "source": [
        "## **API Connection**"
      ]
    },
    {
      "cell_type": "code",
      "metadata": {
        "colab": {
          "base_uri": "https://localhost:8080/"
        },
        "id": "xJffgRLIIrxj",
        "outputId": "c727bac0-da37-49ea-903c-dd034c5845dd"
      },
      "source": [
        "!pip install tweepy"
      ],
      "execution_count": null,
      "outputs": [
        {
          "output_type": "stream",
          "text": [
            "Requirement already satisfied: tweepy in /usr/local/lib/python3.6/dist-packages (3.6.0)\n",
            "Requirement already satisfied: requests>=2.11.1 in /usr/local/lib/python3.6/dist-packages (from tweepy) (2.23.0)\n",
            "Requirement already satisfied: PySocks>=1.5.7 in /usr/local/lib/python3.6/dist-packages (from tweepy) (1.7.1)\n",
            "Requirement already satisfied: six>=1.10.0 in /usr/local/lib/python3.6/dist-packages (from tweepy) (1.15.0)\n",
            "Requirement already satisfied: requests-oauthlib>=0.7.0 in /usr/local/lib/python3.6/dist-packages (from tweepy) (1.3.0)\n",
            "Requirement already satisfied: certifi>=2017.4.17 in /usr/local/lib/python3.6/dist-packages (from requests>=2.11.1->tweepy) (2020.12.5)\n",
            "Requirement already satisfied: idna<3,>=2.5 in /usr/local/lib/python3.6/dist-packages (from requests>=2.11.1->tweepy) (2.10)\n",
            "Requirement already satisfied: chardet<4,>=3.0.2 in /usr/local/lib/python3.6/dist-packages (from requests>=2.11.1->tweepy) (3.0.4)\n",
            "Requirement already satisfied: urllib3!=1.25.0,!=1.25.1,<1.26,>=1.21.1 in /usr/local/lib/python3.6/dist-packages (from requests>=2.11.1->tweepy) (1.24.3)\n",
            "Requirement already satisfied: oauthlib>=3.0.0 in /usr/local/lib/python3.6/dist-packages (from requests-oauthlib>=0.7.0->tweepy) (3.1.0)\n"
          ],
          "name": "stdout"
        }
      ]
    },
    {
      "cell_type": "code",
      "metadata": {
        "id": "xa6ScmZuO-T2"
      },
      "source": [
        "import tweepy, codecs\r\n",
        "\r\n",
        "consumer_key = 'leILJenAUxCgBe9wqG5JMt6e5'\r\n",
        "consumer_secret = 'xkyDTxrq2IfK1BBaUhRa3Iyx9ACZmJwP1Ksrh2KlinIHoAHfTy'\r\n",
        "access_token = '793437878617604096-AkjEbIMx97IhG2Apj5iVD1CbwIcxmI7'\r\n",
        "access_token_secret = 'JWGu4cUruwAGKGuK4yPq7VEPuR34ogV35xuhNV1CHZbqv'\r\n",
        "\r\n",
        "auth = tweepy.OAuthHandler(consumer_key, consumer_secret)\r\n",
        "auth.set_access_token(access_token,access_token_secret)\r\n",
        "api = tweepy.API(auth)"
      ],
      "execution_count": null,
      "outputs": []
    },
    {
      "cell_type": "code",
      "metadata": {
        "colab": {
          "base_uri": "https://localhost:8080/"
        },
        "id": "cPBIxUpJmdqs",
        "outputId": "e3ba74b2-8399-4585-d674-b215f1ca394b"
      },
      "source": [
        "api.friends()"
      ],
      "execution_count": null,
      "outputs": [
        {
          "output_type": "execute_result",
          "data": {
            "text/plain": [
              "[User(_api=<tweepy.api.API object at 0x7f3005c53f60>, _json={'id': 3409123967, 'id_str': '3409123967', 'name': 'Corpse Husband', 'screen_name': 'Corpse_Husband', 'location': '', 'description': \"Faceless. I make music sometimes. I don't even know anymore. IG: Corpse_Husband\\npfp: @vallact\", 'url': 'https://t.co/9kfn7QR0uY', 'entities': {'url': {'urls': [{'url': 'https://t.co/9kfn7QR0uY', 'expanded_url': 'http://WWW.Youtube.com/c/CorpseHusband', 'display_url': 'Youtube.com/c/CorpseHusband', 'indices': [0, 23]}]}, 'description': {'urls': []}}, 'protected': False, 'followers_count': 2297380, 'friends_count': 472, 'listed_count': 1620, 'created_at': 'Sat Aug 08 20:20:22 +0000 2015', 'favourites_count': 72187, 'utc_offset': None, 'time_zone': None, 'geo_enabled': False, 'verified': True, 'statuses_count': 1434, 'lang': None, 'status': {'created_at': 'Sun Jan 03 06:24:43 +0000 2021', 'id': 1345617066498220037, 'id_str': '1345617066498220037', 'text': '@emmalangevinxo @Freddy_bo809 ? https://t.co/VmPrrMQ2ri', 'truncated': False, 'entities': {'hashtags': [], 'symbols': [], 'user_mentions': [{'screen_name': 'emmalangevinxo', 'name': 'Emma \\U0001f9b7', 'id': 1326193864491798529, 'id_str': '1326193864491798529', 'indices': [0, 15]}, {'screen_name': 'Freddy_bo809', 'name': 'freddy_bo', 'id': 975940190966505473, 'id_str': '975940190966505473', 'indices': [16, 29]}], 'urls': [], 'media': [{'id': 1345617063876784130, 'id_str': '1345617063876784130', 'indices': [32, 55], 'media_url': 'http://pbs.twimg.com/media/EqyXlxgUcAIBA-_.jpg', 'media_url_https': 'https://pbs.twimg.com/media/EqyXlxgUcAIBA-_.jpg', 'url': 'https://t.co/VmPrrMQ2ri', 'display_url': 'pic.twitter.com/VmPrrMQ2ri', 'expanded_url': 'https://twitter.com/Corpse_Husband/status/1345617066498220037/photo/1', 'type': 'photo', 'sizes': {'thumb': {'w': 150, 'h': 150, 'resize': 'crop'}, 'medium': {'w': 828, 'h': 992, 'resize': 'fit'}, 'large': {'w': 828, 'h': 992, 'resize': 'fit'}, 'small': {'w': 568, 'h': 680, 'resize': 'fit'}}}]}, 'extended_entities': {'media': [{'id': 1345617063876784130, 'id_str': '1345617063876784130', 'indices': [32, 55], 'media_url': 'http://pbs.twimg.com/media/EqyXlxgUcAIBA-_.jpg', 'media_url_https': 'https://pbs.twimg.com/media/EqyXlxgUcAIBA-_.jpg', 'url': 'https://t.co/VmPrrMQ2ri', 'display_url': 'pic.twitter.com/VmPrrMQ2ri', 'expanded_url': 'https://twitter.com/Corpse_Husband/status/1345617066498220037/photo/1', 'type': 'photo', 'sizes': {'thumb': {'w': 150, 'h': 150, 'resize': 'crop'}, 'medium': {'w': 828, 'h': 992, 'resize': 'fit'}, 'large': {'w': 828, 'h': 992, 'resize': 'fit'}, 'small': {'w': 568, 'h': 680, 'resize': 'fit'}}}]}, 'source': '<a href=\"http://twitter.com/download/iphone\" rel=\"nofollow\">Twitter for iPhone</a>', 'in_reply_to_status_id': 1345616761224384513, 'in_reply_to_status_id_str': '1345616761224384513', 'in_reply_to_user_id': 1326193864491798529, 'in_reply_to_user_id_str': '1326193864491798529', 'in_reply_to_screen_name': 'emmalangevinxo', 'geo': None, 'coordinates': None, 'place': None, 'contributors': None, 'is_quote_status': False, 'retweet_count': 269, 'favorite_count': 16451, 'favorited': False, 'retweeted': False, 'possibly_sensitive': False, 'lang': 'und'}, 'contributors_enabled': False, 'is_translator': False, 'is_translation_enabled': False, 'profile_background_color': '000000', 'profile_background_image_url': 'http://abs.twimg.com/images/themes/theme1/bg.png', 'profile_background_image_url_https': 'https://abs.twimg.com/images/themes/theme1/bg.png', 'profile_background_tile': False, 'profile_image_url': 'http://pbs.twimg.com/profile_images/1312085734547832839/u3JB9Rq6_normal.jpg', 'profile_image_url_https': 'https://pbs.twimg.com/profile_images/1312085734547832839/u3JB9Rq6_normal.jpg', 'profile_banner_url': 'https://pbs.twimg.com/profile_banners/3409123967/1564316856', 'profile_link_color': '005830', 'profile_sidebar_border_color': '000000', 'profile_sidebar_fill_color': '000000', 'profile_text_color': '000000', 'profile_use_background_image': False, 'has_extended_profile': True, 'default_profile': False, 'default_profile_image': False, 'following': True, 'live_following': False, 'follow_request_sent': False, 'notifications': False, 'muting': False, 'blocking': False, 'blocked_by': False, 'translator_type': 'none'}, id=3409123967, id_str='3409123967', name='Corpse Husband', screen_name='Corpse_Husband', location='', description=\"Faceless. I make music sometimes. I don't even know anymore. IG: Corpse_Husband\\npfp: @vallact\", url='https://t.co/9kfn7QR0uY', entities={'url': {'urls': [{'url': 'https://t.co/9kfn7QR0uY', 'expanded_url': 'http://WWW.Youtube.com/c/CorpseHusband', 'display_url': 'Youtube.com/c/CorpseHusband', 'indices': [0, 23]}]}, 'description': {'urls': []}}, protected=False, followers_count=2297380, friends_count=472, listed_count=1620, created_at=datetime.datetime(2015, 8, 8, 20, 20, 22), favourites_count=72187, utc_offset=None, time_zone=None, geo_enabled=False, verified=True, statuses_count=1434, lang=None, status=Status(_api=<tweepy.api.API object at 0x7f3005c53f60>, _json={'created_at': 'Sun Jan 03 06:24:43 +0000 2021', 'id': 1345617066498220037, 'id_str': '1345617066498220037', 'text': '@emmalangevinxo @Freddy_bo809 ? https://t.co/VmPrrMQ2ri', 'truncated': False, 'entities': {'hashtags': [], 'symbols': [], 'user_mentions': [{'screen_name': 'emmalangevinxo', 'name': 'Emma \\U0001f9b7', 'id': 1326193864491798529, 'id_str': '1326193864491798529', 'indices': [0, 15]}, {'screen_name': 'Freddy_bo809', 'name': 'freddy_bo', 'id': 975940190966505473, 'id_str': '975940190966505473', 'indices': [16, 29]}], 'urls': [], 'media': [{'id': 1345617063876784130, 'id_str': '1345617063876784130', 'indices': [32, 55], 'media_url': 'http://pbs.twimg.com/media/EqyXlxgUcAIBA-_.jpg', 'media_url_https': 'https://pbs.twimg.com/media/EqyXlxgUcAIBA-_.jpg', 'url': 'https://t.co/VmPrrMQ2ri', 'display_url': 'pic.twitter.com/VmPrrMQ2ri', 'expanded_url': 'https://twitter.com/Corpse_Husband/status/1345617066498220037/photo/1', 'type': 'photo', 'sizes': {'thumb': {'w': 150, 'h': 150, 'resize': 'crop'}, 'medium': {'w': 828, 'h': 992, 'resize': 'fit'}, 'large': {'w': 828, 'h': 992, 'resize': 'fit'}, 'small': {'w': 568, 'h': 680, 'resize': 'fit'}}}]}, 'extended_entities': {'media': [{'id': 1345617063876784130, 'id_str': '1345617063876784130', 'indices': [32, 55], 'media_url': 'http://pbs.twimg.com/media/EqyXlxgUcAIBA-_.jpg', 'media_url_https': 'https://pbs.twimg.com/media/EqyXlxgUcAIBA-_.jpg', 'url': 'https://t.co/VmPrrMQ2ri', 'display_url': 'pic.twitter.com/VmPrrMQ2ri', 'expanded_url': 'https://twitter.com/Corpse_Husband/status/1345617066498220037/photo/1', 'type': 'photo', 'sizes': {'thumb': {'w': 150, 'h': 150, 'resize': 'crop'}, 'medium': {'w': 828, 'h': 992, 'resize': 'fit'}, 'large': {'w': 828, 'h': 992, 'resize': 'fit'}, 'small': {'w': 568, 'h': 680, 'resize': 'fit'}}}]}, 'source': '<a href=\"http://twitter.com/download/iphone\" rel=\"nofollow\">Twitter for iPhone</a>', 'in_reply_to_status_id': 1345616761224384513, 'in_reply_to_status_id_str': '1345616761224384513', 'in_reply_to_user_id': 1326193864491798529, 'in_reply_to_user_id_str': '1326193864491798529', 'in_reply_to_screen_name': 'emmalangevinxo', 'geo': None, 'coordinates': None, 'place': None, 'contributors': None, 'is_quote_status': False, 'retweet_count': 269, 'favorite_count': 16451, 'favorited': False, 'retweeted': False, 'possibly_sensitive': False, 'lang': 'und'}, created_at=datetime.datetime(2021, 1, 3, 6, 24, 43), id=1345617066498220037, id_str='1345617066498220037', text='@emmalangevinxo @Freddy_bo809 ? https://t.co/VmPrrMQ2ri', truncated=False, entities={'hashtags': [], 'symbols': [], 'user_mentions': [{'screen_name': 'emmalangevinxo', 'name': 'Emma \\U0001f9b7', 'id': 1326193864491798529, 'id_str': '1326193864491798529', 'indices': [0, 15]}, {'screen_name': 'Freddy_bo809', 'name': 'freddy_bo', 'id': 975940190966505473, 'id_str': '975940190966505473', 'indices': [16, 29]}], 'urls': [], 'media': [{'id': 1345617063876784130, 'id_str': '1345617063876784130', 'indices': [32, 55], 'media_url': 'http://pbs.twimg.com/media/EqyXlxgUcAIBA-_.jpg', 'media_url_https': 'https://pbs.twimg.com/media/EqyXlxgUcAIBA-_.jpg', 'url': 'https://t.co/VmPrrMQ2ri', 'display_url': 'pic.twitter.com/VmPrrMQ2ri', 'expanded_url': 'https://twitter.com/Corpse_Husband/status/1345617066498220037/photo/1', 'type': 'photo', 'sizes': {'thumb': {'w': 150, 'h': 150, 'resize': 'crop'}, 'medium': {'w': 828, 'h': 992, 'resize': 'fit'}, 'large': {'w': 828, 'h': 992, 'resize': 'fit'}, 'small': {'w': 568, 'h': 680, 'resize': 'fit'}}}]}, extended_entities={'media': [{'id': 1345617063876784130, 'id_str': '1345617063876784130', 'indices': [32, 55], 'media_url': 'http://pbs.twimg.com/media/EqyXlxgUcAIBA-_.jpg', 'media_url_https': 'https://pbs.twimg.com/media/EqyXlxgUcAIBA-_.jpg', 'url': 'https://t.co/VmPrrMQ2ri', 'display_url': 'pic.twitter.com/VmPrrMQ2ri', 'expanded_url': 'https://twitter.com/Corpse_Husband/status/1345617066498220037/photo/1', 'type': 'photo', 'sizes': {'thumb': {'w': 150, 'h': 150, 'resize': 'crop'}, 'medium': {'w': 828, 'h': 992, 'resize': 'fit'}, 'large': {'w': 828, 'h': 992, 'resize': 'fit'}, 'small': {'w': 568, 'h': 680, 'resize': 'fit'}}}]}, source='Twitter for iPhone', source_url='http://twitter.com/download/iphone', in_reply_to_status_id=1345616761224384513, in_reply_to_status_id_str='1345616761224384513', in_reply_to_user_id=1326193864491798529, in_reply_to_user_id_str='1326193864491798529', in_reply_to_screen_name='emmalangevinxo', geo=None, coordinates=None, place=None, contributors=None, is_quote_status=False, retweet_count=269, favorite_count=16451, favorited=False, retweeted=False, possibly_sensitive=False, lang='und'), contributors_enabled=False, is_translator=False, is_translation_enabled=False, profile_background_color='000000', profile_background_image_url='http://abs.twimg.com/images/themes/theme1/bg.png', profile_background_image_url_https='https://abs.twimg.com/images/themes/theme1/bg.png', profile_background_tile=False, profile_image_url='http://pbs.twimg.com/profile_images/1312085734547832839/u3JB9Rq6_normal.jpg', profile_image_url_https='https://pbs.twimg.com/profile_images/1312085734547832839/u3JB9Rq6_normal.jpg', profile_banner_url='https://pbs.twimg.com/profile_banners/3409123967/1564316856', profile_link_color='005830', profile_sidebar_border_color='000000', profile_sidebar_fill_color='000000', profile_text_color='000000', profile_use_background_image=False, has_extended_profile=True, default_profile=False, default_profile_image=False, following=True, live_following=False, follow_request_sent=False, notifications=False, muting=False, blocking=False, blocked_by=False, translator_type='none'),\n",
              " User(_api=<tweepy.api.API object at 0x7f3005c53f60>, _json={'id': 2708191476, 'id_str': '2708191476', 'name': '(^-^)/', 'screen_name': 'Valkyrae', 'location': 'Los Angeles, CA', 'description': 'Streamer for @100Thieves on YouTube 🎉 https://t.co/7uOkPCaUVd | https://t.co/7t39oVX8hZ', 'url': 'https://t.co/1yrEbMnCx6', 'entities': {'url': {'urls': [{'url': 'https://t.co/1yrEbMnCx6', 'expanded_url': 'https://www.youtube.com/valkyrae1', 'display_url': 'youtube.com/valkyrae1', 'indices': [0, 23]}]}, 'description': {'urls': [{'url': 'https://t.co/7uOkPCaUVd', 'expanded_url': 'http://Instagram.com/Valkyrae', 'display_url': 'Instagram.com/Valkyrae', 'indices': [38, 61]}, {'url': 'https://t.co/7t39oVX8hZ', 'expanded_url': 'http://Reddit.com/r/Valkyrae', 'display_url': 'Reddit.com/r/Valkyrae', 'indices': [64, 87]}]}}, 'protected': False, 'followers_count': 1599860, 'friends_count': 1073, 'listed_count': 1087, 'created_at': 'Tue Aug 05 03:50:31 +0000 2014', 'favourites_count': 57878, 'utc_offset': None, 'time_zone': None, 'geo_enabled': False, 'verified': True, 'statuses_count': 20639, 'lang': None, 'status': {'created_at': 'Mon Jan 04 16:28:25 +0000 2021', 'id': 1346131381319917568, 'id_str': '1346131381319917568', 'text': 'Hihi!\\n\\nLittle things to break bad habits &amp; build better ones;\\n\\nCharging my phone during the night on the opposite s… https://t.co/8FQAJ0Ii6H', 'truncated': True, 'entities': {'hashtags': [], 'symbols': [], 'user_mentions': [], 'urls': [{'url': 'https://t.co/8FQAJ0Ii6H', 'expanded_url': 'https://twitter.com/i/web/status/1346131381319917568', 'display_url': 'twitter.com/i/web/status/1…', 'indices': [121, 144]}]}, 'source': '<a href=\"http://twitter.com/download/iphone\" rel=\"nofollow\">Twitter for iPhone</a>', 'in_reply_to_status_id': None, 'in_reply_to_status_id_str': None, 'in_reply_to_user_id': None, 'in_reply_to_user_id_str': None, 'in_reply_to_screen_name': None, 'geo': None, 'coordinates': None, 'place': None, 'contributors': None, 'is_quote_status': False, 'retweet_count': 190, 'favorite_count': 8272, 'favorited': False, 'retweeted': False, 'lang': 'en'}, 'contributors_enabled': False, 'is_translator': False, 'is_translation_enabled': False, 'profile_background_color': '000000', 'profile_background_image_url': 'http://abs.twimg.com/images/themes/theme1/bg.png', 'profile_background_image_url_https': 'https://abs.twimg.com/images/themes/theme1/bg.png', 'profile_background_tile': False, 'profile_image_url': 'http://pbs.twimg.com/profile_images/1342686310021021698/pj8k3rPY_normal.jpg', 'profile_image_url_https': 'https://pbs.twimg.com/profile_images/1342686310021021698/pj8k3rPY_normal.jpg', 'profile_banner_url': 'https://pbs.twimg.com/profile_banners/2708191476/1609060185', 'profile_link_color': '981CEB', 'profile_sidebar_border_color': '000000', 'profile_sidebar_fill_color': '000000', 'profile_text_color': '000000', 'profile_use_background_image': False, 'has_extended_profile': True, 'default_profile': False, 'default_profile_image': False, 'following': True, 'live_following': False, 'follow_request_sent': False, 'notifications': False, 'muting': False, 'blocking': False, 'blocked_by': False, 'translator_type': 'none'}, id=2708191476, id_str='2708191476', name='(^-^)/', screen_name='Valkyrae', location='Los Angeles, CA', description='Streamer for @100Thieves on YouTube 🎉 https://t.co/7uOkPCaUVd | https://t.co/7t39oVX8hZ', url='https://t.co/1yrEbMnCx6', entities={'url': {'urls': [{'url': 'https://t.co/1yrEbMnCx6', 'expanded_url': 'https://www.youtube.com/valkyrae1', 'display_url': 'youtube.com/valkyrae1', 'indices': [0, 23]}]}, 'description': {'urls': [{'url': 'https://t.co/7uOkPCaUVd', 'expanded_url': 'http://Instagram.com/Valkyrae', 'display_url': 'Instagram.com/Valkyrae', 'indices': [38, 61]}, {'url': 'https://t.co/7t39oVX8hZ', 'expanded_url': 'http://Reddit.com/r/Valkyrae', 'display_url': 'Reddit.com/r/Valkyrae', 'indices': [64, 87]}]}}, protected=False, followers_count=1599860, friends_count=1073, listed_count=1087, created_at=datetime.datetime(2014, 8, 5, 3, 50, 31), favourites_count=57878, utc_offset=None, time_zone=None, geo_enabled=False, verified=True, statuses_count=20639, lang=None, status=Status(_api=<tweepy.api.API object at 0x7f3005c53f60>, _json={'created_at': 'Mon Jan 04 16:28:25 +0000 2021', 'id': 1346131381319917568, 'id_str': '1346131381319917568', 'text': 'Hihi!\\n\\nLittle things to break bad habits &amp; build better ones;\\n\\nCharging my phone during the night on the opposite s… https://t.co/8FQAJ0Ii6H', 'truncated': True, 'entities': {'hashtags': [], 'symbols': [], 'user_mentions': [], 'urls': [{'url': 'https://t.co/8FQAJ0Ii6H', 'expanded_url': 'https://twitter.com/i/web/status/1346131381319917568', 'display_url': 'twitter.com/i/web/status/1…', 'indices': [121, 144]}]}, 'source': '<a href=\"http://twitter.com/download/iphone\" rel=\"nofollow\">Twitter for iPhone</a>', 'in_reply_to_status_id': None, 'in_reply_to_status_id_str': None, 'in_reply_to_user_id': None, 'in_reply_to_user_id_str': None, 'in_reply_to_screen_name': None, 'geo': None, 'coordinates': None, 'place': None, 'contributors': None, 'is_quote_status': False, 'retweet_count': 190, 'favorite_count': 8272, 'favorited': False, 'retweeted': False, 'lang': 'en'}, created_at=datetime.datetime(2021, 1, 4, 16, 28, 25), id=1346131381319917568, id_str='1346131381319917568', text='Hihi!\\n\\nLittle things to break bad habits &amp; build better ones;\\n\\nCharging my phone during the night on the opposite s… https://t.co/8FQAJ0Ii6H', truncated=True, entities={'hashtags': [], 'symbols': [], 'user_mentions': [], 'urls': [{'url': 'https://t.co/8FQAJ0Ii6H', 'expanded_url': 'https://twitter.com/i/web/status/1346131381319917568', 'display_url': 'twitter.com/i/web/status/1…', 'indices': [121, 144]}]}, source='Twitter for iPhone', source_url='http://twitter.com/download/iphone', in_reply_to_status_id=None, in_reply_to_status_id_str=None, in_reply_to_user_id=None, in_reply_to_user_id_str=None, in_reply_to_screen_name=None, geo=None, coordinates=None, place=None, contributors=None, is_quote_status=False, retweet_count=190, favorite_count=8272, favorited=False, retweeted=False, lang='en'), contributors_enabled=False, is_translator=False, is_translation_enabled=False, profile_background_color='000000', profile_background_image_url='http://abs.twimg.com/images/themes/theme1/bg.png', profile_background_image_url_https='https://abs.twimg.com/images/themes/theme1/bg.png', profile_background_tile=False, profile_image_url='http://pbs.twimg.com/profile_images/1342686310021021698/pj8k3rPY_normal.jpg', profile_image_url_https='https://pbs.twimg.com/profile_images/1342686310021021698/pj8k3rPY_normal.jpg', profile_banner_url='https://pbs.twimg.com/profile_banners/2708191476/1609060185', profile_link_color='981CEB', profile_sidebar_border_color='000000', profile_sidebar_fill_color='000000', profile_text_color='000000', profile_use_background_image=False, has_extended_profile=True, default_profile=False, default_profile_image=False, following=True, live_following=False, follow_request_sent=False, notifications=False, muting=False, blocking=False, blocked_by=False, translator_type='none'),\n",
              " User(_api=<tweepy.api.API object at 0x7f3005c53f60>, _json={'id': 1268395110724562945, 'id_str': '1268395110724562945', 'name': 'MeelaVanderbuilt', 'screen_name': 'MeelaVanderB', 'location': '', 'description': 'Virtual girl living in a virtual world. Building virtual spaces & YouTubing simulations. https://t.co/MQJWoP6nJR', 'url': 'https://t.co/d1Cvs0QmQw', 'entities': {'url': {'urls': [{'url': 'https://t.co/d1Cvs0QmQw', 'expanded_url': 'http://MeelaVanderbuilt.com', 'display_url': 'MeelaVanderbuilt.com', 'indices': [0, 23]}]}, 'description': {'urls': [{'url': 'https://t.co/MQJWoP6nJR', 'expanded_url': 'http://YouTube.com/MeelaVanderbuilt', 'display_url': 'YouTube.com/MeelaVanderbui…', 'indices': [89, 112]}]}}, 'protected': False, 'followers_count': 475, 'friends_count': 62, 'listed_count': 3, 'created_at': 'Thu Jun 04 04:12:22 +0000 2020', 'favourites_count': 94, 'utc_offset': None, 'time_zone': None, 'geo_enabled': False, 'verified': False, 'statuses_count': 336, 'lang': None, 'status': {'created_at': 'Mon Jan 04 02:08:55 +0000 2021', 'id': 1345915080504975360, 'id_str': '1345915080504975360', 'text': 'I streamed today... my face may not show it but I had a bunch of fun ♥♥ - https://t.co/botRZGSHXV https://t.co/6fdfgJlbES', 'truncated': False, 'entities': {'hashtags': [], 'symbols': [], 'user_mentions': [], 'urls': [{'url': 'https://t.co/botRZGSHXV', 'expanded_url': 'https://youtu.be/M3y9MP2Uj78', 'display_url': 'youtu.be/M3y9MP2Uj78', 'indices': [74, 97]}], 'media': [{'id': 1345914806881177601, 'id_str': '1345914806881177601', 'indices': [98, 121], 'media_url': 'http://pbs.twimg.com/media/Eq2mYsoXUAE-Ax4.jpg', 'media_url_https': 'https://pbs.twimg.com/media/Eq2mYsoXUAE-Ax4.jpg', 'url': 'https://t.co/6fdfgJlbES', 'display_url': 'pic.twitter.com/6fdfgJlbES', 'expanded_url': 'https://twitter.com/MeelaVanderB/status/1345915080504975360/photo/1', 'type': 'photo', 'sizes': {'medium': {'w': 1170, 'h': 1170, 'resize': 'fit'}, 'thumb': {'w': 150, 'h': 150, 'resize': 'crop'}, 'small': {'w': 680, 'h': 680, 'resize': 'fit'}, 'large': {'w': 1170, 'h': 1170, 'resize': 'fit'}}}]}, 'extended_entities': {'media': [{'id': 1345914806881177601, 'id_str': '1345914806881177601', 'indices': [98, 121], 'media_url': 'http://pbs.twimg.com/media/Eq2mYsoXUAE-Ax4.jpg', 'media_url_https': 'https://pbs.twimg.com/media/Eq2mYsoXUAE-Ax4.jpg', 'url': 'https://t.co/6fdfgJlbES', 'display_url': 'pic.twitter.com/6fdfgJlbES', 'expanded_url': 'https://twitter.com/MeelaVanderB/status/1345915080504975360/photo/1', 'type': 'photo', 'sizes': {'medium': {'w': 1170, 'h': 1170, 'resize': 'fit'}, 'thumb': {'w': 150, 'h': 150, 'resize': 'crop'}, 'small': {'w': 680, 'h': 680, 'resize': 'fit'}, 'large': {'w': 1170, 'h': 1170, 'resize': 'fit'}}}]}, 'source': '<a href=\"https://mobile.twitter.com\" rel=\"nofollow\">Twitter Web App</a>', 'in_reply_to_status_id': None, 'in_reply_to_status_id_str': None, 'in_reply_to_user_id': None, 'in_reply_to_user_id_str': None, 'in_reply_to_screen_name': None, 'geo': None, 'coordinates': None, 'place': None, 'contributors': None, 'is_quote_status': False, 'retweet_count': 0, 'favorite_count': 4, 'favorited': False, 'retweeted': False, 'possibly_sensitive': False, 'lang': 'en'}, 'contributors_enabled': False, 'is_translator': False, 'is_translation_enabled': False, 'profile_background_color': 'F5F8FA', 'profile_background_image_url': None, 'profile_background_image_url_https': None, 'profile_background_tile': False, 'profile_image_url': 'http://pbs.twimg.com/profile_images/1342397392218288129/KbGz9RwB_normal.jpg', 'profile_image_url_https': 'https://pbs.twimg.com/profile_images/1342397392218288129/KbGz9RwB_normal.jpg', 'profile_banner_url': 'https://pbs.twimg.com/profile_banners/1268395110724562945/1608887454', 'profile_link_color': '1DA1F2', 'profile_sidebar_border_color': 'C0DEED', 'profile_sidebar_fill_color': 'DDEEF6', 'profile_text_color': '333333', 'profile_use_background_image': True, 'has_extended_profile': True, 'default_profile': True, 'default_profile_image': False, 'following': True, 'live_following': False, 'follow_request_sent': False, 'notifications': False, 'muting': False, 'blocking': False, 'blocked_by': False, 'translator_type': 'none'}, id=1268395110724562945, id_str='1268395110724562945', name='MeelaVanderbuilt', screen_name='MeelaVanderB', location='', description='Virtual girl living in a virtual world. Building virtual spaces & YouTubing simulations. https://t.co/MQJWoP6nJR', url='https://t.co/d1Cvs0QmQw', entities={'url': {'urls': [{'url': 'https://t.co/d1Cvs0QmQw', 'expanded_url': 'http://MeelaVanderbuilt.com', 'display_url': 'MeelaVanderbuilt.com', 'indices': [0, 23]}]}, 'description': {'urls': [{'url': 'https://t.co/MQJWoP6nJR', 'expanded_url': 'http://YouTube.com/MeelaVanderbuilt', 'display_url': 'YouTube.com/MeelaVanderbui…', 'indices': [89, 112]}]}}, protected=False, followers_count=475, friends_count=62, listed_count=3, created_at=datetime.datetime(2020, 6, 4, 4, 12, 22), favourites_count=94, utc_offset=None, time_zone=None, geo_enabled=False, verified=False, statuses_count=336, lang=None, status=Status(_api=<tweepy.api.API object at 0x7f3005c53f60>, _json={'created_at': 'Mon Jan 04 02:08:55 +0000 2021', 'id': 1345915080504975360, 'id_str': '1345915080504975360', 'text': 'I streamed today... my face may not show it but I had a bunch of fun ♥♥ - https://t.co/botRZGSHXV https://t.co/6fdfgJlbES', 'truncated': False, 'entities': {'hashtags': [], 'symbols': [], 'user_mentions': [], 'urls': [{'url': 'https://t.co/botRZGSHXV', 'expanded_url': 'https://youtu.be/M3y9MP2Uj78', 'display_url': 'youtu.be/M3y9MP2Uj78', 'indices': [74, 97]}], 'media': [{'id': 1345914806881177601, 'id_str': '1345914806881177601', 'indices': [98, 121], 'media_url': 'http://pbs.twimg.com/media/Eq2mYsoXUAE-Ax4.jpg', 'media_url_https': 'https://pbs.twimg.com/media/Eq2mYsoXUAE-Ax4.jpg', 'url': 'https://t.co/6fdfgJlbES', 'display_url': 'pic.twitter.com/6fdfgJlbES', 'expanded_url': 'https://twitter.com/MeelaVanderB/status/1345915080504975360/photo/1', 'type': 'photo', 'sizes': {'medium': {'w': 1170, 'h': 1170, 'resize': 'fit'}, 'thumb': {'w': 150, 'h': 150, 'resize': 'crop'}, 'small': {'w': 680, 'h': 680, 'resize': 'fit'}, 'large': {'w': 1170, 'h': 1170, 'resize': 'fit'}}}]}, 'extended_entities': {'media': [{'id': 1345914806881177601, 'id_str': '1345914806881177601', 'indices': [98, 121], 'media_url': 'http://pbs.twimg.com/media/Eq2mYsoXUAE-Ax4.jpg', 'media_url_https': 'https://pbs.twimg.com/media/Eq2mYsoXUAE-Ax4.jpg', 'url': 'https://t.co/6fdfgJlbES', 'display_url': 'pic.twitter.com/6fdfgJlbES', 'expanded_url': 'https://twitter.com/MeelaVanderB/status/1345915080504975360/photo/1', 'type': 'photo', 'sizes': {'medium': {'w': 1170, 'h': 1170, 'resize': 'fit'}, 'thumb': {'w': 150, 'h': 150, 'resize': 'crop'}, 'small': {'w': 680, 'h': 680, 'resize': 'fit'}, 'large': {'w': 1170, 'h': 1170, 'resize': 'fit'}}}]}, 'source': '<a href=\"https://mobile.twitter.com\" rel=\"nofollow\">Twitter Web App</a>', 'in_reply_to_status_id': None, 'in_reply_to_status_id_str': None, 'in_reply_to_user_id': None, 'in_reply_to_user_id_str': None, 'in_reply_to_screen_name': None, 'geo': None, 'coordinates': None, 'place': None, 'contributors': None, 'is_quote_status': False, 'retweet_count': 0, 'favorite_count': 4, 'favorited': False, 'retweeted': False, 'possibly_sensitive': False, 'lang': 'en'}, created_at=datetime.datetime(2021, 1, 4, 2, 8, 55), id=1345915080504975360, id_str='1345915080504975360', text='I streamed today... my face may not show it but I had a bunch of fun ♥♥ - https://t.co/botRZGSHXV https://t.co/6fdfgJlbES', truncated=False, entities={'hashtags': [], 'symbols': [], 'user_mentions': [], 'urls': [{'url': 'https://t.co/botRZGSHXV', 'expanded_url': 'https://youtu.be/M3y9MP2Uj78', 'display_url': 'youtu.be/M3y9MP2Uj78', 'indices': [74, 97]}], 'media': [{'id': 1345914806881177601, 'id_str': '1345914806881177601', 'indices': [98, 121], 'media_url': 'http://pbs.twimg.com/media/Eq2mYsoXUAE-Ax4.jpg', 'media_url_https': 'https://pbs.twimg.com/media/Eq2mYsoXUAE-Ax4.jpg', 'url': 'https://t.co/6fdfgJlbES', 'display_url': 'pic.twitter.com/6fdfgJlbES', 'expanded_url': 'https://twitter.com/MeelaVanderB/status/1345915080504975360/photo/1', 'type': 'photo', 'sizes': {'medium': {'w': 1170, 'h': 1170, 'resize': 'fit'}, 'thumb': {'w': 150, 'h': 150, 'resize': 'crop'}, 'small': {'w': 680, 'h': 680, 'resize': 'fit'}, 'large': {'w': 1170, 'h': 1170, 'resize': 'fit'}}}]}, extended_entities={'media': [{'id': 1345914806881177601, 'id_str': '1345914806881177601', 'indices': [98, 121], 'media_url': 'http://pbs.twimg.com/media/Eq2mYsoXUAE-Ax4.jpg', 'media_url_https': 'https://pbs.twimg.com/media/Eq2mYsoXUAE-Ax4.jpg', 'url': 'https://t.co/6fdfgJlbES', 'display_url': 'pic.twitter.com/6fdfgJlbES', 'expanded_url': 'https://twitter.com/MeelaVanderB/status/1345915080504975360/photo/1', 'type': 'photo', 'sizes': {'medium': {'w': 1170, 'h': 1170, 'resize': 'fit'}, 'thumb': {'w': 150, 'h': 150, 'resize': 'crop'}, 'small': {'w': 680, 'h': 680, 'resize': 'fit'}, 'large': {'w': 1170, 'h': 1170, 'resize': 'fit'}}}]}, source='Twitter Web App', source_url='https://mobile.twitter.com', in_reply_to_status_id=None, in_reply_to_status_id_str=None, in_reply_to_user_id=None, in_reply_to_user_id_str=None, in_reply_to_screen_name=None, geo=None, coordinates=None, place=None, contributors=None, is_quote_status=False, retweet_count=0, favorite_count=4, favorited=False, retweeted=False, possibly_sensitive=False, lang='en'), contributors_enabled=False, is_translator=False, is_translation_enabled=False, profile_background_color='F5F8FA', profile_background_image_url=None, profile_background_image_url_https=None, profile_background_tile=False, profile_image_url='http://pbs.twimg.com/profile_images/1342397392218288129/KbGz9RwB_normal.jpg', profile_image_url_https='https://pbs.twimg.com/profile_images/1342397392218288129/KbGz9RwB_normal.jpg', profile_banner_url='https://pbs.twimg.com/profile_banners/1268395110724562945/1608887454', profile_link_color='1DA1F2', profile_sidebar_border_color='C0DEED', profile_sidebar_fill_color='DDEEF6', profile_text_color='333333', profile_use_background_image=True, has_extended_profile=True, default_profile=True, default_profile_image=False, following=True, live_following=False, follow_request_sent=False, notifications=False, muting=False, blocking=False, blocked_by=False, translator_type='none'),\n",
              " User(_api=<tweepy.api.API object at 0x7f3005c53f60>, _json={'id': 818138390336049154, 'id_str': '818138390336049154', 'name': 'mOss | chAosOPUS STUDIO 🔞', 'screen_name': 'mOss_OPUS', 'location': 'U.K.', 'description': 'DIRECTOR | 3D ARTIST | ANIMATOR | COMPOSER              \\n🎥 killing STALKING: The Animated Series\\n             \\nhttps://t.co/7an7IFp0of', 'url': 'https://t.co/pxMjHCOl8V', 'entities': {'url': {'urls': [{'url': 'https://t.co/pxMjHCOl8V', 'expanded_url': 'https://www.youtube.com/c/mOssOPUS', 'display_url': 'youtube.com/c/mOssOPUS', 'indices': [0, 23]}]}, 'description': {'urls': [{'url': 'https://t.co/7an7IFp0of', 'expanded_url': 'https://www.chaosopus.com', 'display_url': 'chaosopus.com', 'indices': [111, 134]}]}}, 'protected': False, 'followers_count': 71913, 'friends_count': 11, 'listed_count': 25, 'created_at': 'Sun Jan 08 16:52:47 +0000 2017', 'favourites_count': 143, 'utc_offset': None, 'time_zone': None, 'geo_enabled': False, 'verified': False, 'statuses_count': 97, 'lang': None, 'status': {'created_at': 'Mon Jan 04 15:21:02 +0000 2021', 'id': 1346114421945491456, 'id_str': '1346114421945491456', 'text': \"Thank you for 3OO,OOO Subscribers! \\nI really appreciate the incredible support you've given me throughout 2O2O, I'm… https://t.co/v3ENans6RF\", 'truncated': True, 'entities': {'hashtags': [], 'symbols': [], 'user_mentions': [], 'urls': [{'url': 'https://t.co/v3ENans6RF', 'expanded_url': 'https://twitter.com/i/web/status/1346114421945491456', 'display_url': 'twitter.com/i/web/status/1…', 'indices': [117, 140]}]}, 'source': '<a href=\"https://mobile.twitter.com\" rel=\"nofollow\">Twitter Web App</a>', 'in_reply_to_status_id': None, 'in_reply_to_status_id_str': None, 'in_reply_to_user_id': None, 'in_reply_to_user_id_str': None, 'in_reply_to_screen_name': None, 'geo': None, 'coordinates': None, 'place': None, 'contributors': None, 'is_quote_status': False, 'retweet_count': 10, 'favorite_count': 303, 'favorited': False, 'retweeted': False, 'possibly_sensitive': False, 'lang': 'en'}, 'contributors_enabled': False, 'is_translator': False, 'is_translation_enabled': False, 'profile_background_color': '000000', 'profile_background_image_url': 'http://abs.twimg.com/images/themes/theme1/bg.png', 'profile_background_image_url_https': 'https://abs.twimg.com/images/themes/theme1/bg.png', 'profile_background_tile': False, 'profile_image_url': 'http://pbs.twimg.com/profile_images/1317961989780623362/w8RQf7cT_normal.jpg', 'profile_image_url_https': 'https://pbs.twimg.com/profile_images/1317961989780623362/w8RQf7cT_normal.jpg', 'profile_banner_url': 'https://pbs.twimg.com/profile_banners/818138390336049154/1603828515', 'profile_link_color': '000000', 'profile_sidebar_border_color': '000000', 'profile_sidebar_fill_color': '000000', 'profile_text_color': '000000', 'profile_use_background_image': False, 'has_extended_profile': False, 'default_profile': False, 'default_profile_image': False, 'following': True, 'live_following': False, 'follow_request_sent': False, 'notifications': False, 'muting': False, 'blocking': False, 'blocked_by': False, 'translator_type': 'none'}, id=818138390336049154, id_str='818138390336049154', name='mOss | chAosOPUS STUDIO 🔞', screen_name='mOss_OPUS', location='U.K.', description='DIRECTOR | 3D ARTIST | ANIMATOR | COMPOSER              \\n🎥 killing STALKING: The Animated Series\\n             \\nhttps://t.co/7an7IFp0of', url='https://t.co/pxMjHCOl8V', entities={'url': {'urls': [{'url': 'https://t.co/pxMjHCOl8V', 'expanded_url': 'https://www.youtube.com/c/mOssOPUS', 'display_url': 'youtube.com/c/mOssOPUS', 'indices': [0, 23]}]}, 'description': {'urls': [{'url': 'https://t.co/7an7IFp0of', 'expanded_url': 'https://www.chaosopus.com', 'display_url': 'chaosopus.com', 'indices': [111, 134]}]}}, protected=False, followers_count=71913, friends_count=11, listed_count=25, created_at=datetime.datetime(2017, 1, 8, 16, 52, 47), favourites_count=143, utc_offset=None, time_zone=None, geo_enabled=False, verified=False, statuses_count=97, lang=None, status=Status(_api=<tweepy.api.API object at 0x7f3005c53f60>, _json={'created_at': 'Mon Jan 04 15:21:02 +0000 2021', 'id': 1346114421945491456, 'id_str': '1346114421945491456', 'text': \"Thank you for 3OO,OOO Subscribers! \\nI really appreciate the incredible support you've given me throughout 2O2O, I'm… https://t.co/v3ENans6RF\", 'truncated': True, 'entities': {'hashtags': [], 'symbols': [], 'user_mentions': [], 'urls': [{'url': 'https://t.co/v3ENans6RF', 'expanded_url': 'https://twitter.com/i/web/status/1346114421945491456', 'display_url': 'twitter.com/i/web/status/1…', 'indices': [117, 140]}]}, 'source': '<a href=\"https://mobile.twitter.com\" rel=\"nofollow\">Twitter Web App</a>', 'in_reply_to_status_id': None, 'in_reply_to_status_id_str': None, 'in_reply_to_user_id': None, 'in_reply_to_user_id_str': None, 'in_reply_to_screen_name': None, 'geo': None, 'coordinates': None, 'place': None, 'contributors': None, 'is_quote_status': False, 'retweet_count': 10, 'favorite_count': 303, 'favorited': False, 'retweeted': False, 'possibly_sensitive': False, 'lang': 'en'}, created_at=datetime.datetime(2021, 1, 4, 15, 21, 2), id=1346114421945491456, id_str='1346114421945491456', text=\"Thank you for 3OO,OOO Subscribers! \\nI really appreciate the incredible support you've given me throughout 2O2O, I'm… https://t.co/v3ENans6RF\", truncated=True, entities={'hashtags': [], 'symbols': [], 'user_mentions': [], 'urls': [{'url': 'https://t.co/v3ENans6RF', 'expanded_url': 'https://twitter.com/i/web/status/1346114421945491456', 'display_url': 'twitter.com/i/web/status/1…', 'indices': [117, 140]}]}, source='Twitter Web App', source_url='https://mobile.twitter.com', in_reply_to_status_id=None, in_reply_to_status_id_str=None, in_reply_to_user_id=None, in_reply_to_user_id_str=None, in_reply_to_screen_name=None, geo=None, coordinates=None, place=None, contributors=None, is_quote_status=False, retweet_count=10, favorite_count=303, favorited=False, retweeted=False, possibly_sensitive=False, lang='en'), contributors_enabled=False, is_translator=False, is_translation_enabled=False, profile_background_color='000000', profile_background_image_url='http://abs.twimg.com/images/themes/theme1/bg.png', profile_background_image_url_https='https://abs.twimg.com/images/themes/theme1/bg.png', profile_background_tile=False, profile_image_url='http://pbs.twimg.com/profile_images/1317961989780623362/w8RQf7cT_normal.jpg', profile_image_url_https='https://pbs.twimg.com/profile_images/1317961989780623362/w8RQf7cT_normal.jpg', profile_banner_url='https://pbs.twimg.com/profile_banners/818138390336049154/1603828515', profile_link_color='000000', profile_sidebar_border_color='000000', profile_sidebar_fill_color='000000', profile_text_color='000000', profile_use_background_image=False, has_extended_profile=False, default_profile=False, default_profile_image=False, following=True, live_following=False, follow_request_sent=False, notifications=False, muting=False, blocking=False, blocked_by=False, translator_type='none'),\n",
              " User(_api=<tweepy.api.API object at 0x7f3005c53f60>, _json={'id': 1148121315943075841, 'id_str': '1148121315943075841', 'name': 'Projekt Melody 🥞 VSHOJO', 'screen_name': 'ProjektMelody', 'location': 'On a Casting Couch', 'description': 'VTuber | Hentai AI | ProjektMelody➜Youtube, Twitch, Chaturbate, PornHub, Patreon | Merch➜https://t.co/L2oGQCbec8 | Biz: https://t.co/6JRHajrfH1 | #projektmelodyfanart', 'url': 'https://t.co/lcHhB63PtF', 'entities': {'url': {'urls': [{'url': 'https://t.co/lcHhB63PtF', 'expanded_url': 'https://streamerlinks.com/projektmelody', 'display_url': 'streamerlinks.com/projektmelody', 'indices': [0, 23]}]}, 'description': {'urls': [{'url': 'https://t.co/L2oGQCbec8', 'expanded_url': 'http://projekt-melody.com', 'display_url': 'projekt-melody.com', 'indices': [89, 112]}, {'url': 'https://t.co/6JRHajrfH1', 'expanded_url': 'http://vshojo.com', 'display_url': 'vshojo.com', 'indices': [120, 143]}]}}, 'protected': False, 'followers_count': 381761, 'friends_count': 861, 'listed_count': 739, 'created_at': 'Mon Jul 08 06:47:07 +0000 2019', 'favourites_count': 10125, 'utc_offset': None, 'time_zone': None, 'geo_enabled': False, 'verified': False, 'statuses_count': 4665, 'lang': None, 'status': {'created_at': 'Mon Jan 04 03:51:16 +0000 2021', 'id': 1345940836161359872, 'id_str': '1345940836161359872', 'text': \"@TheGoldenGoddes I don't know how you can improve it, but I look forward to it ;D\", 'truncated': False, 'entities': {'hashtags': [], 'symbols': [], 'user_mentions': [{'screen_name': 'TheGoldenGoddes', 'name': 'TheGoldenGoddess', 'id': 2967154670, 'id_str': '2967154670', 'indices': [0, 16]}], 'urls': []}, 'source': '<a href=\"http://twitter.com/download/android\" rel=\"nofollow\">Twitter for Android</a>', 'in_reply_to_status_id': 1345874867338567689, 'in_reply_to_status_id_str': '1345874867338567689', 'in_reply_to_user_id': 2967154670, 'in_reply_to_user_id_str': '2967154670', 'in_reply_to_screen_name': 'TheGoldenGoddes', 'geo': None, 'coordinates': None, 'place': None, 'contributors': None, 'is_quote_status': False, 'retweet_count': 2, 'favorite_count': 317, 'favorited': False, 'retweeted': False, 'lang': 'en'}, 'contributors_enabled': False, 'is_translator': False, 'is_translation_enabled': False, 'profile_background_color': '000000', 'profile_background_image_url': 'http://abs.twimg.com/images/themes/theme1/bg.png', 'profile_background_image_url_https': 'https://abs.twimg.com/images/themes/theme1/bg.png', 'profile_background_tile': False, 'profile_image_url': 'http://pbs.twimg.com/profile_images/1331317808383275009/yt_sVQbk_normal.jpg', 'profile_image_url_https': 'https://pbs.twimg.com/profile_images/1331317808383275009/yt_sVQbk_normal.jpg', 'profile_banner_url': 'https://pbs.twimg.com/profile_banners/1148121315943075841/1609534822', 'profile_link_color': '1B95E0', 'profile_sidebar_border_color': '000000', 'profile_sidebar_fill_color': '000000', 'profile_text_color': '000000', 'profile_use_background_image': False, 'has_extended_profile': True, 'default_profile': False, 'default_profile_image': False, 'following': True, 'live_following': False, 'follow_request_sent': False, 'notifications': False, 'muting': False, 'blocking': False, 'blocked_by': False, 'translator_type': 'none'}, id=1148121315943075841, id_str='1148121315943075841', name='Projekt Melody 🥞 VSHOJO', screen_name='ProjektMelody', location='On a Casting Couch', description='VTuber | Hentai AI | ProjektMelody➜Youtube, Twitch, Chaturbate, PornHub, Patreon | Merch➜https://t.co/L2oGQCbec8 | Biz: https://t.co/6JRHajrfH1 | #projektmelodyfanart', url='https://t.co/lcHhB63PtF', entities={'url': {'urls': [{'url': 'https://t.co/lcHhB63PtF', 'expanded_url': 'https://streamerlinks.com/projektmelody', 'display_url': 'streamerlinks.com/projektmelody', 'indices': [0, 23]}]}, 'description': {'urls': [{'url': 'https://t.co/L2oGQCbec8', 'expanded_url': 'http://projekt-melody.com', 'display_url': 'projekt-melody.com', 'indices': [89, 112]}, {'url': 'https://t.co/6JRHajrfH1', 'expanded_url': 'http://vshojo.com', 'display_url': 'vshojo.com', 'indices': [120, 143]}]}}, protected=False, followers_count=381761, friends_count=861, listed_count=739, created_at=datetime.datetime(2019, 7, 8, 6, 47, 7), favourites_count=10125, utc_offset=None, time_zone=None, geo_enabled=False, verified=False, statuses_count=4665, lang=None, status=Status(_api=<tweepy.api.API object at 0x7f3005c53f60>, _json={'created_at': 'Mon Jan 04 03:51:16 +0000 2021', 'id': 1345940836161359872, 'id_str': '1345940836161359872', 'text': \"@TheGoldenGoddes I don't know how you can improve it, but I look forward to it ;D\", 'truncated': False, 'entities': {'hashtags': [], 'symbols': [], 'user_mentions': [{'screen_name': 'TheGoldenGoddes', 'name': 'TheGoldenGoddess', 'id': 2967154670, 'id_str': '2967154670', 'indices': [0, 16]}], 'urls': []}, 'source': '<a href=\"http://twitter.com/download/android\" rel=\"nofollow\">Twitter for Android</a>', 'in_reply_to_status_id': 1345874867338567689, 'in_reply_to_status_id_str': '1345874867338567689', 'in_reply_to_user_id': 2967154670, 'in_reply_to_user_id_str': '2967154670', 'in_reply_to_screen_name': 'TheGoldenGoddes', 'geo': None, 'coordinates': None, 'place': None, 'contributors': None, 'is_quote_status': False, 'retweet_count': 2, 'favorite_count': 317, 'favorited': False, 'retweeted': False, 'lang': 'en'}, created_at=datetime.datetime(2021, 1, 4, 3, 51, 16), id=1345940836161359872, id_str='1345940836161359872', text=\"@TheGoldenGoddes I don't know how you can improve it, but I look forward to it ;D\", truncated=False, entities={'hashtags': [], 'symbols': [], 'user_mentions': [{'screen_name': 'TheGoldenGoddes', 'name': 'TheGoldenGoddess', 'id': 2967154670, 'id_str': '2967154670', 'indices': [0, 16]}], 'urls': []}, source='Twitter for Android', source_url='http://twitter.com/download/android', in_reply_to_status_id=1345874867338567689, in_reply_to_status_id_str='1345874867338567689', in_reply_to_user_id=2967154670, in_reply_to_user_id_str='2967154670', in_reply_to_screen_name='TheGoldenGoddes', geo=None, coordinates=None, place=None, contributors=None, is_quote_status=False, retweet_count=2, favorite_count=317, favorited=False, retweeted=False, lang='en'), contributors_enabled=False, is_translator=False, is_translation_enabled=False, profile_background_color='000000', profile_background_image_url='http://abs.twimg.com/images/themes/theme1/bg.png', profile_background_image_url_https='https://abs.twimg.com/images/themes/theme1/bg.png', profile_background_tile=False, profile_image_url='http://pbs.twimg.com/profile_images/1331317808383275009/yt_sVQbk_normal.jpg', profile_image_url_https='https://pbs.twimg.com/profile_images/1331317808383275009/yt_sVQbk_normal.jpg', profile_banner_url='https://pbs.twimg.com/profile_banners/1148121315943075841/1609534822', profile_link_color='1B95E0', profile_sidebar_border_color='000000', profile_sidebar_fill_color='000000', profile_text_color='000000', profile_use_background_image=False, has_extended_profile=True, default_profile=False, default_profile_image=False, following=True, live_following=False, follow_request_sent=False, notifications=False, muting=False, blocking=False, blocked_by=False, translator_type='none'),\n",
              " User(_api=<tweepy.api.API object at 0x7f3005c53f60>, _json={'id': 762107568244330496, 'id_str': '762107568244330496', 'name': '『Nux』', 'screen_name': 'Nux_Taku', 'location': 'Somewhere making memes', 'description': '1.69 mil+ subs on YouTube | Serial Flex Offender | Dumb High IQ | Business email: nuxtaku@gmail.com', 'url': 'https://t.co/orJ6OVZXsk', 'entities': {'url': {'urls': [{'url': 'https://t.co/orJ6OVZXsk', 'expanded_url': 'https://www.youtube.com/channel/UCBBU7zUOhR_qShfMV26UUCA', 'display_url': 'youtube.com/channel/UCBBU7…', 'indices': [0, 23]}]}, 'description': {'urls': []}}, 'protected': False, 'followers_count': 219370, 'friends_count': 289, 'listed_count': 167, 'created_at': 'Sun Aug 07 02:06:18 +0000 2016', 'favourites_count': 15604, 'utc_offset': None, 'time_zone': None, 'geo_enabled': False, 'verified': False, 'statuses_count': 4120, 'lang': None, 'status': {'created_at': 'Mon Jan 04 14:27:09 +0000 2021', 'id': 1346100860888227844, 'id_str': '1346100860888227844', 'text': '@CDawgVA How can you run out of grass to boil', 'truncated': False, 'entities': {'hashtags': [], 'symbols': [], 'user_mentions': [{'screen_name': 'CDawgVA', 'name': 'Connor', 'id': 43596071, 'id_str': '43596071', 'indices': [0, 8]}], 'urls': []}, 'source': '<a href=\"http://twitter.com/download/android\" rel=\"nofollow\">Twitter for Android</a>', 'in_reply_to_status_id': 1346100365591080960, 'in_reply_to_status_id_str': '1346100365591080960', 'in_reply_to_user_id': 43596071, 'in_reply_to_user_id_str': '43596071', 'in_reply_to_screen_name': 'CDawgVA', 'geo': None, 'coordinates': None, 'place': None, 'contributors': None, 'is_quote_status': False, 'retweet_count': 15, 'favorite_count': 1314, 'favorited': False, 'retweeted': False, 'lang': 'en'}, 'contributors_enabled': False, 'is_translator': False, 'is_translation_enabled': False, 'profile_background_color': '000000', 'profile_background_image_url': 'http://abs.twimg.com/images/themes/theme1/bg.png', 'profile_background_image_url_https': 'https://abs.twimg.com/images/themes/theme1/bg.png', 'profile_background_tile': False, 'profile_image_url': 'http://pbs.twimg.com/profile_images/1321171232562229249/qW_z_Gel_normal.jpg', 'profile_image_url_https': 'https://pbs.twimg.com/profile_images/1321171232562229249/qW_z_Gel_normal.jpg', 'profile_banner_url': 'https://pbs.twimg.com/profile_banners/762107568244330496/1602552854', 'profile_link_color': '1B95E0', 'profile_sidebar_border_color': '000000', 'profile_sidebar_fill_color': '000000', 'profile_text_color': '000000', 'profile_use_background_image': False, 'has_extended_profile': True, 'default_profile': False, 'default_profile_image': False, 'following': True, 'live_following': False, 'follow_request_sent': False, 'notifications': False, 'muting': False, 'blocking': False, 'blocked_by': False, 'translator_type': 'none'}, id=762107568244330496, id_str='762107568244330496', name='『Nux』', screen_name='Nux_Taku', location='Somewhere making memes', description='1.69 mil+ subs on YouTube | Serial Flex Offender | Dumb High IQ | Business email: nuxtaku@gmail.com', url='https://t.co/orJ6OVZXsk', entities={'url': {'urls': [{'url': 'https://t.co/orJ6OVZXsk', 'expanded_url': 'https://www.youtube.com/channel/UCBBU7zUOhR_qShfMV26UUCA', 'display_url': 'youtube.com/channel/UCBBU7…', 'indices': [0, 23]}]}, 'description': {'urls': []}}, protected=False, followers_count=219370, friends_count=289, listed_count=167, created_at=datetime.datetime(2016, 8, 7, 2, 6, 18), favourites_count=15604, utc_offset=None, time_zone=None, geo_enabled=False, verified=False, statuses_count=4120, lang=None, status=Status(_api=<tweepy.api.API object at 0x7f3005c53f60>, _json={'created_at': 'Mon Jan 04 14:27:09 +0000 2021', 'id': 1346100860888227844, 'id_str': '1346100860888227844', 'text': '@CDawgVA How can you run out of grass to boil', 'truncated': False, 'entities': {'hashtags': [], 'symbols': [], 'user_mentions': [{'screen_name': 'CDawgVA', 'name': 'Connor', 'id': 43596071, 'id_str': '43596071', 'indices': [0, 8]}], 'urls': []}, 'source': '<a href=\"http://twitter.com/download/android\" rel=\"nofollow\">Twitter for Android</a>', 'in_reply_to_status_id': 1346100365591080960, 'in_reply_to_status_id_str': '1346100365591080960', 'in_reply_to_user_id': 43596071, 'in_reply_to_user_id_str': '43596071', 'in_reply_to_screen_name': 'CDawgVA', 'geo': None, 'coordinates': None, 'place': None, 'contributors': None, 'is_quote_status': False, 'retweet_count': 15, 'favorite_count': 1314, 'favorited': False, 'retweeted': False, 'lang': 'en'}, created_at=datetime.datetime(2021, 1, 4, 14, 27, 9), id=1346100860888227844, id_str='1346100860888227844', text='@CDawgVA How can you run out of grass to boil', truncated=False, entities={'hashtags': [], 'symbols': [], 'user_mentions': [{'screen_name': 'CDawgVA', 'name': 'Connor', 'id': 43596071, 'id_str': '43596071', 'indices': [0, 8]}], 'urls': []}, source='Twitter for Android', source_url='http://twitter.com/download/android', in_reply_to_status_id=1346100365591080960, in_reply_to_status_id_str='1346100365591080960', in_reply_to_user_id=43596071, in_reply_to_user_id_str='43596071', in_reply_to_screen_name='CDawgVA', geo=None, coordinates=None, place=None, contributors=None, is_quote_status=False, retweet_count=15, favorite_count=1314, favorited=False, retweeted=False, lang='en'), contributors_enabled=False, is_translator=False, is_translation_enabled=False, profile_background_color='000000', profile_background_image_url='http://abs.twimg.com/images/themes/theme1/bg.png', profile_background_image_url_https='https://abs.twimg.com/images/themes/theme1/bg.png', profile_background_tile=False, profile_image_url='http://pbs.twimg.com/profile_images/1321171232562229249/qW_z_Gel_normal.jpg', profile_image_url_https='https://pbs.twimg.com/profile_images/1321171232562229249/qW_z_Gel_normal.jpg', profile_banner_url='https://pbs.twimg.com/profile_banners/762107568244330496/1602552854', profile_link_color='1B95E0', profile_sidebar_border_color='000000', profile_sidebar_fill_color='000000', profile_text_color='000000', profile_use_background_image=False, has_extended_profile=True, default_profile=False, default_profile_image=False, following=True, live_following=False, follow_request_sent=False, notifications=False, muting=False, blocking=False, blocked_by=False, translator_type='none'),\n",
              " User(_api=<tweepy.api.API object at 0x7f3005c53f60>, _json={'id': 1204411863557124097, 'id_str': '1204411863557124097', 'name': 'ᴄʟᴀᴄᴋ ᴄʀᴀᴄᴋʜᴇᴀᴅ~ʙᴀʙɪᴇ ᴄᴀɴᴀʀʏ', 'screen_name': 'lil_canaryy', 'location': 'He/Him', 'description': 'Lvl.18/ I Do Comissions! I’m...okay...at Blender, Support me on Ko-fi uwu⚠️I post fluff/gore ⚠️ Just your ordinary Clack dealer~', 'url': 'https://t.co/0vmoljfSKc', 'entities': {'url': {'urls': [{'url': 'https://t.co/0vmoljfSKc', 'expanded_url': 'https://ko-fi.com/lilcanary', 'display_url': 'ko-fi.com/lilcanary', 'indices': [0, 23]}]}, 'description': {'urls': []}}, 'protected': False, 'followers_count': 1488, 'friends_count': 79, 'listed_count': 11, 'created_at': 'Tue Dec 10 14:45:50 +0000 2019', 'favourites_count': 3955, 'utc_offset': None, 'time_zone': None, 'geo_enabled': False, 'verified': False, 'statuses_count': 1222, 'lang': None, 'status': {'created_at': 'Sun Jan 03 18:30:42 +0000 2021', 'id': 1345799764043038720, 'id_str': '1345799764043038720', 'text': 'RT @alexabkim: Be nice to your environment artists (1/5) https://t.co/2MSpdItZf3', 'truncated': False, 'entities': {'hashtags': [], 'symbols': [], 'user_mentions': [{'screen_name': 'alexabkim', 'name': 'Alexa Kim', 'id': 2220061134, 'id_str': '2220061134', 'indices': [3, 13]}], 'urls': [], 'media': [{'id': 1345483334399377408, 'id_str': '1345483334399377408', 'indices': [57, 80], 'media_url': 'http://pbs.twimg.com/media/Eqwd9sYVQAAflo1.jpg', 'media_url_https': 'https://pbs.twimg.com/media/Eqwd9sYVQAAflo1.jpg', 'url': 'https://t.co/2MSpdItZf3', 'display_url': 'pic.twitter.com/2MSpdItZf3', 'expanded_url': 'https://twitter.com/alexabkim/status/1345484285600382977/photo/1', 'type': 'photo', 'sizes': {'thumb': {'w': 150, 'h': 150, 'resize': 'crop'}, 'medium': {'w': 1200, 'h': 690, 'resize': 'fit'}, 'small': {'w': 680, 'h': 391, 'resize': 'fit'}, 'large': {'w': 1358, 'h': 781, 'resize': 'fit'}}, 'source_status_id': 1345484285600382977, 'source_status_id_str': '1345484285600382977', 'source_user_id': 2220061134, 'source_user_id_str': '2220061134'}]}, 'extended_entities': {'media': [{'id': 1345483334399377408, 'id_str': '1345483334399377408', 'indices': [57, 80], 'media_url': 'http://pbs.twimg.com/media/Eqwd9sYVQAAflo1.jpg', 'media_url_https': 'https://pbs.twimg.com/media/Eqwd9sYVQAAflo1.jpg', 'url': 'https://t.co/2MSpdItZf3', 'display_url': 'pic.twitter.com/2MSpdItZf3', 'expanded_url': 'https://twitter.com/alexabkim/status/1345484285600382977/photo/1', 'type': 'photo', 'sizes': {'thumb': {'w': 150, 'h': 150, 'resize': 'crop'}, 'medium': {'w': 1200, 'h': 690, 'resize': 'fit'}, 'small': {'w': 680, 'h': 391, 'resize': 'fit'}, 'large': {'w': 1358, 'h': 781, 'resize': 'fit'}}, 'source_status_id': 1345484285600382977, 'source_status_id_str': '1345484285600382977', 'source_user_id': 2220061134, 'source_user_id_str': '2220061134'}, {'id': 1345483357119868929, 'id_str': '1345483357119868929', 'indices': [57, 80], 'media_url': 'http://pbs.twimg.com/media/Eqwd_BBUcAEYYJt.jpg', 'media_url_https': 'https://pbs.twimg.com/media/Eqwd_BBUcAEYYJt.jpg', 'url': 'https://t.co/2MSpdItZf3', 'display_url': 'pic.twitter.com/2MSpdItZf3', 'expanded_url': 'https://twitter.com/alexabkim/status/1345484285600382977/photo/1', 'type': 'photo', 'sizes': {'thumb': {'w': 150, 'h': 150, 'resize': 'crop'}, 'small': {'w': 680, 'h': 397, 'resize': 'fit'}, 'large': {'w': 1533, 'h': 896, 'resize': 'fit'}, 'medium': {'w': 1200, 'h': 701, 'resize': 'fit'}}, 'source_status_id': 1345484285600382977, 'source_status_id_str': '1345484285600382977', 'source_user_id': 2220061134, 'source_user_id_str': '2220061134'}]}, 'source': '<a href=\"http://twitter.com/download/iphone\" rel=\"nofollow\">Twitter for iPhone</a>', 'in_reply_to_status_id': None, 'in_reply_to_status_id_str': None, 'in_reply_to_user_id': None, 'in_reply_to_user_id_str': None, 'in_reply_to_screen_name': None, 'geo': None, 'coordinates': None, 'place': None, 'contributors': None, 'retweeted_status': {'created_at': 'Sat Jan 02 21:37:06 +0000 2021', 'id': 1345484285600382977, 'id_str': '1345484285600382977', 'text': 'Be nice to your environment artists (1/5) https://t.co/2MSpdItZf3', 'truncated': False, 'entities': {'hashtags': [], 'symbols': [], 'user_mentions': [], 'urls': [], 'media': [{'id': 1345483334399377408, 'id_str': '1345483334399377408', 'indices': [42, 65], 'media_url': 'http://pbs.twimg.com/media/Eqwd9sYVQAAflo1.jpg', 'media_url_https': 'https://pbs.twimg.com/media/Eqwd9sYVQAAflo1.jpg', 'url': 'https://t.co/2MSpdItZf3', 'display_url': 'pic.twitter.com/2MSpdItZf3', 'expanded_url': 'https://twitter.com/alexabkim/status/1345484285600382977/photo/1', 'type': 'photo', 'sizes': {'thumb': {'w': 150, 'h': 150, 'resize': 'crop'}, 'medium': {'w': 1200, 'h': 690, 'resize': 'fit'}, 'small': {'w': 680, 'h': 391, 'resize': 'fit'}, 'large': {'w': 1358, 'h': 781, 'resize': 'fit'}}}]}, 'extended_entities': {'media': [{'id': 1345483334399377408, 'id_str': '1345483334399377408', 'indices': [42, 65], 'media_url': 'http://pbs.twimg.com/media/Eqwd9sYVQAAflo1.jpg', 'media_url_https': 'https://pbs.twimg.com/media/Eqwd9sYVQAAflo1.jpg', 'url': 'https://t.co/2MSpdItZf3', 'display_url': 'pic.twitter.com/2MSpdItZf3', 'expanded_url': 'https://twitter.com/alexabkim/status/1345484285600382977/photo/1', 'type': 'photo', 'sizes': {'thumb': {'w': 150, 'h': 150, 'resize': 'crop'}, 'medium': {'w': 1200, 'h': 690, 'resize': 'fit'}, 'small': {'w': 680, 'h': 391, 'resize': 'fit'}, 'large': {'w': 1358, 'h': 781, 'resize': 'fit'}}}, {'id': 1345483357119868929, 'id_str': '1345483357119868929', 'indices': [42, 65], 'media_url': 'http://pbs.twimg.com/media/Eqwd_BBUcAEYYJt.jpg', 'media_url_https': 'https://pbs.twimg.com/media/Eqwd_BBUcAEYYJt.jpg', 'url': 'https://t.co/2MSpdItZf3', 'display_url': 'pic.twitter.com/2MSpdItZf3', 'expanded_url': 'https://twitter.com/alexabkim/status/1345484285600382977/photo/1', 'type': 'photo', 'sizes': {'thumb': {'w': 150, 'h': 150, 'resize': 'crop'}, 'small': {'w': 680, 'h': 397, 'resize': 'fit'}, 'large': {'w': 1533, 'h': 896, 'resize': 'fit'}, 'medium': {'w': 1200, 'h': 701, 'resize': 'fit'}}}]}, 'source': '<a href=\"https://mobile.twitter.com\" rel=\"nofollow\">Twitter Web App</a>', 'in_reply_to_status_id': None, 'in_reply_to_status_id_str': None, 'in_reply_to_user_id': None, 'in_reply_to_user_id_str': None, 'in_reply_to_screen_name': None, 'geo': None, 'coordinates': None, 'place': None, 'contributors': None, 'is_quote_status': False, 'retweet_count': 22491, 'favorite_count': 231605, 'favorited': False, 'retweeted': False, 'possibly_sensitive': False, 'lang': 'en'}, 'is_quote_status': False, 'retweet_count': 22491, 'favorite_count': 0, 'favorited': False, 'retweeted': False, 'possibly_sensitive': False, 'lang': 'en'}, 'contributors_enabled': False, 'is_translator': False, 'is_translation_enabled': False, 'profile_background_color': 'F5F8FA', 'profile_background_image_url': None, 'profile_background_image_url_https': None, 'profile_background_tile': False, 'profile_image_url': 'http://pbs.twimg.com/profile_images/1326959554656137216/bfQVQoru_normal.jpg', 'profile_image_url_https': 'https://pbs.twimg.com/profile_images/1326959554656137216/bfQVQoru_normal.jpg', 'profile_banner_url': 'https://pbs.twimg.com/profile_banners/1204411863557124097/1605206786', 'profile_link_color': '1DA1F2', 'profile_sidebar_border_color': 'C0DEED', 'profile_sidebar_fill_color': 'DDEEF6', 'profile_text_color': '333333', 'profile_use_background_image': True, 'has_extended_profile': True, 'default_profile': True, 'default_profile_image': False, 'following': True, 'live_following': False, 'follow_request_sent': False, 'notifications': False, 'muting': False, 'blocking': False, 'blocked_by': False, 'translator_type': 'none'}, id=1204411863557124097, id_str='1204411863557124097', name='ᴄʟᴀᴄᴋ ᴄʀᴀᴄᴋʜᴇᴀᴅ~ʙᴀʙɪᴇ ᴄᴀɴᴀʀʏ', screen_name='lil_canaryy', location='He/Him', description='Lvl.18/ I Do Comissions! I’m...okay...at Blender, Support me on Ko-fi uwu⚠️I post fluff/gore ⚠️ Just your ordinary Clack dealer~', url='https://t.co/0vmoljfSKc', entities={'url': {'urls': [{'url': 'https://t.co/0vmoljfSKc', 'expanded_url': 'https://ko-fi.com/lilcanary', 'display_url': 'ko-fi.com/lilcanary', 'indices': [0, 23]}]}, 'description': {'urls': []}}, protected=False, followers_count=1488, friends_count=79, listed_count=11, created_at=datetime.datetime(2019, 12, 10, 14, 45, 50), favourites_count=3955, utc_offset=None, time_zone=None, geo_enabled=False, verified=False, statuses_count=1222, lang=None, status=Status(_api=<tweepy.api.API object at 0x7f3005c53f60>, _json={'created_at': 'Sun Jan 03 18:30:42 +0000 2021', 'id': 1345799764043038720, 'id_str': '1345799764043038720', 'text': 'RT @alexabkim: Be nice to your environment artists (1/5) https://t.co/2MSpdItZf3', 'truncated': False, 'entities': {'hashtags': [], 'symbols': [], 'user_mentions': [{'screen_name': 'alexabkim', 'name': 'Alexa Kim', 'id': 2220061134, 'id_str': '2220061134', 'indices': [3, 13]}], 'urls': [], 'media': [{'id': 1345483334399377408, 'id_str': '1345483334399377408', 'indices': [57, 80], 'media_url': 'http://pbs.twimg.com/media/Eqwd9sYVQAAflo1.jpg', 'media_url_https': 'https://pbs.twimg.com/media/Eqwd9sYVQAAflo1.jpg', 'url': 'https://t.co/2MSpdItZf3', 'display_url': 'pic.twitter.com/2MSpdItZf3', 'expanded_url': 'https://twitter.com/alexabkim/status/1345484285600382977/photo/1', 'type': 'photo', 'sizes': {'thumb': {'w': 150, 'h': 150, 'resize': 'crop'}, 'medium': {'w': 1200, 'h': 690, 'resize': 'fit'}, 'small': {'w': 680, 'h': 391, 'resize': 'fit'}, 'large': {'w': 1358, 'h': 781, 'resize': 'fit'}}, 'source_status_id': 1345484285600382977, 'source_status_id_str': '1345484285600382977', 'source_user_id': 2220061134, 'source_user_id_str': '2220061134'}]}, 'extended_entities': {'media': [{'id': 1345483334399377408, 'id_str': '1345483334399377408', 'indices': [57, 80], 'media_url': 'http://pbs.twimg.com/media/Eqwd9sYVQAAflo1.jpg', 'media_url_https': 'https://pbs.twimg.com/media/Eqwd9sYVQAAflo1.jpg', 'url': 'https://t.co/2MSpdItZf3', 'display_url': 'pic.twitter.com/2MSpdItZf3', 'expanded_url': 'https://twitter.com/alexabkim/status/1345484285600382977/photo/1', 'type': 'photo', 'sizes': {'thumb': {'w': 150, 'h': 150, 'resize': 'crop'}, 'medium': {'w': 1200, 'h': 690, 'resize': 'fit'}, 'small': {'w': 680, 'h': 391, 'resize': 'fit'}, 'large': {'w': 1358, 'h': 781, 'resize': 'fit'}}, 'source_status_id': 1345484285600382977, 'source_status_id_str': '1345484285600382977', 'source_user_id': 2220061134, 'source_user_id_str': '2220061134'}, {'id': 1345483357119868929, 'id_str': '1345483357119868929', 'indices': [57, 80], 'media_url': 'http://pbs.twimg.com/media/Eqwd_BBUcAEYYJt.jpg', 'media_url_https': 'https://pbs.twimg.com/media/Eqwd_BBUcAEYYJt.jpg', 'url': 'https://t.co/2MSpdItZf3', 'display_url': 'pic.twitter.com/2MSpdItZf3', 'expanded_url': 'https://twitter.com/alexabkim/status/1345484285600382977/photo/1', 'type': 'photo', 'sizes': {'thumb': {'w': 150, 'h': 150, 'resize': 'crop'}, 'small': {'w': 680, 'h': 397, 'resize': 'fit'}, 'large': {'w': 1533, 'h': 896, 'resize': 'fit'}, 'medium': {'w': 1200, 'h': 701, 'resize': 'fit'}}, 'source_status_id': 1345484285600382977, 'source_status_id_str': '1345484285600382977', 'source_user_id': 2220061134, 'source_user_id_str': '2220061134'}]}, 'source': '<a href=\"http://twitter.com/download/iphone\" rel=\"nofollow\">Twitter for iPhone</a>', 'in_reply_to_status_id': None, 'in_reply_to_status_id_str': None, 'in_reply_to_user_id': None, 'in_reply_to_user_id_str': None, 'in_reply_to_screen_name': None, 'geo': None, 'coordinates': None, 'place': None, 'contributors': None, 'retweeted_status': {'created_at': 'Sat Jan 02 21:37:06 +0000 2021', 'id': 1345484285600382977, 'id_str': '1345484285600382977', 'text': 'Be nice to your environment artists (1/5) https://t.co/2MSpdItZf3', 'truncated': False, 'entities': {'hashtags': [], 'symbols': [], 'user_mentions': [], 'urls': [], 'media': [{'id': 1345483334399377408, 'id_str': '1345483334399377408', 'indices': [42, 65], 'media_url': 'http://pbs.twimg.com/media/Eqwd9sYVQAAflo1.jpg', 'media_url_https': 'https://pbs.twimg.com/media/Eqwd9sYVQAAflo1.jpg', 'url': 'https://t.co/2MSpdItZf3', 'display_url': 'pic.twitter.com/2MSpdItZf3', 'expanded_url': 'https://twitter.com/alexabkim/status/1345484285600382977/photo/1', 'type': 'photo', 'sizes': {'thumb': {'w': 150, 'h': 150, 'resize': 'crop'}, 'medium': {'w': 1200, 'h': 690, 'resize': 'fit'}, 'small': {'w': 680, 'h': 391, 'resize': 'fit'}, 'large': {'w': 1358, 'h': 781, 'resize': 'fit'}}}]}, 'extended_entities': {'media': [{'id': 1345483334399377408, 'id_str': '1345483334399377408', 'indices': [42, 65], 'media_url': 'http://pbs.twimg.com/media/Eqwd9sYVQAAflo1.jpg', 'media_url_https': 'https://pbs.twimg.com/media/Eqwd9sYVQAAflo1.jpg', 'url': 'https://t.co/2MSpdItZf3', 'display_url': 'pic.twitter.com/2MSpdItZf3', 'expanded_url': 'https://twitter.com/alexabkim/status/1345484285600382977/photo/1', 'type': 'photo', 'sizes': {'thumb': {'w': 150, 'h': 150, 'resize': 'crop'}, 'medium': {'w': 1200, 'h': 690, 'resize': 'fit'}, 'small': {'w': 680, 'h': 391, 'resize': 'fit'}, 'large': {'w': 1358, 'h': 781, 'resize': 'fit'}}}, {'id': 1345483357119868929, 'id_str': '1345483357119868929', 'indices': [42, 65], 'media_url': 'http://pbs.twimg.com/media/Eqwd_BBUcAEYYJt.jpg', 'media_url_https': 'https://pbs.twimg.com/media/Eqwd_BBUcAEYYJt.jpg', 'url': 'https://t.co/2MSpdItZf3', 'display_url': 'pic.twitter.com/2MSpdItZf3', 'expanded_url': 'https://twitter.com/alexabkim/status/1345484285600382977/photo/1', 'type': 'photo', 'sizes': {'thumb': {'w': 150, 'h': 150, 'resize': 'crop'}, 'small': {'w': 680, 'h': 397, 'resize': 'fit'}, 'large': {'w': 1533, 'h': 896, 'resize': 'fit'}, 'medium': {'w': 1200, 'h': 701, 'resize': 'fit'}}}]}, 'source': '<a href=\"https://mobile.twitter.com\" rel=\"nofollow\">Twitter Web App</a>', 'in_reply_to_status_id': None, 'in_reply_to_status_id_str': None, 'in_reply_to_user_id': None, 'in_reply_to_user_id_str': None, 'in_reply_to_screen_name': None, 'geo': None, 'coordinates': None, 'place': None, 'contributors': None, 'is_quote_status': False, 'retweet_count': 22491, 'favorite_count': 231605, 'favorited': False, 'retweeted': False, 'possibly_sensitive': False, 'lang': 'en'}, 'is_quote_status': False, 'retweet_count': 22491, 'favorite_count': 0, 'favorited': False, 'retweeted': False, 'possibly_sensitive': False, 'lang': 'en'}, created_at=datetime.datetime(2021, 1, 3, 18, 30, 42), id=1345799764043038720, id_str='1345799764043038720', text='RT @alexabkim: Be nice to your environment artists (1/5) https://t.co/2MSpdItZf3', truncated=False, entities={'hashtags': [], 'symbols': [], 'user_mentions': [{'screen_name': 'alexabkim', 'name': 'Alexa Kim', 'id': 2220061134, 'id_str': '2220061134', 'indices': [3, 13]}], 'urls': [], 'media': [{'id': 1345483334399377408, 'id_str': '1345483334399377408', 'indices': [57, 80], 'media_url': 'http://pbs.twimg.com/media/Eqwd9sYVQAAflo1.jpg', 'media_url_https': 'https://pbs.twimg.com/media/Eqwd9sYVQAAflo1.jpg', 'url': 'https://t.co/2MSpdItZf3', 'display_url': 'pic.twitter.com/2MSpdItZf3', 'expanded_url': 'https://twitter.com/alexabkim/status/1345484285600382977/photo/1', 'type': 'photo', 'sizes': {'thumb': {'w': 150, 'h': 150, 'resize': 'crop'}, 'medium': {'w': 1200, 'h': 690, 'resize': 'fit'}, 'small': {'w': 680, 'h': 391, 'resize': 'fit'}, 'large': {'w': 1358, 'h': 781, 'resize': 'fit'}}, 'source_status_id': 1345484285600382977, 'source_status_id_str': '1345484285600382977', 'source_user_id': 2220061134, 'source_user_id_str': '2220061134'}]}, extended_entities={'media': [{'id': 1345483334399377408, 'id_str': '1345483334399377408', 'indices': [57, 80], 'media_url': 'http://pbs.twimg.com/media/Eqwd9sYVQAAflo1.jpg', 'media_url_https': 'https://pbs.twimg.com/media/Eqwd9sYVQAAflo1.jpg', 'url': 'https://t.co/2MSpdItZf3', 'display_url': 'pic.twitter.com/2MSpdItZf3', 'expanded_url': 'https://twitter.com/alexabkim/status/1345484285600382977/photo/1', 'type': 'photo', 'sizes': {'thumb': {'w': 150, 'h': 150, 'resize': 'crop'}, 'medium': {'w': 1200, 'h': 690, 'resize': 'fit'}, 'small': {'w': 680, 'h': 391, 'resize': 'fit'}, 'large': {'w': 1358, 'h': 781, 'resize': 'fit'}}, 'source_status_id': 1345484285600382977, 'source_status_id_str': '1345484285600382977', 'source_user_id': 2220061134, 'source_user_id_str': '2220061134'}, {'id': 1345483357119868929, 'id_str': '1345483357119868929', 'indices': [57, 80], 'media_url': 'http://pbs.twimg.com/media/Eqwd_BBUcAEYYJt.jpg', 'media_url_https': 'https://pbs.twimg.com/media/Eqwd_BBUcAEYYJt.jpg', 'url': 'https://t.co/2MSpdItZf3', 'display_url': 'pic.twitter.com/2MSpdItZf3', 'expanded_url': 'https://twitter.com/alexabkim/status/1345484285600382977/photo/1', 'type': 'photo', 'sizes': {'thumb': {'w': 150, 'h': 150, 'resize': 'crop'}, 'small': {'w': 680, 'h': 397, 'resize': 'fit'}, 'large': {'w': 1533, 'h': 896, 'resize': 'fit'}, 'medium': {'w': 1200, 'h': 701, 'resize': 'fit'}}, 'source_status_id': 1345484285600382977, 'source_status_id_str': '1345484285600382977', 'source_user_id': 2220061134, 'source_user_id_str': '2220061134'}]}, source='Twitter for iPhone', source_url='http://twitter.com/download/iphone', in_reply_to_status_id=None, in_reply_to_status_id_str=None, in_reply_to_user_id=None, in_reply_to_user_id_str=None, in_reply_to_screen_name=None, geo=None, coordinates=None, place=None, contributors=None, retweeted_status=Status(_api=<tweepy.api.API object at 0x7f3005c53f60>, _json={'created_at': 'Sat Jan 02 21:37:06 +0000 2021', 'id': 1345484285600382977, 'id_str': '1345484285600382977', 'text': 'Be nice to your environment artists (1/5) https://t.co/2MSpdItZf3', 'truncated': False, 'entities': {'hashtags': [], 'symbols': [], 'user_mentions': [], 'urls': [], 'media': [{'id': 1345483334399377408, 'id_str': '1345483334399377408', 'indices': [42, 65], 'media_url': 'http://pbs.twimg.com/media/Eqwd9sYVQAAflo1.jpg', 'media_url_https': 'https://pbs.twimg.com/media/Eqwd9sYVQAAflo1.jpg', 'url': 'https://t.co/2MSpdItZf3', 'display_url': 'pic.twitter.com/2MSpdItZf3', 'expanded_url': 'https://twitter.com/alexabkim/status/1345484285600382977/photo/1', 'type': 'photo', 'sizes': {'thumb': {'w': 150, 'h': 150, 'resize': 'crop'}, 'medium': {'w': 1200, 'h': 690, 'resize': 'fit'}, 'small': {'w': 680, 'h': 391, 'resize': 'fit'}, 'large': {'w': 1358, 'h': 781, 'resize': 'fit'}}}]}, 'extended_entities': {'media': [{'id': 1345483334399377408, 'id_str': '1345483334399377408', 'indices': [42, 65], 'media_url': 'http://pbs.twimg.com/media/Eqwd9sYVQAAflo1.jpg', 'media_url_https': 'https://pbs.twimg.com/media/Eqwd9sYVQAAflo1.jpg', 'url': 'https://t.co/2MSpdItZf3', 'display_url': 'pic.twitter.com/2MSpdItZf3', 'expanded_url': 'https://twitter.com/alexabkim/status/1345484285600382977/photo/1', 'type': 'photo', 'sizes': {'thumb': {'w': 150, 'h': 150, 'resize': 'crop'}, 'medium': {'w': 1200, 'h': 690, 'resize': 'fit'}, 'small': {'w': 680, 'h': 391, 'resize': 'fit'}, 'large': {'w': 1358, 'h': 781, 'resize': 'fit'}}}, {'id': 1345483357119868929, 'id_str': '1345483357119868929', 'indices': [42, 65], 'media_url': 'http://pbs.twimg.com/media/Eqwd_BBUcAEYYJt.jpg', 'media_url_https': 'https://pbs.twimg.com/media/Eqwd_BBUcAEYYJt.jpg', 'url': 'https://t.co/2MSpdItZf3', 'display_url': 'pic.twitter.com/2MSpdItZf3', 'expanded_url': 'https://twitter.com/alexabkim/status/1345484285600382977/photo/1', 'type': 'photo', 'sizes': {'thumb': {'w': 150, 'h': 150, 'resize': 'crop'}, 'small': {'w': 680, 'h': 397, 'resize': 'fit'}, 'large': {'w': 1533, 'h': 896, 'resize': 'fit'}, 'medium': {'w': 1200, 'h': 701, 'resize': 'fit'}}}]}, 'source': '<a href=\"https://mobile.twitter.com\" rel=\"nofollow\">Twitter Web App</a>', 'in_reply_to_status_id': None, 'in_reply_to_status_id_str': None, 'in_reply_to_user_id': None, 'in_reply_to_user_id_str': None, 'in_reply_to_screen_name': None, 'geo': None, 'coordinates': None, 'place': None, 'contributors': None, 'is_quote_status': False, 'retweet_count': 22491, 'favorite_count': 231605, 'favorited': False, 'retweeted': False, 'possibly_sensitive': False, 'lang': 'en'}, created_at=datetime.datetime(2021, 1, 2, 21, 37, 6), id=1345484285600382977, id_str='1345484285600382977', text='Be nice to your environment artists (1/5) https://t.co/2MSpdItZf3', truncated=False, entities={'hashtags': [], 'symbols': [], 'user_mentions': [], 'urls': [], 'media': [{'id': 1345483334399377408, 'id_str': '1345483334399377408', 'indices': [42, 65], 'media_url': 'http://pbs.twimg.com/media/Eqwd9sYVQAAflo1.jpg', 'media_url_https': 'https://pbs.twimg.com/media/Eqwd9sYVQAAflo1.jpg', 'url': 'https://t.co/2MSpdItZf3', 'display_url': 'pic.twitter.com/2MSpdItZf3', 'expanded_url': 'https://twitter.com/alexabkim/status/1345484285600382977/photo/1', 'type': 'photo', 'sizes': {'thumb': {'w': 150, 'h': 150, 'resize': 'crop'}, 'medium': {'w': 1200, 'h': 690, 'resize': 'fit'}, 'small': {'w': 680, 'h': 391, 'resize': 'fit'}, 'large': {'w': 1358, 'h': 781, 'resize': 'fit'}}}]}, extended_entities={'media': [{'id': 1345483334399377408, 'id_str': '1345483334399377408', 'indices': [42, 65], 'media_url': 'http://pbs.twimg.com/media/Eqwd9sYVQAAflo1.jpg', 'media_url_https': 'https://pbs.twimg.com/media/Eqwd9sYVQAAflo1.jpg', 'url': 'https://t.co/2MSpdItZf3', 'display_url': 'pic.twitter.com/2MSpdItZf3', 'expanded_url': 'https://twitter.com/alexabkim/status/1345484285600382977/photo/1', 'type': 'photo', 'sizes': {'thumb': {'w': 150, 'h': 150, 'resize': 'crop'}, 'medium': {'w': 1200, 'h': 690, 'resize': 'fit'}, 'small': {'w': 680, 'h': 391, 'resize': 'fit'}, 'large': {'w': 1358, 'h': 781, 'resize': 'fit'}}}, {'id': 1345483357119868929, 'id_str': '1345483357119868929', 'indices': [42, 65], 'media_url': 'http://pbs.twimg.com/media/Eqwd_BBUcAEYYJt.jpg', 'media_url_https': 'https://pbs.twimg.com/media/Eqwd_BBUcAEYYJt.jpg', 'url': 'https://t.co/2MSpdItZf3', 'display_url': 'pic.twitter.com/2MSpdItZf3', 'expanded_url': 'https://twitter.com/alexabkim/status/1345484285600382977/photo/1', 'type': 'photo', 'sizes': {'thumb': {'w': 150, 'h': 150, 'resize': 'crop'}, 'small': {'w': 680, 'h': 397, 'resize': 'fit'}, 'large': {'w': 1533, 'h': 896, 'resize': 'fit'}, 'medium': {'w': 1200, 'h': 701, 'resize': 'fit'}}}]}, source='Twitter Web App', source_url='https://mobile.twitter.com', in_reply_to_status_id=None, in_reply_to_status_id_str=None, in_reply_to_user_id=None, in_reply_to_user_id_str=None, in_reply_to_screen_name=None, geo=None, coordinates=None, place=None, contributors=None, is_quote_status=False, retweet_count=22491, favorite_count=231605, favorited=False, retweeted=False, possibly_sensitive=False, lang='en'), is_quote_status=False, retweet_count=22491, favorite_count=0, favorited=False, retweeted=False, possibly_sensitive=False, lang='en'), contributors_enabled=False, is_translator=False, is_translation_enabled=False, profile_background_color='F5F8FA', profile_background_image_url=None, profile_background_image_url_https=None, profile_background_tile=False, profile_image_url='http://pbs.twimg.com/profile_images/1326959554656137216/bfQVQoru_normal.jpg', profile_image_url_https='https://pbs.twimg.com/profile_images/1326959554656137216/bfQVQoru_normal.jpg', profile_banner_url='https://pbs.twimg.com/profile_banners/1204411863557124097/1605206786', profile_link_color='1DA1F2', profile_sidebar_border_color='C0DEED', profile_sidebar_fill_color='DDEEF6', profile_text_color='333333', profile_use_background_image=True, has_extended_profile=True, default_profile=True, default_profile_image=False, following=True, live_following=False, follow_request_sent=False, notifications=False, muting=False, blocking=False, blocked_by=False, translator_type='none'),\n",
              " User(_api=<tweepy.api.API object at 0x7f3005c53f60>, _json={'id': 951339588869672961, 'id_str': '951339588869672961', 'name': 'No Context The Office', 'screen_name': 'context__office', 'location': 'Scranton, PA', 'description': 'Parody Account. No affiliation with NBC.', 'url': None, 'entities': {'description': {'urls': []}}, 'protected': False, 'followers_count': 27395, 'friends_count': 28, 'listed_count': 24, 'created_at': 'Thu Jan 11 06:26:47 +0000 2018', 'favourites_count': 193, 'utc_offset': None, 'time_zone': None, 'geo_enabled': False, 'verified': False, 'statuses_count': 534, 'lang': None, 'status': {'created_at': 'Mon Jan 04 07:14:43 +0000 2021', 'id': 1345992038655930369, 'id_str': '1345992038655930369', 'text': 'RT @context__office: https://t.co/bof2xo4HKl', 'truncated': False, 'entities': {'hashtags': [], 'symbols': [], 'user_mentions': [{'screen_name': 'context__office', 'name': 'No Context The Office', 'id': 951339588869672961, 'id_str': '951339588869672961', 'indices': [3, 19]}], 'urls': [], 'media': [{'id': 1335590482920038401, 'id_str': '1335590482920038401', 'indices': [21, 44], 'media_url': 'http://pbs.twimg.com/media/Eoj4d8vXYAEK3K5.png', 'media_url_https': 'https://pbs.twimg.com/media/Eoj4d8vXYAEK3K5.png', 'url': 'https://t.co/bof2xo4HKl', 'display_url': 'pic.twitter.com/bof2xo4HKl', 'expanded_url': 'https://twitter.com/context__office/status/1345027500674412546/photo/1', 'type': 'photo', 'sizes': {'large': {'w': 624, 'h': 360, 'resize': 'fit'}, 'medium': {'w': 624, 'h': 360, 'resize': 'fit'}, 'thumb': {'w': 150, 'h': 150, 'resize': 'crop'}, 'small': {'w': 624, 'h': 360, 'resize': 'fit'}}, 'source_status_id': 1345027500674412546, 'source_status_id_str': '1345027500674412546', 'source_user_id': 951339588869672961, 'source_user_id_str': '951339588869672961'}]}, 'extended_entities': {'media': [{'id': 1335590482920038401, 'id_str': '1335590482920038401', 'indices': [21, 44], 'media_url': 'http://pbs.twimg.com/media/Eoj4d8vXYAEK3K5.png', 'media_url_https': 'https://pbs.twimg.com/media/Eoj4d8vXYAEK3K5.png', 'url': 'https://t.co/bof2xo4HKl', 'display_url': 'pic.twitter.com/bof2xo4HKl', 'expanded_url': 'https://twitter.com/context__office/status/1345027500674412546/photo/1', 'type': 'photo', 'sizes': {'large': {'w': 624, 'h': 360, 'resize': 'fit'}, 'medium': {'w': 624, 'h': 360, 'resize': 'fit'}, 'thumb': {'w': 150, 'h': 150, 'resize': 'crop'}, 'small': {'w': 624, 'h': 360, 'resize': 'fit'}}, 'source_status_id': 1345027500674412546, 'source_status_id_str': '1345027500674412546', 'source_user_id': 951339588869672961, 'source_user_id_str': '951339588869672961'}]}, 'source': '<a href=\"https://mobile.twitter.com\" rel=\"nofollow\">Twitter Web App</a>', 'in_reply_to_status_id': None, 'in_reply_to_status_id_str': None, 'in_reply_to_user_id': None, 'in_reply_to_user_id_str': None, 'in_reply_to_screen_name': None, 'geo': None, 'coordinates': None, 'place': None, 'contributors': None, 'retweeted_status': {'created_at': 'Fri Jan 01 15:22:00 +0000 2021', 'id': 1345027500674412546, 'id_str': '1345027500674412546', 'text': 'https://t.co/bof2xo4HKl', 'truncated': False, 'entities': {'hashtags': [], 'symbols': [], 'user_mentions': [], 'urls': [], 'media': [{'id': 1335590482920038401, 'id_str': '1335590482920038401', 'indices': [0, 23], 'media_url': 'http://pbs.twimg.com/media/Eoj4d8vXYAEK3K5.png', 'media_url_https': 'https://pbs.twimg.com/media/Eoj4d8vXYAEK3K5.png', 'url': 'https://t.co/bof2xo4HKl', 'display_url': 'pic.twitter.com/bof2xo4HKl', 'expanded_url': 'https://twitter.com/context__office/status/1345027500674412546/photo/1', 'type': 'photo', 'sizes': {'large': {'w': 624, 'h': 360, 'resize': 'fit'}, 'medium': {'w': 624, 'h': 360, 'resize': 'fit'}, 'thumb': {'w': 150, 'h': 150, 'resize': 'crop'}, 'small': {'w': 624, 'h': 360, 'resize': 'fit'}}}]}, 'extended_entities': {'media': [{'id': 1335590482920038401, 'id_str': '1335590482920038401', 'indices': [0, 23], 'media_url': 'http://pbs.twimg.com/media/Eoj4d8vXYAEK3K5.png', 'media_url_https': 'https://pbs.twimg.com/media/Eoj4d8vXYAEK3K5.png', 'url': 'https://t.co/bof2xo4HKl', 'display_url': 'pic.twitter.com/bof2xo4HKl', 'expanded_url': 'https://twitter.com/context__office/status/1345027500674412546/photo/1', 'type': 'photo', 'sizes': {'large': {'w': 624, 'h': 360, 'resize': 'fit'}, 'medium': {'w': 624, 'h': 360, 'resize': 'fit'}, 'thumb': {'w': 150, 'h': 150, 'resize': 'crop'}, 'small': {'w': 624, 'h': 360, 'resize': 'fit'}}}]}, 'source': '<a href=\"https://mobile.twitter.com\" rel=\"nofollow\">Twitter Web App</a>', 'in_reply_to_status_id': None, 'in_reply_to_status_id_str': None, 'in_reply_to_user_id': None, 'in_reply_to_user_id_str': None, 'in_reply_to_screen_name': None, 'geo': None, 'coordinates': None, 'place': None, 'contributors': None, 'is_quote_status': False, 'retweet_count': 1527, 'favorite_count': 6974, 'favorited': False, 'retweeted': False, 'possibly_sensitive': False, 'lang': 'und'}, 'is_quote_status': False, 'retweet_count': 1527, 'favorite_count': 0, 'favorited': False, 'retweeted': False, 'possibly_sensitive': False, 'lang': 'und'}, 'contributors_enabled': False, 'is_translator': False, 'is_translation_enabled': False, 'profile_background_color': 'F5F8FA', 'profile_background_image_url': None, 'profile_background_image_url_https': None, 'profile_background_tile': False, 'profile_image_url': 'http://pbs.twimg.com/profile_images/1298810052044820481/dJp4VMIs_normal.jpg', 'profile_image_url_https': 'https://pbs.twimg.com/profile_images/1298810052044820481/dJp4VMIs_normal.jpg', 'profile_link_color': '1DA1F2', 'profile_sidebar_border_color': 'C0DEED', 'profile_sidebar_fill_color': 'DDEEF6', 'profile_text_color': '333333', 'profile_use_background_image': True, 'has_extended_profile': False, 'default_profile': True, 'default_profile_image': False, 'following': True, 'live_following': False, 'follow_request_sent': False, 'notifications': False, 'muting': False, 'blocking': False, 'blocked_by': False, 'translator_type': 'none'}, id=951339588869672961, id_str='951339588869672961', name='No Context The Office', screen_name='context__office', location='Scranton, PA', description='Parody Account. No affiliation with NBC.', url=None, entities={'description': {'urls': []}}, protected=False, followers_count=27395, friends_count=28, listed_count=24, created_at=datetime.datetime(2018, 1, 11, 6, 26, 47), favourites_count=193, utc_offset=None, time_zone=None, geo_enabled=False, verified=False, statuses_count=534, lang=None, status=Status(_api=<tweepy.api.API object at 0x7f3005c53f60>, _json={'created_at': 'Mon Jan 04 07:14:43 +0000 2021', 'id': 1345992038655930369, 'id_str': '1345992038655930369', 'text': 'RT @context__office: https://t.co/bof2xo4HKl', 'truncated': False, 'entities': {'hashtags': [], 'symbols': [], 'user_mentions': [{'screen_name': 'context__office', 'name': 'No Context The Office', 'id': 951339588869672961, 'id_str': '951339588869672961', 'indices': [3, 19]}], 'urls': [], 'media': [{'id': 1335590482920038401, 'id_str': '1335590482920038401', 'indices': [21, 44], 'media_url': 'http://pbs.twimg.com/media/Eoj4d8vXYAEK3K5.png', 'media_url_https': 'https://pbs.twimg.com/media/Eoj4d8vXYAEK3K5.png', 'url': 'https://t.co/bof2xo4HKl', 'display_url': 'pic.twitter.com/bof2xo4HKl', 'expanded_url': 'https://twitter.com/context__office/status/1345027500674412546/photo/1', 'type': 'photo', 'sizes': {'large': {'w': 624, 'h': 360, 'resize': 'fit'}, 'medium': {'w': 624, 'h': 360, 'resize': 'fit'}, 'thumb': {'w': 150, 'h': 150, 'resize': 'crop'}, 'small': {'w': 624, 'h': 360, 'resize': 'fit'}}, 'source_status_id': 1345027500674412546, 'source_status_id_str': '1345027500674412546', 'source_user_id': 951339588869672961, 'source_user_id_str': '951339588869672961'}]}, 'extended_entities': {'media': [{'id': 1335590482920038401, 'id_str': '1335590482920038401', 'indices': [21, 44], 'media_url': 'http://pbs.twimg.com/media/Eoj4d8vXYAEK3K5.png', 'media_url_https': 'https://pbs.twimg.com/media/Eoj4d8vXYAEK3K5.png', 'url': 'https://t.co/bof2xo4HKl', 'display_url': 'pic.twitter.com/bof2xo4HKl', 'expanded_url': 'https://twitter.com/context__office/status/1345027500674412546/photo/1', 'type': 'photo', 'sizes': {'large': {'w': 624, 'h': 360, 'resize': 'fit'}, 'medium': {'w': 624, 'h': 360, 'resize': 'fit'}, 'thumb': {'w': 150, 'h': 150, 'resize': 'crop'}, 'small': {'w': 624, 'h': 360, 'resize': 'fit'}}, 'source_status_id': 1345027500674412546, 'source_status_id_str': '1345027500674412546', 'source_user_id': 951339588869672961, 'source_user_id_str': '951339588869672961'}]}, 'source': '<a href=\"https://mobile.twitter.com\" rel=\"nofollow\">Twitter Web App</a>', 'in_reply_to_status_id': None, 'in_reply_to_status_id_str': None, 'in_reply_to_user_id': None, 'in_reply_to_user_id_str': None, 'in_reply_to_screen_name': None, 'geo': None, 'coordinates': None, 'place': None, 'contributors': None, 'retweeted_status': {'created_at': 'Fri Jan 01 15:22:00 +0000 2021', 'id': 1345027500674412546, 'id_str': '1345027500674412546', 'text': 'https://t.co/bof2xo4HKl', 'truncated': False, 'entities': {'hashtags': [], 'symbols': [], 'user_mentions': [], 'urls': [], 'media': [{'id': 1335590482920038401, 'id_str': '1335590482920038401', 'indices': [0, 23], 'media_url': 'http://pbs.twimg.com/media/Eoj4d8vXYAEK3K5.png', 'media_url_https': 'https://pbs.twimg.com/media/Eoj4d8vXYAEK3K5.png', 'url': 'https://t.co/bof2xo4HKl', 'display_url': 'pic.twitter.com/bof2xo4HKl', 'expanded_url': 'https://twitter.com/context__office/status/1345027500674412546/photo/1', 'type': 'photo', 'sizes': {'large': {'w': 624, 'h': 360, 'resize': 'fit'}, 'medium': {'w': 624, 'h': 360, 'resize': 'fit'}, 'thumb': {'w': 150, 'h': 150, 'resize': 'crop'}, 'small': {'w': 624, 'h': 360, 'resize': 'fit'}}}]}, 'extended_entities': {'media': [{'id': 1335590482920038401, 'id_str': '1335590482920038401', 'indices': [0, 23], 'media_url': 'http://pbs.twimg.com/media/Eoj4d8vXYAEK3K5.png', 'media_url_https': 'https://pbs.twimg.com/media/Eoj4d8vXYAEK3K5.png', 'url': 'https://t.co/bof2xo4HKl', 'display_url': 'pic.twitter.com/bof2xo4HKl', 'expanded_url': 'https://twitter.com/context__office/status/1345027500674412546/photo/1', 'type': 'photo', 'sizes': {'large': {'w': 624, 'h': 360, 'resize': 'fit'}, 'medium': {'w': 624, 'h': 360, 'resize': 'fit'}, 'thumb': {'w': 150, 'h': 150, 'resize': 'crop'}, 'small': {'w': 624, 'h': 360, 'resize': 'fit'}}}]}, 'source': '<a href=\"https://mobile.twitter.com\" rel=\"nofollow\">Twitter Web App</a>', 'in_reply_to_status_id': None, 'in_reply_to_status_id_str': None, 'in_reply_to_user_id': None, 'in_reply_to_user_id_str': None, 'in_reply_to_screen_name': None, 'geo': None, 'coordinates': None, 'place': None, 'contributors': None, 'is_quote_status': False, 'retweet_count': 1527, 'favorite_count': 6974, 'favorited': False, 'retweeted': False, 'possibly_sensitive': False, 'lang': 'und'}, 'is_quote_status': False, 'retweet_count': 1527, 'favorite_count': 0, 'favorited': False, 'retweeted': False, 'possibly_sensitive': False, 'lang': 'und'}, created_at=datetime.datetime(2021, 1, 4, 7, 14, 43), id=1345992038655930369, id_str='1345992038655930369', text='RT @context__office: https://t.co/bof2xo4HKl', truncated=False, entities={'hashtags': [], 'symbols': [], 'user_mentions': [{'screen_name': 'context__office', 'name': 'No Context The Office', 'id': 951339588869672961, 'id_str': '951339588869672961', 'indices': [3, 19]}], 'urls': [], 'media': [{'id': 1335590482920038401, 'id_str': '1335590482920038401', 'indices': [21, 44], 'media_url': 'http://pbs.twimg.com/media/Eoj4d8vXYAEK3K5.png', 'media_url_https': 'https://pbs.twimg.com/media/Eoj4d8vXYAEK3K5.png', 'url': 'https://t.co/bof2xo4HKl', 'display_url': 'pic.twitter.com/bof2xo4HKl', 'expanded_url': 'https://twitter.com/context__office/status/1345027500674412546/photo/1', 'type': 'photo', 'sizes': {'large': {'w': 624, 'h': 360, 'resize': 'fit'}, 'medium': {'w': 624, 'h': 360, 'resize': 'fit'}, 'thumb': {'w': 150, 'h': 150, 'resize': 'crop'}, 'small': {'w': 624, 'h': 360, 'resize': 'fit'}}, 'source_status_id': 1345027500674412546, 'source_status_id_str': '1345027500674412546', 'source_user_id': 951339588869672961, 'source_user_id_str': '951339588869672961'}]}, extended_entities={'media': [{'id': 1335590482920038401, 'id_str': '1335590482920038401', 'indices': [21, 44], 'media_url': 'http://pbs.twimg.com/media/Eoj4d8vXYAEK3K5.png', 'media_url_https': 'https://pbs.twimg.com/media/Eoj4d8vXYAEK3K5.png', 'url': 'https://t.co/bof2xo4HKl', 'display_url': 'pic.twitter.com/bof2xo4HKl', 'expanded_url': 'https://twitter.com/context__office/status/1345027500674412546/photo/1', 'type': 'photo', 'sizes': {'large': {'w': 624, 'h': 360, 'resize': 'fit'}, 'medium': {'w': 624, 'h': 360, 'resize': 'fit'}, 'thumb': {'w': 150, 'h': 150, 'resize': 'crop'}, 'small': {'w': 624, 'h': 360, 'resize': 'fit'}}, 'source_status_id': 1345027500674412546, 'source_status_id_str': '1345027500674412546', 'source_user_id': 951339588869672961, 'source_user_id_str': '951339588869672961'}]}, source='Twitter Web App', source_url='https://mobile.twitter.com', in_reply_to_status_id=None, in_reply_to_status_id_str=None, in_reply_to_user_id=None, in_reply_to_user_id_str=None, in_reply_to_screen_name=None, geo=None, coordinates=None, place=None, contributors=None, retweeted_status=Status(_api=<tweepy.api.API object at 0x7f3005c53f60>, _json={'created_at': 'Fri Jan 01 15:22:00 +0000 2021', 'id': 1345027500674412546, 'id_str': '1345027500674412546', 'text': 'https://t.co/bof2xo4HKl', 'truncated': False, 'entities': {'hashtags': [], 'symbols': [], 'user_mentions': [], 'urls': [], 'media': [{'id': 1335590482920038401, 'id_str': '1335590482920038401', 'indices': [0, 23], 'media_url': 'http://pbs.twimg.com/media/Eoj4d8vXYAEK3K5.png', 'media_url_https': 'https://pbs.twimg.com/media/Eoj4d8vXYAEK3K5.png', 'url': 'https://t.co/bof2xo4HKl', 'display_url': 'pic.twitter.com/bof2xo4HKl', 'expanded_url': 'https://twitter.com/context__office/status/1345027500674412546/photo/1', 'type': 'photo', 'sizes': {'large': {'w': 624, 'h': 360, 'resize': 'fit'}, 'medium': {'w': 624, 'h': 360, 'resize': 'fit'}, 'thumb': {'w': 150, 'h': 150, 'resize': 'crop'}, 'small': {'w': 624, 'h': 360, 'resize': 'fit'}}}]}, 'extended_entities': {'media': [{'id': 1335590482920038401, 'id_str': '1335590482920038401', 'indices': [0, 23], 'media_url': 'http://pbs.twimg.com/media/Eoj4d8vXYAEK3K5.png', 'media_url_https': 'https://pbs.twimg.com/media/Eoj4d8vXYAEK3K5.png', 'url': 'https://t.co/bof2xo4HKl', 'display_url': 'pic.twitter.com/bof2xo4HKl', 'expanded_url': 'https://twitter.com/context__office/status/1345027500674412546/photo/1', 'type': 'photo', 'sizes': {'large': {'w': 624, 'h': 360, 'resize': 'fit'}, 'medium': {'w': 624, 'h': 360, 'resize': 'fit'}, 'thumb': {'w': 150, 'h': 150, 'resize': 'crop'}, 'small': {'w': 624, 'h': 360, 'resize': 'fit'}}}]}, 'source': '<a href=\"https://mobile.twitter.com\" rel=\"nofollow\">Twitter Web App</a>', 'in_reply_to_status_id': None, 'in_reply_to_status_id_str': None, 'in_reply_to_user_id': None, 'in_reply_to_user_id_str': None, 'in_reply_to_screen_name': None, 'geo': None, 'coordinates': None, 'place': None, 'contributors': None, 'is_quote_status': False, 'retweet_count': 1527, 'favorite_count': 6974, 'favorited': False, 'retweeted': False, 'possibly_sensitive': False, 'lang': 'und'}, created_at=datetime.datetime(2021, 1, 1, 15, 22), id=1345027500674412546, id_str='1345027500674412546', text='https://t.co/bof2xo4HKl', truncated=False, entities={'hashtags': [], 'symbols': [], 'user_mentions': [], 'urls': [], 'media': [{'id': 1335590482920038401, 'id_str': '1335590482920038401', 'indices': [0, 23], 'media_url': 'http://pbs.twimg.com/media/Eoj4d8vXYAEK3K5.png', 'media_url_https': 'https://pbs.twimg.com/media/Eoj4d8vXYAEK3K5.png', 'url': 'https://t.co/bof2xo4HKl', 'display_url': 'pic.twitter.com/bof2xo4HKl', 'expanded_url': 'https://twitter.com/context__office/status/1345027500674412546/photo/1', 'type': 'photo', 'sizes': {'large': {'w': 624, 'h': 360, 'resize': 'fit'}, 'medium': {'w': 624, 'h': 360, 'resize': 'fit'}, 'thumb': {'w': 150, 'h': 150, 'resize': 'crop'}, 'small': {'w': 624, 'h': 360, 'resize': 'fit'}}}]}, extended_entities={'media': [{'id': 1335590482920038401, 'id_str': '1335590482920038401', 'indices': [0, 23], 'media_url': 'http://pbs.twimg.com/media/Eoj4d8vXYAEK3K5.png', 'media_url_https': 'https://pbs.twimg.com/media/Eoj4d8vXYAEK3K5.png', 'url': 'https://t.co/bof2xo4HKl', 'display_url': 'pic.twitter.com/bof2xo4HKl', 'expanded_url': 'https://twitter.com/context__office/status/1345027500674412546/photo/1', 'type': 'photo', 'sizes': {'large': {'w': 624, 'h': 360, 'resize': 'fit'}, 'medium': {'w': 624, 'h': 360, 'resize': 'fit'}, 'thumb': {'w': 150, 'h': 150, 'resize': 'crop'}, 'small': {'w': 624, 'h': 360, 'resize': 'fit'}}}]}, source='Twitter Web App', source_url='https://mobile.twitter.com', in_reply_to_status_id=None, in_reply_to_status_id_str=None, in_reply_to_user_id=None, in_reply_to_user_id_str=None, in_reply_to_screen_name=None, geo=None, coordinates=None, place=None, contributors=None, is_quote_status=False, retweet_count=1527, favorite_count=6974, favorited=False, retweeted=False, possibly_sensitive=False, lang='und'), is_quote_status=False, retweet_count=1527, favorite_count=0, favorited=False, retweeted=False, possibly_sensitive=False, lang='und'), contributors_enabled=False, is_translator=False, is_translation_enabled=False, profile_background_color='F5F8FA', profile_background_image_url=None, profile_background_image_url_https=None, profile_background_tile=False, profile_image_url='http://pbs.twimg.com/profile_images/1298810052044820481/dJp4VMIs_normal.jpg', profile_image_url_https='https://pbs.twimg.com/profile_images/1298810052044820481/dJp4VMIs_normal.jpg', profile_link_color='1DA1F2', profile_sidebar_border_color='C0DEED', profile_sidebar_fill_color='DDEEF6', profile_text_color='333333', profile_use_background_image=True, has_extended_profile=False, default_profile=True, default_profile_image=False, following=True, live_following=False, follow_request_sent=False, notifications=False, muting=False, blocking=False, blocked_by=False, translator_type='none'),\n",
              " User(_api=<tweepy.api.API object at 0x7f3005c53f60>, _json={'id': 3241481350, 'id_str': '3241481350', 'name': 'Sa ☆ Lightning Strikes', 'screen_name': 'LStrikesArt', 'location': 'Australia', 'description': 'Mostly fan art and comics / do not repost / ✉️ lightning.strikes @ outlook / Shop, Patreon, Ko-fi, e-Zines ⬇️', 'url': 'https://t.co/fae7v0MfMK', 'entities': {'url': {'urls': [{'url': 'https://t.co/fae7v0MfMK', 'expanded_url': 'https://linktr.ee/lstrikesart', 'display_url': 'linktr.ee/lstrikesart', 'indices': [0, 23]}]}, 'description': {'urls': []}}, 'protected': False, 'followers_count': 39387, 'friends_count': 147, 'listed_count': 286, 'created_at': 'Fri May 08 03:48:40 +0000 2015', 'favourites_count': 10536, 'utc_offset': None, 'time_zone': None, 'geo_enabled': True, 'verified': False, 'statuses_count': 14171, 'lang': None, 'status': {'created_at': 'Mon Jan 04 13:10:11 +0000 2021', 'id': 1346081491864801281, 'id_str': '1346081491864801281', 'text': '@elvereid We were all tricked 😫', 'truncated': False, 'entities': {'hashtags': [], 'symbols': [], 'user_mentions': [{'screen_name': 'elvereid', 'name': 'elvereid 🔞', 'id': 1175449086704738304, 'id_str': '1175449086704738304', 'indices': [0, 9]}], 'urls': []}, 'source': '<a href=\"http://twitter.com/download/iphone\" rel=\"nofollow\">Twitter for iPhone</a>', 'in_reply_to_status_id': 1346055907076141057, 'in_reply_to_status_id_str': '1346055907076141057', 'in_reply_to_user_id': 1175449086704738304, 'in_reply_to_user_id_str': '1175449086704738304', 'in_reply_to_screen_name': 'elvereid', 'geo': None, 'coordinates': None, 'place': None, 'contributors': None, 'is_quote_status': False, 'retweet_count': 0, 'favorite_count': 0, 'favorited': False, 'retweeted': False, 'lang': 'en'}, 'contributors_enabled': False, 'is_translator': False, 'is_translation_enabled': False, 'profile_background_color': 'FFFFFF', 'profile_background_image_url': 'http://abs.twimg.com/images/themes/theme1/bg.png', 'profile_background_image_url_https': 'https://abs.twimg.com/images/themes/theme1/bg.png', 'profile_background_tile': True, 'profile_image_url': 'http://pbs.twimg.com/profile_images/1098464374971281409/efLvmdNn_normal.jpg', 'profile_image_url_https': 'https://pbs.twimg.com/profile_images/1098464374971281409/efLvmdNn_normal.jpg', 'profile_banner_url': 'https://pbs.twimg.com/profile_banners/3241481350/1596268969', 'profile_link_color': '1B95E0', 'profile_sidebar_border_color': '000000', 'profile_sidebar_fill_color': '000000', 'profile_text_color': '000000', 'profile_use_background_image': True, 'has_extended_profile': False, 'default_profile': False, 'default_profile_image': False, 'following': True, 'live_following': False, 'follow_request_sent': False, 'notifications': False, 'muting': False, 'blocking': False, 'blocked_by': False, 'translator_type': 'none'}, id=3241481350, id_str='3241481350', name='Sa ☆ Lightning Strikes', screen_name='LStrikesArt', location='Australia', description='Mostly fan art and comics / do not repost / ✉️ lightning.strikes @ outlook / Shop, Patreon, Ko-fi, e-Zines ⬇️', url='https://t.co/fae7v0MfMK', entities={'url': {'urls': [{'url': 'https://t.co/fae7v0MfMK', 'expanded_url': 'https://linktr.ee/lstrikesart', 'display_url': 'linktr.ee/lstrikesart', 'indices': [0, 23]}]}, 'description': {'urls': []}}, protected=False, followers_count=39387, friends_count=147, listed_count=286, created_at=datetime.datetime(2015, 5, 8, 3, 48, 40), favourites_count=10536, utc_offset=None, time_zone=None, geo_enabled=True, verified=False, statuses_count=14171, lang=None, status=Status(_api=<tweepy.api.API object at 0x7f3005c53f60>, _json={'created_at': 'Mon Jan 04 13:10:11 +0000 2021', 'id': 1346081491864801281, 'id_str': '1346081491864801281', 'text': '@elvereid We were all tricked 😫', 'truncated': False, 'entities': {'hashtags': [], 'symbols': [], 'user_mentions': [{'screen_name': 'elvereid', 'name': 'elvereid 🔞', 'id': 1175449086704738304, 'id_str': '1175449086704738304', 'indices': [0, 9]}], 'urls': []}, 'source': '<a href=\"http://twitter.com/download/iphone\" rel=\"nofollow\">Twitter for iPhone</a>', 'in_reply_to_status_id': 1346055907076141057, 'in_reply_to_status_id_str': '1346055907076141057', 'in_reply_to_user_id': 1175449086704738304, 'in_reply_to_user_id_str': '1175449086704738304', 'in_reply_to_screen_name': 'elvereid', 'geo': None, 'coordinates': None, 'place': None, 'contributors': None, 'is_quote_status': False, 'retweet_count': 0, 'favorite_count': 0, 'favorited': False, 'retweeted': False, 'lang': 'en'}, created_at=datetime.datetime(2021, 1, 4, 13, 10, 11), id=1346081491864801281, id_str='1346081491864801281', text='@elvereid We were all tricked 😫', truncated=False, entities={'hashtags': [], 'symbols': [], 'user_mentions': [{'screen_name': 'elvereid', 'name': 'elvereid 🔞', 'id': 1175449086704738304, 'id_str': '1175449086704738304', 'indices': [0, 9]}], 'urls': []}, source='Twitter for iPhone', source_url='http://twitter.com/download/iphone', in_reply_to_status_id=1346055907076141057, in_reply_to_status_id_str='1346055907076141057', in_reply_to_user_id=1175449086704738304, in_reply_to_user_id_str='1175449086704738304', in_reply_to_screen_name='elvereid', geo=None, coordinates=None, place=None, contributors=None, is_quote_status=False, retweet_count=0, favorite_count=0, favorited=False, retweeted=False, lang='en'), contributors_enabled=False, is_translator=False, is_translation_enabled=False, profile_background_color='FFFFFF', profile_background_image_url='http://abs.twimg.com/images/themes/theme1/bg.png', profile_background_image_url_https='https://abs.twimg.com/images/themes/theme1/bg.png', profile_background_tile=True, profile_image_url='http://pbs.twimg.com/profile_images/1098464374971281409/efLvmdNn_normal.jpg', profile_image_url_https='https://pbs.twimg.com/profile_images/1098464374971281409/efLvmdNn_normal.jpg', profile_banner_url='https://pbs.twimg.com/profile_banners/3241481350/1596268969', profile_link_color='1B95E0', profile_sidebar_border_color='000000', profile_sidebar_fill_color='000000', profile_text_color='000000', profile_use_background_image=True, has_extended_profile=False, default_profile=False, default_profile_image=False, following=True, live_following=False, follow_request_sent=False, notifications=False, muting=False, blocking=False, blocked_by=False, translator_type='none'),\n",
              " User(_api=<tweepy.api.API object at 0x7f3005c53f60>, _json={'id': 1124056727102660608, 'id_str': '1124056727102660608', 'name': 'FINAL FANTASY VII REMAKE', 'screen_name': 'finalfantasyvii', 'location': '', 'description': 'Welcome to the official @FinalFantasy VII Twitter page. Whether you’re a long-time fan or want to know more, get involved and follow us now!', 'url': 'https://t.co/iXtgxVPfkb', 'entities': {'url': {'urls': [{'url': 'https://t.co/iXtgxVPfkb', 'expanded_url': 'https://sqex.link/ffviir', 'display_url': 'sqex.link/ffviir', 'indices': [0, 23]}]}, 'description': {'urls': []}}, 'protected': False, 'followers_count': 194589, 'friends_count': 88, 'listed_count': 540, 'created_at': 'Thu May 02 21:03:02 +0000 2019', 'favourites_count': 172, 'utc_offset': None, 'time_zone': None, 'geo_enabled': False, 'verified': True, 'statuses_count': 649, 'lang': None, 'status': {'created_at': 'Mon Jan 04 13:31:00 +0000 2021', 'id': 1346086730370146305, 'id_str': '1346086730370146305', 'text': \"Got your New Year's resolutions lined up? Here's some #MondayMotivation from Jessie! https://t.co/ul34Z6bI1k\", 'truncated': False, 'entities': {'hashtags': [{'text': 'MondayMotivation', 'indices': [54, 71]}], 'symbols': [], 'user_mentions': [], 'urls': [], 'media': [{'id': 1339664945273778177, 'id_str': '1339664945273778177', 'indices': [85, 108], 'media_url': 'http://pbs.twimg.com/media/EpdyRKxXMAAG0R7.jpg', 'media_url_https': 'https://pbs.twimg.com/media/EpdyRKxXMAAG0R7.jpg', 'url': 'https://t.co/ul34Z6bI1k', 'display_url': 'pic.twitter.com/ul34Z6bI1k', 'expanded_url': 'https://twitter.com/finalfantasyvii/status/1346086730370146305/video/1', 'type': 'photo', 'sizes': {'thumb': {'w': 150, 'h': 150, 'resize': 'crop'}, 'small': {'w': 680, 'h': 680, 'resize': 'fit'}, 'medium': {'w': 1080, 'h': 1080, 'resize': 'fit'}, 'large': {'w': 1080, 'h': 1080, 'resize': 'fit'}}}]}, 'extended_entities': {'media': [{'id': 1339664945273778177, 'id_str': '1339664945273778177', 'indices': [85, 108], 'media_url': 'http://pbs.twimg.com/media/EpdyRKxXMAAG0R7.jpg', 'media_url_https': 'https://pbs.twimg.com/media/EpdyRKxXMAAG0R7.jpg', 'url': 'https://t.co/ul34Z6bI1k', 'display_url': 'pic.twitter.com/ul34Z6bI1k', 'expanded_url': 'https://twitter.com/finalfantasyvii/status/1346086730370146305/video/1', 'type': 'video', 'sizes': {'thumb': {'w': 150, 'h': 150, 'resize': 'crop'}, 'small': {'w': 680, 'h': 680, 'resize': 'fit'}, 'medium': {'w': 1080, 'h': 1080, 'resize': 'fit'}, 'large': {'w': 1080, 'h': 1080, 'resize': 'fit'}}, 'video_info': {'aspect_ratio': [1, 1], 'duration_millis': 3737, 'variants': [{'bitrate': 832000, 'content_type': 'video/mp4', 'url': 'https://video.twimg.com/amplify_video/1339664945273778177/vid/480x480/bvn9roHKrJ--x6Wj.mp4?tag=13'}, {'bitrate': 432000, 'content_type': 'video/mp4', 'url': 'https://video.twimg.com/amplify_video/1339664945273778177/vid/320x320/Sg-ik5DAJkK6gyqL.mp4?tag=13'}, {'content_type': 'application/x-mpegURL', 'url': 'https://video.twimg.com/amplify_video/1339664945273778177/pl/RM323ntgqoirfdXB.m3u8?tag=13'}, {'bitrate': 1280000, 'content_type': 'video/mp4', 'url': 'https://video.twimg.com/amplify_video/1339664945273778177/vid/720x720/Pc2cB3PjyqYAfYqD.mp4?tag=13'}]}, 'additional_media_info': {'title': '', 'description': '', 'embeddable': True, 'monetizable': False}}]}, 'source': '<a href=\"https://ads.twitter.com\" rel=\"nofollow\">Twitter Ads</a>', 'in_reply_to_status_id': None, 'in_reply_to_status_id_str': None, 'in_reply_to_user_id': None, 'in_reply_to_user_id_str': None, 'in_reply_to_screen_name': None, 'geo': None, 'coordinates': None, 'place': None, 'contributors': None, 'is_quote_status': False, 'retweet_count': 112, 'favorite_count': 888, 'favorited': False, 'retweeted': False, 'possibly_sensitive': False, 'lang': 'en'}, 'contributors_enabled': False, 'is_translator': False, 'is_translation_enabled': False, 'profile_background_color': '000000', 'profile_background_image_url': 'http://abs.twimg.com/images/themes/theme1/bg.png', 'profile_background_image_url_https': 'https://abs.twimg.com/images/themes/theme1/bg.png', 'profile_background_tile': False, 'profile_image_url': 'http://pbs.twimg.com/profile_images/1137459863183749120/S2fbJQsX_normal.jpg', 'profile_image_url_https': 'https://pbs.twimg.com/profile_images/1137459863183749120/S2fbJQsX_normal.jpg', 'profile_banner_url': 'https://pbs.twimg.com/profile_banners/1124056727102660608/1608624016', 'profile_link_color': '555555', 'profile_sidebar_border_color': '000000', 'profile_sidebar_fill_color': '000000', 'profile_text_color': '000000', 'profile_use_background_image': False, 'has_extended_profile': False, 'default_profile': False, 'default_profile_image': False, 'following': True, 'live_following': False, 'follow_request_sent': False, 'notifications': False, 'muting': False, 'blocking': False, 'blocked_by': False, 'translator_type': 'none'}, id=1124056727102660608, id_str='1124056727102660608', name='FINAL FANTASY VII REMAKE', screen_name='finalfantasyvii', location='', description='Welcome to the official @FinalFantasy VII Twitter page. Whether you’re a long-time fan or want to know more, get involved and follow us now!', url='https://t.co/iXtgxVPfkb', entities={'url': {'urls': [{'url': 'https://t.co/iXtgxVPfkb', 'expanded_url': 'https://sqex.link/ffviir', 'display_url': 'sqex.link/ffviir', 'indices': [0, 23]}]}, 'description': {'urls': []}}, protected=False, followers_count=194589, friends_count=88, listed_count=540, created_at=datetime.datetime(2019, 5, 2, 21, 3, 2), favourites_count=172, utc_offset=None, time_zone=None, geo_enabled=False, verified=True, statuses_count=649, lang=None, status=Status(_api=<tweepy.api.API object at 0x7f3005c53f60>, _json={'created_at': 'Mon Jan 04 13:31:00 +0000 2021', 'id': 1346086730370146305, 'id_str': '1346086730370146305', 'text': \"Got your New Year's resolutions lined up? Here's some #MondayMotivation from Jessie! https://t.co/ul34Z6bI1k\", 'truncated': False, 'entities': {'hashtags': [{'text': 'MondayMotivation', 'indices': [54, 71]}], 'symbols': [], 'user_mentions': [], 'urls': [], 'media': [{'id': 1339664945273778177, 'id_str': '1339664945273778177', 'indices': [85, 108], 'media_url': 'http://pbs.twimg.com/media/EpdyRKxXMAAG0R7.jpg', 'media_url_https': 'https://pbs.twimg.com/media/EpdyRKxXMAAG0R7.jpg', 'url': 'https://t.co/ul34Z6bI1k', 'display_url': 'pic.twitter.com/ul34Z6bI1k', 'expanded_url': 'https://twitter.com/finalfantasyvii/status/1346086730370146305/video/1', 'type': 'photo', 'sizes': {'thumb': {'w': 150, 'h': 150, 'resize': 'crop'}, 'small': {'w': 680, 'h': 680, 'resize': 'fit'}, 'medium': {'w': 1080, 'h': 1080, 'resize': 'fit'}, 'large': {'w': 1080, 'h': 1080, 'resize': 'fit'}}}]}, 'extended_entities': {'media': [{'id': 1339664945273778177, 'id_str': '1339664945273778177', 'indices': [85, 108], 'media_url': 'http://pbs.twimg.com/media/EpdyRKxXMAAG0R7.jpg', 'media_url_https': 'https://pbs.twimg.com/media/EpdyRKxXMAAG0R7.jpg', 'url': 'https://t.co/ul34Z6bI1k', 'display_url': 'pic.twitter.com/ul34Z6bI1k', 'expanded_url': 'https://twitter.com/finalfantasyvii/status/1346086730370146305/video/1', 'type': 'video', 'sizes': {'thumb': {'w': 150, 'h': 150, 'resize': 'crop'}, 'small': {'w': 680, 'h': 680, 'resize': 'fit'}, 'medium': {'w': 1080, 'h': 1080, 'resize': 'fit'}, 'large': {'w': 1080, 'h': 1080, 'resize': 'fit'}}, 'video_info': {'aspect_ratio': [1, 1], 'duration_millis': 3737, 'variants': [{'bitrate': 832000, 'content_type': 'video/mp4', 'url': 'https://video.twimg.com/amplify_video/1339664945273778177/vid/480x480/bvn9roHKrJ--x6Wj.mp4?tag=13'}, {'bitrate': 432000, 'content_type': 'video/mp4', 'url': 'https://video.twimg.com/amplify_video/1339664945273778177/vid/320x320/Sg-ik5DAJkK6gyqL.mp4?tag=13'}, {'content_type': 'application/x-mpegURL', 'url': 'https://video.twimg.com/amplify_video/1339664945273778177/pl/RM323ntgqoirfdXB.m3u8?tag=13'}, {'bitrate': 1280000, 'content_type': 'video/mp4', 'url': 'https://video.twimg.com/amplify_video/1339664945273778177/vid/720x720/Pc2cB3PjyqYAfYqD.mp4?tag=13'}]}, 'additional_media_info': {'title': '', 'description': '', 'embeddable': True, 'monetizable': False}}]}, 'source': '<a href=\"https://ads.twitter.com\" rel=\"nofollow\">Twitter Ads</a>', 'in_reply_to_status_id': None, 'in_reply_to_status_id_str': None, 'in_reply_to_user_id': None, 'in_reply_to_user_id_str': None, 'in_reply_to_screen_name': None, 'geo': None, 'coordinates': None, 'place': None, 'contributors': None, 'is_quote_status': False, 'retweet_count': 112, 'favorite_count': 888, 'favorited': False, 'retweeted': False, 'possibly_sensitive': False, 'lang': 'en'}, created_at=datetime.datetime(2021, 1, 4, 13, 31), id=1346086730370146305, id_str='1346086730370146305', text=\"Got your New Year's resolutions lined up? Here's some #MondayMotivation from Jessie! https://t.co/ul34Z6bI1k\", truncated=False, entities={'hashtags': [{'text': 'MondayMotivation', 'indices': [54, 71]}], 'symbols': [], 'user_mentions': [], 'urls': [], 'media': [{'id': 1339664945273778177, 'id_str': '1339664945273778177', 'indices': [85, 108], 'media_url': 'http://pbs.twimg.com/media/EpdyRKxXMAAG0R7.jpg', 'media_url_https': 'https://pbs.twimg.com/media/EpdyRKxXMAAG0R7.jpg', 'url': 'https://t.co/ul34Z6bI1k', 'display_url': 'pic.twitter.com/ul34Z6bI1k', 'expanded_url': 'https://twitter.com/finalfantasyvii/status/1346086730370146305/video/1', 'type': 'photo', 'sizes': {'thumb': {'w': 150, 'h': 150, 'resize': 'crop'}, 'small': {'w': 680, 'h': 680, 'resize': 'fit'}, 'medium': {'w': 1080, 'h': 1080, 'resize': 'fit'}, 'large': {'w': 1080, 'h': 1080, 'resize': 'fit'}}}]}, extended_entities={'media': [{'id': 1339664945273778177, 'id_str': '1339664945273778177', 'indices': [85, 108], 'media_url': 'http://pbs.twimg.com/media/EpdyRKxXMAAG0R7.jpg', 'media_url_https': 'https://pbs.twimg.com/media/EpdyRKxXMAAG0R7.jpg', 'url': 'https://t.co/ul34Z6bI1k', 'display_url': 'pic.twitter.com/ul34Z6bI1k', 'expanded_url': 'https://twitter.com/finalfantasyvii/status/1346086730370146305/video/1', 'type': 'video', 'sizes': {'thumb': {'w': 150, 'h': 150, 'resize': 'crop'}, 'small': {'w': 680, 'h': 680, 'resize': 'fit'}, 'medium': {'w': 1080, 'h': 1080, 'resize': 'fit'}, 'large': {'w': 1080, 'h': 1080, 'resize': 'fit'}}, 'video_info': {'aspect_ratio': [1, 1], 'duration_millis': 3737, 'variants': [{'bitrate': 832000, 'content_type': 'video/mp4', 'url': 'https://video.twimg.com/amplify_video/1339664945273778177/vid/480x480/bvn9roHKrJ--x6Wj.mp4?tag=13'}, {'bitrate': 432000, 'content_type': 'video/mp4', 'url': 'https://video.twimg.com/amplify_video/1339664945273778177/vid/320x320/Sg-ik5DAJkK6gyqL.mp4?tag=13'}, {'content_type': 'application/x-mpegURL', 'url': 'https://video.twimg.com/amplify_video/1339664945273778177/pl/RM323ntgqoirfdXB.m3u8?tag=13'}, {'bitrate': 1280000, 'content_type': 'video/mp4', 'url': 'https://video.twimg.com/amplify_video/1339664945273778177/vid/720x720/Pc2cB3PjyqYAfYqD.mp4?tag=13'}]}, 'additional_media_info': {'title': '', 'description': '', 'embeddable': True, 'monetizable': False}}]}, source='Twitter Ads', source_url='https://ads.twitter.com', in_reply_to_status_id=None, in_reply_to_status_id_str=None, in_reply_to_user_id=None, in_reply_to_user_id_str=None, in_reply_to_screen_name=None, geo=None, coordinates=None, place=None, contributors=None, is_quote_status=False, retweet_count=112, favorite_count=888, favorited=False, retweeted=False, possibly_sensitive=False, lang='en'), contributors_enabled=False, is_translator=False, is_translation_enabled=False, profile_background_color='000000', profile_background_image_url='http://abs.twimg.com/images/themes/theme1/bg.png', profile_background_image_url_https='https://abs.twimg.com/images/themes/theme1/bg.png', profile_background_tile=False, profile_image_url='http://pbs.twimg.com/profile_images/1137459863183749120/S2fbJQsX_normal.jpg', profile_image_url_https='https://pbs.twimg.com/profile_images/1137459863183749120/S2fbJQsX_normal.jpg', profile_banner_url='https://pbs.twimg.com/profile_banners/1124056727102660608/1608624016', profile_link_color='555555', profile_sidebar_border_color='000000', profile_sidebar_fill_color='000000', profile_text_color='000000', profile_use_background_image=False, has_extended_profile=False, default_profile=False, default_profile_image=False, following=True, live_following=False, follow_request_sent=False, notifications=False, muting=False, blocking=False, blocked_by=False, translator_type='none'),\n",
              " User(_api=<tweepy.api.API object at 0x7f3005c53f60>, _json={'id': 1257923053322940416, 'id_str': '1257923053322940416', 'name': 'George PG', 'screen_name': 'george_p_g', 'location': '', 'description': '💫 Artist (3D, digital, animations)\\n💫 Multifandom (mostly KH)\\n💫 Blender 3D user\\n💫 HD versions of my renders and model credits can be found on my DA', 'url': 'https://t.co/JUe706HdAe', 'entities': {'url': {'urls': [{'url': 'https://t.co/JUe706HdAe', 'expanded_url': 'https://www.deviantart.com/georgepg', 'display_url': 'deviantart.com/georgepg', 'indices': [0, 23]}]}, 'description': {'urls': []}}, 'protected': False, 'followers_count': 3532, 'friends_count': 257, 'listed_count': 13, 'created_at': 'Wed May 06 06:40:12 +0000 2020', 'favourites_count': 4373, 'utc_offset': None, 'time_zone': None, 'geo_enabled': False, 'verified': False, 'statuses_count': 1687, 'lang': None, 'status': {'created_at': 'Sun Jan 03 22:24:43 +0000 2021', 'id': 1345858655695089667, 'id_str': '1345858655695089667', 'text': '@ligero_miguel I smell Aqua VS Terranort in Radiant Garden', 'truncated': False, 'entities': {'hashtags': [], 'symbols': [], 'user_mentions': [{'screen_name': 'ligero_miguel', 'name': '𝟏𝟑𝐭𝐡 𝐕𝐞𝐬𝐬𝐞𝐥 ~', 'id': 171514785, 'id_str': '171514785', 'indices': [0, 14]}], 'urls': []}, 'source': '<a href=\"http://twitter.com/download/android\" rel=\"nofollow\">Twitter for Android</a>', 'in_reply_to_status_id': 1345844831470444546, 'in_reply_to_status_id_str': '1345844831470444546', 'in_reply_to_user_id': 171514785, 'in_reply_to_user_id_str': '171514785', 'in_reply_to_screen_name': 'ligero_miguel', 'geo': None, 'coordinates': None, 'place': None, 'contributors': None, 'is_quote_status': False, 'retweet_count': 0, 'favorite_count': 9, 'favorited': False, 'retweeted': False, 'lang': 'en'}, 'contributors_enabled': False, 'is_translator': False, 'is_translation_enabled': False, 'profile_background_color': 'F5F8FA', 'profile_background_image_url': None, 'profile_background_image_url_https': None, 'profile_background_tile': False, 'profile_image_url': 'http://pbs.twimg.com/profile_images/1331652478207746052/niYdrmBa_normal.jpg', 'profile_image_url_https': 'https://pbs.twimg.com/profile_images/1331652478207746052/niYdrmBa_normal.jpg', 'profile_banner_url': 'https://pbs.twimg.com/profile_banners/1257923053322940416/1602159098', 'profile_link_color': '1DA1F2', 'profile_sidebar_border_color': 'C0DEED', 'profile_sidebar_fill_color': 'DDEEF6', 'profile_text_color': '333333', 'profile_use_background_image': True, 'has_extended_profile': True, 'default_profile': True, 'default_profile_image': False, 'following': True, 'live_following': False, 'follow_request_sent': False, 'notifications': False, 'muting': False, 'blocking': False, 'blocked_by': False, 'translator_type': 'none'}, id=1257923053322940416, id_str='1257923053322940416', name='George PG', screen_name='george_p_g', location='', description='💫 Artist (3D, digital, animations)\\n💫 Multifandom (mostly KH)\\n💫 Blender 3D user\\n💫 HD versions of my renders and model credits can be found on my DA', url='https://t.co/JUe706HdAe', entities={'url': {'urls': [{'url': 'https://t.co/JUe706HdAe', 'expanded_url': 'https://www.deviantart.com/georgepg', 'display_url': 'deviantart.com/georgepg', 'indices': [0, 23]}]}, 'description': {'urls': []}}, protected=False, followers_count=3532, friends_count=257, listed_count=13, created_at=datetime.datetime(2020, 5, 6, 6, 40, 12), favourites_count=4373, utc_offset=None, time_zone=None, geo_enabled=False, verified=False, statuses_count=1687, lang=None, status=Status(_api=<tweepy.api.API object at 0x7f3005c53f60>, _json={'created_at': 'Sun Jan 03 22:24:43 +0000 2021', 'id': 1345858655695089667, 'id_str': '1345858655695089667', 'text': '@ligero_miguel I smell Aqua VS Terranort in Radiant Garden', 'truncated': False, 'entities': {'hashtags': [], 'symbols': [], 'user_mentions': [{'screen_name': 'ligero_miguel', 'name': '𝟏𝟑𝐭𝐡 𝐕𝐞𝐬𝐬𝐞𝐥 ~', 'id': 171514785, 'id_str': '171514785', 'indices': [0, 14]}], 'urls': []}, 'source': '<a href=\"http://twitter.com/download/android\" rel=\"nofollow\">Twitter for Android</a>', 'in_reply_to_status_id': 1345844831470444546, 'in_reply_to_status_id_str': '1345844831470444546', 'in_reply_to_user_id': 171514785, 'in_reply_to_user_id_str': '171514785', 'in_reply_to_screen_name': 'ligero_miguel', 'geo': None, 'coordinates': None, 'place': None, 'contributors': None, 'is_quote_status': False, 'retweet_count': 0, 'favorite_count': 9, 'favorited': False, 'retweeted': False, 'lang': 'en'}, created_at=datetime.datetime(2021, 1, 3, 22, 24, 43), id=1345858655695089667, id_str='1345858655695089667', text='@ligero_miguel I smell Aqua VS Terranort in Radiant Garden', truncated=False, entities={'hashtags': [], 'symbols': [], 'user_mentions': [{'screen_name': 'ligero_miguel', 'name': '𝟏𝟑𝐭𝐡 𝐕𝐞𝐬𝐬𝐞𝐥 ~', 'id': 171514785, 'id_str': '171514785', 'indices': [0, 14]}], 'urls': []}, source='Twitter for Android', source_url='http://twitter.com/download/android', in_reply_to_status_id=1345844831470444546, in_reply_to_status_id_str='1345844831470444546', in_reply_to_user_id=171514785, in_reply_to_user_id_str='171514785', in_reply_to_screen_name='ligero_miguel', geo=None, coordinates=None, place=None, contributors=None, is_quote_status=False, retweet_count=0, favorite_count=9, favorited=False, retweeted=False, lang='en'), contributors_enabled=False, is_translator=False, is_translation_enabled=False, profile_background_color='F5F8FA', profile_background_image_url=None, profile_background_image_url_https=None, profile_background_tile=False, profile_image_url='http://pbs.twimg.com/profile_images/1331652478207746052/niYdrmBa_normal.jpg', profile_image_url_https='https://pbs.twimg.com/profile_images/1331652478207746052/niYdrmBa_normal.jpg', profile_banner_url='https://pbs.twimg.com/profile_banners/1257923053322940416/1602159098', profile_link_color='1DA1F2', profile_sidebar_border_color='C0DEED', profile_sidebar_fill_color='DDEEF6', profile_text_color='333333', profile_use_background_image=True, has_extended_profile=True, default_profile=True, default_profile_image=False, following=True, live_following=False, follow_request_sent=False, notifications=False, muting=False, blocking=False, blocked_by=False, translator_type='none'),\n",
              " User(_api=<tweepy.api.API object at 0x7f3005c53f60>, _json={'id': 2244953047, 'id_str': '2244953047', 'name': 'pokimane', 'screen_name': 'pokimanelol', 'location': 'bit.ly/POKIPOBOX', 'description': 'gamer / streamer 😁☀️ @offlinetv 🖥 @cloakbrand 👗 https://t.co/0JgkdP9LS8 📺🔴 https://t.co/yV1dMrLXYM 📸 ✉️ teampoki@unitedtalent.com', 'url': 'https://t.co/CTXZh5gifc', 'entities': {'url': {'urls': [{'url': 'https://t.co/CTXZh5gifc', 'expanded_url': 'http://youtube.com/pokimane', 'display_url': 'youtube.com/pokimane', 'indices': [0, 23]}]}, 'description': {'urls': [{'url': 'https://t.co/0JgkdP9LS8', 'expanded_url': 'http://twitch.tv/pokimane', 'display_url': 'twitch.tv/pokimane', 'indices': [48, 71]}, {'url': 'https://t.co/yV1dMrLXYM', 'expanded_url': 'http://instagram.com/pokimaneLoL', 'display_url': 'instagram.com/pokimaneLoL', 'indices': [75, 98]}]}}, 'protected': False, 'followers_count': 2950220, 'friends_count': 1450, 'listed_count': 1771, 'created_at': 'Sat Dec 14 04:00:22 +0000 2013', 'favourites_count': 17317, 'utc_offset': None, 'time_zone': None, 'geo_enabled': False, 'verified': True, 'statuses_count': 20181, 'lang': None, 'status': {'created_at': 'Mon Jan 04 16:24:14 +0000 2021', 'id': 1346130329027809280, 'id_str': '1346130329027809280', 'text': '@SailorHeck i had the exact same thought abt moving', 'truncated': False, 'entities': {'hashtags': [], 'symbols': [], 'user_mentions': [{'screen_name': 'SailorHeck', 'name': 'aweeeuh', 'id': 4048891936, 'id_str': '4048891936', 'indices': [0, 11]}], 'urls': []}, 'source': '<a href=\"http://twitter.com/download/iphone\" rel=\"nofollow\">Twitter for iPhone</a>', 'in_reply_to_status_id': 1346122899686649857, 'in_reply_to_status_id_str': '1346122899686649857', 'in_reply_to_user_id': 4048891936, 'in_reply_to_user_id_str': '4048891936', 'in_reply_to_screen_name': 'SailorHeck', 'geo': None, 'coordinates': None, 'place': None, 'contributors': None, 'is_quote_status': False, 'retweet_count': 0, 'favorite_count': 2, 'favorited': False, 'retweeted': False, 'lang': 'en'}, 'contributors_enabled': False, 'is_translator': False, 'is_translation_enabled': False, 'profile_background_color': '000000', 'profile_background_image_url': 'http://abs.twimg.com/images/themes/theme1/bg.png', 'profile_background_image_url_https': 'https://abs.twimg.com/images/themes/theme1/bg.png', 'profile_background_tile': False, 'profile_image_url': 'http://pbs.twimg.com/profile_images/1344393614122618880/zLCThyrX_normal.jpg', 'profile_image_url_https': 'https://pbs.twimg.com/profile_images/1344393614122618880/zLCThyrX_normal.jpg', 'profile_banner_url': 'https://pbs.twimg.com/profile_banners/2244953047/1562036106', 'profile_link_color': '3B94D9', 'profile_sidebar_border_color': '000000', 'profile_sidebar_fill_color': '000000', 'profile_text_color': '000000', 'profile_use_background_image': False, 'has_extended_profile': True, 'default_profile': False, 'default_profile_image': False, 'following': True, 'live_following': False, 'follow_request_sent': False, 'notifications': False, 'muting': False, 'blocking': False, 'blocked_by': False, 'translator_type': 'none'}, id=2244953047, id_str='2244953047', name='pokimane', screen_name='pokimanelol', location='bit.ly/POKIPOBOX', description='gamer / streamer 😁☀️ @offlinetv 🖥 @cloakbrand 👗 https://t.co/0JgkdP9LS8 📺🔴 https://t.co/yV1dMrLXYM 📸 ✉️ teampoki@unitedtalent.com', url='https://t.co/CTXZh5gifc', entities={'url': {'urls': [{'url': 'https://t.co/CTXZh5gifc', 'expanded_url': 'http://youtube.com/pokimane', 'display_url': 'youtube.com/pokimane', 'indices': [0, 23]}]}, 'description': {'urls': [{'url': 'https://t.co/0JgkdP9LS8', 'expanded_url': 'http://twitch.tv/pokimane', 'display_url': 'twitch.tv/pokimane', 'indices': [48, 71]}, {'url': 'https://t.co/yV1dMrLXYM', 'expanded_url': 'http://instagram.com/pokimaneLoL', 'display_url': 'instagram.com/pokimaneLoL', 'indices': [75, 98]}]}}, protected=False, followers_count=2950220, friends_count=1450, listed_count=1771, created_at=datetime.datetime(2013, 12, 14, 4, 0, 22), favourites_count=17317, utc_offset=None, time_zone=None, geo_enabled=False, verified=True, statuses_count=20181, lang=None, status=Status(_api=<tweepy.api.API object at 0x7f3005c53f60>, _json={'created_at': 'Mon Jan 04 16:24:14 +0000 2021', 'id': 1346130329027809280, 'id_str': '1346130329027809280', 'text': '@SailorHeck i had the exact same thought abt moving', 'truncated': False, 'entities': {'hashtags': [], 'symbols': [], 'user_mentions': [{'screen_name': 'SailorHeck', 'name': 'aweeeuh', 'id': 4048891936, 'id_str': '4048891936', 'indices': [0, 11]}], 'urls': []}, 'source': '<a href=\"http://twitter.com/download/iphone\" rel=\"nofollow\">Twitter for iPhone</a>', 'in_reply_to_status_id': 1346122899686649857, 'in_reply_to_status_id_str': '1346122899686649857', 'in_reply_to_user_id': 4048891936, 'in_reply_to_user_id_str': '4048891936', 'in_reply_to_screen_name': 'SailorHeck', 'geo': None, 'coordinates': None, 'place': None, 'contributors': None, 'is_quote_status': False, 'retweet_count': 0, 'favorite_count': 2, 'favorited': False, 'retweeted': False, 'lang': 'en'}, created_at=datetime.datetime(2021, 1, 4, 16, 24, 14), id=1346130329027809280, id_str='1346130329027809280', text='@SailorHeck i had the exact same thought abt moving', truncated=False, entities={'hashtags': [], 'symbols': [], 'user_mentions': [{'screen_name': 'SailorHeck', 'name': 'aweeeuh', 'id': 4048891936, 'id_str': '4048891936', 'indices': [0, 11]}], 'urls': []}, source='Twitter for iPhone', source_url='http://twitter.com/download/iphone', in_reply_to_status_id=1346122899686649857, in_reply_to_status_id_str='1346122899686649857', in_reply_to_user_id=4048891936, in_reply_to_user_id_str='4048891936', in_reply_to_screen_name='SailorHeck', geo=None, coordinates=None, place=None, contributors=None, is_quote_status=False, retweet_count=0, favorite_count=2, favorited=False, retweeted=False, lang='en'), contributors_enabled=False, is_translator=False, is_translation_enabled=False, profile_background_color='000000', profile_background_image_url='http://abs.twimg.com/images/themes/theme1/bg.png', profile_background_image_url_https='https://abs.twimg.com/images/themes/theme1/bg.png', profile_background_tile=False, profile_image_url='http://pbs.twimg.com/profile_images/1344393614122618880/zLCThyrX_normal.jpg', profile_image_url_https='https://pbs.twimg.com/profile_images/1344393614122618880/zLCThyrX_normal.jpg', profile_banner_url='https://pbs.twimg.com/profile_banners/2244953047/1562036106', profile_link_color='3B94D9', profile_sidebar_border_color='000000', profile_sidebar_fill_color='000000', profile_text_color='000000', profile_use_background_image=False, has_extended_profile=True, default_profile=False, default_profile_image=False, following=True, live_following=False, follow_request_sent=False, notifications=False, muting=False, blocking=False, blocked_by=False, translator_type='none'),\n",
              " User(_api=<tweepy.api.API object at 0x7f3005c53f60>, _json={'id': 1144135975674626048, 'id_str': '1144135975674626048', 'name': 'Vergil Simp🤡', 'screen_name': 'kaiisen311', 'location': 'HELL', 'description': 'Tired Art Student / 🔞 / ENG/한국어 / Hi! I’m Kai and I mostly draw DMC / ‼️NO repost/QTRT‼️', 'url': 'https://t.co/Fw5PPCBgRV', 'entities': {'url': {'urls': [{'url': 'https://t.co/Fw5PPCBgRV', 'expanded_url': 'https://curiouscat.qa/kaiisen311', 'display_url': 'curiouscat.qa/kaiisen311', 'indices': [0, 23]}]}, 'description': {'urls': []}}, 'protected': False, 'followers_count': 553, 'friends_count': 94, 'listed_count': 2, 'created_at': 'Thu Jun 27 06:50:48 +0000 2019', 'favourites_count': 3933, 'utc_offset': None, 'time_zone': None, 'geo_enabled': False, 'verified': False, 'statuses_count': 472, 'lang': None, 'status': {'created_at': 'Wed Dec 30 11:05:18 +0000 2020', 'id': 1344238127066480646, 'id_str': '1344238127066480646', 'text': '@sharkbajt PLEASE', 'truncated': False, 'entities': {'hashtags': [], 'symbols': [], 'user_mentions': [{'screen_name': 'sharkbajt', 'name': 'Dante’s bath water @sdr2 \\U0001f92f', 'id': 3040479434, 'id_str': '3040479434', 'indices': [0, 10]}], 'urls': []}, 'source': '<a href=\"http://twitter.com/download/iphone\" rel=\"nofollow\">Twitter for iPhone</a>', 'in_reply_to_status_id': 1344202494570729474, 'in_reply_to_status_id_str': '1344202494570729474', 'in_reply_to_user_id': 3040479434, 'in_reply_to_user_id_str': '3040479434', 'in_reply_to_screen_name': 'sharkbajt', 'geo': None, 'coordinates': None, 'place': None, 'contributors': None, 'is_quote_status': False, 'retweet_count': 0, 'favorite_count': 0, 'favorited': False, 'retweeted': False, 'lang': 'en'}, 'contributors_enabled': False, 'is_translator': False, 'is_translation_enabled': False, 'profile_background_color': 'F5F8FA', 'profile_background_image_url': None, 'profile_background_image_url_https': None, 'profile_background_tile': False, 'profile_image_url': 'http://pbs.twimg.com/profile_images/1323683371835224065/9ton5b8p_normal.jpg', 'profile_image_url_https': 'https://pbs.twimg.com/profile_images/1323683371835224065/9ton5b8p_normal.jpg', 'profile_banner_url': 'https://pbs.twimg.com/profile_banners/1144135975674626048/1604425661', 'profile_link_color': '1DA1F2', 'profile_sidebar_border_color': 'C0DEED', 'profile_sidebar_fill_color': 'DDEEF6', 'profile_text_color': '333333', 'profile_use_background_image': True, 'has_extended_profile': False, 'default_profile': True, 'default_profile_image': False, 'following': True, 'live_following': False, 'follow_request_sent': False, 'notifications': False, 'muting': False, 'blocking': False, 'blocked_by': False, 'translator_type': 'none'}, id=1144135975674626048, id_str='1144135975674626048', name='Vergil Simp🤡', screen_name='kaiisen311', location='HELL', description='Tired Art Student / 🔞 / ENG/한국어 / Hi! I’m Kai and I mostly draw DMC / ‼️NO repost/QTRT‼️', url='https://t.co/Fw5PPCBgRV', entities={'url': {'urls': [{'url': 'https://t.co/Fw5PPCBgRV', 'expanded_url': 'https://curiouscat.qa/kaiisen311', 'display_url': 'curiouscat.qa/kaiisen311', 'indices': [0, 23]}]}, 'description': {'urls': []}}, protected=False, followers_count=553, friends_count=94, listed_count=2, created_at=datetime.datetime(2019, 6, 27, 6, 50, 48), favourites_count=3933, utc_offset=None, time_zone=None, geo_enabled=False, verified=False, statuses_count=472, lang=None, status=Status(_api=<tweepy.api.API object at 0x7f3005c53f60>, _json={'created_at': 'Wed Dec 30 11:05:18 +0000 2020', 'id': 1344238127066480646, 'id_str': '1344238127066480646', 'text': '@sharkbajt PLEASE', 'truncated': False, 'entities': {'hashtags': [], 'symbols': [], 'user_mentions': [{'screen_name': 'sharkbajt', 'name': 'Dante’s bath water @sdr2 \\U0001f92f', 'id': 3040479434, 'id_str': '3040479434', 'indices': [0, 10]}], 'urls': []}, 'source': '<a href=\"http://twitter.com/download/iphone\" rel=\"nofollow\">Twitter for iPhone</a>', 'in_reply_to_status_id': 1344202494570729474, 'in_reply_to_status_id_str': '1344202494570729474', 'in_reply_to_user_id': 3040479434, 'in_reply_to_user_id_str': '3040479434', 'in_reply_to_screen_name': 'sharkbajt', 'geo': None, 'coordinates': None, 'place': None, 'contributors': None, 'is_quote_status': False, 'retweet_count': 0, 'favorite_count': 0, 'favorited': False, 'retweeted': False, 'lang': 'en'}, created_at=datetime.datetime(2020, 12, 30, 11, 5, 18), id=1344238127066480646, id_str='1344238127066480646', text='@sharkbajt PLEASE', truncated=False, entities={'hashtags': [], 'symbols': [], 'user_mentions': [{'screen_name': 'sharkbajt', 'name': 'Dante’s bath water @sdr2 \\U0001f92f', 'id': 3040479434, 'id_str': '3040479434', 'indices': [0, 10]}], 'urls': []}, source='Twitter for iPhone', source_url='http://twitter.com/download/iphone', in_reply_to_status_id=1344202494570729474, in_reply_to_status_id_str='1344202494570729474', in_reply_to_user_id=3040479434, in_reply_to_user_id_str='3040479434', in_reply_to_screen_name='sharkbajt', geo=None, coordinates=None, place=None, contributors=None, is_quote_status=False, retweet_count=0, favorite_count=0, favorited=False, retweeted=False, lang='en'), contributors_enabled=False, is_translator=False, is_translation_enabled=False, profile_background_color='F5F8FA', profile_background_image_url=None, profile_background_image_url_https=None, profile_background_tile=False, profile_image_url='http://pbs.twimg.com/profile_images/1323683371835224065/9ton5b8p_normal.jpg', profile_image_url_https='https://pbs.twimg.com/profile_images/1323683371835224065/9ton5b8p_normal.jpg', profile_banner_url='https://pbs.twimg.com/profile_banners/1144135975674626048/1604425661', profile_link_color='1DA1F2', profile_sidebar_border_color='C0DEED', profile_sidebar_fill_color='DDEEF6', profile_text_color='333333', profile_use_background_image=True, has_extended_profile=False, default_profile=True, default_profile_image=False, following=True, live_following=False, follow_request_sent=False, notifications=False, muting=False, blocking=False, blocked_by=False, translator_type='none'),\n",
              " User(_api=<tweepy.api.API object at 0x7f3005c53f60>, _json={'id': 3355356179, 'id_str': '3355356179', 'name': 'ᴇᴍʏ.', 'screen_name': 'Emy_san_arts', 'location': 'Somewhere in the Midgar sewers', 'description': 'Emy | she/her | FAGIANA | FF & KH | 2D & 3D | 20+ years old | ITA/ENG | https://t.co/DWYPl7g5We || DO NOT repost my pictures, thank you. || NSFW: @Emy_R18', 'url': 'https://t.co/fflSybN3mN', 'entities': {'url': {'urls': [{'url': 'https://t.co/fflSybN3mN', 'expanded_url': 'https://www.patreon.com/emysan', 'display_url': 'patreon.com/emysan', 'indices': [0, 23]}]}, 'description': {'urls': [{'url': 'https://t.co/DWYPl7g5We', 'expanded_url': 'http://ko-fi.com/coffeeforemy', 'display_url': 'ko-fi.com/coffeeforemy', 'indices': [72, 95]}]}}, 'protected': False, 'followers_count': 16888, 'friends_count': 494, 'listed_count': 86, 'created_at': 'Thu Jul 02 16:59:53 +0000 2015', 'favourites_count': 33842, 'utc_offset': None, 'time_zone': None, 'geo_enabled': False, 'verified': False, 'statuses_count': 3086, 'lang': None, 'status': {'created_at': 'Mon Jan 04 12:53:32 +0000 2021', 'id': 1346077304473202692, 'id_str': '1346077304473202692', 'text': 'RT @theclotizine: ✨ Are you guys ready? Preorders for #TheClotiZine officially open in ONE WEEK! ☺️\\n\\n✨ Save the date! Public access to our…', 'truncated': False, 'entities': {'hashtags': [{'text': 'TheClotiZine', 'indices': [54, 67]}], 'symbols': [], 'user_mentions': [{'screen_name': 'theclotizine', 'name': 'Preorders, SOON! 💫 The Cloti Zine', 'id': 1142835304480608257, 'id_str': '1142835304480608257', 'indices': [3, 16]}], 'urls': []}, 'source': '<a href=\"https://mobile.twitter.com\" rel=\"nofollow\">Twitter Web App</a>', 'in_reply_to_status_id': None, 'in_reply_to_status_id_str': None, 'in_reply_to_user_id': None, 'in_reply_to_user_id_str': None, 'in_reply_to_screen_name': None, 'geo': None, 'coordinates': None, 'place': None, 'contributors': None, 'retweeted_status': {'created_at': 'Mon Jan 04 00:49:39 +0000 2021', 'id': 1345895132374179842, 'id_str': '1345895132374179842', 'text': '✨ Are you guys ready? Preorders for #TheClotiZine officially open in ONE WEEK! ☺️\\n\\n✨ Save the date! Public access t… https://t.co/NZeSZZCyRe', 'truncated': True, 'entities': {'hashtags': [{'text': 'TheClotiZine', 'indices': [36, 49]}], 'symbols': [], 'user_mentions': [], 'urls': [{'url': 'https://t.co/NZeSZZCyRe', 'expanded_url': 'https://twitter.com/i/web/status/1345895132374179842', 'display_url': 'twitter.com/i/web/status/1…', 'indices': [117, 140]}]}, 'source': '<a href=\"https://mobile.twitter.com\" rel=\"nofollow\">Twitter Web App</a>', 'in_reply_to_status_id': None, 'in_reply_to_status_id_str': None, 'in_reply_to_user_id': None, 'in_reply_to_user_id_str': None, 'in_reply_to_screen_name': None, 'geo': None, 'coordinates': None, 'place': None, 'contributors': None, 'is_quote_status': False, 'retweet_count': 50, 'favorite_count': 84, 'favorited': False, 'retweeted': False, 'possibly_sensitive': False, 'lang': 'en'}, 'is_quote_status': False, 'retweet_count': 50, 'favorite_count': 0, 'favorited': False, 'retweeted': False, 'lang': 'en'}, 'contributors_enabled': False, 'is_translator': False, 'is_translation_enabled': False, 'profile_background_color': '000000', 'profile_background_image_url': 'http://abs.twimg.com/images/themes/theme1/bg.png', 'profile_background_image_url_https': 'https://abs.twimg.com/images/themes/theme1/bg.png', 'profile_background_tile': False, 'profile_image_url': 'http://pbs.twimg.com/profile_images/1345733995284332545/2BhpqhVj_normal.jpg', 'profile_image_url_https': 'https://pbs.twimg.com/profile_images/1345733995284332545/2BhpqhVj_normal.jpg', 'profile_banner_url': 'https://pbs.twimg.com/profile_banners/3355356179/1604227196', 'profile_link_color': 'BA130C', 'profile_sidebar_border_color': '000000', 'profile_sidebar_fill_color': '000000', 'profile_text_color': '000000', 'profile_use_background_image': False, 'has_extended_profile': True, 'default_profile': False, 'default_profile_image': False, 'following': True, 'live_following': False, 'follow_request_sent': False, 'notifications': False, 'muting': False, 'blocking': False, 'blocked_by': False, 'translator_type': 'none'}, id=3355356179, id_str='3355356179', name='ᴇᴍʏ.', screen_name='Emy_san_arts', location='Somewhere in the Midgar sewers', description='Emy | she/her | FAGIANA | FF & KH | 2D & 3D | 20+ years old | ITA/ENG | https://t.co/DWYPl7g5We || DO NOT repost my pictures, thank you. || NSFW: @Emy_R18', url='https://t.co/fflSybN3mN', entities={'url': {'urls': [{'url': 'https://t.co/fflSybN3mN', 'expanded_url': 'https://www.patreon.com/emysan', 'display_url': 'patreon.com/emysan', 'indices': [0, 23]}]}, 'description': {'urls': [{'url': 'https://t.co/DWYPl7g5We', 'expanded_url': 'http://ko-fi.com/coffeeforemy', 'display_url': 'ko-fi.com/coffeeforemy', 'indices': [72, 95]}]}}, protected=False, followers_count=16888, friends_count=494, listed_count=86, created_at=datetime.datetime(2015, 7, 2, 16, 59, 53), favourites_count=33842, utc_offset=None, time_zone=None, geo_enabled=False, verified=False, statuses_count=3086, lang=None, status=Status(_api=<tweepy.api.API object at 0x7f3005c53f60>, _json={'created_at': 'Mon Jan 04 12:53:32 +0000 2021', 'id': 1346077304473202692, 'id_str': '1346077304473202692', 'text': 'RT @theclotizine: ✨ Are you guys ready? Preorders for #TheClotiZine officially open in ONE WEEK! ☺️\\n\\n✨ Save the date! Public access to our…', 'truncated': False, 'entities': {'hashtags': [{'text': 'TheClotiZine', 'indices': [54, 67]}], 'symbols': [], 'user_mentions': [{'screen_name': 'theclotizine', 'name': 'Preorders, SOON! 💫 The Cloti Zine', 'id': 1142835304480608257, 'id_str': '1142835304480608257', 'indices': [3, 16]}], 'urls': []}, 'source': '<a href=\"https://mobile.twitter.com\" rel=\"nofollow\">Twitter Web App</a>', 'in_reply_to_status_id': None, 'in_reply_to_status_id_str': None, 'in_reply_to_user_id': None, 'in_reply_to_user_id_str': None, 'in_reply_to_screen_name': None, 'geo': None, 'coordinates': None, 'place': None, 'contributors': None, 'retweeted_status': {'created_at': 'Mon Jan 04 00:49:39 +0000 2021', 'id': 1345895132374179842, 'id_str': '1345895132374179842', 'text': '✨ Are you guys ready? Preorders for #TheClotiZine officially open in ONE WEEK! ☺️\\n\\n✨ Save the date! Public access t… https://t.co/NZeSZZCyRe', 'truncated': True, 'entities': {'hashtags': [{'text': 'TheClotiZine', 'indices': [36, 49]}], 'symbols': [], 'user_mentions': [], 'urls': [{'url': 'https://t.co/NZeSZZCyRe', 'expanded_url': 'https://twitter.com/i/web/status/1345895132374179842', 'display_url': 'twitter.com/i/web/status/1…', 'indices': [117, 140]}]}, 'source': '<a href=\"https://mobile.twitter.com\" rel=\"nofollow\">Twitter Web App</a>', 'in_reply_to_status_id': None, 'in_reply_to_status_id_str': None, 'in_reply_to_user_id': None, 'in_reply_to_user_id_str': None, 'in_reply_to_screen_name': None, 'geo': None, 'coordinates': None, 'place': None, 'contributors': None, 'is_quote_status': False, 'retweet_count': 50, 'favorite_count': 84, 'favorited': False, 'retweeted': False, 'possibly_sensitive': False, 'lang': 'en'}, 'is_quote_status': False, 'retweet_count': 50, 'favorite_count': 0, 'favorited': False, 'retweeted': False, 'lang': 'en'}, created_at=datetime.datetime(2021, 1, 4, 12, 53, 32), id=1346077304473202692, id_str='1346077304473202692', text='RT @theclotizine: ✨ Are you guys ready? Preorders for #TheClotiZine officially open in ONE WEEK! ☺️\\n\\n✨ Save the date! Public access to our…', truncated=False, entities={'hashtags': [{'text': 'TheClotiZine', 'indices': [54, 67]}], 'symbols': [], 'user_mentions': [{'screen_name': 'theclotizine', 'name': 'Preorders, SOON! 💫 The Cloti Zine', 'id': 1142835304480608257, 'id_str': '1142835304480608257', 'indices': [3, 16]}], 'urls': []}, source='Twitter Web App', source_url='https://mobile.twitter.com', in_reply_to_status_id=None, in_reply_to_status_id_str=None, in_reply_to_user_id=None, in_reply_to_user_id_str=None, in_reply_to_screen_name=None, geo=None, coordinates=None, place=None, contributors=None, retweeted_status=Status(_api=<tweepy.api.API object at 0x7f3005c53f60>, _json={'created_at': 'Mon Jan 04 00:49:39 +0000 2021', 'id': 1345895132374179842, 'id_str': '1345895132374179842', 'text': '✨ Are you guys ready? Preorders for #TheClotiZine officially open in ONE WEEK! ☺️\\n\\n✨ Save the date! Public access t… https://t.co/NZeSZZCyRe', 'truncated': True, 'entities': {'hashtags': [{'text': 'TheClotiZine', 'indices': [36, 49]}], 'symbols': [], 'user_mentions': [], 'urls': [{'url': 'https://t.co/NZeSZZCyRe', 'expanded_url': 'https://twitter.com/i/web/status/1345895132374179842', 'display_url': 'twitter.com/i/web/status/1…', 'indices': [117, 140]}]}, 'source': '<a href=\"https://mobile.twitter.com\" rel=\"nofollow\">Twitter Web App</a>', 'in_reply_to_status_id': None, 'in_reply_to_status_id_str': None, 'in_reply_to_user_id': None, 'in_reply_to_user_id_str': None, 'in_reply_to_screen_name': None, 'geo': None, 'coordinates': None, 'place': None, 'contributors': None, 'is_quote_status': False, 'retweet_count': 50, 'favorite_count': 84, 'favorited': False, 'retweeted': False, 'possibly_sensitive': False, 'lang': 'en'}, created_at=datetime.datetime(2021, 1, 4, 0, 49, 39), id=1345895132374179842, id_str='1345895132374179842', text='✨ Are you guys ready? Preorders for #TheClotiZine officially open in ONE WEEK! ☺️\\n\\n✨ Save the date! Public access t… https://t.co/NZeSZZCyRe', truncated=True, entities={'hashtags': [{'text': 'TheClotiZine', 'indices': [36, 49]}], 'symbols': [], 'user_mentions': [], 'urls': [{'url': 'https://t.co/NZeSZZCyRe', 'expanded_url': 'https://twitter.com/i/web/status/1345895132374179842', 'display_url': 'twitter.com/i/web/status/1…', 'indices': [117, 140]}]}, source='Twitter Web App', source_url='https://mobile.twitter.com', in_reply_to_status_id=None, in_reply_to_status_id_str=None, in_reply_to_user_id=None, in_reply_to_user_id_str=None, in_reply_to_screen_name=None, geo=None, coordinates=None, place=None, contributors=None, is_quote_status=False, retweet_count=50, favorite_count=84, favorited=False, retweeted=False, possibly_sensitive=False, lang='en'), is_quote_status=False, retweet_count=50, favorite_count=0, favorited=False, retweeted=False, lang='en'), contributors_enabled=False, is_translator=False, is_translation_enabled=False, profile_background_color='000000', profile_background_image_url='http://abs.twimg.com/images/themes/theme1/bg.png', profile_background_image_url_https='https://abs.twimg.com/images/themes/theme1/bg.png', profile_background_tile=False, profile_image_url='http://pbs.twimg.com/profile_images/1345733995284332545/2BhpqhVj_normal.jpg', profile_image_url_https='https://pbs.twimg.com/profile_images/1345733995284332545/2BhpqhVj_normal.jpg', profile_banner_url='https://pbs.twimg.com/profile_banners/3355356179/1604227196', profile_link_color='BA130C', profile_sidebar_border_color='000000', profile_sidebar_fill_color='000000', profile_text_color='000000', profile_use_background_image=False, has_extended_profile=True, default_profile=False, default_profile_image=False, following=True, live_following=False, follow_request_sent=False, notifications=False, muting=False, blocking=False, blocked_by=False, translator_type='none'),\n",
              " User(_api=<tweepy.api.API object at 0x7f3005c53f60>, _json={'id': 22278468, 'id_str': '22278468', 'name': 'Freddie Nights', 'screen_name': 'FreddieNights', 'location': '', 'description': '#Art, #Drawings, #Videos, #Images, #VideoGames, #Collectables, #Animation, #Coding, #Computers, #MovieAdvocate #VideoGamesAdvocate', 'url': 'https://t.co/ECheB8pMLd', 'entities': {'url': {'urls': [{'url': 'https://t.co/ECheB8pMLd', 'expanded_url': 'https://sites.google.com/site/videogamesfv/', 'display_url': 'sites.google.com/site/videogame…', 'indices': [0, 23]}]}, 'description': {'urls': []}}, 'protected': False, 'followers_count': 836, 'friends_count': 453, 'listed_count': 18, 'created_at': 'Sat Feb 28 17:56:16 +0000 2009', 'favourites_count': 5, 'utc_offset': None, 'time_zone': None, 'geo_enabled': False, 'verified': False, 'statuses_count': 5968, 'lang': None, 'status': {'created_at': 'Mon Jan 04 16:20:22 +0000 2021', 'id': 1346129352728178695, 'id_str': '1346129352728178695', 'text': 'XP-PEN Artist15.6 Pro 15.6 Inch Drawing \\nDisplay Graphics Drawing Monitor \\nBuy now! \\nhttps://t.co/RWJMW7HuTG\\nSponso… https://t.co/Tb3hi5r27D', 'truncated': True, 'entities': {'hashtags': [], 'symbols': [], 'user_mentions': [], 'urls': [{'url': 'https://t.co/RWJMW7HuTG', 'expanded_url': 'https://amzn.to/3lzMy4B', 'display_url': 'amzn.to/3lzMy4B', 'indices': [85, 108]}, {'url': 'https://t.co/Tb3hi5r27D', 'expanded_url': 'https://twitter.com/i/web/status/1346129352728178695', 'display_url': 'twitter.com/i/web/status/1…', 'indices': [117, 140]}]}, 'source': '<a href=\"https://mobile.twitter.com\" rel=\"nofollow\">Twitter Web App</a>', 'in_reply_to_status_id': None, 'in_reply_to_status_id_str': None, 'in_reply_to_user_id': None, 'in_reply_to_user_id_str': None, 'in_reply_to_screen_name': None, 'geo': None, 'coordinates': None, 'place': None, 'contributors': None, 'is_quote_status': False, 'retweet_count': 0, 'favorite_count': 0, 'favorited': False, 'retweeted': False, 'possibly_sensitive': False, 'lang': 'en'}, 'contributors_enabled': False, 'is_translator': False, 'is_translation_enabled': False, 'profile_background_color': 'C0DEED', 'profile_background_image_url': 'http://abs.twimg.com/images/themes/theme1/bg.png', 'profile_background_image_url_https': 'https://abs.twimg.com/images/themes/theme1/bg.png', 'profile_background_tile': False, 'profile_image_url': 'http://pbs.twimg.com/profile_images/1260560716697870336/IktU6fUS_normal.jpg', 'profile_image_url_https': 'https://pbs.twimg.com/profile_images/1260560716697870336/IktU6fUS_normal.jpg', 'profile_banner_url': 'https://pbs.twimg.com/profile_banners/22278468/1563469571', 'profile_link_color': '1DA1F2', 'profile_sidebar_border_color': 'C0DEED', 'profile_sidebar_fill_color': 'DDEEF6', 'profile_text_color': '333333', 'profile_use_background_image': True, 'has_extended_profile': False, 'default_profile': True, 'default_profile_image': False, 'following': True, 'live_following': False, 'follow_request_sent': False, 'notifications': False, 'muting': False, 'blocking': False, 'blocked_by': False, 'translator_type': 'none'}, id=22278468, id_str='22278468', name='Freddie Nights', screen_name='FreddieNights', location='', description='#Art, #Drawings, #Videos, #Images, #VideoGames, #Collectables, #Animation, #Coding, #Computers, #MovieAdvocate #VideoGamesAdvocate', url='https://t.co/ECheB8pMLd', entities={'url': {'urls': [{'url': 'https://t.co/ECheB8pMLd', 'expanded_url': 'https://sites.google.com/site/videogamesfv/', 'display_url': 'sites.google.com/site/videogame…', 'indices': [0, 23]}]}, 'description': {'urls': []}}, protected=False, followers_count=836, friends_count=453, listed_count=18, created_at=datetime.datetime(2009, 2, 28, 17, 56, 16), favourites_count=5, utc_offset=None, time_zone=None, geo_enabled=False, verified=False, statuses_count=5968, lang=None, status=Status(_api=<tweepy.api.API object at 0x7f3005c53f60>, _json={'created_at': 'Mon Jan 04 16:20:22 +0000 2021', 'id': 1346129352728178695, 'id_str': '1346129352728178695', 'text': 'XP-PEN Artist15.6 Pro 15.6 Inch Drawing \\nDisplay Graphics Drawing Monitor \\nBuy now! \\nhttps://t.co/RWJMW7HuTG\\nSponso… https://t.co/Tb3hi5r27D', 'truncated': True, 'entities': {'hashtags': [], 'symbols': [], 'user_mentions': [], 'urls': [{'url': 'https://t.co/RWJMW7HuTG', 'expanded_url': 'https://amzn.to/3lzMy4B', 'display_url': 'amzn.to/3lzMy4B', 'indices': [85, 108]}, {'url': 'https://t.co/Tb3hi5r27D', 'expanded_url': 'https://twitter.com/i/web/status/1346129352728178695', 'display_url': 'twitter.com/i/web/status/1…', 'indices': [117, 140]}]}, 'source': '<a href=\"https://mobile.twitter.com\" rel=\"nofollow\">Twitter Web App</a>', 'in_reply_to_status_id': None, 'in_reply_to_status_id_str': None, 'in_reply_to_user_id': None, 'in_reply_to_user_id_str': None, 'in_reply_to_screen_name': None, 'geo': None, 'coordinates': None, 'place': None, 'contributors': None, 'is_quote_status': False, 'retweet_count': 0, 'favorite_count': 0, 'favorited': False, 'retweeted': False, 'possibly_sensitive': False, 'lang': 'en'}, created_at=datetime.datetime(2021, 1, 4, 16, 20, 22), id=1346129352728178695, id_str='1346129352728178695', text='XP-PEN Artist15.6 Pro 15.6 Inch Drawing \\nDisplay Graphics Drawing Monitor \\nBuy now! \\nhttps://t.co/RWJMW7HuTG\\nSponso… https://t.co/Tb3hi5r27D', truncated=True, entities={'hashtags': [], 'symbols': [], 'user_mentions': [], 'urls': [{'url': 'https://t.co/RWJMW7HuTG', 'expanded_url': 'https://amzn.to/3lzMy4B', 'display_url': 'amzn.to/3lzMy4B', 'indices': [85, 108]}, {'url': 'https://t.co/Tb3hi5r27D', 'expanded_url': 'https://twitter.com/i/web/status/1346129352728178695', 'display_url': 'twitter.com/i/web/status/1…', 'indices': [117, 140]}]}, source='Twitter Web App', source_url='https://mobile.twitter.com', in_reply_to_status_id=None, in_reply_to_status_id_str=None, in_reply_to_user_id=None, in_reply_to_user_id_str=None, in_reply_to_screen_name=None, geo=None, coordinates=None, place=None, contributors=None, is_quote_status=False, retweet_count=0, favorite_count=0, favorited=False, retweeted=False, possibly_sensitive=False, lang='en'), contributors_enabled=False, is_translator=False, is_translation_enabled=False, profile_background_color='C0DEED', profile_background_image_url='http://abs.twimg.com/images/themes/theme1/bg.png', profile_background_image_url_https='https://abs.twimg.com/images/themes/theme1/bg.png', profile_background_tile=False, profile_image_url='http://pbs.twimg.com/profile_images/1260560716697870336/IktU6fUS_normal.jpg', profile_image_url_https='https://pbs.twimg.com/profile_images/1260560716697870336/IktU6fUS_normal.jpg', profile_banner_url='https://pbs.twimg.com/profile_banners/22278468/1563469571', profile_link_color='1DA1F2', profile_sidebar_border_color='C0DEED', profile_sidebar_fill_color='DDEEF6', profile_text_color='333333', profile_use_background_image=True, has_extended_profile=False, default_profile=True, default_profile_image=False, following=True, live_following=False, follow_request_sent=False, notifications=False, muting=False, blocking=False, blocked_by=False, translator_type='none'),\n",
              " User(_api=<tweepy.api.API object at 0x7f3005c53f60>, _json={'id': 856812854921633793, 'id_str': '856812854921633793', 'name': '𝚁𝚒𝚊', 'screen_name': 'Baka_neearts', 'location': 'Alone', 'description': \"| I'm Ria, a supersonic speed Blender artist | 20 | she/her | R-18 account: @nsfw_ria | no commissions | Fagiana❤️\", 'url': 'https://t.co/USlB7NOIMl', 'entities': {'url': {'urls': [{'url': 'https://t.co/USlB7NOIMl', 'expanded_url': 'https://ko-fi.com/riakofi', 'display_url': 'ko-fi.com/riakofi', 'indices': [0, 23]}]}, 'description': {'urls': []}}, 'protected': False, 'followers_count': 31754, 'friends_count': 445, 'listed_count': 164, 'created_at': 'Tue Apr 25 10:11:18 +0000 2017', 'favourites_count': 56003, 'utc_offset': None, 'time_zone': None, 'geo_enabled': False, 'verified': False, 'statuses_count': 3496, 'lang': None, 'status': {'created_at': 'Sun Jan 03 22:55:53 +0000 2021', 'id': 1345866501463662593, 'id_str': '1345866501463662593', 'text': \"RT @ElenaChatNoir: That's for you, haters 🔥\\n\\n#Cloti #クラティ #cloudstrife #cloud #TifaLockhart #tifa #FF7 #FF7R #FF7Remake #FinalFantasy7Remak…\", 'truncated': False, 'entities': {'hashtags': [{'text': 'Cloti', 'indices': [45, 51]}, {'text': 'クラティ', 'indices': [52, 57]}, {'text': 'cloudstrife', 'indices': [58, 70]}, {'text': 'cloud', 'indices': [71, 77]}, {'text': 'TifaLockhart', 'indices': [78, 91]}, {'text': 'tifa', 'indices': [92, 97]}, {'text': 'FF7', 'indices': [98, 102]}, {'text': 'FF7R', 'indices': [103, 108]}, {'text': 'FF7Remake', 'indices': [109, 119]}], 'symbols': [], 'user_mentions': [{'screen_name': 'ElenaChatNoir', 'name': 'ElenaChatNoir', 'id': 1274034446820347904, 'id_str': '1274034446820347904', 'indices': [3, 17]}], 'urls': []}, 'source': '<a href=\"https://mobile.twitter.com\" rel=\"nofollow\">Twitter Web App</a>', 'in_reply_to_status_id': None, 'in_reply_to_status_id_str': None, 'in_reply_to_user_id': None, 'in_reply_to_user_id_str': None, 'in_reply_to_screen_name': None, 'geo': None, 'coordinates': None, 'place': None, 'contributors': None, 'retweeted_status': {'created_at': 'Sun Jan 03 20:48:00 +0000 2021', 'id': 1345834317289840646, 'id_str': '1345834317289840646', 'text': \"That's for you, haters 🔥\\n\\n#Cloti #クラティ #cloudstrife #cloud #TifaLockhart #tifa #FF7 #FF7R #FF7Remake… https://t.co/IDpUq9XJXP\", 'truncated': True, 'entities': {'hashtags': [{'text': 'Cloti', 'indices': [26, 32]}, {'text': 'クラティ', 'indices': [33, 38]}, {'text': 'cloudstrife', 'indices': [39, 51]}, {'text': 'cloud', 'indices': [52, 58]}, {'text': 'TifaLockhart', 'indices': [59, 72]}, {'text': 'tifa', 'indices': [73, 78]}, {'text': 'FF7', 'indices': [79, 83]}, {'text': 'FF7R', 'indices': [84, 89]}, {'text': 'FF7Remake', 'indices': [90, 100]}], 'symbols': [], 'user_mentions': [], 'urls': [{'url': 'https://t.co/IDpUq9XJXP', 'expanded_url': 'https://twitter.com/i/web/status/1345834317289840646', 'display_url': 'twitter.com/i/web/status/1…', 'indices': [102, 125]}]}, 'source': '<a href=\"https://mobile.twitter.com\" rel=\"nofollow\">Twitter Web App</a>', 'in_reply_to_status_id': None, 'in_reply_to_status_id_str': None, 'in_reply_to_user_id': None, 'in_reply_to_user_id_str': None, 'in_reply_to_screen_name': None, 'geo': None, 'coordinates': None, 'place': None, 'contributors': None, 'is_quote_status': False, 'retweet_count': 250, 'favorite_count': 1232, 'favorited': False, 'retweeted': False, 'possibly_sensitive': False, 'lang': 'en'}, 'is_quote_status': False, 'retweet_count': 250, 'favorite_count': 0, 'favorited': False, 'retweeted': False, 'lang': 'en'}, 'contributors_enabled': False, 'is_translator': False, 'is_translation_enabled': False, 'profile_background_color': '000000', 'profile_background_image_url': 'http://abs.twimg.com/images/themes/theme1/bg.png', 'profile_background_image_url_https': 'https://abs.twimg.com/images/themes/theme1/bg.png', 'profile_background_tile': False, 'profile_image_url': 'http://pbs.twimg.com/profile_images/1345700096529338368/S_0Jk4Qj_normal.jpg', 'profile_image_url_https': 'https://pbs.twimg.com/profile_images/1345700096529338368/S_0Jk4Qj_normal.jpg', 'profile_banner_url': 'https://pbs.twimg.com/profile_banners/856812854921633793/1609674881', 'profile_link_color': 'FF691F', 'profile_sidebar_border_color': '000000', 'profile_sidebar_fill_color': '000000', 'profile_text_color': '000000', 'profile_use_background_image': False, 'has_extended_profile': True, 'default_profile': False, 'default_profile_image': False, 'following': True, 'live_following': False, 'follow_request_sent': False, 'notifications': False, 'muting': False, 'blocking': False, 'blocked_by': False, 'translator_type': 'none'}, id=856812854921633793, id_str='856812854921633793', name='𝚁𝚒𝚊', screen_name='Baka_neearts', location='Alone', description=\"| I'm Ria, a supersonic speed Blender artist | 20 | she/her | R-18 account: @nsfw_ria | no commissions | Fagiana❤️\", url='https://t.co/USlB7NOIMl', entities={'url': {'urls': [{'url': 'https://t.co/USlB7NOIMl', 'expanded_url': 'https://ko-fi.com/riakofi', 'display_url': 'ko-fi.com/riakofi', 'indices': [0, 23]}]}, 'description': {'urls': []}}, protected=False, followers_count=31754, friends_count=445, listed_count=164, created_at=datetime.datetime(2017, 4, 25, 10, 11, 18), favourites_count=56003, utc_offset=None, time_zone=None, geo_enabled=False, verified=False, statuses_count=3496, lang=None, status=Status(_api=<tweepy.api.API object at 0x7f3005c53f60>, _json={'created_at': 'Sun Jan 03 22:55:53 +0000 2021', 'id': 1345866501463662593, 'id_str': '1345866501463662593', 'text': \"RT @ElenaChatNoir: That's for you, haters 🔥\\n\\n#Cloti #クラティ #cloudstrife #cloud #TifaLockhart #tifa #FF7 #FF7R #FF7Remake #FinalFantasy7Remak…\", 'truncated': False, 'entities': {'hashtags': [{'text': 'Cloti', 'indices': [45, 51]}, {'text': 'クラティ', 'indices': [52, 57]}, {'text': 'cloudstrife', 'indices': [58, 70]}, {'text': 'cloud', 'indices': [71, 77]}, {'text': 'TifaLockhart', 'indices': [78, 91]}, {'text': 'tifa', 'indices': [92, 97]}, {'text': 'FF7', 'indices': [98, 102]}, {'text': 'FF7R', 'indices': [103, 108]}, {'text': 'FF7Remake', 'indices': [109, 119]}], 'symbols': [], 'user_mentions': [{'screen_name': 'ElenaChatNoir', 'name': 'ElenaChatNoir', 'id': 1274034446820347904, 'id_str': '1274034446820347904', 'indices': [3, 17]}], 'urls': []}, 'source': '<a href=\"https://mobile.twitter.com\" rel=\"nofollow\">Twitter Web App</a>', 'in_reply_to_status_id': None, 'in_reply_to_status_id_str': None, 'in_reply_to_user_id': None, 'in_reply_to_user_id_str': None, 'in_reply_to_screen_name': None, 'geo': None, 'coordinates': None, 'place': None, 'contributors': None, 'retweeted_status': {'created_at': 'Sun Jan 03 20:48:00 +0000 2021', 'id': 1345834317289840646, 'id_str': '1345834317289840646', 'text': \"That's for you, haters 🔥\\n\\n#Cloti #クラティ #cloudstrife #cloud #TifaLockhart #tifa #FF7 #FF7R #FF7Remake… https://t.co/IDpUq9XJXP\", 'truncated': True, 'entities': {'hashtags': [{'text': 'Cloti', 'indices': [26, 32]}, {'text': 'クラティ', 'indices': [33, 38]}, {'text': 'cloudstrife', 'indices': [39, 51]}, {'text': 'cloud', 'indices': [52, 58]}, {'text': 'TifaLockhart', 'indices': [59, 72]}, {'text': 'tifa', 'indices': [73, 78]}, {'text': 'FF7', 'indices': [79, 83]}, {'text': 'FF7R', 'indices': [84, 89]}, {'text': 'FF7Remake', 'indices': [90, 100]}], 'symbols': [], 'user_mentions': [], 'urls': [{'url': 'https://t.co/IDpUq9XJXP', 'expanded_url': 'https://twitter.com/i/web/status/1345834317289840646', 'display_url': 'twitter.com/i/web/status/1…', 'indices': [102, 125]}]}, 'source': '<a href=\"https://mobile.twitter.com\" rel=\"nofollow\">Twitter Web App</a>', 'in_reply_to_status_id': None, 'in_reply_to_status_id_str': None, 'in_reply_to_user_id': None, 'in_reply_to_user_id_str': None, 'in_reply_to_screen_name': None, 'geo': None, 'coordinates': None, 'place': None, 'contributors': None, 'is_quote_status': False, 'retweet_count': 250, 'favorite_count': 1232, 'favorited': False, 'retweeted': False, 'possibly_sensitive': False, 'lang': 'en'}, 'is_quote_status': False, 'retweet_count': 250, 'favorite_count': 0, 'favorited': False, 'retweeted': False, 'lang': 'en'}, created_at=datetime.datetime(2021, 1, 3, 22, 55, 53), id=1345866501463662593, id_str='1345866501463662593', text=\"RT @ElenaChatNoir: That's for you, haters 🔥\\n\\n#Cloti #クラティ #cloudstrife #cloud #TifaLockhart #tifa #FF7 #FF7R #FF7Remake #FinalFantasy7Remak…\", truncated=False, entities={'hashtags': [{'text': 'Cloti', 'indices': [45, 51]}, {'text': 'クラティ', 'indices': [52, 57]}, {'text': 'cloudstrife', 'indices': [58, 70]}, {'text': 'cloud', 'indices': [71, 77]}, {'text': 'TifaLockhart', 'indices': [78, 91]}, {'text': 'tifa', 'indices': [92, 97]}, {'text': 'FF7', 'indices': [98, 102]}, {'text': 'FF7R', 'indices': [103, 108]}, {'text': 'FF7Remake', 'indices': [109, 119]}], 'symbols': [], 'user_mentions': [{'screen_name': 'ElenaChatNoir', 'name': 'ElenaChatNoir', 'id': 1274034446820347904, 'id_str': '1274034446820347904', 'indices': [3, 17]}], 'urls': []}, source='Twitter Web App', source_url='https://mobile.twitter.com', in_reply_to_status_id=None, in_reply_to_status_id_str=None, in_reply_to_user_id=None, in_reply_to_user_id_str=None, in_reply_to_screen_name=None, geo=None, coordinates=None, place=None, contributors=None, retweeted_status=Status(_api=<tweepy.api.API object at 0x7f3005c53f60>, _json={'created_at': 'Sun Jan 03 20:48:00 +0000 2021', 'id': 1345834317289840646, 'id_str': '1345834317289840646', 'text': \"That's for you, haters 🔥\\n\\n#Cloti #クラティ #cloudstrife #cloud #TifaLockhart #tifa #FF7 #FF7R #FF7Remake… https://t.co/IDpUq9XJXP\", 'truncated': True, 'entities': {'hashtags': [{'text': 'Cloti', 'indices': [26, 32]}, {'text': 'クラティ', 'indices': [33, 38]}, {'text': 'cloudstrife', 'indices': [39, 51]}, {'text': 'cloud', 'indices': [52, 58]}, {'text': 'TifaLockhart', 'indices': [59, 72]}, {'text': 'tifa', 'indices': [73, 78]}, {'text': 'FF7', 'indices': [79, 83]}, {'text': 'FF7R', 'indices': [84, 89]}, {'text': 'FF7Remake', 'indices': [90, 100]}], 'symbols': [], 'user_mentions': [], 'urls': [{'url': 'https://t.co/IDpUq9XJXP', 'expanded_url': 'https://twitter.com/i/web/status/1345834317289840646', 'display_url': 'twitter.com/i/web/status/1…', 'indices': [102, 125]}]}, 'source': '<a href=\"https://mobile.twitter.com\" rel=\"nofollow\">Twitter Web App</a>', 'in_reply_to_status_id': None, 'in_reply_to_status_id_str': None, 'in_reply_to_user_id': None, 'in_reply_to_user_id_str': None, 'in_reply_to_screen_name': None, 'geo': None, 'coordinates': None, 'place': None, 'contributors': None, 'is_quote_status': False, 'retweet_count': 250, 'favorite_count': 1232, 'favorited': False, 'retweeted': False, 'possibly_sensitive': False, 'lang': 'en'}, created_at=datetime.datetime(2021, 1, 3, 20, 48), id=1345834317289840646, id_str='1345834317289840646', text=\"That's for you, haters 🔥\\n\\n#Cloti #クラティ #cloudstrife #cloud #TifaLockhart #tifa #FF7 #FF7R #FF7Remake… https://t.co/IDpUq9XJXP\", truncated=True, entities={'hashtags': [{'text': 'Cloti', 'indices': [26, 32]}, {'text': 'クラティ', 'indices': [33, 38]}, {'text': 'cloudstrife', 'indices': [39, 51]}, {'text': 'cloud', 'indices': [52, 58]}, {'text': 'TifaLockhart', 'indices': [59, 72]}, {'text': 'tifa', 'indices': [73, 78]}, {'text': 'FF7', 'indices': [79, 83]}, {'text': 'FF7R', 'indices': [84, 89]}, {'text': 'FF7Remake', 'indices': [90, 100]}], 'symbols': [], 'user_mentions': [], 'urls': [{'url': 'https://t.co/IDpUq9XJXP', 'expanded_url': 'https://twitter.com/i/web/status/1345834317289840646', 'display_url': 'twitter.com/i/web/status/1…', 'indices': [102, 125]}]}, source='Twitter Web App', source_url='https://mobile.twitter.com', in_reply_to_status_id=None, in_reply_to_status_id_str=None, in_reply_to_user_id=None, in_reply_to_user_id_str=None, in_reply_to_screen_name=None, geo=None, coordinates=None, place=None, contributors=None, is_quote_status=False, retweet_count=250, favorite_count=1232, favorited=False, retweeted=False, possibly_sensitive=False, lang='en'), is_quote_status=False, retweet_count=250, favorite_count=0, favorited=False, retweeted=False, lang='en'), contributors_enabled=False, is_translator=False, is_translation_enabled=False, profile_background_color='000000', profile_background_image_url='http://abs.twimg.com/images/themes/theme1/bg.png', profile_background_image_url_https='https://abs.twimg.com/images/themes/theme1/bg.png', profile_background_tile=False, profile_image_url='http://pbs.twimg.com/profile_images/1345700096529338368/S_0Jk4Qj_normal.jpg', profile_image_url_https='https://pbs.twimg.com/profile_images/1345700096529338368/S_0Jk4Qj_normal.jpg', profile_banner_url='https://pbs.twimg.com/profile_banners/856812854921633793/1609674881', profile_link_color='FF691F', profile_sidebar_border_color='000000', profile_sidebar_fill_color='000000', profile_text_color='000000', profile_use_background_image=False, has_extended_profile=True, default_profile=False, default_profile_image=False, following=True, live_following=False, follow_request_sent=False, notifications=False, muting=False, blocking=False, blocked_by=False, translator_type='none'),\n",
              " User(_api=<tweepy.api.API object at 0x7f3005c53f60>, _json={'id': 992513672, 'id_str': '992513672', 'name': 'Tyler Scheid', 'screen_name': 'Apocalypto_12', 'location': 'TylerScheid.com', 'description': 'Internet personality, Entertainer, & Actor - #SmileAlways                      Insta: https://t.co/6dJn60bVeW Twitch: https://t.co/zytRyf855q', 'url': 'https://t.co/lK1FmPhbkM', 'entities': {'url': {'urls': [{'url': 'https://t.co/lK1FmPhbkM', 'expanded_url': 'http://youtube.com/Apocalypto12', 'display_url': 'youtube.com/Apocalypto12', 'indices': [0, 23]}]}, 'description': {'urls': [{'url': 'https://t.co/6dJn60bVeW', 'expanded_url': 'http://Instagram.com/apocalypto_12', 'display_url': 'Instagram.com/apocalypto_12', 'indices': [86, 109]}, {'url': 'https://t.co/zytRyf855q', 'expanded_url': 'http://twitch.tv/Apocalypto_12', 'display_url': 'twitch.tv/Apocalypto_12', 'indices': [118, 141]}]}}, 'protected': False, 'followers_count': 397304, 'friends_count': 223, 'listed_count': 254, 'created_at': 'Thu Dec 06 06:34:16 +0000 2012', 'favourites_count': 26652, 'utc_offset': None, 'time_zone': None, 'geo_enabled': True, 'verified': False, 'statuses_count': 14826, 'lang': None, 'status': {'created_at': 'Mon Jan 04 01:20:51 +0000 2021', 'id': 1345902983293276160, 'id_str': '1345902983293276160', 'text': 'Sorry everyone for not streaming this weekend.  I’ve been having trouble with fatigue &amp; just sleeping on &amp; off.\\nTry… https://t.co/hVmSZsYG0D', 'truncated': True, 'entities': {'hashtags': [], 'symbols': [], 'user_mentions': [], 'urls': [{'url': 'https://t.co/hVmSZsYG0D', 'expanded_url': 'https://twitter.com/i/web/status/1345902983293276160', 'display_url': 'twitter.com/i/web/status/1…', 'indices': [125, 148]}]}, 'source': '<a href=\"http://twitter.com/download/iphone\" rel=\"nofollow\">Twitter for iPhone</a>', 'in_reply_to_status_id': None, 'in_reply_to_status_id_str': None, 'in_reply_to_user_id': None, 'in_reply_to_user_id_str': None, 'in_reply_to_screen_name': None, 'geo': None, 'coordinates': None, 'place': None, 'contributors': None, 'is_quote_status': False, 'retweet_count': 14, 'favorite_count': 1448, 'favorited': False, 'retweeted': False, 'lang': 'en'}, 'contributors_enabled': False, 'is_translator': False, 'is_translation_enabled': False, 'profile_background_color': 'C0DEED', 'profile_background_image_url': 'http://abs.twimg.com/images/themes/theme1/bg.png', 'profile_background_image_url_https': 'https://abs.twimg.com/images/themes/theme1/bg.png', 'profile_background_tile': False, 'profile_image_url': 'http://pbs.twimg.com/profile_images/1028793992589131776/RM9TcVM0_normal.jpg', 'profile_image_url_https': 'https://pbs.twimg.com/profile_images/1028793992589131776/RM9TcVM0_normal.jpg', 'profile_banner_url': 'https://pbs.twimg.com/profile_banners/992513672/1530402305', 'profile_link_color': '1DA1F2', 'profile_sidebar_border_color': 'C0DEED', 'profile_sidebar_fill_color': 'DDEEF6', 'profile_text_color': '333333', 'profile_use_background_image': True, 'has_extended_profile': True, 'default_profile': True, 'default_profile_image': False, 'following': True, 'live_following': False, 'follow_request_sent': False, 'notifications': False, 'muting': False, 'blocking': False, 'blocked_by': False, 'translator_type': 'none'}, id=992513672, id_str='992513672', name='Tyler Scheid', screen_name='Apocalypto_12', location='TylerScheid.com', description='Internet personality, Entertainer, & Actor - #SmileAlways                      Insta: https://t.co/6dJn60bVeW Twitch: https://t.co/zytRyf855q', url='https://t.co/lK1FmPhbkM', entities={'url': {'urls': [{'url': 'https://t.co/lK1FmPhbkM', 'expanded_url': 'http://youtube.com/Apocalypto12', 'display_url': 'youtube.com/Apocalypto12', 'indices': [0, 23]}]}, 'description': {'urls': [{'url': 'https://t.co/6dJn60bVeW', 'expanded_url': 'http://Instagram.com/apocalypto_12', 'display_url': 'Instagram.com/apocalypto_12', 'indices': [86, 109]}, {'url': 'https://t.co/zytRyf855q', 'expanded_url': 'http://twitch.tv/Apocalypto_12', 'display_url': 'twitch.tv/Apocalypto_12', 'indices': [118, 141]}]}}, protected=False, followers_count=397304, friends_count=223, listed_count=254, created_at=datetime.datetime(2012, 12, 6, 6, 34, 16), favourites_count=26652, utc_offset=None, time_zone=None, geo_enabled=True, verified=False, statuses_count=14826, lang=None, status=Status(_api=<tweepy.api.API object at 0x7f3005c53f60>, _json={'created_at': 'Mon Jan 04 01:20:51 +0000 2021', 'id': 1345902983293276160, 'id_str': '1345902983293276160', 'text': 'Sorry everyone for not streaming this weekend.  I’ve been having trouble with fatigue &amp; just sleeping on &amp; off.\\nTry… https://t.co/hVmSZsYG0D', 'truncated': True, 'entities': {'hashtags': [], 'symbols': [], 'user_mentions': [], 'urls': [{'url': 'https://t.co/hVmSZsYG0D', 'expanded_url': 'https://twitter.com/i/web/status/1345902983293276160', 'display_url': 'twitter.com/i/web/status/1…', 'indices': [125, 148]}]}, 'source': '<a href=\"http://twitter.com/download/iphone\" rel=\"nofollow\">Twitter for iPhone</a>', 'in_reply_to_status_id': None, 'in_reply_to_status_id_str': None, 'in_reply_to_user_id': None, 'in_reply_to_user_id_str': None, 'in_reply_to_screen_name': None, 'geo': None, 'coordinates': None, 'place': None, 'contributors': None, 'is_quote_status': False, 'retweet_count': 14, 'favorite_count': 1448, 'favorited': False, 'retweeted': False, 'lang': 'en'}, created_at=datetime.datetime(2021, 1, 4, 1, 20, 51), id=1345902983293276160, id_str='1345902983293276160', text='Sorry everyone for not streaming this weekend.  I’ve been having trouble with fatigue &amp; just sleeping on &amp; off.\\nTry… https://t.co/hVmSZsYG0D', truncated=True, entities={'hashtags': [], 'symbols': [], 'user_mentions': [], 'urls': [{'url': 'https://t.co/hVmSZsYG0D', 'expanded_url': 'https://twitter.com/i/web/status/1345902983293276160', 'display_url': 'twitter.com/i/web/status/1…', 'indices': [125, 148]}]}, source='Twitter for iPhone', source_url='http://twitter.com/download/iphone', in_reply_to_status_id=None, in_reply_to_status_id_str=None, in_reply_to_user_id=None, in_reply_to_user_id_str=None, in_reply_to_screen_name=None, geo=None, coordinates=None, place=None, contributors=None, is_quote_status=False, retweet_count=14, favorite_count=1448, favorited=False, retweeted=False, lang='en'), contributors_enabled=False, is_translator=False, is_translation_enabled=False, profile_background_color='C0DEED', profile_background_image_url='http://abs.twimg.com/images/themes/theme1/bg.png', profile_background_image_url_https='https://abs.twimg.com/images/themes/theme1/bg.png', profile_background_tile=False, profile_image_url='http://pbs.twimg.com/profile_images/1028793992589131776/RM9TcVM0_normal.jpg', profile_image_url_https='https://pbs.twimg.com/profile_images/1028793992589131776/RM9TcVM0_normal.jpg', profile_banner_url='https://pbs.twimg.com/profile_banners/992513672/1530402305', profile_link_color='1DA1F2', profile_sidebar_border_color='C0DEED', profile_sidebar_fill_color='DDEEF6', profile_text_color='333333', profile_use_background_image=True, has_extended_profile=True, default_profile=True, default_profile_image=False, following=True, live_following=False, follow_request_sent=False, notifications=False, muting=False, blocking=False, blocked_by=False, translator_type='none'),\n",
              " User(_api=<tweepy.api.API object at 0x7f3005c53f60>, _json={'id': 249165449, 'id_str': '249165449', 'name': 'La Presse de Tunisie', 'screen_name': 'LaPresseTunisie', 'location': 'Tunisie', 'description': 'Compte Twitter officiel de la Presse de Tunisie', 'url': 'http://t.co/jqY8YUDxPk', 'entities': {'url': {'urls': [{'url': 'http://t.co/jqY8YUDxPk', 'expanded_url': 'http://www.lapresse.tn', 'display_url': 'lapresse.tn', 'indices': [0, 22]}]}, 'description': {'urls': []}}, 'protected': False, 'followers_count': 102257, 'friends_count': 20, 'listed_count': 337, 'created_at': 'Tue Feb 08 14:22:14 +0000 2011', 'favourites_count': 5, 'utc_offset': None, 'time_zone': None, 'geo_enabled': False, 'verified': False, 'statuses_count': 34020, 'lang': None, 'status': {'created_at': 'Tue Jun 02 18:27:23 +0000 2020', 'id': 1267885539908300800, 'id_str': '1267885539908300800', 'text': 'Tozeur : un bébé prématuré survit malgré les pauvres moyens à l’hôpital régional\\nhttps://t.co/8C27ooRFGy\\n#Tozeur… https://t.co/0Pv2V1BKhU', 'truncated': True, 'entities': {'hashtags': [{'text': 'Tozeur', 'indices': [105, 112]}], 'symbols': [], 'user_mentions': [], 'urls': [{'url': 'https://t.co/8C27ooRFGy', 'expanded_url': 'https://bit.ly/3gITScd', 'display_url': 'bit.ly/3gITScd', 'indices': [81, 104]}, {'url': 'https://t.co/0Pv2V1BKhU', 'expanded_url': 'https://twitter.com/i/web/status/1267885539908300800', 'display_url': 'twitter.com/i/web/status/1…', 'indices': [114, 137]}]}, 'source': '<a href=\"https://mobile.twitter.com\" rel=\"nofollow\">Twitter Web App</a>', 'in_reply_to_status_id': None, 'in_reply_to_status_id_str': None, 'in_reply_to_user_id': None, 'in_reply_to_user_id_str': None, 'in_reply_to_screen_name': None, 'geo': None, 'coordinates': None, 'place': None, 'contributors': None, 'is_quote_status': False, 'retweet_count': 1, 'favorite_count': 20, 'favorited': False, 'retweeted': False, 'possibly_sensitive': False, 'lang': 'fr'}, 'contributors_enabled': False, 'is_translator': False, 'is_translation_enabled': False, 'profile_background_color': 'F0F0F0', 'profile_background_image_url': 'http://abs.twimg.com/images/themes/theme6/bg.gif', 'profile_background_image_url_https': 'https://abs.twimg.com/images/themes/theme6/bg.gif', 'profile_background_tile': False, 'profile_image_url': 'http://pbs.twimg.com/profile_images/1138459916526657537/vhpcTRia_normal.png', 'profile_image_url_https': 'https://pbs.twimg.com/profile_images/1138459916526657537/vhpcTRia_normal.png', 'profile_banner_url': 'https://pbs.twimg.com/profile_banners/249165449/1560265006', 'profile_link_color': 'E60E20', 'profile_sidebar_border_color': 'C6E2EE', 'profile_sidebar_fill_color': 'FFFFFF', 'profile_text_color': '000000', 'profile_use_background_image': True, 'has_extended_profile': False, 'default_profile': False, 'default_profile_image': False, 'following': True, 'live_following': False, 'follow_request_sent': False, 'notifications': False, 'muting': False, 'blocking': False, 'blocked_by': False, 'translator_type': 'none'}, id=249165449, id_str='249165449', name='La Presse de Tunisie', screen_name='LaPresseTunisie', location='Tunisie', description='Compte Twitter officiel de la Presse de Tunisie', url='http://t.co/jqY8YUDxPk', entities={'url': {'urls': [{'url': 'http://t.co/jqY8YUDxPk', 'expanded_url': 'http://www.lapresse.tn', 'display_url': 'lapresse.tn', 'indices': [0, 22]}]}, 'description': {'urls': []}}, protected=False, followers_count=102257, friends_count=20, listed_count=337, created_at=datetime.datetime(2011, 2, 8, 14, 22, 14), favourites_count=5, utc_offset=None, time_zone=None, geo_enabled=False, verified=False, statuses_count=34020, lang=None, status=Status(_api=<tweepy.api.API object at 0x7f3005c53f60>, _json={'created_at': 'Tue Jun 02 18:27:23 +0000 2020', 'id': 1267885539908300800, 'id_str': '1267885539908300800', 'text': 'Tozeur : un bébé prématuré survit malgré les pauvres moyens à l’hôpital régional\\nhttps://t.co/8C27ooRFGy\\n#Tozeur… https://t.co/0Pv2V1BKhU', 'truncated': True, 'entities': {'hashtags': [{'text': 'Tozeur', 'indices': [105, 112]}], 'symbols': [], 'user_mentions': [], 'urls': [{'url': 'https://t.co/8C27ooRFGy', 'expanded_url': 'https://bit.ly/3gITScd', 'display_url': 'bit.ly/3gITScd', 'indices': [81, 104]}, {'url': 'https://t.co/0Pv2V1BKhU', 'expanded_url': 'https://twitter.com/i/web/status/1267885539908300800', 'display_url': 'twitter.com/i/web/status/1…', 'indices': [114, 137]}]}, 'source': '<a href=\"https://mobile.twitter.com\" rel=\"nofollow\">Twitter Web App</a>', 'in_reply_to_status_id': None, 'in_reply_to_status_id_str': None, 'in_reply_to_user_id': None, 'in_reply_to_user_id_str': None, 'in_reply_to_screen_name': None, 'geo': None, 'coordinates': None, 'place': None, 'contributors': None, 'is_quote_status': False, 'retweet_count': 1, 'favorite_count': 20, 'favorited': False, 'retweeted': False, 'possibly_sensitive': False, 'lang': 'fr'}, created_at=datetime.datetime(2020, 6, 2, 18, 27, 23), id=1267885539908300800, id_str='1267885539908300800', text='Tozeur : un bébé prématuré survit malgré les pauvres moyens à l’hôpital régional\\nhttps://t.co/8C27ooRFGy\\n#Tozeur… https://t.co/0Pv2V1BKhU', truncated=True, entities={'hashtags': [{'text': 'Tozeur', 'indices': [105, 112]}], 'symbols': [], 'user_mentions': [], 'urls': [{'url': 'https://t.co/8C27ooRFGy', 'expanded_url': 'https://bit.ly/3gITScd', 'display_url': 'bit.ly/3gITScd', 'indices': [81, 104]}, {'url': 'https://t.co/0Pv2V1BKhU', 'expanded_url': 'https://twitter.com/i/web/status/1267885539908300800', 'display_url': 'twitter.com/i/web/status/1…', 'indices': [114, 137]}]}, source='Twitter Web App', source_url='https://mobile.twitter.com', in_reply_to_status_id=None, in_reply_to_status_id_str=None, in_reply_to_user_id=None, in_reply_to_user_id_str=None, in_reply_to_screen_name=None, geo=None, coordinates=None, place=None, contributors=None, is_quote_status=False, retweet_count=1, favorite_count=20, favorited=False, retweeted=False, possibly_sensitive=False, lang='fr'), contributors_enabled=False, is_translator=False, is_translation_enabled=False, profile_background_color='F0F0F0', profile_background_image_url='http://abs.twimg.com/images/themes/theme6/bg.gif', profile_background_image_url_https='https://abs.twimg.com/images/themes/theme6/bg.gif', profile_background_tile=False, profile_image_url='http://pbs.twimg.com/profile_images/1138459916526657537/vhpcTRia_normal.png', profile_image_url_https='https://pbs.twimg.com/profile_images/1138459916526657537/vhpcTRia_normal.png', profile_banner_url='https://pbs.twimg.com/profile_banners/249165449/1560265006', profile_link_color='E60E20', profile_sidebar_border_color='C6E2EE', profile_sidebar_fill_color='FFFFFF', profile_text_color='000000', profile_use_background_image=True, has_extended_profile=False, default_profile=False, default_profile_image=False, following=True, live_following=False, follow_request_sent=False, notifications=False, muting=False, blocking=False, blocked_by=False, translator_type='none'),\n",
              " User(_api=<tweepy.api.API object at 0x7f3005c53f60>, _json={'id': 77596200, 'id_str': '77596200', 'name': 'Jacksepticeye', 'screen_name': 'Jack_Septic_Eye', 'location': 'He/Him', 'description': 'CEO of coffee https://t.co/3pPd6EUjmh', 'url': 'https://t.co/fCXFw0tvRg', 'entities': {'url': {'urls': [{'url': 'https://t.co/fCXFw0tvRg', 'expanded_url': 'https://www.youtube.com/user/jacksepticeye?sub_confirmation=1', 'display_url': 'youtube.com/user/jacksepti…', 'indices': [0, 23]}]}, 'description': {'urls': [{'url': 'https://t.co/3pPd6EUjmh', 'expanded_url': 'http://topofthemornincoffee.com', 'display_url': 'topofthemornincoffee.com', 'indices': [14, 37]}]}}, 'protected': False, 'followers_count': 6770243, 'friends_count': 481, 'listed_count': 4733, 'created_at': 'Sat Sep 26 22:56:04 +0000 2009', 'favourites_count': 55975, 'utc_offset': None, 'time_zone': None, 'geo_enabled': False, 'verified': True, 'statuses_count': 15222, 'lang': None, 'status': {'created_at': 'Mon Jan 04 15:25:01 +0000 2021', 'id': 1346115423587196930, 'id_str': '1346115423587196930', 'text': '@miniirae @BaboAbe I’ll be there as soon as it launches', 'truncated': False, 'entities': {'hashtags': [], 'symbols': [], 'user_mentions': [{'screen_name': 'miniirae', 'name': 'adi :D', 'id': 990407101905190914, 'id_str': '990407101905190914', 'indices': [0, 9]}, {'screen_name': 'BaboAbe', 'name': 'Abe', 'id': 707620657945645056, 'id_str': '707620657945645056', 'indices': [10, 18]}], 'urls': []}, 'source': '<a href=\"http://twitter.com/download/iphone\" rel=\"nofollow\">Twitter for iPhone</a>', 'in_reply_to_status_id': 1346115244725215233, 'in_reply_to_status_id_str': '1346115244725215233', 'in_reply_to_user_id': 990407101905190914, 'in_reply_to_user_id_str': '990407101905190914', 'in_reply_to_screen_name': 'miniirae', 'geo': None, 'coordinates': None, 'place': None, 'contributors': None, 'is_quote_status': False, 'retweet_count': 1, 'favorite_count': 177, 'favorited': False, 'retweeted': False, 'lang': 'en'}, 'contributors_enabled': False, 'is_translator': False, 'is_translation_enabled': False, 'profile_background_color': '000000', 'profile_background_image_url': 'http://abs.twimg.com/images/themes/theme1/bg.png', 'profile_background_image_url_https': 'https://abs.twimg.com/images/themes/theme1/bg.png', 'profile_background_tile': False, 'profile_image_url': 'http://pbs.twimg.com/profile_images/1345882726474383360/fUAdBPKI_normal.jpg', 'profile_image_url_https': 'https://pbs.twimg.com/profile_images/1345882726474383360/fUAdBPKI_normal.jpg', 'profile_banner_url': 'https://pbs.twimg.com/profile_banners/77596200/1609718422', 'profile_link_color': '94D487', 'profile_sidebar_border_color': '000000', 'profile_sidebar_fill_color': '000000', 'profile_text_color': '000000', 'profile_use_background_image': False, 'has_extended_profile': True, 'default_profile': False, 'default_profile_image': False, 'following': True, 'live_following': False, 'follow_request_sent': False, 'notifications': False, 'muting': False, 'blocking': False, 'blocked_by': False, 'translator_type': 'regular'}, id=77596200, id_str='77596200', name='Jacksepticeye', screen_name='Jack_Septic_Eye', location='He/Him', description='CEO of coffee https://t.co/3pPd6EUjmh', url='https://t.co/fCXFw0tvRg', entities={'url': {'urls': [{'url': 'https://t.co/fCXFw0tvRg', 'expanded_url': 'https://www.youtube.com/user/jacksepticeye?sub_confirmation=1', 'display_url': 'youtube.com/user/jacksepti…', 'indices': [0, 23]}]}, 'description': {'urls': [{'url': 'https://t.co/3pPd6EUjmh', 'expanded_url': 'http://topofthemornincoffee.com', 'display_url': 'topofthemornincoffee.com', 'indices': [14, 37]}]}}, protected=False, followers_count=6770243, friends_count=481, listed_count=4733, created_at=datetime.datetime(2009, 9, 26, 22, 56, 4), favourites_count=55975, utc_offset=None, time_zone=None, geo_enabled=False, verified=True, statuses_count=15222, lang=None, status=Status(_api=<tweepy.api.API object at 0x7f3005c53f60>, _json={'created_at': 'Mon Jan 04 15:25:01 +0000 2021', 'id': 1346115423587196930, 'id_str': '1346115423587196930', 'text': '@miniirae @BaboAbe I’ll be there as soon as it launches', 'truncated': False, 'entities': {'hashtags': [], 'symbols': [], 'user_mentions': [{'screen_name': 'miniirae', 'name': 'adi :D', 'id': 990407101905190914, 'id_str': '990407101905190914', 'indices': [0, 9]}, {'screen_name': 'BaboAbe', 'name': 'Abe', 'id': 707620657945645056, 'id_str': '707620657945645056', 'indices': [10, 18]}], 'urls': []}, 'source': '<a href=\"http://twitter.com/download/iphone\" rel=\"nofollow\">Twitter for iPhone</a>', 'in_reply_to_status_id': 1346115244725215233, 'in_reply_to_status_id_str': '1346115244725215233', 'in_reply_to_user_id': 990407101905190914, 'in_reply_to_user_id_str': '990407101905190914', 'in_reply_to_screen_name': 'miniirae', 'geo': None, 'coordinates': None, 'place': None, 'contributors': None, 'is_quote_status': False, 'retweet_count': 1, 'favorite_count': 177, 'favorited': False, 'retweeted': False, 'lang': 'en'}, created_at=datetime.datetime(2021, 1, 4, 15, 25, 1), id=1346115423587196930, id_str='1346115423587196930', text='@miniirae @BaboAbe I’ll be there as soon as it launches', truncated=False, entities={'hashtags': [], 'symbols': [], 'user_mentions': [{'screen_name': 'miniirae', 'name': 'adi :D', 'id': 990407101905190914, 'id_str': '990407101905190914', 'indices': [0, 9]}, {'screen_name': 'BaboAbe', 'name': 'Abe', 'id': 707620657945645056, 'id_str': '707620657945645056', 'indices': [10, 18]}], 'urls': []}, source='Twitter for iPhone', source_url='http://twitter.com/download/iphone', in_reply_to_status_id=1346115244725215233, in_reply_to_status_id_str='1346115244725215233', in_reply_to_user_id=990407101905190914, in_reply_to_user_id_str='990407101905190914', in_reply_to_screen_name='miniirae', geo=None, coordinates=None, place=None, contributors=None, is_quote_status=False, retweet_count=1, favorite_count=177, favorited=False, retweeted=False, lang='en'), contributors_enabled=False, is_translator=False, is_translation_enabled=False, profile_background_color='000000', profile_background_image_url='http://abs.twimg.com/images/themes/theme1/bg.png', profile_background_image_url_https='https://abs.twimg.com/images/themes/theme1/bg.png', profile_background_tile=False, profile_image_url='http://pbs.twimg.com/profile_images/1345882726474383360/fUAdBPKI_normal.jpg', profile_image_url_https='https://pbs.twimg.com/profile_images/1345882726474383360/fUAdBPKI_normal.jpg', profile_banner_url='https://pbs.twimg.com/profile_banners/77596200/1609718422', profile_link_color='94D487', profile_sidebar_border_color='000000', profile_sidebar_fill_color='000000', profile_text_color='000000', profile_use_background_image=False, has_extended_profile=True, default_profile=False, default_profile_image=False, following=True, live_following=False, follow_request_sent=False, notifications=False, muting=False, blocking=False, blocked_by=False, translator_type='regular'),\n",
              " User(_api=<tweepy.api.API object at 0x7f3005c53f60>, _json={'id': 595688846, 'id_str': '595688846', 'name': 'Michael Scott 📚', 'screen_name': 'michaelgclump', 'location': 'Scranton, PA', 'description': 'Get all your The Office Christmas gifts here!!\\n\\nhttps://t.co/CP9Kku4KF7\\n\\nParody account.', 'url': 'https://t.co/CP9Kku4KF7', 'entities': {'url': {'urls': [{'url': 'https://t.co/CP9Kku4KF7', 'expanded_url': 'https://www.etsy.com/shop/michaelsoffice', 'display_url': 'etsy.com/shop/michaelso…', 'indices': [0, 23]}]}, 'description': {'urls': [{'url': 'https://t.co/CP9Kku4KF7', 'expanded_url': 'https://www.etsy.com/shop/michaelsoffice', 'display_url': 'etsy.com/shop/michaelso…', 'indices': [48, 71]}]}}, 'protected': False, 'followers_count': 77019, 'friends_count': 635, 'listed_count': 48, 'created_at': 'Thu May 31 17:58:23 +0000 2012', 'favourites_count': 31167, 'utc_offset': None, 'time_zone': None, 'geo_enabled': True, 'verified': False, 'statuses_count': 5292, 'lang': None, 'status': {'created_at': 'Mon Jan 04 07:14:21 +0000 2021', 'id': 1345991944816779264, 'id_str': '1345991944816779264', 'text': 'RT @context__office: https://t.co/bof2xo4HKl', 'truncated': False, 'entities': {'hashtags': [], 'symbols': [], 'user_mentions': [{'screen_name': 'context__office', 'name': 'No Context The Office', 'id': 951339588869672961, 'id_str': '951339588869672961', 'indices': [3, 19]}], 'urls': [], 'media': [{'id': 1335590482920038401, 'id_str': '1335590482920038401', 'indices': [21, 44], 'media_url': 'http://pbs.twimg.com/media/Eoj4d8vXYAEK3K5.png', 'media_url_https': 'https://pbs.twimg.com/media/Eoj4d8vXYAEK3K5.png', 'url': 'https://t.co/bof2xo4HKl', 'display_url': 'pic.twitter.com/bof2xo4HKl', 'expanded_url': 'https://twitter.com/context__office/status/1345027500674412546/photo/1', 'type': 'photo', 'sizes': {'large': {'w': 624, 'h': 360, 'resize': 'fit'}, 'medium': {'w': 624, 'h': 360, 'resize': 'fit'}, 'thumb': {'w': 150, 'h': 150, 'resize': 'crop'}, 'small': {'w': 624, 'h': 360, 'resize': 'fit'}}, 'source_status_id': 1345027500674412546, 'source_status_id_str': '1345027500674412546', 'source_user_id': 951339588869672961, 'source_user_id_str': '951339588869672961'}]}, 'extended_entities': {'media': [{'id': 1335590482920038401, 'id_str': '1335590482920038401', 'indices': [21, 44], 'media_url': 'http://pbs.twimg.com/media/Eoj4d8vXYAEK3K5.png', 'media_url_https': 'https://pbs.twimg.com/media/Eoj4d8vXYAEK3K5.png', 'url': 'https://t.co/bof2xo4HKl', 'display_url': 'pic.twitter.com/bof2xo4HKl', 'expanded_url': 'https://twitter.com/context__office/status/1345027500674412546/photo/1', 'type': 'photo', 'sizes': {'large': {'w': 624, 'h': 360, 'resize': 'fit'}, 'medium': {'w': 624, 'h': 360, 'resize': 'fit'}, 'thumb': {'w': 150, 'h': 150, 'resize': 'crop'}, 'small': {'w': 624, 'h': 360, 'resize': 'fit'}}, 'source_status_id': 1345027500674412546, 'source_status_id_str': '1345027500674412546', 'source_user_id': 951339588869672961, 'source_user_id_str': '951339588869672961'}]}, 'source': '<a href=\"https://mobile.twitter.com\" rel=\"nofollow\">Twitter Web App</a>', 'in_reply_to_status_id': None, 'in_reply_to_status_id_str': None, 'in_reply_to_user_id': None, 'in_reply_to_user_id_str': None, 'in_reply_to_screen_name': None, 'geo': None, 'coordinates': None, 'place': None, 'contributors': None, 'retweeted_status': {'created_at': 'Fri Jan 01 15:22:00 +0000 2021', 'id': 1345027500674412546, 'id_str': '1345027500674412546', 'text': 'https://t.co/bof2xo4HKl', 'truncated': False, 'entities': {'hashtags': [], 'symbols': [], 'user_mentions': [], 'urls': [], 'media': [{'id': 1335590482920038401, 'id_str': '1335590482920038401', 'indices': [0, 23], 'media_url': 'http://pbs.twimg.com/media/Eoj4d8vXYAEK3K5.png', 'media_url_https': 'https://pbs.twimg.com/media/Eoj4d8vXYAEK3K5.png', 'url': 'https://t.co/bof2xo4HKl', 'display_url': 'pic.twitter.com/bof2xo4HKl', 'expanded_url': 'https://twitter.com/context__office/status/1345027500674412546/photo/1', 'type': 'photo', 'sizes': {'large': {'w': 624, 'h': 360, 'resize': 'fit'}, 'medium': {'w': 624, 'h': 360, 'resize': 'fit'}, 'thumb': {'w': 150, 'h': 150, 'resize': 'crop'}, 'small': {'w': 624, 'h': 360, 'resize': 'fit'}}}]}, 'extended_entities': {'media': [{'id': 1335590482920038401, 'id_str': '1335590482920038401', 'indices': [0, 23], 'media_url': 'http://pbs.twimg.com/media/Eoj4d8vXYAEK3K5.png', 'media_url_https': 'https://pbs.twimg.com/media/Eoj4d8vXYAEK3K5.png', 'url': 'https://t.co/bof2xo4HKl', 'display_url': 'pic.twitter.com/bof2xo4HKl', 'expanded_url': 'https://twitter.com/context__office/status/1345027500674412546/photo/1', 'type': 'photo', 'sizes': {'large': {'w': 624, 'h': 360, 'resize': 'fit'}, 'medium': {'w': 624, 'h': 360, 'resize': 'fit'}, 'thumb': {'w': 150, 'h': 150, 'resize': 'crop'}, 'small': {'w': 624, 'h': 360, 'resize': 'fit'}}}]}, 'source': '<a href=\"https://mobile.twitter.com\" rel=\"nofollow\">Twitter Web App</a>', 'in_reply_to_status_id': None, 'in_reply_to_status_id_str': None, 'in_reply_to_user_id': None, 'in_reply_to_user_id_str': None, 'in_reply_to_screen_name': None, 'geo': None, 'coordinates': None, 'place': None, 'contributors': None, 'is_quote_status': False, 'retweet_count': 1527, 'favorite_count': 6974, 'favorited': False, 'retweeted': False, 'possibly_sensitive': False, 'lang': 'und'}, 'is_quote_status': False, 'retweet_count': 1527, 'favorite_count': 0, 'favorited': False, 'retweeted': False, 'possibly_sensitive': False, 'lang': 'und'}, 'contributors_enabled': False, 'is_translator': False, 'is_translation_enabled': False, 'profile_background_color': 'C0DEED', 'profile_background_image_url': 'http://abs.twimg.com/images/themes/theme1/bg.png', 'profile_background_image_url_https': 'https://abs.twimg.com/images/themes/theme1/bg.png', 'profile_background_tile': False, 'profile_image_url': 'http://pbs.twimg.com/profile_images/1258083294870036481/T-f9OgNq_normal.jpg', 'profile_image_url_https': 'https://pbs.twimg.com/profile_images/1258083294870036481/T-f9OgNq_normal.jpg', 'profile_banner_url': 'https://pbs.twimg.com/profile_banners/595688846/1549618116', 'profile_link_color': '1DA1F2', 'profile_sidebar_border_color': 'C0DEED', 'profile_sidebar_fill_color': 'DDEEF6', 'profile_text_color': '333333', 'profile_use_background_image': True, 'has_extended_profile': True, 'default_profile': True, 'default_profile_image': False, 'following': True, 'live_following': False, 'follow_request_sent': False, 'notifications': False, 'muting': False, 'blocking': False, 'blocked_by': False, 'translator_type': 'none'}, id=595688846, id_str='595688846', name='Michael Scott 📚', screen_name='michaelgclump', location='Scranton, PA', description='Get all your The Office Christmas gifts here!!\\n\\nhttps://t.co/CP9Kku4KF7\\n\\nParody account.', url='https://t.co/CP9Kku4KF7', entities={'url': {'urls': [{'url': 'https://t.co/CP9Kku4KF7', 'expanded_url': 'https://www.etsy.com/shop/michaelsoffice', 'display_url': 'etsy.com/shop/michaelso…', 'indices': [0, 23]}]}, 'description': {'urls': [{'url': 'https://t.co/CP9Kku4KF7', 'expanded_url': 'https://www.etsy.com/shop/michaelsoffice', 'display_url': 'etsy.com/shop/michaelso…', 'indices': [48, 71]}]}}, protected=False, followers_count=77019, friends_count=635, listed_count=48, created_at=datetime.datetime(2012, 5, 31, 17, 58, 23), favourites_count=31167, utc_offset=None, time_zone=None, geo_enabled=True, verified=False, statuses_count=5292, lang=None, status=Status(_api=<tweepy.api.API object at 0x7f3005c53f60>, _json={'created_at': 'Mon Jan 04 07:14:21 +0000 2021', 'id': 1345991944816779264, 'id_str': '1345991944816779264', 'text': 'RT @context__office: https://t.co/bof2xo4HKl', 'truncated': False, 'entities': {'hashtags': [], 'symbols': [], 'user_mentions': [{'screen_name': 'context__office', 'name': 'No Context The Office', 'id': 951339588869672961, 'id_str': '951339588869672961', 'indices': [3, 19]}], 'urls': [], 'media': [{'id': 1335590482920038401, 'id_str': '1335590482920038401', 'indices': [21, 44], 'media_url': 'http://pbs.twimg.com/media/Eoj4d8vXYAEK3K5.png', 'media_url_https': 'https://pbs.twimg.com/media/Eoj4d8vXYAEK3K5.png', 'url': 'https://t.co/bof2xo4HKl', 'display_url': 'pic.twitter.com/bof2xo4HKl', 'expanded_url': 'https://twitter.com/context__office/status/1345027500674412546/photo/1', 'type': 'photo', 'sizes': {'large': {'w': 624, 'h': 360, 'resize': 'fit'}, 'medium': {'w': 624, 'h': 360, 'resize': 'fit'}, 'thumb': {'w': 150, 'h': 150, 'resize': 'crop'}, 'small': {'w': 624, 'h': 360, 'resize': 'fit'}}, 'source_status_id': 1345027500674412546, 'source_status_id_str': '1345027500674412546', 'source_user_id': 951339588869672961, 'source_user_id_str': '951339588869672961'}]}, 'extended_entities': {'media': [{'id': 1335590482920038401, 'id_str': '1335590482920038401', 'indices': [21, 44], 'media_url': 'http://pbs.twimg.com/media/Eoj4d8vXYAEK3K5.png', 'media_url_https': 'https://pbs.twimg.com/media/Eoj4d8vXYAEK3K5.png', 'url': 'https://t.co/bof2xo4HKl', 'display_url': 'pic.twitter.com/bof2xo4HKl', 'expanded_url': 'https://twitter.com/context__office/status/1345027500674412546/photo/1', 'type': 'photo', 'sizes': {'large': {'w': 624, 'h': 360, 'resize': 'fit'}, 'medium': {'w': 624, 'h': 360, 'resize': 'fit'}, 'thumb': {'w': 150, 'h': 150, 'resize': 'crop'}, 'small': {'w': 624, 'h': 360, 'resize': 'fit'}}, 'source_status_id': 1345027500674412546, 'source_status_id_str': '1345027500674412546', 'source_user_id': 951339588869672961, 'source_user_id_str': '951339588869672961'}]}, 'source': '<a href=\"https://mobile.twitter.com\" rel=\"nofollow\">Twitter Web App</a>', 'in_reply_to_status_id': None, 'in_reply_to_status_id_str': None, 'in_reply_to_user_id': None, 'in_reply_to_user_id_str': None, 'in_reply_to_screen_name': None, 'geo': None, 'coordinates': None, 'place': None, 'contributors': None, 'retweeted_status': {'created_at': 'Fri Jan 01 15:22:00 +0000 2021', 'id': 1345027500674412546, 'id_str': '1345027500674412546', 'text': 'https://t.co/bof2xo4HKl', 'truncated': False, 'entities': {'hashtags': [], 'symbols': [], 'user_mentions': [], 'urls': [], 'media': [{'id': 1335590482920038401, 'id_str': '1335590482920038401', 'indices': [0, 23], 'media_url': 'http://pbs.twimg.com/media/Eoj4d8vXYAEK3K5.png', 'media_url_https': 'https://pbs.twimg.com/media/Eoj4d8vXYAEK3K5.png', 'url': 'https://t.co/bof2xo4HKl', 'display_url': 'pic.twitter.com/bof2xo4HKl', 'expanded_url': 'https://twitter.com/context__office/status/1345027500674412546/photo/1', 'type': 'photo', 'sizes': {'large': {'w': 624, 'h': 360, 'resize': 'fit'}, 'medium': {'w': 624, 'h': 360, 'resize': 'fit'}, 'thumb': {'w': 150, 'h': 150, 'resize': 'crop'}, 'small': {'w': 624, 'h': 360, 'resize': 'fit'}}}]}, 'extended_entities': {'media': [{'id': 1335590482920038401, 'id_str': '1335590482920038401', 'indices': [0, 23], 'media_url': 'http://pbs.twimg.com/media/Eoj4d8vXYAEK3K5.png', 'media_url_https': 'https://pbs.twimg.com/media/Eoj4d8vXYAEK3K5.png', 'url': 'https://t.co/bof2xo4HKl', 'display_url': 'pic.twitter.com/bof2xo4HKl', 'expanded_url': 'https://twitter.com/context__office/status/1345027500674412546/photo/1', 'type': 'photo', 'sizes': {'large': {'w': 624, 'h': 360, 'resize': 'fit'}, 'medium': {'w': 624, 'h': 360, 'resize': 'fit'}, 'thumb': {'w': 150, 'h': 150, 'resize': 'crop'}, 'small': {'w': 624, 'h': 360, 'resize': 'fit'}}}]}, 'source': '<a href=\"https://mobile.twitter.com\" rel=\"nofollow\">Twitter Web App</a>', 'in_reply_to_status_id': None, 'in_reply_to_status_id_str': None, 'in_reply_to_user_id': None, 'in_reply_to_user_id_str': None, 'in_reply_to_screen_name': None, 'geo': None, 'coordinates': None, 'place': None, 'contributors': None, 'is_quote_status': False, 'retweet_count': 1527, 'favorite_count': 6974, 'favorited': False, 'retweeted': False, 'possibly_sensitive': False, 'lang': 'und'}, 'is_quote_status': False, 'retweet_count': 1527, 'favorite_count': 0, 'favorited': False, 'retweeted': False, 'possibly_sensitive': False, 'lang': 'und'}, created_at=datetime.datetime(2021, 1, 4, 7, 14, 21), id=1345991944816779264, id_str='1345991944816779264', text='RT @context__office: https://t.co/bof2xo4HKl', truncated=False, entities={'hashtags': [], 'symbols': [], 'user_mentions': [{'screen_name': 'context__office', 'name': 'No Context The Office', 'id': 951339588869672961, 'id_str': '951339588869672961', 'indices': [3, 19]}], 'urls': [], 'media': [{'id': 1335590482920038401, 'id_str': '1335590482920038401', 'indices': [21, 44], 'media_url': 'http://pbs.twimg.com/media/Eoj4d8vXYAEK3K5.png', 'media_url_https': 'https://pbs.twimg.com/media/Eoj4d8vXYAEK3K5.png', 'url': 'https://t.co/bof2xo4HKl', 'display_url': 'pic.twitter.com/bof2xo4HKl', 'expanded_url': 'https://twitter.com/context__office/status/1345027500674412546/photo/1', 'type': 'photo', 'sizes': {'large': {'w': 624, 'h': 360, 'resize': 'fit'}, 'medium': {'w': 624, 'h': 360, 'resize': 'fit'}, 'thumb': {'w': 150, 'h': 150, 'resize': 'crop'}, 'small': {'w': 624, 'h': 360, 'resize': 'fit'}}, 'source_status_id': 1345027500674412546, 'source_status_id_str': '1345027500674412546', 'source_user_id': 951339588869672961, 'source_user_id_str': '951339588869672961'}]}, extended_entities={'media': [{'id': 1335590482920038401, 'id_str': '1335590482920038401', 'indices': [21, 44], 'media_url': 'http://pbs.twimg.com/media/Eoj4d8vXYAEK3K5.png', 'media_url_https': 'https://pbs.twimg.com/media/Eoj4d8vXYAEK3K5.png', 'url': 'https://t.co/bof2xo4HKl', 'display_url': 'pic.twitter.com/bof2xo4HKl', 'expanded_url': 'https://twitter.com/context__office/status/1345027500674412546/photo/1', 'type': 'photo', 'sizes': {'large': {'w': 624, 'h': 360, 'resize': 'fit'}, 'medium': {'w': 624, 'h': 360, 'resize': 'fit'}, 'thumb': {'w': 150, 'h': 150, 'resize': 'crop'}, 'small': {'w': 624, 'h': 360, 'resize': 'fit'}}, 'source_status_id': 1345027500674412546, 'source_status_id_str': '1345027500674412546', 'source_user_id': 951339588869672961, 'source_user_id_str': '951339588869672961'}]}, source='Twitter Web App', source_url='https://mobile.twitter.com', in_reply_to_status_id=None, in_reply_to_status_id_str=None, in_reply_to_user_id=None, in_reply_to_user_id_str=None, in_reply_to_screen_name=None, geo=None, coordinates=None, place=None, contributors=None, retweeted_status=Status(_api=<tweepy.api.API object at 0x7f3005c53f60>, _json={'created_at': 'Fri Jan 01 15:22:00 +0000 2021', 'id': 1345027500674412546, 'id_str': '1345027500674412546', 'text': 'https://t.co/bof2xo4HKl', 'truncated': False, 'entities': {'hashtags': [], 'symbols': [], 'user_mentions': [], 'urls': [], 'media': [{'id': 1335590482920038401, 'id_str': '1335590482920038401', 'indices': [0, 23], 'media_url': 'http://pbs.twimg.com/media/Eoj4d8vXYAEK3K5.png', 'media_url_https': 'https://pbs.twimg.com/media/Eoj4d8vXYAEK3K5.png', 'url': 'https://t.co/bof2xo4HKl', 'display_url': 'pic.twitter.com/bof2xo4HKl', 'expanded_url': 'https://twitter.com/context__office/status/1345027500674412546/photo/1', 'type': 'photo', 'sizes': {'large': {'w': 624, 'h': 360, 'resize': 'fit'}, 'medium': {'w': 624, 'h': 360, 'resize': 'fit'}, 'thumb': {'w': 150, 'h': 150, 'resize': 'crop'}, 'small': {'w': 624, 'h': 360, 'resize': 'fit'}}}]}, 'extended_entities': {'media': [{'id': 1335590482920038401, 'id_str': '1335590482920038401', 'indices': [0, 23], 'media_url': 'http://pbs.twimg.com/media/Eoj4d8vXYAEK3K5.png', 'media_url_https': 'https://pbs.twimg.com/media/Eoj4d8vXYAEK3K5.png', 'url': 'https://t.co/bof2xo4HKl', 'display_url': 'pic.twitter.com/bof2xo4HKl', 'expanded_url': 'https://twitter.com/context__office/status/1345027500674412546/photo/1', 'type': 'photo', 'sizes': {'large': {'w': 624, 'h': 360, 'resize': 'fit'}, 'medium': {'w': 624, 'h': 360, 'resize': 'fit'}, 'thumb': {'w': 150, 'h': 150, 'resize': 'crop'}, 'small': {'w': 624, 'h': 360, 'resize': 'fit'}}}]}, 'source': '<a href=\"https://mobile.twitter.com\" rel=\"nofollow\">Twitter Web App</a>', 'in_reply_to_status_id': None, 'in_reply_to_status_id_str': None, 'in_reply_to_user_id': None, 'in_reply_to_user_id_str': None, 'in_reply_to_screen_name': None, 'geo': None, 'coordinates': None, 'place': None, 'contributors': None, 'is_quote_status': False, 'retweet_count': 1527, 'favorite_count': 6974, 'favorited': False, 'retweeted': False, 'possibly_sensitive': False, 'lang': 'und'}, created_at=datetime.datetime(2021, 1, 1, 15, 22), id=1345027500674412546, id_str='1345027500674412546', text='https://t.co/bof2xo4HKl', truncated=False, entities={'hashtags': [], 'symbols': [], 'user_mentions': [], 'urls': [], 'media': [{'id': 1335590482920038401, 'id_str': '1335590482920038401', 'indices': [0, 23], 'media_url': 'http://pbs.twimg.com/media/Eoj4d8vXYAEK3K5.png', 'media_url_https': 'https://pbs.twimg.com/media/Eoj4d8vXYAEK3K5.png', 'url': 'https://t.co/bof2xo4HKl', 'display_url': 'pic.twitter.com/bof2xo4HKl', 'expanded_url': 'https://twitter.com/context__office/status/1345027500674412546/photo/1', 'type': 'photo', 'sizes': {'large': {'w': 624, 'h': 360, 'resize': 'fit'}, 'medium': {'w': 624, 'h': 360, 'resize': 'fit'}, 'thumb': {'w': 150, 'h': 150, 'resize': 'crop'}, 'small': {'w': 624, 'h': 360, 'resize': 'fit'}}}]}, extended_entities={'media': [{'id': 1335590482920038401, 'id_str': '1335590482920038401', 'indices': [0, 23], 'media_url': 'http://pbs.twimg.com/media/Eoj4d8vXYAEK3K5.png', 'media_url_https': 'https://pbs.twimg.com/media/Eoj4d8vXYAEK3K5.png', 'url': 'https://t.co/bof2xo4HKl', 'display_url': 'pic.twitter.com/bof2xo4HKl', 'expanded_url': 'https://twitter.com/context__office/status/1345027500674412546/photo/1', 'type': 'photo', 'sizes': {'large': {'w': 624, 'h': 360, 'resize': 'fit'}, 'medium': {'w': 624, 'h': 360, 'resize': 'fit'}, 'thumb': {'w': 150, 'h': 150, 'resize': 'crop'}, 'small': {'w': 624, 'h': 360, 'resize': 'fit'}}}]}, source='Twitter Web App', source_url='https://mobile.twitter.com', in_reply_to_status_id=None, in_reply_to_status_id_str=None, in_reply_to_user_id=None, in_reply_to_user_id_str=None, in_reply_to_screen_name=None, geo=None, coordinates=None, place=None, contributors=None, is_quote_status=False, retweet_count=1527, favorite_count=6974, favorited=False, retweeted=False, possibly_sensitive=False, lang='und'), is_quote_status=False, retweet_count=1527, favorite_count=0, favorited=False, retweeted=False, possibly_sensitive=False, lang='und'), contributors_enabled=False, is_translator=False, is_translation_enabled=False, profile_background_color='C0DEED', profile_background_image_url='http://abs.twimg.com/images/themes/theme1/bg.png', profile_background_image_url_https='https://abs.twimg.com/images/themes/theme1/bg.png', profile_background_tile=False, profile_image_url='http://pbs.twimg.com/profile_images/1258083294870036481/T-f9OgNq_normal.jpg', profile_image_url_https='https://pbs.twimg.com/profile_images/1258083294870036481/T-f9OgNq_normal.jpg', profile_banner_url='https://pbs.twimg.com/profile_banners/595688846/1549618116', profile_link_color='1DA1F2', profile_sidebar_border_color='C0DEED', profile_sidebar_fill_color='DDEEF6', profile_text_color='333333', profile_use_background_image=True, has_extended_profile=True, default_profile=True, default_profile_image=False, following=True, live_following=False, follow_request_sent=False, notifications=False, muting=False, blocking=False, blocked_by=False, translator_type='none')]"
            ]
          },
          "metadata": {
            "tags": []
          },
          "execution_count": 343
        }
      ]
    },
    {
      "cell_type": "markdown",
      "metadata": {
        "id": "F0UHj1HVQ9mB"
      },
      "source": [
        "## **Pull data from Twitter**"
      ]
    },
    {
      "cell_type": "code",
      "metadata": {
        "id": "7EC0hNYEqOag"
      },
      "source": [
        "fk = api.me()"
      ],
      "execution_count": null,
      "outputs": []
    },
    {
      "cell_type": "code",
      "metadata": {
        "colab": {
          "base_uri": "https://localhost:8080/",
          "height": 35
        },
        "id": "cJko2ZjWqQbw",
        "outputId": "fe4193cd-da6e-4fce-ebc4-db8794c45b58"
      },
      "source": [
        "fk.screen_name"
      ],
      "execution_count": null,
      "outputs": [
        {
          "output_type": "execute_result",
          "data": {
            "application/vnd.google.colaboratory.intrinsic+json": {
              "type": "string"
            },
            "text/plain": [
              "'wafou1996'"
            ]
          },
          "metadata": {
            "tags": []
          },
          "execution_count": 345
        }
      ]
    },
    {
      "cell_type": "code",
      "metadata": {
        "colab": {
          "base_uri": "https://localhost:8080/"
        },
        "id": "QArBfeoaqspR",
        "outputId": "765257fe-2885-4efc-ed7c-506955a0a57d"
      },
      "source": [
        "fk.followers_count"
      ],
      "execution_count": null,
      "outputs": [
        {
          "output_type": "execute_result",
          "data": {
            "text/plain": [
              "7"
            ]
          },
          "metadata": {
            "tags": []
          },
          "execution_count": 346
        }
      ]
    },
    {
      "cell_type": "code",
      "metadata": {
        "colab": {
          "base_uri": "https://localhost:8080/"
        },
        "id": "3MU9OwQ3qxPH",
        "outputId": "fca5e5c7-7307-4270-ea11-27484aeca6a4"
      },
      "source": [
        "fk.friends"
      ],
      "execution_count": null,
      "outputs": [
        {
          "output_type": "execute_result",
          "data": {
            "text/plain": [
              "<bound method User.friends of User(_api=<tweepy.api.API object at 0x7f3005c53f60>, _json={'id': 793437878617604096, 'id_str': '793437878617604096', 'name': 'waf', 'screen_name': 'wafou1996', 'location': '', 'profile_location': None, 'description': 'just an other girl who follows youtubers and celebs', 'url': None, 'entities': {'description': {'urls': []}}, 'protected': True, 'followers_count': 7, 'friends_count': 24, 'listed_count': 0, 'created_at': 'Tue Nov 01 13:01:46 +0000 2016', 'favourites_count': 44, 'utc_offset': None, 'time_zone': None, 'geo_enabled': False, 'verified': False, 'statuses_count': 6, 'lang': None, 'status': {'created_at': 'Sun Dec 13 17:13:49 +0000 2020', 'id': 1338170272285929472, 'id_str': '1338170272285929472', 'text': '@Jack_Septic_Eye all hail shrek', 'truncated': False, 'entities': {'hashtags': [], 'symbols': [], 'user_mentions': [{'screen_name': 'Jack_Septic_Eye', 'name': 'Jacksepticeye', 'id': 77596200, 'id_str': '77596200', 'indices': [0, 16]}], 'urls': []}, 'source': '<a href=\"https://mobile.twitter.com\" rel=\"nofollow\">Twitter Web App</a>', 'in_reply_to_status_id': 1338170052345008129, 'in_reply_to_status_id_str': '1338170052345008129', 'in_reply_to_user_id': 77596200, 'in_reply_to_user_id_str': '77596200', 'in_reply_to_screen_name': 'Jack_Septic_Eye', 'geo': None, 'coordinates': None, 'place': None, 'contributors': None, 'is_quote_status': False, 'retweet_count': 0, 'favorite_count': 0, 'favorited': False, 'retweeted': False, 'lang': 'en'}, 'contributors_enabled': False, 'is_translator': False, 'is_translation_enabled': False, 'profile_background_color': 'F5F8FA', 'profile_background_image_url': None, 'profile_background_image_url_https': None, 'profile_background_tile': False, 'profile_image_url': 'http://pbs.twimg.com/profile_images/842793634554634241/CMIn-uVF_normal.jpg', 'profile_image_url_https': 'https://pbs.twimg.com/profile_images/842793634554634241/CMIn-uVF_normal.jpg', 'profile_link_color': '1DA1F2', 'profile_sidebar_border_color': 'C0DEED', 'profile_sidebar_fill_color': 'DDEEF6', 'profile_text_color': '333333', 'profile_use_background_image': True, 'has_extended_profile': False, 'default_profile': True, 'default_profile_image': False, 'following': False, 'follow_request_sent': False, 'notifications': False, 'translator_type': 'none', 'suspended': False, 'needs_phone_verification': False}, id=793437878617604096, id_str='793437878617604096', name='waf', screen_name='wafou1996', location='', profile_location=None, description='just an other girl who follows youtubers and celebs', url=None, entities={'description': {'urls': []}}, protected=True, followers_count=7, friends_count=24, listed_count=0, created_at=datetime.datetime(2016, 11, 1, 13, 1, 46), favourites_count=44, utc_offset=None, time_zone=None, geo_enabled=False, verified=False, statuses_count=6, lang=None, status=Status(_api=<tweepy.api.API object at 0x7f3005c53f60>, _json={'created_at': 'Sun Dec 13 17:13:49 +0000 2020', 'id': 1338170272285929472, 'id_str': '1338170272285929472', 'text': '@Jack_Septic_Eye all hail shrek', 'truncated': False, 'entities': {'hashtags': [], 'symbols': [], 'user_mentions': [{'screen_name': 'Jack_Septic_Eye', 'name': 'Jacksepticeye', 'id': 77596200, 'id_str': '77596200', 'indices': [0, 16]}], 'urls': []}, 'source': '<a href=\"https://mobile.twitter.com\" rel=\"nofollow\">Twitter Web App</a>', 'in_reply_to_status_id': 1338170052345008129, 'in_reply_to_status_id_str': '1338170052345008129', 'in_reply_to_user_id': 77596200, 'in_reply_to_user_id_str': '77596200', 'in_reply_to_screen_name': 'Jack_Septic_Eye', 'geo': None, 'coordinates': None, 'place': None, 'contributors': None, 'is_quote_status': False, 'retweet_count': 0, 'favorite_count': 0, 'favorited': False, 'retweeted': False, 'lang': 'en'}, created_at=datetime.datetime(2020, 12, 13, 17, 13, 49), id=1338170272285929472, id_str='1338170272285929472', text='@Jack_Septic_Eye all hail shrek', truncated=False, entities={'hashtags': [], 'symbols': [], 'user_mentions': [{'screen_name': 'Jack_Septic_Eye', 'name': 'Jacksepticeye', 'id': 77596200, 'id_str': '77596200', 'indices': [0, 16]}], 'urls': []}, source='Twitter Web App', source_url='https://mobile.twitter.com', in_reply_to_status_id=1338170052345008129, in_reply_to_status_id_str='1338170052345008129', in_reply_to_user_id=77596200, in_reply_to_user_id_str='77596200', in_reply_to_screen_name='Jack_Septic_Eye', geo=None, coordinates=None, place=None, contributors=None, is_quote_status=False, retweet_count=0, favorite_count=0, favorited=False, retweeted=False, lang='en'), contributors_enabled=False, is_translator=False, is_translation_enabled=False, profile_background_color='F5F8FA', profile_background_image_url=None, profile_background_image_url_https=None, profile_background_tile=False, profile_image_url='http://pbs.twimg.com/profile_images/842793634554634241/CMIn-uVF_normal.jpg', profile_image_url_https='https://pbs.twimg.com/profile_images/842793634554634241/CMIn-uVF_normal.jpg', profile_link_color='1DA1F2', profile_sidebar_border_color='C0DEED', profile_sidebar_fill_color='DDEEF6', profile_text_color='333333', profile_use_background_image=True, has_extended_profile=False, default_profile=True, default_profile_image=False, following=False, follow_request_sent=False, notifications=False, translator_type='none', suspended=False, needs_phone_verification=False)>"
            ]
          },
          "metadata": {
            "tags": []
          },
          "execution_count": 347
        }
      ]
    },
    {
      "cell_type": "code",
      "metadata": {
        "id": "mL6yWpq5rUKf",
        "colab": {
          "base_uri": "https://localhost:8080/"
        },
        "outputId": "f8b7da8a-06f2-49e8-d3d2-6000eb7f6b3c"
      },
      "source": [
        "for friend in fk.friends(count=10):\r\n",
        "    print(friend.screen_name)"
      ],
      "execution_count": null,
      "outputs": [
        {
          "output_type": "stream",
          "text": [
            "Corpse_Husband\n",
            "Valkyrae\n",
            "MeelaVanderB\n",
            "mOss_OPUS\n",
            "ProjektMelody\n",
            "Nux_Taku\n",
            "lil_canaryy\n",
            "context__office\n",
            "LStrikesArt\n",
            "finalfantasyvii\n"
          ],
          "name": "stdout"
        }
      ]
    },
    {
      "cell_type": "code",
      "metadata": {
        "id": "-r1aipI9rYAu",
        "colab": {
          "base_uri": "https://localhost:8080/"
        },
        "outputId": "08b48fb9-fc42-403c-aefa-e1d56414ff10"
      },
      "source": [
        "dir(fk)"
      ],
      "execution_count": null,
      "outputs": [
        {
          "output_type": "execute_result",
          "data": {
            "text/plain": [
              "['__class__',\n",
              " '__delattr__',\n",
              " '__dict__',\n",
              " '__dir__',\n",
              " '__doc__',\n",
              " '__eq__',\n",
              " '__format__',\n",
              " '__ge__',\n",
              " '__getattribute__',\n",
              " '__getstate__',\n",
              " '__gt__',\n",
              " '__hash__',\n",
              " '__init__',\n",
              " '__init_subclass__',\n",
              " '__le__',\n",
              " '__lt__',\n",
              " '__module__',\n",
              " '__ne__',\n",
              " '__new__',\n",
              " '__reduce__',\n",
              " '__reduce_ex__',\n",
              " '__repr__',\n",
              " '__setattr__',\n",
              " '__sizeof__',\n",
              " '__str__',\n",
              " '__subclasshook__',\n",
              " '__weakref__',\n",
              " '_api',\n",
              " '_json',\n",
              " 'contributors_enabled',\n",
              " 'created_at',\n",
              " 'default_profile',\n",
              " 'default_profile_image',\n",
              " 'description',\n",
              " 'entities',\n",
              " 'favourites_count',\n",
              " 'follow',\n",
              " 'follow_request_sent',\n",
              " 'followers',\n",
              " 'followers_count',\n",
              " 'followers_ids',\n",
              " 'following',\n",
              " 'friends',\n",
              " 'friends_count',\n",
              " 'geo_enabled',\n",
              " 'has_extended_profile',\n",
              " 'id',\n",
              " 'id_str',\n",
              " 'is_translation_enabled',\n",
              " 'is_translator',\n",
              " 'lang',\n",
              " 'listed_count',\n",
              " 'lists',\n",
              " 'lists_memberships',\n",
              " 'lists_subscriptions',\n",
              " 'location',\n",
              " 'name',\n",
              " 'needs_phone_verification',\n",
              " 'notifications',\n",
              " 'parse',\n",
              " 'parse_list',\n",
              " 'profile_background_color',\n",
              " 'profile_background_image_url',\n",
              " 'profile_background_image_url_https',\n",
              " 'profile_background_tile',\n",
              " 'profile_image_url',\n",
              " 'profile_image_url_https',\n",
              " 'profile_link_color',\n",
              " 'profile_location',\n",
              " 'profile_sidebar_border_color',\n",
              " 'profile_sidebar_fill_color',\n",
              " 'profile_text_color',\n",
              " 'profile_use_background_image',\n",
              " 'protected',\n",
              " 'screen_name',\n",
              " 'status',\n",
              " 'statuses_count',\n",
              " 'suspended',\n",
              " 'time_zone',\n",
              " 'timeline',\n",
              " 'translator_type',\n",
              " 'unfollow',\n",
              " 'url',\n",
              " 'utc_offset',\n",
              " 'verified']"
            ]
          },
          "metadata": {
            "tags": []
          },
          "execution_count": 349
        }
      ]
    },
    {
      "cell_type": "code",
      "metadata": {
        "colab": {
          "base_uri": "https://localhost:8080/",
          "height": 35
        },
        "id": "rWm-ij7srdTX",
        "outputId": "372d7004-4ea3-44be-f766-fb2683e7356e"
      },
      "source": [
        "user = api.get_user(id = '3409123967')\r\n",
        "user.screen_name"
      ],
      "execution_count": null,
      "outputs": [
        {
          "output_type": "execute_result",
          "data": {
            "application/vnd.google.colaboratory.intrinsic+json": {
              "type": "string"
            },
            "text/plain": [
              "'Corpse_Husband'"
            ]
          },
          "metadata": {
            "tags": []
          },
          "execution_count": 350
        }
      ]
    },
    {
      "cell_type": "code",
      "metadata": {
        "colab": {
          "base_uri": "https://localhost:8080/"
        },
        "id": "3h3pv11mucAm",
        "outputId": "9efeba2f-b859-45f0-d48b-d90c2361a3fb"
      },
      "source": [
        "user.followers_count"
      ],
      "execution_count": null,
      "outputs": [
        {
          "output_type": "execute_result",
          "data": {
            "text/plain": [
              "2297380"
            ]
          },
          "metadata": {
            "tags": []
          },
          "execution_count": 351
        }
      ]
    },
    {
      "cell_type": "code",
      "metadata": {
        "colab": {
          "base_uri": "https://localhost:8080/",
          "height": 35
        },
        "id": "U-oQUMUBueNM",
        "outputId": "035b37f3-0a91-418e-a9fe-4a22a08c323b"
      },
      "source": [
        "user.profile_image_url"
      ],
      "execution_count": null,
      "outputs": [
        {
          "output_type": "execute_result",
          "data": {
            "application/vnd.google.colaboratory.intrinsic+json": {
              "type": "string"
            },
            "text/plain": [
              "'http://pbs.twimg.com/profile_images/1312085734547832839/u3JB9Rq6_normal.jpg'"
            ]
          },
          "metadata": {
            "tags": []
          },
          "execution_count": 352
        }
      ]
    },
    {
      "cell_type": "markdown",
      "metadata": {
        "id": "CaUJ2lELRCcZ"
      },
      "source": [
        "## **home timeline**"
      ]
    },
    {
      "cell_type": "code",
      "metadata": {
        "id": "90oJju_pu5qs"
      },
      "source": [
        "public_tweets = api.home_timeline(count=10)"
      ],
      "execution_count": null,
      "outputs": []
    },
    {
      "cell_type": "code",
      "metadata": {
        "id": "gTblRxlwu94k",
        "colab": {
          "base_uri": "https://localhost:8080/"
        },
        "outputId": "0cc29ed2-c583-4d2f-f7df-d1f3da71d8af"
      },
      "source": [
        "for tweet in public_tweets:\r\n",
        "    print(tweet.text)"
      ],
      "execution_count": null,
      "outputs": [
        {
          "output_type": "stream",
          "text": [
            "Hihi!\n",
            "\n",
            "Little things to break bad habits &amp; build better ones;\n",
            "\n",
            "Charging my phone during the night on the opposite s… https://t.co/8FQAJ0Ii6H\n",
            "XP-PEN Artist15.6 Pro 15.6 Inch Drawing \n",
            "Display Graphics Drawing Monitor \n",
            "Buy now! \n",
            "https://t.co/RWJMW7HuTG\n",
            "Sponso… https://t.co/Tb3hi5r27D\n",
            "Thank you for 3OO,OOO Subscribers! \n",
            "I really appreciate the incredible support you've given me throughout 2O2O, I'm… https://t.co/v3ENans6RF\n",
            "Knowing you’re different is only the beginning. If you accept these differences you’ll be able to get past them and… https://t.co/QFCKKMe2CD\n",
            "Every journey begins with a single step. We just have to have patience #anime #fanartanime #mangadraw #waifumemes… https://t.co/qKz15uR2Na\n",
            "Got your New Year's resolutions lined up? Here's some #MondayMotivation from Jessie! https://t.co/ul34Z6bI1k\n",
            "RT @theclotizine: ✨ Are you guys ready? Preorders for #TheClotiZine officially open in ONE WEEK! ☺️\n",
            "\n",
            "✨ Save the date! Public access to our…\n"
          ],
          "name": "stdout"
        }
      ]
    },
    {
      "cell_type": "markdown",
      "metadata": {
        "id": "XOyLWSJURGiv"
      },
      "source": [
        "## **user time line**"
      ]
    },
    {
      "cell_type": "code",
      "metadata": {
        "id": "engw29Xivot0",
        "colab": {
          "base_uri": "https://localhost:8080/"
        },
        "outputId": "c7421d60-8a8c-490c-8729-4fe18b0558ab"
      },
      "source": [
        "name = '3409123967'\r\n",
        "tweet_count = 10\r\n",
        "\r\n",
        "user_timeline = api.user_timeline(id = name, count=tweet_count)\r\n",
        "\r\n",
        "for i in user_timeline:\r\n",
        "    print(i.text)\r\n"
      ],
      "execution_count": null,
      "outputs": [
        {
          "output_type": "stream",
          "text": [
            "@emmalangevinxo @Freddy_bo809 ? https://t.co/VmPrrMQ2ri\n",
            "@MrBeastYT Everyone involved did an incredible job, thanks for putting it together :)\n",
            "@pokimanelol wait\n",
            "@Dream :)\n",
            "@LilNasX absolutely\n",
            "@CorpseClips LMAOOO @LudwigAhgren , I was wondering why you sounded so different\n",
            "@Tweet4nita 🖤\n",
            "@KarlJacobs_ &lt;3\n",
            "@Lazarbeam The same has happened to me as well for months, it's awful\n",
            "♥️❗️\n"
          ],
          "name": "stdout"
        }
      ]
    },
    {
      "cell_type": "markdown",
      "metadata": {
        "id": "x4idjuARRJT-"
      },
      "source": [
        "## **retweets**"
      ]
    },
    {
      "cell_type": "code",
      "metadata": {
        "id": "-lldcPvFwo7a"
      },
      "source": [
        "retweets = api.retweets_of_me(count=10)\r\n",
        "for retweet in retweets:\r\n",
        "    print(retweet.text)"
      ],
      "execution_count": null,
      "outputs": []
    },
    {
      "cell_type": "markdown",
      "metadata": {
        "id": "JwsJgJqLRND2"
      },
      "source": [
        "## **hastag**"
      ]
    },
    {
      "cell_type": "code",
      "metadata": {
        "id": "YfZUv_bSxOfR"
      },
      "source": [
        "results = api.search(q = '#datascience',\r\n",
        "                    lang = 'tr',\r\n",
        "                    result_type = 'recent',\r\n",
        "                    count = 1000000 )"
      ],
      "execution_count": null,
      "outputs": []
    },
    {
      "cell_type": "markdown",
      "metadata": {
        "id": "EFYLvA025-pW"
      },
      "source": [
        "## **convert to dataframe**"
      ]
    },
    {
      "cell_type": "code",
      "metadata": {
        "id": "WMiYmThd46w0"
      },
      "source": [
        "import pandas as pd"
      ],
      "execution_count": null,
      "outputs": []
    },
    {
      "cell_type": "code",
      "metadata": {
        "id": "5C9oAstp49Br"
      },
      "source": [
        "def tweets_df(results):\r\n",
        "    id_list = [tweet.id for tweet in results]\r\n",
        "    data_set = pd.DataFrame(id_list,columns=['id'])\r\n",
        "    \r\n",
        "    \r\n",
        "    data_set['text'] = [tweet.text for tweet in results]\r\n",
        "    data_set['created_at'] = [tweet.created_at for tweet in results]\r\n",
        "    data_set['retweet_count'] = [tweet.retweet_count for tweet in results]\r\n",
        "    data_set['name'] = [tweet.author.name for tweet in results]\r\n",
        "    data_set['user_screen_name'] = [tweet.author.screen_name for tweet in results]\r\n",
        "    data_set['user_followers_count'] = [tweet.author.followers_count for tweet in results]\r\n",
        "    data_set['user_location'] = [tweet.author.location for tweet in results]\r\n",
        "    data_set['Hashtags'] = [tweet.entities.get('hashtags') for tweet in results]\r\n",
        "    \r\n",
        "    return data_set"
      ],
      "execution_count": null,
      "outputs": []
    },
    {
      "cell_type": "code",
      "metadata": {
        "id": "ux7KoXRN5Lp0"
      },
      "source": [
        "data = tweets_df(results)"
      ],
      "execution_count": null,
      "outputs": []
    },
    {
      "cell_type": "code",
      "metadata": {
        "colab": {
          "base_uri": "https://localhost:8080/",
          "height": 204
        },
        "id": "oCLRSy145nfF",
        "outputId": "d4a9ec2d-30d8-4f2d-d8f7-fbd29704eedb"
      },
      "source": [
        "data.head()"
      ],
      "execution_count": null,
      "outputs": [
        {
          "output_type": "execute_result",
          "data": {
            "text/html": [
              "<div>\n",
              "<style scoped>\n",
              "    .dataframe tbody tr th:only-of-type {\n",
              "        vertical-align: middle;\n",
              "    }\n",
              "\n",
              "    .dataframe tbody tr th {\n",
              "        vertical-align: top;\n",
              "    }\n",
              "\n",
              "    .dataframe thead th {\n",
              "        text-align: right;\n",
              "    }\n",
              "</style>\n",
              "<table border=\"1\" class=\"dataframe\">\n",
              "  <thead>\n",
              "    <tr style=\"text-align: right;\">\n",
              "      <th></th>\n",
              "      <th>id</th>\n",
              "      <th>text</th>\n",
              "      <th>created_at</th>\n",
              "      <th>retweet_count</th>\n",
              "      <th>name</th>\n",
              "      <th>user_screen_name</th>\n",
              "      <th>user_followers_count</th>\n",
              "      <th>user_location</th>\n",
              "      <th>Hashtags</th>\n",
              "    </tr>\n",
              "  </thead>\n",
              "  <tbody>\n",
              "    <tr>\n",
              "      <th>0</th>\n",
              "      <td>1346133229800140800</td>\n",
              "      <td>Sosyal Fayda için Veri Bilimi Programı kapsamı...</td>\n",
              "      <td>2021-01-04 16:35:46</td>\n",
              "      <td>0</td>\n",
              "      <td>CADS@TEDU</td>\n",
              "      <td>cads_tedu</td>\n",
              "      <td>442</td>\n",
              "      <td>TED Üniversitesi</td>\n",
              "      <td>[]</td>\n",
              "    </tr>\n",
              "    <tr>\n",
              "      <th>1</th>\n",
              "      <td>1346007029119381504</td>\n",
              "      <td>RT @aimsanalitik: Hızlı ve Optimal Çözüm Öneri...</td>\n",
              "      <td>2021-01-04 08:14:18</td>\n",
              "      <td>1</td>\n",
              "      <td>godfrey</td>\n",
              "      <td>godfrey_G_</td>\n",
              "      <td>143</td>\n",
              "      <td>Johannesburg, South Africa</td>\n",
              "      <td>[{'text': 'çözüm', 'indices': [89, 95]}, {'tex...</td>\n",
              "    </tr>\n",
              "    <tr>\n",
              "      <th>2</th>\n",
              "      <td>1345994291970191360</td>\n",
              "      <td>Hızlı ve Optimal Çözüm Önerileri 👈🏻\\n\\n⭕️ http...</td>\n",
              "      <td>2021-01-04 07:23:41</td>\n",
              "      <td>1</td>\n",
              "      <td>AIMS (Former SPSS TR)</td>\n",
              "      <td>aimsanalitik</td>\n",
              "      <td>90</td>\n",
              "      <td>Maltepe, İstanbul</td>\n",
              "      <td>[{'text': 'çözüm', 'indices': [71, 77]}, {'tex...</td>\n",
              "    </tr>\n",
              "    <tr>\n",
              "      <th>3</th>\n",
              "      <td>1345862132139638785</td>\n",
              "      <td>Oltalama Saldırılarını Fark Etme ve Önleme Yön...</td>\n",
              "      <td>2021-01-03 22:38:31</td>\n",
              "      <td>0</td>\n",
              "      <td>iSecurity</td>\n",
              "      <td>iSecurity</td>\n",
              "      <td>650</td>\n",
              "      <td>Global</td>\n",
              "      <td>[{'text': 'datascience', 'indices': [78, 90]},...</td>\n",
              "    </tr>\n",
              "    <tr>\n",
              "      <th>4</th>\n",
              "      <td>1345831768281243654</td>\n",
              "      <td>RT @datasciencearth: Kaynak arıyorum ama bulam...</td>\n",
              "      <td>2021-01-03 20:37:52</td>\n",
              "      <td>9</td>\n",
              "      <td>Halil</td>\n",
              "      <td>gencoder07</td>\n",
              "      <td>197</td>\n",
              "      <td>Bursa, Türkiye</td>\n",
              "      <td>[]</td>\n",
              "    </tr>\n",
              "  </tbody>\n",
              "</table>\n",
              "</div>"
            ],
            "text/plain": [
              "                    id  ...                                           Hashtags\n",
              "0  1346133229800140800  ...                                                 []\n",
              "1  1346007029119381504  ...  [{'text': 'çözüm', 'indices': [89, 95]}, {'tex...\n",
              "2  1345994291970191360  ...  [{'text': 'çözüm', 'indices': [71, 77]}, {'tex...\n",
              "3  1345862132139638785  ...  [{'text': 'datascience', 'indices': [78, 90]},...\n",
              "4  1345831768281243654  ...                                                 []\n",
              "\n",
              "[5 rows x 9 columns]"
            ]
          },
          "metadata": {
            "tags": []
          },
          "execution_count": 361
        }
      ]
    },
    {
      "cell_type": "markdown",
      "metadata": {
        "id": "PQ__iLzU50X3"
      },
      "source": [
        "## **Corpse Profile Analysis**"
      ]
    },
    {
      "cell_type": "code",
      "metadata": {
        "id": "Tyuzszre5t7z"
      },
      "source": [
        "Corpse = api.get_user('3409123967')"
      ],
      "execution_count": null,
      "outputs": []
    },
    {
      "cell_type": "code",
      "metadata": {
        "colab": {
          "base_uri": "https://localhost:8080/",
          "height": 35
        },
        "id": "beud_wpl63QE",
        "outputId": "156a45d7-d752-42ac-ea72-f4df71fd2cde"
      },
      "source": [
        "Corpse.name"
      ],
      "execution_count": null,
      "outputs": [
        {
          "output_type": "execute_result",
          "data": {
            "application/vnd.google.colaboratory.intrinsic+json": {
              "type": "string"
            },
            "text/plain": [
              "'Corpse Husband'"
            ]
          },
          "metadata": {
            "tags": []
          },
          "execution_count": 363
        }
      ]
    },
    {
      "cell_type": "code",
      "metadata": {
        "colab": {
          "base_uri": "https://localhost:8080/"
        },
        "id": "8LU_fX5463_k",
        "outputId": "1cf12f5d-57a2-49b7-9deb-00dfe3214956"
      },
      "source": [
        "Corpse.id"
      ],
      "execution_count": null,
      "outputs": [
        {
          "output_type": "execute_result",
          "data": {
            "text/plain": [
              "3409123967"
            ]
          },
          "metadata": {
            "tags": []
          },
          "execution_count": 364
        }
      ]
    },
    {
      "cell_type": "code",
      "metadata": {
        "colab": {
          "base_uri": "https://localhost:8080/",
          "height": 35
        },
        "id": "zXOO6vyi65g0",
        "outputId": "2c2c1fd7-be65-4040-8eeb-d7eabb1549e5"
      },
      "source": [
        "Corpse.url"
      ],
      "execution_count": null,
      "outputs": [
        {
          "output_type": "execute_result",
          "data": {
            "application/vnd.google.colaboratory.intrinsic+json": {
              "type": "string"
            },
            "text/plain": [
              "'https://t.co/9kfn7QR0uY'"
            ]
          },
          "metadata": {
            "tags": []
          },
          "execution_count": 365
        }
      ]
    },
    {
      "cell_type": "code",
      "metadata": {
        "colab": {
          "base_uri": "https://localhost:8080/"
        },
        "id": "LgKqdTK3678T",
        "outputId": "680e5b52-00fe-47fc-f1c6-76c7ecc7f8dd"
      },
      "source": [
        "Corpse.verified"
      ],
      "execution_count": null,
      "outputs": [
        {
          "output_type": "execute_result",
          "data": {
            "text/plain": [
              "True"
            ]
          },
          "metadata": {
            "tags": []
          },
          "execution_count": 366
        }
      ]
    },
    {
      "cell_type": "code",
      "metadata": {
        "colab": {
          "base_uri": "https://localhost:8080/",
          "height": 35
        },
        "id": "cmJB1Ydv69Q0",
        "outputId": "0d042109-9ad8-48b8-9040-946a0838d07f"
      },
      "source": [
        "Corpse.screen_name"
      ],
      "execution_count": null,
      "outputs": [
        {
          "output_type": "execute_result",
          "data": {
            "application/vnd.google.colaboratory.intrinsic+json": {
              "type": "string"
            },
            "text/plain": [
              "'Corpse_Husband'"
            ]
          },
          "metadata": {
            "tags": []
          },
          "execution_count": 367
        }
      ]
    },
    {
      "cell_type": "code",
      "metadata": {
        "colab": {
          "base_uri": "https://localhost:8080/"
        },
        "id": "BO43UaZu6-uj",
        "outputId": "94a9c8ef-4c94-431b-cf6a-d2a5c2ffe388"
      },
      "source": [
        "Corpse.statuses_count"
      ],
      "execution_count": null,
      "outputs": [
        {
          "output_type": "execute_result",
          "data": {
            "text/plain": [
              "1434"
            ]
          },
          "metadata": {
            "tags": []
          },
          "execution_count": 368
        }
      ]
    },
    {
      "cell_type": "code",
      "metadata": {
        "colab": {
          "base_uri": "https://localhost:8080/"
        },
        "id": "1S2sYz3g7AGr",
        "outputId": "e2ee1b9d-3c81-4506-a41a-c8d5789d03fe"
      },
      "source": [
        "Corpse.favourites_count"
      ],
      "execution_count": null,
      "outputs": [
        {
          "output_type": "execute_result",
          "data": {
            "text/plain": [
              "72187"
            ]
          },
          "metadata": {
            "tags": []
          },
          "execution_count": 369
        }
      ]
    },
    {
      "cell_type": "code",
      "metadata": {
        "colab": {
          "base_uri": "https://localhost:8080/"
        },
        "id": "5c2cDCCK7BYL",
        "outputId": "999cd5e0-f1d0-4476-c944-2e3b3498c5e6"
      },
      "source": [
        "Corpse.friends_count"
      ],
      "execution_count": null,
      "outputs": [
        {
          "output_type": "execute_result",
          "data": {
            "text/plain": [
              "472"
            ]
          },
          "metadata": {
            "tags": []
          },
          "execution_count": 370
        }
      ]
    },
    {
      "cell_type": "code",
      "metadata": {
        "id": "n7ylDqld7Dy2"
      },
      "source": [
        "tweets = api.user_timeline(id = '3409123967')"
      ],
      "execution_count": null,
      "outputs": []
    },
    {
      "cell_type": "code",
      "metadata": {
        "id": "2IKOi2uf8FAW"
      },
      "source": [
        "def timeline_df(tweets):\r\n",
        "    id_list = [tweet.id for tweet in tweets]\r\n",
        "    data_set = pd.DataFrame(id_list,columns=['id'])\r\n",
        "    \r\n",
        "    \r\n",
        "    data_set['text'] = [tweet.text for tweet in tweets]\r\n",
        "    data_set['created_at'] = [tweet.created_at for tweet in tweets]\r\n",
        "    data_set['retweet_count'] = [tweet.retweet_count for tweet in tweets]\r\n",
        "    data_set['favorite_count'] = [tweet.favorite_count for tweet in tweets]\r\n",
        "    data_set['source'] = [tweet.source for tweet in tweets]\r\n",
        "\r\n",
        "    \r\n",
        "    return data_set"
      ],
      "execution_count": null,
      "outputs": []
    },
    {
      "cell_type": "code",
      "metadata": {
        "colab": {
          "base_uri": "https://localhost:8080/",
          "height": 669
        },
        "id": "Lre3FJHe8HzV",
        "outputId": "3231a252-2e8d-4899-cf18-f2b561c14bbb"
      },
      "source": [
        "timeline_df(tweets)"
      ],
      "execution_count": null,
      "outputs": [
        {
          "output_type": "execute_result",
          "data": {
            "text/html": [
              "<div>\n",
              "<style scoped>\n",
              "    .dataframe tbody tr th:only-of-type {\n",
              "        vertical-align: middle;\n",
              "    }\n",
              "\n",
              "    .dataframe tbody tr th {\n",
              "        vertical-align: top;\n",
              "    }\n",
              "\n",
              "    .dataframe thead th {\n",
              "        text-align: right;\n",
              "    }\n",
              "</style>\n",
              "<table border=\"1\" class=\"dataframe\">\n",
              "  <thead>\n",
              "    <tr style=\"text-align: right;\">\n",
              "      <th></th>\n",
              "      <th>id</th>\n",
              "      <th>text</th>\n",
              "      <th>created_at</th>\n",
              "      <th>retweet_count</th>\n",
              "      <th>favorite_count</th>\n",
              "      <th>source</th>\n",
              "    </tr>\n",
              "  </thead>\n",
              "  <tbody>\n",
              "    <tr>\n",
              "      <th>0</th>\n",
              "      <td>1345617066498220037</td>\n",
              "      <td>@emmalangevinxo @Freddy_bo809 ? https://t.co/V...</td>\n",
              "      <td>2021-01-03 06:24:43</td>\n",
              "      <td>269</td>\n",
              "      <td>16451</td>\n",
              "      <td>Twitter for iPhone</td>\n",
              "    </tr>\n",
              "    <tr>\n",
              "      <th>1</th>\n",
              "      <td>1345117236969656321</td>\n",
              "      <td>@MrBeastYT Everyone involved did an incredible...</td>\n",
              "      <td>2021-01-01 21:18:35</td>\n",
              "      <td>1512</td>\n",
              "      <td>92202</td>\n",
              "      <td>Twitter for iPhone</td>\n",
              "    </tr>\n",
              "    <tr>\n",
              "      <th>2</th>\n",
              "      <td>1344394644293996544</td>\n",
              "      <td>@pokimanelol wait</td>\n",
              "      <td>2020-12-30 21:27:15</td>\n",
              "      <td>935</td>\n",
              "      <td>102794</td>\n",
              "      <td>Twitter Web App</td>\n",
              "    </tr>\n",
              "    <tr>\n",
              "      <th>3</th>\n",
              "      <td>1344333564985266178</td>\n",
              "      <td>@Dream :)</td>\n",
              "      <td>2020-12-30 17:24:33</td>\n",
              "      <td>981</td>\n",
              "      <td>97291</td>\n",
              "      <td>Twitter Web App</td>\n",
              "    </tr>\n",
              "    <tr>\n",
              "      <th>4</th>\n",
              "      <td>1344029800189419520</td>\n",
              "      <td>@LilNasX absolutely</td>\n",
              "      <td>2020-12-29 21:17:29</td>\n",
              "      <td>279</td>\n",
              "      <td>24342</td>\n",
              "      <td>Twitter Web App</td>\n",
              "    </tr>\n",
              "    <tr>\n",
              "      <th>5</th>\n",
              "      <td>1344012867322834944</td>\n",
              "      <td>@CorpseClips LMAOOO @LudwigAhgren , I was wond...</td>\n",
              "      <td>2020-12-29 20:10:12</td>\n",
              "      <td>635</td>\n",
              "      <td>45906</td>\n",
              "      <td>Twitter Web App</td>\n",
              "    </tr>\n",
              "    <tr>\n",
              "      <th>6</th>\n",
              "      <td>1343760624698810369</td>\n",
              "      <td>@Tweet4nita 🖤</td>\n",
              "      <td>2020-12-29 03:27:53</td>\n",
              "      <td>107</td>\n",
              "      <td>8322</td>\n",
              "      <td>Twitter Web App</td>\n",
              "    </tr>\n",
              "    <tr>\n",
              "      <th>7</th>\n",
              "      <td>1343716201243951104</td>\n",
              "      <td>@KarlJacobs_ &amp;lt;3</td>\n",
              "      <td>2020-12-29 00:31:22</td>\n",
              "      <td>705</td>\n",
              "      <td>59252</td>\n",
              "      <td>Twitter Web App</td>\n",
              "    </tr>\n",
              "    <tr>\n",
              "      <th>8</th>\n",
              "      <td>1343713896096432129</td>\n",
              "      <td>@Lazarbeam The same has happened to me as well...</td>\n",
              "      <td>2020-12-29 00:22:12</td>\n",
              "      <td>135</td>\n",
              "      <td>13042</td>\n",
              "      <td>Twitter Web App</td>\n",
              "    </tr>\n",
              "    <tr>\n",
              "      <th>9</th>\n",
              "      <td>1342505440869928961</td>\n",
              "      <td>♥️❗️</td>\n",
              "      <td>2020-12-25 16:20:14</td>\n",
              "      <td>10927</td>\n",
              "      <td>350530</td>\n",
              "      <td>Twitter Web App</td>\n",
              "    </tr>\n",
              "    <tr>\n",
              "      <th>10</th>\n",
              "      <td>1342252637324898304</td>\n",
              "      <td>i don't even know what to say, thank you so much</td>\n",
              "      <td>2020-12-24 23:35:41</td>\n",
              "      <td>9875</td>\n",
              "      <td>424358</td>\n",
              "      <td>Twitter Web App</td>\n",
              "    </tr>\n",
              "    <tr>\n",
              "      <th>11</th>\n",
              "      <td>1342243709832757249</td>\n",
              "      <td>LIVE\\nhttps://t.co/DEogEBsuMu https://t.co/dhy...</td>\n",
              "      <td>2020-12-24 23:00:12</td>\n",
              "      <td>6930</td>\n",
              "      <td>161476</td>\n",
              "      <td>Twitter Web App</td>\n",
              "    </tr>\n",
              "    <tr>\n",
              "      <th>12</th>\n",
              "      <td>1341881462656659456</td>\n",
              "      <td>MERCH DROP IN 24H\\n12/24 3PM PST\\nhttps://t.co...</td>\n",
              "      <td>2020-12-23 23:00:46</td>\n",
              "      <td>14671</td>\n",
              "      <td>219501</td>\n",
              "      <td>Twitter Web App</td>\n",
              "    </tr>\n",
              "    <tr>\n",
              "      <th>13</th>\n",
              "      <td>1341281519961161728</td>\n",
              "      <td>Sorry if I worried anyone earlier\\n\\nFor those...</td>\n",
              "      <td>2020-12-22 07:16:48</td>\n",
              "      <td>10871</td>\n",
              "      <td>490697</td>\n",
              "      <td>Twitter for iPhone</td>\n",
              "    </tr>\n",
              "    <tr>\n",
              "      <th>14</th>\n",
              "      <td>1341131022398750720</td>\n",
              "      <td>@machinegunkelly 🦇❗️</td>\n",
              "      <td>2020-12-21 21:18:47</td>\n",
              "      <td>847</td>\n",
              "      <td>52943</td>\n",
              "      <td>Twitter Web App</td>\n",
              "    </tr>\n",
              "    <tr>\n",
              "      <th>15</th>\n",
              "      <td>1341122229065535488</td>\n",
              "      <td>@YouTubeGaming @ActualNebula LMAOOOOO</td>\n",
              "      <td>2020-12-21 20:43:50</td>\n",
              "      <td>158</td>\n",
              "      <td>12217</td>\n",
              "      <td>Twitter Web App</td>\n",
              "    </tr>\n",
              "    <tr>\n",
              "      <th>16</th>\n",
              "      <td>1341116064483004416</td>\n",
              "      <td>@yungblud i would love 2 incite chaos, Dom</td>\n",
              "      <td>2020-12-21 20:19:21</td>\n",
              "      <td>922</td>\n",
              "      <td>25546</td>\n",
              "      <td>Twitter Web App</td>\n",
              "    </tr>\n",
              "    <tr>\n",
              "      <th>17</th>\n",
              "      <td>1341096157301284864</td>\n",
              "      <td>@yungblud exactly</td>\n",
              "      <td>2020-12-21 19:00:14</td>\n",
              "      <td>550</td>\n",
              "      <td>43328</td>\n",
              "      <td>Twitter Web App</td>\n",
              "    </tr>\n",
              "    <tr>\n",
              "      <th>18</th>\n",
              "      <td>1340749157930127360</td>\n",
              "      <td>@halsey I’ll dm you https://t.co/ETGm98HkaV</td>\n",
              "      <td>2020-12-20 20:01:23</td>\n",
              "      <td>1937</td>\n",
              "      <td>91818</td>\n",
              "      <td>Twitter for iPhone</td>\n",
              "    </tr>\n",
              "    <tr>\n",
              "      <th>19</th>\n",
              "      <td>1340745582478934021</td>\n",
              "      <td>@halsey yes hello, I also have hand</td>\n",
              "      <td>2020-12-20 19:47:11</td>\n",
              "      <td>1489</td>\n",
              "      <td>69222</td>\n",
              "      <td>Twitter Web App</td>\n",
              "    </tr>\n",
              "  </tbody>\n",
              "</table>\n",
              "</div>"
            ],
            "text/plain": [
              "                     id  ...              source\n",
              "0   1345617066498220037  ...  Twitter for iPhone\n",
              "1   1345117236969656321  ...  Twitter for iPhone\n",
              "2   1344394644293996544  ...     Twitter Web App\n",
              "3   1344333564985266178  ...     Twitter Web App\n",
              "4   1344029800189419520  ...     Twitter Web App\n",
              "5   1344012867322834944  ...     Twitter Web App\n",
              "6   1343760624698810369  ...     Twitter Web App\n",
              "7   1343716201243951104  ...     Twitter Web App\n",
              "8   1343713896096432129  ...     Twitter Web App\n",
              "9   1342505440869928961  ...     Twitter Web App\n",
              "10  1342252637324898304  ...     Twitter Web App\n",
              "11  1342243709832757249  ...     Twitter Web App\n",
              "12  1341881462656659456  ...     Twitter Web App\n",
              "13  1341281519961161728  ...  Twitter for iPhone\n",
              "14  1341131022398750720  ...     Twitter Web App\n",
              "15  1341122229065535488  ...     Twitter Web App\n",
              "16  1341116064483004416  ...     Twitter Web App\n",
              "17  1341096157301284864  ...     Twitter Web App\n",
              "18  1340749157930127360  ...  Twitter for iPhone\n",
              "19  1340745582478934021  ...     Twitter Web App\n",
              "\n",
              "[20 rows x 6 columns]"
            ]
          },
          "metadata": {
            "tags": []
          },
          "execution_count": 373
        }
      ]
    },
    {
      "cell_type": "code",
      "metadata": {
        "id": "cWl-a0458Nro"
      },
      "source": [
        "def timeline_df(tweets):\r\n",
        "    df = pd.DataFrame()\r\n",
        "    \r\n",
        "    df['id'] = list(map(lambda tweet:tweet.id, tweets))\r\n",
        "    df['created_at'] = list(map(lambda tweet:tweet.created_at, tweets))\r\n",
        "    df['text'] = list(map(lambda tweet:tweet.text, tweets)) \r\n",
        "    df['favorite_count'] = list(map(lambda tweet:tweet.favorite_count, tweets))\r\n",
        "    df['retweeted_count'] = list(map(lambda tweet:tweet.retweet_count, tweets))\r\n",
        "    df['source'] = list(map(lambda tweet:tweet.source, tweets))\r\n",
        "    return df"
      ],
      "execution_count": null,
      "outputs": []
    },
    {
      "cell_type": "code",
      "metadata": {
        "id": "MPVE1nXf8QXo"
      },
      "source": [
        "tweets = api.user_timeline(id = '3409123967',count=10000)"
      ],
      "execution_count": null,
      "outputs": []
    },
    {
      "cell_type": "code",
      "metadata": {
        "id": "k8RlVIVO8Wor"
      },
      "source": [
        "df = timeline_df(tweets)"
      ],
      "execution_count": null,
      "outputs": []
    },
    {
      "cell_type": "code",
      "metadata": {
        "colab": {
          "base_uri": "https://localhost:8080/"
        },
        "id": "yFojWi9I8bJb",
        "outputId": "e4a0dd84-42ca-4bdd-c279-6c8fa6225362"
      },
      "source": [
        "df.info()"
      ],
      "execution_count": null,
      "outputs": [
        {
          "output_type": "stream",
          "text": [
            "<class 'pandas.core.frame.DataFrame'>\n",
            "RangeIndex: 200 entries, 0 to 199\n",
            "Data columns (total 6 columns):\n",
            " #   Column           Non-Null Count  Dtype         \n",
            "---  ------           --------------  -----         \n",
            " 0   id               200 non-null    int64         \n",
            " 1   created_at       200 non-null    datetime64[ns]\n",
            " 2   text             200 non-null    object        \n",
            " 3   favorite_count   200 non-null    int64         \n",
            " 4   retweeted_count  200 non-null    int64         \n",
            " 5   source           200 non-null    object        \n",
            "dtypes: datetime64[ns](1), int64(3), object(2)\n",
            "memory usage: 9.5+ KB\n"
          ],
          "name": "stdout"
        }
      ]
    },
    {
      "cell_type": "code",
      "metadata": {
        "colab": {
          "base_uri": "https://localhost:8080/",
          "height": 419
        },
        "id": "6qYDGHtT8fQz",
        "outputId": "40aa9590-1476-4bc5-8e92-6ad56b2b8433"
      },
      "source": [
        "df.sort_values('retweeted_count', ascending= False)"
      ],
      "execution_count": null,
      "outputs": [
        {
          "output_type": "execute_result",
          "data": {
            "text/html": [
              "<div>\n",
              "<style scoped>\n",
              "    .dataframe tbody tr th:only-of-type {\n",
              "        vertical-align: middle;\n",
              "    }\n",
              "\n",
              "    .dataframe tbody tr th {\n",
              "        vertical-align: top;\n",
              "    }\n",
              "\n",
              "    .dataframe thead th {\n",
              "        text-align: right;\n",
              "    }\n",
              "</style>\n",
              "<table border=\"1\" class=\"dataframe\">\n",
              "  <thead>\n",
              "    <tr style=\"text-align: right;\">\n",
              "      <th></th>\n",
              "      <th>id</th>\n",
              "      <th>created_at</th>\n",
              "      <th>text</th>\n",
              "      <th>favorite_count</th>\n",
              "      <th>retweeted_count</th>\n",
              "      <th>source</th>\n",
              "    </tr>\n",
              "  </thead>\n",
              "  <tbody>\n",
              "    <tr>\n",
              "      <th>154</th>\n",
              "      <td>1319786739188203520</td>\n",
              "      <td>2020-10-23 23:44:13</td>\n",
              "      <td>@MrBeastYT :)</td>\n",
              "      <td>599332</td>\n",
              "      <td>58209</td>\n",
              "      <td>Twitter Web App</td>\n",
              "    </tr>\n",
              "    <tr>\n",
              "      <th>98</th>\n",
              "      <td>1322722903624855553</td>\n",
              "      <td>2020-11-01 02:11:29</td>\n",
              "      <td>CHOKE ME LIKE YOU CHOKE ME WHEN YOU CHOKE ME</td>\n",
              "      <td>385980</td>\n",
              "      <td>34288</td>\n",
              "      <td>Twitter Web App</td>\n",
              "    </tr>\n",
              "    <tr>\n",
              "      <th>34</th>\n",
              "      <td>1336403316528488450</td>\n",
              "      <td>2020-12-08 20:12:34</td>\n",
              "      <td>RT @corpseewhore: a thread of links you can rt...</td>\n",
              "      <td>0</td>\n",
              "      <td>28963</td>\n",
              "      <td>Twitter for iPhone</td>\n",
              "    </tr>\n",
              "    <tr>\n",
              "      <th>70</th>\n",
              "      <td>1327780094153089024</td>\n",
              "      <td>2020-11-15 01:06:58</td>\n",
              "      <td>︎ ︎</td>\n",
              "      <td>622093</td>\n",
              "      <td>27463</td>\n",
              "      <td>Twitter Web App</td>\n",
              "    </tr>\n",
              "    <tr>\n",
              "      <th>100</th>\n",
              "      <td>1322451469396635648</td>\n",
              "      <td>2020-10-31 08:12:54</td>\n",
              "      <td>Happy Halloween bichz</td>\n",
              "      <td>313984</td>\n",
              "      <td>23483</td>\n",
              "      <td>Twitter Web App</td>\n",
              "    </tr>\n",
              "    <tr>\n",
              "      <th>...</th>\n",
              "      <td>...</td>\n",
              "      <td>...</td>\n",
              "      <td>...</td>\n",
              "      <td>...</td>\n",
              "      <td>...</td>\n",
              "      <td>...</td>\n",
              "    </tr>\n",
              "    <tr>\n",
              "      <th>182</th>\n",
              "      <td>1317014682167750656</td>\n",
              "      <td>2020-10-16 08:09:03</td>\n",
              "      <td>@KarlJacobs_ THERE U GO</td>\n",
              "      <td>6121</td>\n",
              "      <td>71</td>\n",
              "      <td>Twitter Web App</td>\n",
              "    </tr>\n",
              "    <tr>\n",
              "      <th>116</th>\n",
              "      <td>1320951579541827585</td>\n",
              "      <td>2020-10-27 04:52:53</td>\n",
              "      <td>@nataliesoroka lmao</td>\n",
              "      <td>6303</td>\n",
              "      <td>69</td>\n",
              "      <td>Twitter Web App</td>\n",
              "    </tr>\n",
              "    <tr>\n",
              "      <th>125</th>\n",
              "      <td>1320509226750337024</td>\n",
              "      <td>2020-10-25 23:35:08</td>\n",
              "      <td>@_ColeBennett_ exactly Cole</td>\n",
              "      <td>11624</td>\n",
              "      <td>64</td>\n",
              "      <td>Twitter Web App</td>\n",
              "    </tr>\n",
              "    <tr>\n",
              "      <th>185</th>\n",
              "      <td>1316922955348217856</td>\n",
              "      <td>2020-10-16 02:04:34</td>\n",
              "      <td>@SavageGasp !!!</td>\n",
              "      <td>5582</td>\n",
              "      <td>62</td>\n",
              "      <td>Twitter Web App</td>\n",
              "    </tr>\n",
              "    <tr>\n",
              "      <th>197</th>\n",
              "      <td>1315530602485936128</td>\n",
              "      <td>2020-10-12 05:51:51</td>\n",
              "      <td>@SavageGasp 🔥🔥🔥🔥</td>\n",
              "      <td>8566</td>\n",
              "      <td>58</td>\n",
              "      <td>Twitter Web App</td>\n",
              "    </tr>\n",
              "  </tbody>\n",
              "</table>\n",
              "<p>200 rows × 6 columns</p>\n",
              "</div>"
            ],
            "text/plain": [
              "                      id  ...              source\n",
              "154  1319786739188203520  ...     Twitter Web App\n",
              "98   1322722903624855553  ...     Twitter Web App\n",
              "34   1336403316528488450  ...  Twitter for iPhone\n",
              "70   1327780094153089024  ...     Twitter Web App\n",
              "100  1322451469396635648  ...     Twitter Web App\n",
              "..                   ...  ...                 ...\n",
              "182  1317014682167750656  ...     Twitter Web App\n",
              "116  1320951579541827585  ...     Twitter Web App\n",
              "125  1320509226750337024  ...     Twitter Web App\n",
              "185  1316922955348217856  ...     Twitter Web App\n",
              "197  1315530602485936128  ...     Twitter Web App\n",
              "\n",
              "[200 rows x 6 columns]"
            ]
          },
          "metadata": {
            "tags": []
          },
          "execution_count": 378
        }
      ]
    },
    {
      "cell_type": "code",
      "metadata": {
        "colab": {
          "base_uri": "https://localhost:8080/",
          "height": 142
        },
        "id": "0K8QTF0y8i9Q",
        "outputId": "05e97d82-5300-4695-e3b3-aaae920b7241"
      },
      "source": [
        "df.sort_values('favorite_count', ascending= False)[['text', 'favorite_count']].iloc[0:3]"
      ],
      "execution_count": null,
      "outputs": [
        {
          "output_type": "execute_result",
          "data": {
            "text/html": [
              "<div>\n",
              "<style scoped>\n",
              "    .dataframe tbody tr th:only-of-type {\n",
              "        vertical-align: middle;\n",
              "    }\n",
              "\n",
              "    .dataframe tbody tr th {\n",
              "        vertical-align: top;\n",
              "    }\n",
              "\n",
              "    .dataframe thead th {\n",
              "        text-align: right;\n",
              "    }\n",
              "</style>\n",
              "<table border=\"1\" class=\"dataframe\">\n",
              "  <thead>\n",
              "    <tr style=\"text-align: right;\">\n",
              "      <th></th>\n",
              "      <th>text</th>\n",
              "      <th>favorite_count</th>\n",
              "    </tr>\n",
              "  </thead>\n",
              "  <tbody>\n",
              "    <tr>\n",
              "      <th>70</th>\n",
              "      <td>︎ ︎</td>\n",
              "      <td>622093</td>\n",
              "    </tr>\n",
              "    <tr>\n",
              "      <th>154</th>\n",
              "      <td>@MrBeastYT :)</td>\n",
              "      <td>599332</td>\n",
              "    </tr>\n",
              "    <tr>\n",
              "      <th>13</th>\n",
              "      <td>Sorry if I worried anyone earlier\\n\\nFor those...</td>\n",
              "      <td>490697</td>\n",
              "    </tr>\n",
              "  </tbody>\n",
              "</table>\n",
              "</div>"
            ],
            "text/plain": [
              "                                                  text  favorite_count\n",
              "70                                                 ︎ ︎          622093\n",
              "154                                      @MrBeastYT :)          599332\n",
              "13   Sorry if I worried anyone earlier\\n\\nFor those...          490697"
            ]
          },
          "metadata": {
            "tags": []
          },
          "execution_count": 379
        }
      ]
    },
    {
      "cell_type": "code",
      "metadata": {
        "colab": {
          "base_uri": "https://localhost:8080/",
          "height": 35
        },
        "id": "iwDALY-t8tAM",
        "outputId": "017ddfd1-6c3b-4773-f5bf-d9950692f727"
      },
      "source": [
        "df.sort_values('favorite_count', ascending= False)['text'].iloc[0]"
      ],
      "execution_count": null,
      "outputs": [
        {
          "output_type": "execute_result",
          "data": {
            "application/vnd.google.colaboratory.intrinsic+json": {
              "type": "string"
            },
            "text/plain": [
              "'︎ ︎'"
            ]
          },
          "metadata": {
            "tags": []
          },
          "execution_count": 380
        }
      ]
    },
    {
      "cell_type": "markdown",
      "metadata": {
        "id": "41stSzdg8xmr"
      },
      "source": [
        "## **Distribution of Retweet & Favorite**"
      ]
    },
    {
      "cell_type": "code",
      "metadata": {
        "colab": {
          "base_uri": "https://localhost:8080/",
          "height": 204
        },
        "id": "CnqNTAl383uE",
        "outputId": "e4e6caf7-86cf-4047-bcad-6c2fb23d470e"
      },
      "source": [
        "df.head()"
      ],
      "execution_count": null,
      "outputs": [
        {
          "output_type": "execute_result",
          "data": {
            "text/html": [
              "<div>\n",
              "<style scoped>\n",
              "    .dataframe tbody tr th:only-of-type {\n",
              "        vertical-align: middle;\n",
              "    }\n",
              "\n",
              "    .dataframe tbody tr th {\n",
              "        vertical-align: top;\n",
              "    }\n",
              "\n",
              "    .dataframe thead th {\n",
              "        text-align: right;\n",
              "    }\n",
              "</style>\n",
              "<table border=\"1\" class=\"dataframe\">\n",
              "  <thead>\n",
              "    <tr style=\"text-align: right;\">\n",
              "      <th></th>\n",
              "      <th>id</th>\n",
              "      <th>created_at</th>\n",
              "      <th>text</th>\n",
              "      <th>favorite_count</th>\n",
              "      <th>retweeted_count</th>\n",
              "      <th>source</th>\n",
              "    </tr>\n",
              "  </thead>\n",
              "  <tbody>\n",
              "    <tr>\n",
              "      <th>0</th>\n",
              "      <td>1345617066498220037</td>\n",
              "      <td>2021-01-03 06:24:43</td>\n",
              "      <td>@emmalangevinxo @Freddy_bo809 ? https://t.co/V...</td>\n",
              "      <td>16451</td>\n",
              "      <td>269</td>\n",
              "      <td>Twitter for iPhone</td>\n",
              "    </tr>\n",
              "    <tr>\n",
              "      <th>1</th>\n",
              "      <td>1345117236969656321</td>\n",
              "      <td>2021-01-01 21:18:35</td>\n",
              "      <td>@MrBeastYT Everyone involved did an incredible...</td>\n",
              "      <td>92202</td>\n",
              "      <td>1512</td>\n",
              "      <td>Twitter for iPhone</td>\n",
              "    </tr>\n",
              "    <tr>\n",
              "      <th>2</th>\n",
              "      <td>1344394644293996544</td>\n",
              "      <td>2020-12-30 21:27:15</td>\n",
              "      <td>@pokimanelol wait</td>\n",
              "      <td>102794</td>\n",
              "      <td>935</td>\n",
              "      <td>Twitter Web App</td>\n",
              "    </tr>\n",
              "    <tr>\n",
              "      <th>3</th>\n",
              "      <td>1344333564985266178</td>\n",
              "      <td>2020-12-30 17:24:33</td>\n",
              "      <td>@Dream :)</td>\n",
              "      <td>97291</td>\n",
              "      <td>981</td>\n",
              "      <td>Twitter Web App</td>\n",
              "    </tr>\n",
              "    <tr>\n",
              "      <th>4</th>\n",
              "      <td>1344029800189419520</td>\n",
              "      <td>2020-12-29 21:17:29</td>\n",
              "      <td>@LilNasX absolutely</td>\n",
              "      <td>24342</td>\n",
              "      <td>279</td>\n",
              "      <td>Twitter Web App</td>\n",
              "    </tr>\n",
              "  </tbody>\n",
              "</table>\n",
              "</div>"
            ],
            "text/plain": [
              "                    id          created_at  ... retweeted_count              source\n",
              "0  1345617066498220037 2021-01-03 06:24:43  ...             269  Twitter for iPhone\n",
              "1  1345117236969656321 2021-01-01 21:18:35  ...            1512  Twitter for iPhone\n",
              "2  1344394644293996544 2020-12-30 21:27:15  ...             935     Twitter Web App\n",
              "3  1344333564985266178 2020-12-30 17:24:33  ...             981     Twitter Web App\n",
              "4  1344029800189419520 2020-12-29 21:17:29  ...             279     Twitter Web App\n",
              "\n",
              "[5 rows x 6 columns]"
            ]
          },
          "metadata": {
            "tags": []
          },
          "execution_count": 381
        }
      ]
    },
    {
      "cell_type": "code",
      "metadata": {
        "id": "MrwAev1q88WG"
      },
      "source": [
        "%config InlineBacend.figure_format = 'retina'\r\n",
        "import seaborn as sns\r\n",
        "import matplotlib.pyplot as plt"
      ],
      "execution_count": null,
      "outputs": []
    },
    {
      "cell_type": "code",
      "metadata": {
        "colab": {
          "base_uri": "https://localhost:8080/",
          "height": 297
        },
        "id": "b1mRxHTW9Cg9",
        "outputId": "bcc09423-4a93-477c-b11b-7821fafcc245"
      },
      "source": [
        "sns.distplot(df.favorite_count, kde=False ,color='blue')\r\n",
        "plt.xlim(-100,150000)"
      ],
      "execution_count": null,
      "outputs": [
        {
          "output_type": "execute_result",
          "data": {
            "text/plain": [
              "(-100.0, 150000.0)"
            ]
          },
          "metadata": {
            "tags": []
          },
          "execution_count": 383
        },
        {
          "output_type": "display_data",
          "data": {
            "image/png": "[encoded data removed]",
            "text/plain": [
              "<Figure size 432x288 with 1 Axes>"
            ]
          },
          "metadata": {
            "tags": [],
            "needs_background": "light"
          }
        }
      ]
    },
    {
      "cell_type": "code",
      "metadata": {
        "colab": {
          "base_uri": "https://localhost:8080/",
          "height": 406
        },
        "id": "tH8UyG9h9L3T",
        "outputId": "8af4e106-fbb0-41df-82cf-8680f88ffb09"
      },
      "source": [
        "plt.figure(figsize=(10,6))\r\n",
        "sns.distplot(df.retweeted_count, color='red')\r\n",
        "plt.xlim(-100,5000)"
      ],
      "execution_count": null,
      "outputs": [
        {
          "output_type": "execute_result",
          "data": {
            "text/plain": [
              "(-100.0, 5000.0)"
            ]
          },
          "metadata": {
            "tags": []
          },
          "execution_count": 384
        },
        {
          "output_type": "display_data",
          "data": {
            "image/png": "[encoded data removed]",
            "text/plain": [
              "<Figure size 720x432 with 1 Axes>"
            ]
          },
          "metadata": {
            "tags": [],
            "needs_background": "light"
          }
        }
      ]
    },
    {
      "cell_type": "code",
      "metadata": {
        "colab": {
          "base_uri": "https://localhost:8080/"
        },
        "id": "4y2tDUe79TsM",
        "outputId": "d0d4c550-25ff-4baa-8c9c-4347198492b8"
      },
      "source": [
        "df['favorite_count'].mean()"
      ],
      "execution_count": null,
      "outputs": [
        {
          "output_type": "execute_result",
          "data": {
            "text/plain": [
              "104668.89"
            ]
          },
          "metadata": {
            "tags": []
          },
          "execution_count": 385
        }
      ]
    },
    {
      "cell_type": "code",
      "metadata": {
        "colab": {
          "base_uri": "https://localhost:8080/"
        },
        "id": "dSX9ty1_9W_Y",
        "outputId": "8fc90038-53db-42b5-e191-133fb0584e92"
      },
      "source": [
        "df['favorite_count'].std()"
      ],
      "execution_count": null,
      "outputs": [
        {
          "output_type": "execute_result",
          "data": {
            "text/plain": [
              "119695.41823692535"
            ]
          },
          "metadata": {
            "tags": []
          },
          "execution_count": 386
        }
      ]
    },
    {
      "cell_type": "markdown",
      "metadata": {
        "id": "AE9TMEGR96P3"
      },
      "source": [
        "## **Distribution of Tweet-Hour**"
      ]
    },
    {
      "cell_type": "code",
      "metadata": {
        "colab": {
          "base_uri": "https://localhost:8080/",
          "height": 204
        },
        "id": "Bgkcr1C4973u",
        "outputId": "a1a7226f-1703-4ed3-b649-b8fdff29db00"
      },
      "source": [
        "df.head()"
      ],
      "execution_count": null,
      "outputs": [
        {
          "output_type": "execute_result",
          "data": {
            "text/html": [
              "<div>\n",
              "<style scoped>\n",
              "    .dataframe tbody tr th:only-of-type {\n",
              "        vertical-align: middle;\n",
              "    }\n",
              "\n",
              "    .dataframe tbody tr th {\n",
              "        vertical-align: top;\n",
              "    }\n",
              "\n",
              "    .dataframe thead th {\n",
              "        text-align: right;\n",
              "    }\n",
              "</style>\n",
              "<table border=\"1\" class=\"dataframe\">\n",
              "  <thead>\n",
              "    <tr style=\"text-align: right;\">\n",
              "      <th></th>\n",
              "      <th>id</th>\n",
              "      <th>created_at</th>\n",
              "      <th>text</th>\n",
              "      <th>favorite_count</th>\n",
              "      <th>retweeted_count</th>\n",
              "      <th>source</th>\n",
              "    </tr>\n",
              "  </thead>\n",
              "  <tbody>\n",
              "    <tr>\n",
              "      <th>0</th>\n",
              "      <td>1345617066498220037</td>\n",
              "      <td>2021-01-03 06:24:43</td>\n",
              "      <td>@emmalangevinxo @Freddy_bo809 ? https://t.co/V...</td>\n",
              "      <td>16451</td>\n",
              "      <td>269</td>\n",
              "      <td>Twitter for iPhone</td>\n",
              "    </tr>\n",
              "    <tr>\n",
              "      <th>1</th>\n",
              "      <td>1345117236969656321</td>\n",
              "      <td>2021-01-01 21:18:35</td>\n",
              "      <td>@MrBeastYT Everyone involved did an incredible...</td>\n",
              "      <td>92202</td>\n",
              "      <td>1512</td>\n",
              "      <td>Twitter for iPhone</td>\n",
              "    </tr>\n",
              "    <tr>\n",
              "      <th>2</th>\n",
              "      <td>1344394644293996544</td>\n",
              "      <td>2020-12-30 21:27:15</td>\n",
              "      <td>@pokimanelol wait</td>\n",
              "      <td>102794</td>\n",
              "      <td>935</td>\n",
              "      <td>Twitter Web App</td>\n",
              "    </tr>\n",
              "    <tr>\n",
              "      <th>3</th>\n",
              "      <td>1344333564985266178</td>\n",
              "      <td>2020-12-30 17:24:33</td>\n",
              "      <td>@Dream :)</td>\n",
              "      <td>97291</td>\n",
              "      <td>981</td>\n",
              "      <td>Twitter Web App</td>\n",
              "    </tr>\n",
              "    <tr>\n",
              "      <th>4</th>\n",
              "      <td>1344029800189419520</td>\n",
              "      <td>2020-12-29 21:17:29</td>\n",
              "      <td>@LilNasX absolutely</td>\n",
              "      <td>24342</td>\n",
              "      <td>279</td>\n",
              "      <td>Twitter Web App</td>\n",
              "    </tr>\n",
              "  </tbody>\n",
              "</table>\n",
              "</div>"
            ],
            "text/plain": [
              "                    id          created_at  ... retweeted_count              source\n",
              "0  1345617066498220037 2021-01-03 06:24:43  ...             269  Twitter for iPhone\n",
              "1  1345117236969656321 2021-01-01 21:18:35  ...            1512  Twitter for iPhone\n",
              "2  1344394644293996544 2020-12-30 21:27:15  ...             935     Twitter Web App\n",
              "3  1344333564985266178 2020-12-30 17:24:33  ...             981     Twitter Web App\n",
              "4  1344029800189419520 2020-12-29 21:17:29  ...             279     Twitter Web App\n",
              "\n",
              "[5 rows x 6 columns]"
            ]
          },
          "metadata": {
            "tags": []
          },
          "execution_count": 387
        }
      ]
    },
    {
      "cell_type": "code",
      "metadata": {
        "id": "A2huWtlV-BnV"
      },
      "source": [
        "df['tweet_hour'] = df['created_at'].apply(lambda x: x.strftime('%H'))"
      ],
      "execution_count": null,
      "outputs": []
    },
    {
      "cell_type": "code",
      "metadata": {
        "colab": {
          "base_uri": "https://localhost:8080/",
          "height": 204
        },
        "id": "f5j_it6Q-D-Z",
        "outputId": "951fcd54-a9d0-48e9-de0e-74b06eadbde1"
      },
      "source": [
        "df.head()"
      ],
      "execution_count": null,
      "outputs": [
        {
          "output_type": "execute_result",
          "data": {
            "text/html": [
              "<div>\n",
              "<style scoped>\n",
              "    .dataframe tbody tr th:only-of-type {\n",
              "        vertical-align: middle;\n",
              "    }\n",
              "\n",
              "    .dataframe tbody tr th {\n",
              "        vertical-align: top;\n",
              "    }\n",
              "\n",
              "    .dataframe thead th {\n",
              "        text-align: right;\n",
              "    }\n",
              "</style>\n",
              "<table border=\"1\" class=\"dataframe\">\n",
              "  <thead>\n",
              "    <tr style=\"text-align: right;\">\n",
              "      <th></th>\n",
              "      <th>id</th>\n",
              "      <th>created_at</th>\n",
              "      <th>text</th>\n",
              "      <th>favorite_count</th>\n",
              "      <th>retweeted_count</th>\n",
              "      <th>source</th>\n",
              "      <th>tweet_hour</th>\n",
              "    </tr>\n",
              "  </thead>\n",
              "  <tbody>\n",
              "    <tr>\n",
              "      <th>0</th>\n",
              "      <td>1345617066498220037</td>\n",
              "      <td>2021-01-03 06:24:43</td>\n",
              "      <td>@emmalangevinxo @Freddy_bo809 ? https://t.co/V...</td>\n",
              "      <td>16451</td>\n",
              "      <td>269</td>\n",
              "      <td>Twitter for iPhone</td>\n",
              "      <td>06</td>\n",
              "    </tr>\n",
              "    <tr>\n",
              "      <th>1</th>\n",
              "      <td>1345117236969656321</td>\n",
              "      <td>2021-01-01 21:18:35</td>\n",
              "      <td>@MrBeastYT Everyone involved did an incredible...</td>\n",
              "      <td>92202</td>\n",
              "      <td>1512</td>\n",
              "      <td>Twitter for iPhone</td>\n",
              "      <td>21</td>\n",
              "    </tr>\n",
              "    <tr>\n",
              "      <th>2</th>\n",
              "      <td>1344394644293996544</td>\n",
              "      <td>2020-12-30 21:27:15</td>\n",
              "      <td>@pokimanelol wait</td>\n",
              "      <td>102794</td>\n",
              "      <td>935</td>\n",
              "      <td>Twitter Web App</td>\n",
              "      <td>21</td>\n",
              "    </tr>\n",
              "    <tr>\n",
              "      <th>3</th>\n",
              "      <td>1344333564985266178</td>\n",
              "      <td>2020-12-30 17:24:33</td>\n",
              "      <td>@Dream :)</td>\n",
              "      <td>97291</td>\n",
              "      <td>981</td>\n",
              "      <td>Twitter Web App</td>\n",
              "      <td>17</td>\n",
              "    </tr>\n",
              "    <tr>\n",
              "      <th>4</th>\n",
              "      <td>1344029800189419520</td>\n",
              "      <td>2020-12-29 21:17:29</td>\n",
              "      <td>@LilNasX absolutely</td>\n",
              "      <td>24342</td>\n",
              "      <td>279</td>\n",
              "      <td>Twitter Web App</td>\n",
              "      <td>21</td>\n",
              "    </tr>\n",
              "  </tbody>\n",
              "</table>\n",
              "</div>"
            ],
            "text/plain": [
              "                    id          created_at  ...              source  tweet_hour\n",
              "0  1345617066498220037 2021-01-03 06:24:43  ...  Twitter for iPhone          06\n",
              "1  1345117236969656321 2021-01-01 21:18:35  ...  Twitter for iPhone          21\n",
              "2  1344394644293996544 2020-12-30 21:27:15  ...     Twitter Web App          21\n",
              "3  1344333564985266178 2020-12-30 17:24:33  ...     Twitter Web App          17\n",
              "4  1344029800189419520 2020-12-29 21:17:29  ...     Twitter Web App          21\n",
              "\n",
              "[5 rows x 7 columns]"
            ]
          },
          "metadata": {
            "tags": []
          },
          "execution_count": 389
        }
      ]
    },
    {
      "cell_type": "code",
      "metadata": {
        "id": "V37vtVPq-Jz1"
      },
      "source": [
        "df['tweet_hour'] = pd.to_numeric(df['tweet_hour'])"
      ],
      "execution_count": null,
      "outputs": []
    },
    {
      "cell_type": "code",
      "metadata": {
        "colab": {
          "base_uri": "https://localhost:8080/"
        },
        "id": "z_DT0NF0-Lit",
        "outputId": "a73ef099-b292-4830-96f8-d37eb3d7a5f4"
      },
      "source": [
        "df.info()"
      ],
      "execution_count": null,
      "outputs": [
        {
          "output_type": "stream",
          "text": [
            "<class 'pandas.core.frame.DataFrame'>\n",
            "RangeIndex: 200 entries, 0 to 199\n",
            "Data columns (total 7 columns):\n",
            " #   Column           Non-Null Count  Dtype         \n",
            "---  ------           --------------  -----         \n",
            " 0   id               200 non-null    int64         \n",
            " 1   created_at       200 non-null    datetime64[ns]\n",
            " 2   text             200 non-null    object        \n",
            " 3   favorite_count   200 non-null    int64         \n",
            " 4   retweeted_count  200 non-null    int64         \n",
            " 5   source           200 non-null    object        \n",
            " 6   tweet_hour       200 non-null    int64         \n",
            "dtypes: datetime64[ns](1), int64(4), object(2)\n",
            "memory usage: 11.1+ KB\n"
          ],
          "name": "stdout"
        }
      ]
    },
    {
      "cell_type": "code",
      "metadata": {
        "colab": {
          "base_uri": "https://localhost:8080/",
          "height": 406
        },
        "id": "K1AuSsDn-QAP",
        "outputId": "645a8a03-b12c-4be5-b45c-827579c0b627"
      },
      "source": [
        "plt.figure(figsize=(10,6))\r\n",
        "sns.distplot(df['tweet_hour'], kde=True, color='blue')"
      ],
      "execution_count": null,
      "outputs": [
        {
          "output_type": "execute_result",
          "data": {
            "text/plain": [
              "<matplotlib.axes._subplots.AxesSubplot at 0x7f30059fe2b0>"
            ]
          },
          "metadata": {
            "tags": []
          },
          "execution_count": 392
        },
        {
          "output_type": "display_data",
          "data": {
            "image/png": "[encoded data removed]",
            "text/plain": [
              "<Figure size 720x432 with 1 Axes>"
            ]
          },
          "metadata": {
            "tags": [],
            "needs_background": "light"
          }
        }
      ]
    },
    {
      "cell_type": "code",
      "metadata": {
        "id": "-N97WNMm-eQR"
      },
      "source": [
        "df['days'] = df['created_at'].dt.day_name()"
      ],
      "execution_count": null,
      "outputs": []
    },
    {
      "cell_type": "code",
      "metadata": {
        "colab": {
          "base_uri": "https://localhost:8080/",
          "height": 204
        },
        "id": "rgefEmvK-_bO",
        "outputId": "38703a8a-9c3e-4010-8ab5-06a223def23d"
      },
      "source": [
        "df.head()"
      ],
      "execution_count": null,
      "outputs": [
        {
          "output_type": "execute_result",
          "data": {
            "text/html": [
              "<div>\n",
              "<style scoped>\n",
              "    .dataframe tbody tr th:only-of-type {\n",
              "        vertical-align: middle;\n",
              "    }\n",
              "\n",
              "    .dataframe tbody tr th {\n",
              "        vertical-align: top;\n",
              "    }\n",
              "\n",
              "    .dataframe thead th {\n",
              "        text-align: right;\n",
              "    }\n",
              "</style>\n",
              "<table border=\"1\" class=\"dataframe\">\n",
              "  <thead>\n",
              "    <tr style=\"text-align: right;\">\n",
              "      <th></th>\n",
              "      <th>id</th>\n",
              "      <th>created_at</th>\n",
              "      <th>text</th>\n",
              "      <th>favorite_count</th>\n",
              "      <th>retweeted_count</th>\n",
              "      <th>source</th>\n",
              "      <th>tweet_hour</th>\n",
              "      <th>days</th>\n",
              "    </tr>\n",
              "  </thead>\n",
              "  <tbody>\n",
              "    <tr>\n",
              "      <th>0</th>\n",
              "      <td>1345617066498220037</td>\n",
              "      <td>2021-01-03 06:24:43</td>\n",
              "      <td>@emmalangevinxo @Freddy_bo809 ? https://t.co/V...</td>\n",
              "      <td>16451</td>\n",
              "      <td>269</td>\n",
              "      <td>Twitter for iPhone</td>\n",
              "      <td>6</td>\n",
              "      <td>Sunday</td>\n",
              "    </tr>\n",
              "    <tr>\n",
              "      <th>1</th>\n",
              "      <td>1345117236969656321</td>\n",
              "      <td>2021-01-01 21:18:35</td>\n",
              "      <td>@MrBeastYT Everyone involved did an incredible...</td>\n",
              "      <td>92202</td>\n",
              "      <td>1512</td>\n",
              "      <td>Twitter for iPhone</td>\n",
              "      <td>21</td>\n",
              "      <td>Friday</td>\n",
              "    </tr>\n",
              "    <tr>\n",
              "      <th>2</th>\n",
              "      <td>1344394644293996544</td>\n",
              "      <td>2020-12-30 21:27:15</td>\n",
              "      <td>@pokimanelol wait</td>\n",
              "      <td>102794</td>\n",
              "      <td>935</td>\n",
              "      <td>Twitter Web App</td>\n",
              "      <td>21</td>\n",
              "      <td>Wednesday</td>\n",
              "    </tr>\n",
              "    <tr>\n",
              "      <th>3</th>\n",
              "      <td>1344333564985266178</td>\n",
              "      <td>2020-12-30 17:24:33</td>\n",
              "      <td>@Dream :)</td>\n",
              "      <td>97291</td>\n",
              "      <td>981</td>\n",
              "      <td>Twitter Web App</td>\n",
              "      <td>17</td>\n",
              "      <td>Wednesday</td>\n",
              "    </tr>\n",
              "    <tr>\n",
              "      <th>4</th>\n",
              "      <td>1344029800189419520</td>\n",
              "      <td>2020-12-29 21:17:29</td>\n",
              "      <td>@LilNasX absolutely</td>\n",
              "      <td>24342</td>\n",
              "      <td>279</td>\n",
              "      <td>Twitter Web App</td>\n",
              "      <td>21</td>\n",
              "      <td>Tuesday</td>\n",
              "    </tr>\n",
              "  </tbody>\n",
              "</table>\n",
              "</div>"
            ],
            "text/plain": [
              "                    id          created_at  ... tweet_hour       days\n",
              "0  1345617066498220037 2021-01-03 06:24:43  ...          6     Sunday\n",
              "1  1345117236969656321 2021-01-01 21:18:35  ...         21     Friday\n",
              "2  1344394644293996544 2020-12-30 21:27:15  ...         21  Wednesday\n",
              "3  1344333564985266178 2020-12-30 17:24:33  ...         17  Wednesday\n",
              "4  1344029800189419520 2020-12-29 21:17:29  ...         21    Tuesday\n",
              "\n",
              "[5 rows x 8 columns]"
            ]
          },
          "metadata": {
            "tags": []
          },
          "execution_count": 394
        }
      ]
    },
    {
      "cell_type": "code",
      "metadata": {
        "id": "q9nWPKE8_CDi"
      },
      "source": [
        "gun_freq = df.groupby('days').count()['id']"
      ],
      "execution_count": null,
      "outputs": []
    },
    {
      "cell_type": "code",
      "metadata": {
        "colab": {
          "base_uri": "https://localhost:8080/",
          "height": 344
        },
        "id": "ZNYNKcVZ_Fe-",
        "outputId": "ffe340f8-72aa-46e4-c953-8de8af0c1b58"
      },
      "source": [
        "gun_freq.plot.bar(x='days', y='id')"
      ],
      "execution_count": null,
      "outputs": [
        {
          "output_type": "execute_result",
          "data": {
            "text/plain": [
              "<matplotlib.axes._subplots.AxesSubplot at 0x7f30059c3240>"
            ]
          },
          "metadata": {
            "tags": []
          },
          "execution_count": 396
        },
        {
          "output_type": "display_data",
          "data": {
            "image/png": "[encoded data removed]",
            "text/plain": [
              "<Figure size 432x288 with 1 Axes>"
            ]
          },
          "metadata": {
            "tags": [],
            "needs_background": "light"
          }
        }
      ]
    },
    {
      "cell_type": "markdown",
      "metadata": {
        "id": "NpifM5hg_Lj2"
      },
      "source": [
        "## **Source of Tweets**"
      ]
    },
    {
      "cell_type": "code",
      "metadata": {
        "id": "yi5eAQzS_NmW"
      },
      "source": [
        "source_freq = df.groupby('source').count()['id']"
      ],
      "execution_count": null,
      "outputs": []
    },
    {
      "cell_type": "code",
      "metadata": {
        "colab": {
          "base_uri": "https://localhost:8080/",
          "height": 373
        },
        "id": "52HHKblV_V1p",
        "outputId": "d781b915-924a-4cd9-a30b-5857a6eeffea"
      },
      "source": [
        "source_freq.plot.bar(x='source', y='id')"
      ],
      "execution_count": null,
      "outputs": [
        {
          "output_type": "execute_result",
          "data": {
            "text/plain": [
              "<matplotlib.axes._subplots.AxesSubplot at 0x7f30059f7ba8>"
            ]
          },
          "metadata": {
            "tags": []
          },
          "execution_count": 398
        },
        {
          "output_type": "display_data",
          "data": {
            "image/png": "[encoded data removed]",
            "text/plain": [
              "<Figure size 432x288 with 1 Axes>"
            ]
          },
          "metadata": {
            "tags": [],
            "needs_background": "light"
          }
        }
      ]
    },
    {
      "cell_type": "code",
      "metadata": {
        "colab": {
          "base_uri": "https://localhost:8080/"
        },
        "id": "jg5i4L7e_ZCX",
        "outputId": "5b5a9fb6-9972-47a6-95b3-581113831001"
      },
      "source": [
        "df.groupby('source').count()['id']"
      ],
      "execution_count": null,
      "outputs": [
        {
          "output_type": "execute_result",
          "data": {
            "text/plain": [
              "source\n",
              "Twitter Web App       176\n",
              "Twitter for iPhone     24\n",
              "Name: id, dtype: int64"
            ]
          },
          "metadata": {
            "tags": []
          },
          "execution_count": 399
        }
      ]
    },
    {
      "cell_type": "code",
      "metadata": {
        "colab": {
          "base_uri": "https://localhost:8080/",
          "height": 450
        },
        "id": "Ubk4gksZ_b92",
        "outputId": "0b1e9412-5655-4294-f922-412d03b5c6dd"
      },
      "source": [
        "df.groupby(['source', 'tweet_hour','days'])[['tweet_hour']].count()"
      ],
      "execution_count": null,
      "outputs": [
        {
          "output_type": "execute_result",
          "data": {
            "text/html": [
              "<div>\n",
              "<style scoped>\n",
              "    .dataframe tbody tr th:only-of-type {\n",
              "        vertical-align: middle;\n",
              "    }\n",
              "\n",
              "    .dataframe tbody tr th {\n",
              "        vertical-align: top;\n",
              "    }\n",
              "\n",
              "    .dataframe thead th {\n",
              "        text-align: right;\n",
              "    }\n",
              "</style>\n",
              "<table border=\"1\" class=\"dataframe\">\n",
              "  <thead>\n",
              "    <tr style=\"text-align: right;\">\n",
              "      <th></th>\n",
              "      <th></th>\n",
              "      <th></th>\n",
              "      <th>tweet_hour</th>\n",
              "    </tr>\n",
              "    <tr>\n",
              "      <th>source</th>\n",
              "      <th>tweet_hour</th>\n",
              "      <th>days</th>\n",
              "      <th></th>\n",
              "    </tr>\n",
              "  </thead>\n",
              "  <tbody>\n",
              "    <tr>\n",
              "      <th rowspan=\"5\" valign=\"top\">Twitter Web App</th>\n",
              "      <th rowspan=\"5\" valign=\"top\">0</th>\n",
              "      <th>Friday</th>\n",
              "      <td>4</td>\n",
              "    </tr>\n",
              "    <tr>\n",
              "      <th>Monday</th>\n",
              "      <td>2</td>\n",
              "    </tr>\n",
              "    <tr>\n",
              "      <th>Saturday</th>\n",
              "      <td>4</td>\n",
              "    </tr>\n",
              "    <tr>\n",
              "      <th>Sunday</th>\n",
              "      <td>1</td>\n",
              "    </tr>\n",
              "    <tr>\n",
              "      <th>Thursday</th>\n",
              "      <td>3</td>\n",
              "    </tr>\n",
              "    <tr>\n",
              "      <th>...</th>\n",
              "      <th>...</th>\n",
              "      <th>...</th>\n",
              "      <td>...</td>\n",
              "    </tr>\n",
              "    <tr>\n",
              "      <th rowspan=\"5\" valign=\"top\">Twitter for iPhone</th>\n",
              "      <th rowspan=\"3\" valign=\"top\">21</th>\n",
              "      <th>Friday</th>\n",
              "      <td>1</td>\n",
              "    </tr>\n",
              "    <tr>\n",
              "      <th>Monday</th>\n",
              "      <td>1</td>\n",
              "    </tr>\n",
              "    <tr>\n",
              "      <th>Saturday</th>\n",
              "      <td>2</td>\n",
              "    </tr>\n",
              "    <tr>\n",
              "      <th>22</th>\n",
              "      <th>Monday</th>\n",
              "      <td>1</td>\n",
              "    </tr>\n",
              "    <tr>\n",
              "      <th>23</th>\n",
              "      <th>Wednesday</th>\n",
              "      <td>2</td>\n",
              "    </tr>\n",
              "  </tbody>\n",
              "</table>\n",
              "<p>100 rows × 1 columns</p>\n",
              "</div>"
            ],
            "text/plain": [
              "                                         tweet_hour\n",
              "source             tweet_hour days                 \n",
              "Twitter Web App    0          Friday              4\n",
              "                              Monday              2\n",
              "                              Saturday            4\n",
              "                              Sunday              1\n",
              "                              Thursday            3\n",
              "...                                             ...\n",
              "Twitter for iPhone 21         Friday              1\n",
              "                              Monday              1\n",
              "                              Saturday            2\n",
              "                   22         Monday              1\n",
              "                   23         Wednesday           2\n",
              "\n",
              "[100 rows x 1 columns]"
            ]
          },
          "metadata": {
            "tags": []
          },
          "execution_count": 400
        }
      ]
    },
    {
      "cell_type": "markdown",
      "metadata": {
        "id": "MGrD_dr5_pUK"
      },
      "source": [
        "## **Followers and Friends Analysis**"
      ]
    },
    {
      "cell_type": "code",
      "metadata": {
        "id": "NxaKdTFo_qpg"
      },
      "source": [
        "user = api.get_user(id = '3409123967', count= 10000)"
      ],
      "execution_count": null,
      "outputs": []
    },
    {
      "cell_type": "code",
      "metadata": {
        "id": "SXlN76H__1jw"
      },
      "source": [
        "friends = user.friends()\r\n",
        "followers = user.followers()"
      ],
      "execution_count": null,
      "outputs": []
    },
    {
      "cell_type": "code",
      "metadata": {
        "id": "FIlrCWxy_37V"
      },
      "source": [
        "def followers_df(follower):\r\n",
        "    idler = [i.id for i in follower]\r\n",
        "    df = pd.DataFrame(idler, columns=['id'])\r\n",
        "    \r\n",
        "    \r\n",
        "    df['created_at'] = [i.created_at for i in follower]\r\n",
        "    df['screen_name'] = [i.screen_name for i in follower]\r\n",
        "    df['location'] = [i.location for i in follower]\r\n",
        "    df['followers_count'] = [i.followers_count for i in follower]\r\n",
        "    df['statuses_count'] = [i.statuses_count for i in follower]\r\n",
        "    df['friends_count'] = [i.friends_count for i in follower]\r\n",
        "    df['favourites_count'] = [i.favourites_count for i in follower]\r\n",
        "    \r\n",
        "    return df"
      ],
      "execution_count": null,
      "outputs": []
    },
    {
      "cell_type": "code",
      "metadata": {
        "id": "xi18U2lH_82W"
      },
      "source": [
        "df = followers_df(followers)"
      ],
      "execution_count": null,
      "outputs": []
    },
    {
      "cell_type": "code",
      "metadata": {
        "colab": {
          "base_uri": "https://localhost:8080/",
          "height": 204
        },
        "id": "CfX-eCdU_-t-",
        "outputId": "82608597-8068-4dd2-be21-6ec760479795"
      },
      "source": [
        "df.head()"
      ],
      "execution_count": null,
      "outputs": [
        {
          "output_type": "execute_result",
          "data": {
            "text/html": [
              "<div>\n",
              "<style scoped>\n",
              "    .dataframe tbody tr th:only-of-type {\n",
              "        vertical-align: middle;\n",
              "    }\n",
              "\n",
              "    .dataframe tbody tr th {\n",
              "        vertical-align: top;\n",
              "    }\n",
              "\n",
              "    .dataframe thead th {\n",
              "        text-align: right;\n",
              "    }\n",
              "</style>\n",
              "<table border=\"1\" class=\"dataframe\">\n",
              "  <thead>\n",
              "    <tr style=\"text-align: right;\">\n",
              "      <th></th>\n",
              "      <th>id</th>\n",
              "      <th>created_at</th>\n",
              "      <th>screen_name</th>\n",
              "      <th>location</th>\n",
              "      <th>followers_count</th>\n",
              "      <th>statuses_count</th>\n",
              "      <th>friends_count</th>\n",
              "      <th>favourites_count</th>\n",
              "    </tr>\n",
              "  </thead>\n",
              "  <tbody>\n",
              "    <tr>\n",
              "      <th>0</th>\n",
              "      <td>1346097953807740928</td>\n",
              "      <td>2021-01-04 14:15:44</td>\n",
              "      <td>kyla05488335</td>\n",
              "      <td></td>\n",
              "      <td>0</td>\n",
              "      <td>0</td>\n",
              "      <td>34</td>\n",
              "      <td>58</td>\n",
              "    </tr>\n",
              "    <tr>\n",
              "      <th>1</th>\n",
              "      <td>1042541700541894656</td>\n",
              "      <td>2018-09-19 22:31:25</td>\n",
              "      <td>kyliexian</td>\n",
              "      <td>burning in hell</td>\n",
              "      <td>29</td>\n",
              "      <td>132</td>\n",
              "      <td>229</td>\n",
              "      <td>15871</td>\n",
              "    </tr>\n",
              "    <tr>\n",
              "      <th>2</th>\n",
              "      <td>1342249525545676806</td>\n",
              "      <td>2020-12-24 23:23:27</td>\n",
              "      <td>Valeria05469254</td>\n",
              "      <td></td>\n",
              "      <td>1</td>\n",
              "      <td>0</td>\n",
              "      <td>7</td>\n",
              "      <td>6</td>\n",
              "    </tr>\n",
              "    <tr>\n",
              "      <th>3</th>\n",
              "      <td>962080165382668288</td>\n",
              "      <td>2018-02-09 21:46:00</td>\n",
              "      <td>Becky53043633</td>\n",
              "      <td>Hampton, VA</td>\n",
              "      <td>7</td>\n",
              "      <td>45</td>\n",
              "      <td>38</td>\n",
              "      <td>91</td>\n",
              "    </tr>\n",
              "    <tr>\n",
              "      <th>4</th>\n",
              "      <td>1272103240080011264</td>\n",
              "      <td>2020-06-14 09:47:14</td>\n",
              "      <td>PaperCrane188</td>\n",
              "      <td></td>\n",
              "      <td>0</td>\n",
              "      <td>4</td>\n",
              "      <td>39</td>\n",
              "      <td>6</td>\n",
              "    </tr>\n",
              "  </tbody>\n",
              "</table>\n",
              "</div>"
            ],
            "text/plain": [
              "                    id          created_at  ... friends_count favourites_count\n",
              "0  1346097953807740928 2021-01-04 14:15:44  ...            34               58\n",
              "1  1042541700541894656 2018-09-19 22:31:25  ...           229            15871\n",
              "2  1342249525545676806 2020-12-24 23:23:27  ...             7                6\n",
              "3   962080165382668288 2018-02-09 21:46:00  ...            38               91\n",
              "4  1272103240080011264 2020-06-14 09:47:14  ...            39                6\n",
              "\n",
              "[5 rows x 8 columns]"
            ]
          },
          "metadata": {
            "tags": []
          },
          "execution_count": 405
        }
      ]
    },
    {
      "cell_type": "code",
      "metadata": {
        "colab": {
          "base_uri": "https://localhost:8080/"
        },
        "id": "g1JPObw9AFzf",
        "outputId": "53aa95ac-50d0-4dd3-e6bd-c10261ca3dbc"
      },
      "source": [
        "df.info()"
      ],
      "execution_count": null,
      "outputs": [
        {
          "output_type": "stream",
          "text": [
            "<class 'pandas.core.frame.DataFrame'>\n",
            "RangeIndex: 20 entries, 0 to 19\n",
            "Data columns (total 8 columns):\n",
            " #   Column            Non-Null Count  Dtype         \n",
            "---  ------            --------------  -----         \n",
            " 0   id                20 non-null     int64         \n",
            " 1   created_at        20 non-null     datetime64[ns]\n",
            " 2   screen_name       20 non-null     object        \n",
            " 3   location          20 non-null     object        \n",
            " 4   followers_count   20 non-null     int64         \n",
            " 5   statuses_count    20 non-null     int64         \n",
            " 6   friends_count     20 non-null     int64         \n",
            " 7   favourites_count  20 non-null     int64         \n",
            "dtypes: datetime64[ns](1), int64(5), object(2)\n",
            "memory usage: 1.4+ KB\n"
          ],
          "name": "stdout"
        }
      ]
    },
    {
      "cell_type": "markdown",
      "metadata": {
        "id": "8U_cxpurAIzW"
      },
      "source": [
        "## **Followers Segmentation**"
      ]
    },
    {
      "cell_type": "code",
      "metadata": {
        "id": "h8ez3-XFAJ0-"
      },
      "source": [
        "df.index = df['screen_name']"
      ],
      "execution_count": null,
      "outputs": []
    },
    {
      "cell_type": "code",
      "metadata": {
        "id": "Y0JTDOTwAOBN"
      },
      "source": [
        "s_data = df[['followers_count', 'statuses_count']]"
      ],
      "execution_count": null,
      "outputs": []
    },
    {
      "cell_type": "code",
      "metadata": {
        "colab": {
          "base_uri": "https://localhost:8080/",
          "height": 700
        },
        "id": "54cd-OySAPv6",
        "outputId": "1fbe2b30-2c26-43cf-c871-6c65e1e6bda8"
      },
      "source": [
        "s_data"
      ],
      "execution_count": null,
      "outputs": [
        {
          "output_type": "execute_result",
          "data": {
            "text/html": [
              "<div>\n",
              "<style scoped>\n",
              "    .dataframe tbody tr th:only-of-type {\n",
              "        vertical-align: middle;\n",
              "    }\n",
              "\n",
              "    .dataframe tbody tr th {\n",
              "        vertical-align: top;\n",
              "    }\n",
              "\n",
              "    .dataframe thead th {\n",
              "        text-align: right;\n",
              "    }\n",
              "</style>\n",
              "<table border=\"1\" class=\"dataframe\">\n",
              "  <thead>\n",
              "    <tr style=\"text-align: right;\">\n",
              "      <th></th>\n",
              "      <th>followers_count</th>\n",
              "      <th>statuses_count</th>\n",
              "    </tr>\n",
              "    <tr>\n",
              "      <th>screen_name</th>\n",
              "      <th></th>\n",
              "      <th></th>\n",
              "    </tr>\n",
              "  </thead>\n",
              "  <tbody>\n",
              "    <tr>\n",
              "      <th>kyla05488335</th>\n",
              "      <td>0</td>\n",
              "      <td>0</td>\n",
              "    </tr>\n",
              "    <tr>\n",
              "      <th>kyliexian</th>\n",
              "      <td>29</td>\n",
              "      <td>132</td>\n",
              "    </tr>\n",
              "    <tr>\n",
              "      <th>Valeria05469254</th>\n",
              "      <td>1</td>\n",
              "      <td>0</td>\n",
              "    </tr>\n",
              "    <tr>\n",
              "      <th>Becky53043633</th>\n",
              "      <td>7</td>\n",
              "      <td>45</td>\n",
              "    </tr>\n",
              "    <tr>\n",
              "      <th>PaperCrane188</th>\n",
              "      <td>0</td>\n",
              "      <td>4</td>\n",
              "    </tr>\n",
              "    <tr>\n",
              "      <th>IguanaRainwing</th>\n",
              "      <td>0</td>\n",
              "      <td>0</td>\n",
              "    </tr>\n",
              "    <tr>\n",
              "      <th>_Mynameiseddy</th>\n",
              "      <td>469</td>\n",
              "      <td>4790</td>\n",
              "    </tr>\n",
              "    <tr>\n",
              "      <th>crewcrewsz</th>\n",
              "      <td>11</td>\n",
              "      <td>29</td>\n",
              "    </tr>\n",
              "    <tr>\n",
              "      <th>Nosadhappy1</th>\n",
              "      <td>0</td>\n",
              "      <td>0</td>\n",
              "    </tr>\n",
              "    <tr>\n",
              "      <th>Lydia_tx</th>\n",
              "      <td>16</td>\n",
              "      <td>15</td>\n",
              "    </tr>\n",
              "    <tr>\n",
              "      <th>lasangelver</th>\n",
              "      <td>2</td>\n",
              "      <td>23</td>\n",
              "    </tr>\n",
              "    <tr>\n",
              "      <th>MonhautWrigley</th>\n",
              "      <td>4</td>\n",
              "      <td>2</td>\n",
              "    </tr>\n",
              "    <tr>\n",
              "      <th>JMasangkay1</th>\n",
              "      <td>1</td>\n",
              "      <td>5</td>\n",
              "    </tr>\n",
              "    <tr>\n",
              "      <th>FartFoggy</th>\n",
              "      <td>0</td>\n",
              "      <td>0</td>\n",
              "    </tr>\n",
              "    <tr>\n",
              "      <th>clement12615295</th>\n",
              "      <td>0</td>\n",
              "      <td>0</td>\n",
              "    </tr>\n",
              "    <tr>\n",
              "      <th>xchechinx</th>\n",
              "      <td>0</td>\n",
              "      <td>0</td>\n",
              "    </tr>\n",
              "    <tr>\n",
              "      <th>ConfuzedB</th>\n",
              "      <td>3</td>\n",
              "      <td>8</td>\n",
              "    </tr>\n",
              "    <tr>\n",
              "      <th>NadsNelson</th>\n",
              "      <td>0</td>\n",
              "      <td>0</td>\n",
              "    </tr>\n",
              "    <tr>\n",
              "      <th>FearOne00</th>\n",
              "      <td>3</td>\n",
              "      <td>2</td>\n",
              "    </tr>\n",
              "    <tr>\n",
              "      <th>DragonLaraYt</th>\n",
              "      <td>15</td>\n",
              "      <td>0</td>\n",
              "    </tr>\n",
              "  </tbody>\n",
              "</table>\n",
              "</div>"
            ],
            "text/plain": [
              "                 followers_count  statuses_count\n",
              "screen_name                                     \n",
              "kyla05488335                   0               0\n",
              "kyliexian                     29             132\n",
              "Valeria05469254                1               0\n",
              "Becky53043633                  7              45\n",
              "PaperCrane188                  0               4\n",
              "IguanaRainwing                 0               0\n",
              "_Mynameiseddy                469            4790\n",
              "crewcrewsz                    11              29\n",
              "Nosadhappy1                    0               0\n",
              "Lydia_tx                      16              15\n",
              "lasangelver                    2              23\n",
              "MonhautWrigley                 4               2\n",
              "JMasangkay1                    1               5\n",
              "FartFoggy                      0               0\n",
              "clement12615295                0               0\n",
              "xchechinx                      0               0\n",
              "ConfuzedB                      3               8\n",
              "NadsNelson                     0               0\n",
              "FearOne00                      3               2\n",
              "DragonLaraYt                  15               0"
            ]
          },
          "metadata": {
            "tags": []
          },
          "execution_count": 409
        }
      ]
    },
    {
      "cell_type": "code",
      "metadata": {
        "id": "ielPDzrpAViX"
      },
      "source": [
        "s_data['followers_count'] = s_data['followers_count'] +0.01"
      ],
      "execution_count": null,
      "outputs": []
    },
    {
      "cell_type": "code",
      "metadata": {
        "id": "trU4dVn0AYKX"
      },
      "source": [
        "s_data['statuses_count'] = s_data['statuses_count'] +0.01"
      ],
      "execution_count": null,
      "outputs": []
    },
    {
      "cell_type": "code",
      "metadata": {
        "colab": {
          "base_uri": "https://localhost:8080/",
          "height": 700
        },
        "id": "9NA3JldHAZlP",
        "outputId": "a49256b5-0a57-40ff-d458-79276900c671"
      },
      "source": [
        "s_data"
      ],
      "execution_count": null,
      "outputs": [
        {
          "output_type": "execute_result",
          "data": {
            "text/html": [
              "<div>\n",
              "<style scoped>\n",
              "    .dataframe tbody tr th:only-of-type {\n",
              "        vertical-align: middle;\n",
              "    }\n",
              "\n",
              "    .dataframe tbody tr th {\n",
              "        vertical-align: top;\n",
              "    }\n",
              "\n",
              "    .dataframe thead th {\n",
              "        text-align: right;\n",
              "    }\n",
              "</style>\n",
              "<table border=\"1\" class=\"dataframe\">\n",
              "  <thead>\n",
              "    <tr style=\"text-align: right;\">\n",
              "      <th></th>\n",
              "      <th>followers_count</th>\n",
              "      <th>statuses_count</th>\n",
              "    </tr>\n",
              "    <tr>\n",
              "      <th>screen_name</th>\n",
              "      <th></th>\n",
              "      <th></th>\n",
              "    </tr>\n",
              "  </thead>\n",
              "  <tbody>\n",
              "    <tr>\n",
              "      <th>kyla05488335</th>\n",
              "      <td>0.01</td>\n",
              "      <td>0.01</td>\n",
              "    </tr>\n",
              "    <tr>\n",
              "      <th>kyliexian</th>\n",
              "      <td>29.01</td>\n",
              "      <td>132.01</td>\n",
              "    </tr>\n",
              "    <tr>\n",
              "      <th>Valeria05469254</th>\n",
              "      <td>1.01</td>\n",
              "      <td>0.01</td>\n",
              "    </tr>\n",
              "    <tr>\n",
              "      <th>Becky53043633</th>\n",
              "      <td>7.01</td>\n",
              "      <td>45.01</td>\n",
              "    </tr>\n",
              "    <tr>\n",
              "      <th>PaperCrane188</th>\n",
              "      <td>0.01</td>\n",
              "      <td>4.01</td>\n",
              "    </tr>\n",
              "    <tr>\n",
              "      <th>IguanaRainwing</th>\n",
              "      <td>0.01</td>\n",
              "      <td>0.01</td>\n",
              "    </tr>\n",
              "    <tr>\n",
              "      <th>_Mynameiseddy</th>\n",
              "      <td>469.01</td>\n",
              "      <td>4790.01</td>\n",
              "    </tr>\n",
              "    <tr>\n",
              "      <th>crewcrewsz</th>\n",
              "      <td>11.01</td>\n",
              "      <td>29.01</td>\n",
              "    </tr>\n",
              "    <tr>\n",
              "      <th>Nosadhappy1</th>\n",
              "      <td>0.01</td>\n",
              "      <td>0.01</td>\n",
              "    </tr>\n",
              "    <tr>\n",
              "      <th>Lydia_tx</th>\n",
              "      <td>16.01</td>\n",
              "      <td>15.01</td>\n",
              "    </tr>\n",
              "    <tr>\n",
              "      <th>lasangelver</th>\n",
              "      <td>2.01</td>\n",
              "      <td>23.01</td>\n",
              "    </tr>\n",
              "    <tr>\n",
              "      <th>MonhautWrigley</th>\n",
              "      <td>4.01</td>\n",
              "      <td>2.01</td>\n",
              "    </tr>\n",
              "    <tr>\n",
              "      <th>JMasangkay1</th>\n",
              "      <td>1.01</td>\n",
              "      <td>5.01</td>\n",
              "    </tr>\n",
              "    <tr>\n",
              "      <th>FartFoggy</th>\n",
              "      <td>0.01</td>\n",
              "      <td>0.01</td>\n",
              "    </tr>\n",
              "    <tr>\n",
              "      <th>clement12615295</th>\n",
              "      <td>0.01</td>\n",
              "      <td>0.01</td>\n",
              "    </tr>\n",
              "    <tr>\n",
              "      <th>xchechinx</th>\n",
              "      <td>0.01</td>\n",
              "      <td>0.01</td>\n",
              "    </tr>\n",
              "    <tr>\n",
              "      <th>ConfuzedB</th>\n",
              "      <td>3.01</td>\n",
              "      <td>8.01</td>\n",
              "    </tr>\n",
              "    <tr>\n",
              "      <th>NadsNelson</th>\n",
              "      <td>0.01</td>\n",
              "      <td>0.01</td>\n",
              "    </tr>\n",
              "    <tr>\n",
              "      <th>FearOne00</th>\n",
              "      <td>3.01</td>\n",
              "      <td>2.01</td>\n",
              "    </tr>\n",
              "    <tr>\n",
              "      <th>DragonLaraYt</th>\n",
              "      <td>15.01</td>\n",
              "      <td>0.01</td>\n",
              "    </tr>\n",
              "  </tbody>\n",
              "</table>\n",
              "</div>"
            ],
            "text/plain": [
              "                 followers_count  statuses_count\n",
              "screen_name                                     \n",
              "kyla05488335                0.01            0.01\n",
              "kyliexian                  29.01          132.01\n",
              "Valeria05469254             1.01            0.01\n",
              "Becky53043633               7.01           45.01\n",
              "PaperCrane188               0.01            4.01\n",
              "IguanaRainwing              0.01            0.01\n",
              "_Mynameiseddy             469.01         4790.01\n",
              "crewcrewsz                 11.01           29.01\n",
              "Nosadhappy1                 0.01            0.01\n",
              "Lydia_tx                   16.01           15.01\n",
              "lasangelver                 2.01           23.01\n",
              "MonhautWrigley              4.01            2.01\n",
              "JMasangkay1                 1.01            5.01\n",
              "FartFoggy                   0.01            0.01\n",
              "clement12615295             0.01            0.01\n",
              "xchechinx                   0.01            0.01\n",
              "ConfuzedB                   3.01            8.01\n",
              "NadsNelson                  0.01            0.01\n",
              "FearOne00                   3.01            2.01\n",
              "DragonLaraYt               15.01            0.01"
            ]
          },
          "metadata": {
            "tags": []
          },
          "execution_count": 412
        }
      ]
    },
    {
      "cell_type": "code",
      "metadata": {
        "id": "_0yDNk54AfwY"
      },
      "source": [
        "s_data = s_data.apply(lambda x:(x-min(x)) / (max(x)- min(x))) #doing standardization"
      ],
      "execution_count": null,
      "outputs": []
    },
    {
      "cell_type": "code",
      "metadata": {
        "id": "ZVg9UajJAiAz"
      },
      "source": [
        "s_data['followers_count'] = s_data['followers_count'] +0.01\r\n",
        "s_data['statuses_count'] = s_data['statuses_count'] +0.01"
      ],
      "execution_count": null,
      "outputs": []
    },
    {
      "cell_type": "code",
      "metadata": {
        "colab": {
          "base_uri": "https://localhost:8080/",
          "height": 235
        },
        "id": "JeC3gkkTAkCo",
        "outputId": "db525d85-eafa-45c7-b760-7b80ccff8ddd"
      },
      "source": [
        "s_data.head()"
      ],
      "execution_count": null,
      "outputs": [
        {
          "output_type": "execute_result",
          "data": {
            "text/html": [
              "<div>\n",
              "<style scoped>\n",
              "    .dataframe tbody tr th:only-of-type {\n",
              "        vertical-align: middle;\n",
              "    }\n",
              "\n",
              "    .dataframe tbody tr th {\n",
              "        vertical-align: top;\n",
              "    }\n",
              "\n",
              "    .dataframe thead th {\n",
              "        text-align: right;\n",
              "    }\n",
              "</style>\n",
              "<table border=\"1\" class=\"dataframe\">\n",
              "  <thead>\n",
              "    <tr style=\"text-align: right;\">\n",
              "      <th></th>\n",
              "      <th>followers_count</th>\n",
              "      <th>statuses_count</th>\n",
              "    </tr>\n",
              "    <tr>\n",
              "      <th>screen_name</th>\n",
              "      <th></th>\n",
              "      <th></th>\n",
              "    </tr>\n",
              "  </thead>\n",
              "  <tbody>\n",
              "    <tr>\n",
              "      <th>kyla05488335</th>\n",
              "      <td>0.010000</td>\n",
              "      <td>0.010000</td>\n",
              "    </tr>\n",
              "    <tr>\n",
              "      <th>kyliexian</th>\n",
              "      <td>0.071834</td>\n",
              "      <td>0.037557</td>\n",
              "    </tr>\n",
              "    <tr>\n",
              "      <th>Valeria05469254</th>\n",
              "      <td>0.012132</td>\n",
              "      <td>0.010000</td>\n",
              "    </tr>\n",
              "    <tr>\n",
              "      <th>Becky53043633</th>\n",
              "      <td>0.024925</td>\n",
              "      <td>0.019395</td>\n",
              "    </tr>\n",
              "    <tr>\n",
              "      <th>PaperCrane188</th>\n",
              "      <td>0.010000</td>\n",
              "      <td>0.010835</td>\n",
              "    </tr>\n",
              "  </tbody>\n",
              "</table>\n",
              "</div>"
            ],
            "text/plain": [
              "                 followers_count  statuses_count\n",
              "screen_name                                     \n",
              "kyla05488335            0.010000        0.010000\n",
              "kyliexian               0.071834        0.037557\n",
              "Valeria05469254         0.012132        0.010000\n",
              "Becky53043633           0.024925        0.019395\n",
              "PaperCrane188           0.010000        0.010835"
            ]
          },
          "metadata": {
            "tags": []
          },
          "execution_count": 415
        }
      ]
    },
    {
      "cell_type": "code",
      "metadata": {
        "id": "wiaxCtNxAowg"
      },
      "source": [
        "score = s_data['followers_count'] * s_data['statuses_count']"
      ],
      "execution_count": null,
      "outputs": []
    },
    {
      "cell_type": "code",
      "metadata": {
        "colab": {
          "base_uri": "https://localhost:8080/"
        },
        "id": "Vfq85xEOAu4k",
        "outputId": "438a7991-ec06-4d11-a1d8-696344553015"
      },
      "source": [
        "score"
      ],
      "execution_count": null,
      "outputs": [
        {
          "output_type": "execute_result",
          "data": {
            "text/plain": [
              "screen_name\n",
              "kyla05488335       0.000100\n",
              "kyliexian          0.002698\n",
              "Valeria05469254    0.000121\n",
              "Becky53043633      0.000483\n",
              "PaperCrane188      0.000108\n",
              "IguanaRainwing     0.000100\n",
              "_Mynameiseddy      1.020100\n",
              "crewcrewsz         0.000537\n",
              "Nosadhappy1        0.000100\n",
              "Lydia_tx           0.000579\n",
              "lasangelver        0.000211\n",
              "MonhautWrigley     0.000193\n",
              "JMasangkay1        0.000134\n",
              "FartFoggy          0.000100\n",
              "clement12615295    0.000100\n",
              "xchechinx          0.000100\n",
              "ConfuzedB          0.000191\n",
              "NadsNelson         0.000100\n",
              "FearOne00          0.000171\n",
              "DragonLaraYt       0.000420\n",
              "dtype: float64"
            ]
          },
          "metadata": {
            "tags": []
          },
          "execution_count": 417
        }
      ]
    },
    {
      "cell_type": "code",
      "metadata": {
        "colab": {
          "base_uri": "https://localhost:8080/"
        },
        "id": "IbjajfpAAzhA",
        "outputId": "57870a9b-1ccc-437c-cde5-fee199cc066c"
      },
      "source": [
        "score.sort_values(ascending = False)"
      ],
      "execution_count": null,
      "outputs": [
        {
          "output_type": "execute_result",
          "data": {
            "text/plain": [
              "screen_name\n",
              "_Mynameiseddy      1.020100\n",
              "kyliexian          0.002698\n",
              "Lydia_tx           0.000579\n",
              "crewcrewsz         0.000537\n",
              "Becky53043633      0.000483\n",
              "DragonLaraYt       0.000420\n",
              "lasangelver        0.000211\n",
              "MonhautWrigley     0.000193\n",
              "ConfuzedB          0.000191\n",
              "FearOne00          0.000171\n",
              "JMasangkay1        0.000134\n",
              "Valeria05469254    0.000121\n",
              "PaperCrane188      0.000108\n",
              "FartFoggy          0.000100\n",
              "Nosadhappy1        0.000100\n",
              "clement12615295    0.000100\n",
              "xchechinx          0.000100\n",
              "IguanaRainwing     0.000100\n",
              "NadsNelson         0.000100\n",
              "kyla05488335       0.000100\n",
              "dtype: float64"
            ]
          },
          "metadata": {
            "tags": []
          },
          "execution_count": 418
        }
      ]
    },
    {
      "cell_type": "code",
      "metadata": {
        "colab": {
          "base_uri": "https://localhost:8080/"
        },
        "id": "YKFZKuSaA2RZ",
        "outputId": "40cd3c0a-4889-4678-a9e2-aee6cb73eaf3"
      },
      "source": [
        "score[score>score.median() + score.std()/2].sort_values(ascending=False)"
      ],
      "execution_count": null,
      "outputs": [
        {
          "output_type": "execute_result",
          "data": {
            "text/plain": [
              "screen_name\n",
              "_Mynameiseddy    1.0201\n",
              "dtype: float64"
            ]
          },
          "metadata": {
            "tags": []
          },
          "execution_count": 419
        }
      ]
    },
    {
      "cell_type": "code",
      "metadata": {
        "colab": {
          "base_uri": "https://localhost:8080/"
        },
        "id": "Rg2k-sr3BCZP",
        "outputId": "6570e365-1f02-477c-a72f-5788a0d8ea29"
      },
      "source": [
        "score.median()"
      ],
      "execution_count": null,
      "outputs": [
        {
          "output_type": "execute_result",
          "data": {
            "text/plain": [
              "0.00015239905453347637"
            ]
          },
          "metadata": {
            "tags": []
          },
          "execution_count": 420
        }
      ]
    },
    {
      "cell_type": "code",
      "metadata": {
        "id": "TPJi34HDBF-t"
      },
      "source": [
        "s_data['score'] =score"
      ],
      "execution_count": null,
      "outputs": []
    },
    {
      "cell_type": "code",
      "metadata": {
        "id": "eCib649iBIMw"
      },
      "source": [
        "import numpy as np"
      ],
      "execution_count": null,
      "outputs": []
    },
    {
      "cell_type": "code",
      "metadata": {
        "id": "hoErr-rsBKCA"
      },
      "source": [
        "s_data['segment'] = np.where(s_data['score'] >=score.median() + score.std()/len(score) , 'A', 'B')"
      ],
      "execution_count": null,
      "outputs": []
    },
    {
      "cell_type": "code",
      "metadata": {
        "colab": {
          "base_uri": "https://localhost:8080/",
          "height": 700
        },
        "id": "IvelQtztBMFJ",
        "outputId": "3eb28f96-4f78-4fb3-efda-3eb801f5aff0"
      },
      "source": [
        "s_data"
      ],
      "execution_count": null,
      "outputs": [
        {
          "output_type": "execute_result",
          "data": {
            "text/html": [
              "<div>\n",
              "<style scoped>\n",
              "    .dataframe tbody tr th:only-of-type {\n",
              "        vertical-align: middle;\n",
              "    }\n",
              "\n",
              "    .dataframe tbody tr th {\n",
              "        vertical-align: top;\n",
              "    }\n",
              "\n",
              "    .dataframe thead th {\n",
              "        text-align: right;\n",
              "    }\n",
              "</style>\n",
              "<table border=\"1\" class=\"dataframe\">\n",
              "  <thead>\n",
              "    <tr style=\"text-align: right;\">\n",
              "      <th></th>\n",
              "      <th>followers_count</th>\n",
              "      <th>statuses_count</th>\n",
              "      <th>score</th>\n",
              "      <th>segment</th>\n",
              "    </tr>\n",
              "    <tr>\n",
              "      <th>screen_name</th>\n",
              "      <th></th>\n",
              "      <th></th>\n",
              "      <th></th>\n",
              "      <th></th>\n",
              "    </tr>\n",
              "  </thead>\n",
              "  <tbody>\n",
              "    <tr>\n",
              "      <th>kyla05488335</th>\n",
              "      <td>0.010000</td>\n",
              "      <td>0.010000</td>\n",
              "      <td>0.000100</td>\n",
              "      <td>B</td>\n",
              "    </tr>\n",
              "    <tr>\n",
              "      <th>kyliexian</th>\n",
              "      <td>0.071834</td>\n",
              "      <td>0.037557</td>\n",
              "      <td>0.002698</td>\n",
              "      <td>B</td>\n",
              "    </tr>\n",
              "    <tr>\n",
              "      <th>Valeria05469254</th>\n",
              "      <td>0.012132</td>\n",
              "      <td>0.010000</td>\n",
              "      <td>0.000121</td>\n",
              "      <td>B</td>\n",
              "    </tr>\n",
              "    <tr>\n",
              "      <th>Becky53043633</th>\n",
              "      <td>0.024925</td>\n",
              "      <td>0.019395</td>\n",
              "      <td>0.000483</td>\n",
              "      <td>B</td>\n",
              "    </tr>\n",
              "    <tr>\n",
              "      <th>PaperCrane188</th>\n",
              "      <td>0.010000</td>\n",
              "      <td>0.010835</td>\n",
              "      <td>0.000108</td>\n",
              "      <td>B</td>\n",
              "    </tr>\n",
              "    <tr>\n",
              "      <th>IguanaRainwing</th>\n",
              "      <td>0.010000</td>\n",
              "      <td>0.010000</td>\n",
              "      <td>0.000100</td>\n",
              "      <td>B</td>\n",
              "    </tr>\n",
              "    <tr>\n",
              "      <th>_Mynameiseddy</th>\n",
              "      <td>1.010000</td>\n",
              "      <td>1.010000</td>\n",
              "      <td>1.020100</td>\n",
              "      <td>A</td>\n",
              "    </tr>\n",
              "    <tr>\n",
              "      <th>crewcrewsz</th>\n",
              "      <td>0.033454</td>\n",
              "      <td>0.016054</td>\n",
              "      <td>0.000537</td>\n",
              "      <td>B</td>\n",
              "    </tr>\n",
              "    <tr>\n",
              "      <th>Nosadhappy1</th>\n",
              "      <td>0.010000</td>\n",
              "      <td>0.010000</td>\n",
              "      <td>0.000100</td>\n",
              "      <td>B</td>\n",
              "    </tr>\n",
              "    <tr>\n",
              "      <th>Lydia_tx</th>\n",
              "      <td>0.044115</td>\n",
              "      <td>0.013132</td>\n",
              "      <td>0.000579</td>\n",
              "      <td>B</td>\n",
              "    </tr>\n",
              "    <tr>\n",
              "      <th>lasangelver</th>\n",
              "      <td>0.014264</td>\n",
              "      <td>0.014802</td>\n",
              "      <td>0.000211</td>\n",
              "      <td>B</td>\n",
              "    </tr>\n",
              "    <tr>\n",
              "      <th>MonhautWrigley</th>\n",
              "      <td>0.018529</td>\n",
              "      <td>0.010418</td>\n",
              "      <td>0.000193</td>\n",
              "      <td>B</td>\n",
              "    </tr>\n",
              "    <tr>\n",
              "      <th>JMasangkay1</th>\n",
              "      <td>0.012132</td>\n",
              "      <td>0.011044</td>\n",
              "      <td>0.000134</td>\n",
              "      <td>B</td>\n",
              "    </tr>\n",
              "    <tr>\n",
              "      <th>FartFoggy</th>\n",
              "      <td>0.010000</td>\n",
              "      <td>0.010000</td>\n",
              "      <td>0.000100</td>\n",
              "      <td>B</td>\n",
              "    </tr>\n",
              "    <tr>\n",
              "      <th>clement12615295</th>\n",
              "      <td>0.010000</td>\n",
              "      <td>0.010000</td>\n",
              "      <td>0.000100</td>\n",
              "      <td>B</td>\n",
              "    </tr>\n",
              "    <tr>\n",
              "      <th>xchechinx</th>\n",
              "      <td>0.010000</td>\n",
              "      <td>0.010000</td>\n",
              "      <td>0.000100</td>\n",
              "      <td>B</td>\n",
              "    </tr>\n",
              "    <tr>\n",
              "      <th>ConfuzedB</th>\n",
              "      <td>0.016397</td>\n",
              "      <td>0.011670</td>\n",
              "      <td>0.000191</td>\n",
              "      <td>B</td>\n",
              "    </tr>\n",
              "    <tr>\n",
              "      <th>NadsNelson</th>\n",
              "      <td>0.010000</td>\n",
              "      <td>0.010000</td>\n",
              "      <td>0.000100</td>\n",
              "      <td>B</td>\n",
              "    </tr>\n",
              "    <tr>\n",
              "      <th>FearOne00</th>\n",
              "      <td>0.016397</td>\n",
              "      <td>0.010418</td>\n",
              "      <td>0.000171</td>\n",
              "      <td>B</td>\n",
              "    </tr>\n",
              "    <tr>\n",
              "      <th>DragonLaraYt</th>\n",
              "      <td>0.041983</td>\n",
              "      <td>0.010000</td>\n",
              "      <td>0.000420</td>\n",
              "      <td>B</td>\n",
              "    </tr>\n",
              "  </tbody>\n",
              "</table>\n",
              "</div>"
            ],
            "text/plain": [
              "                 followers_count  statuses_count     score segment\n",
              "screen_name                                                       \n",
              "kyla05488335            0.010000        0.010000  0.000100       B\n",
              "kyliexian               0.071834        0.037557  0.002698       B\n",
              "Valeria05469254         0.012132        0.010000  0.000121       B\n",
              "Becky53043633           0.024925        0.019395  0.000483       B\n",
              "PaperCrane188           0.010000        0.010835  0.000108       B\n",
              "IguanaRainwing          0.010000        0.010000  0.000100       B\n",
              "_Mynameiseddy           1.010000        1.010000  1.020100       A\n",
              "crewcrewsz              0.033454        0.016054  0.000537       B\n",
              "Nosadhappy1             0.010000        0.010000  0.000100       B\n",
              "Lydia_tx                0.044115        0.013132  0.000579       B\n",
              "lasangelver             0.014264        0.014802  0.000211       B\n",
              "MonhautWrigley          0.018529        0.010418  0.000193       B\n",
              "JMasangkay1             0.012132        0.011044  0.000134       B\n",
              "FartFoggy               0.010000        0.010000  0.000100       B\n",
              "clement12615295         0.010000        0.010000  0.000100       B\n",
              "xchechinx               0.010000        0.010000  0.000100       B\n",
              "ConfuzedB               0.016397        0.011670  0.000191       B\n",
              "NadsNelson              0.010000        0.010000  0.000100       B\n",
              "FearOne00               0.016397        0.010418  0.000171       B\n",
              "DragonLaraYt            0.041983        0.010000  0.000420       B"
            ]
          },
          "metadata": {
            "tags": []
          },
          "execution_count": 424
        }
      ]
    },
    {
      "cell_type": "code",
      "metadata": {
        "id": "9B4o4350BWAx"
      },
      "source": [
        "a = api.user_timeline(id= '3409123967',count=5)"
      ],
      "execution_count": null,
      "outputs": []
    },
    {
      "cell_type": "code",
      "metadata": {
        "colab": {
          "base_uri": "https://localhost:8080/"
        },
        "id": "MLTurnMzBioB",
        "outputId": "94688658-a2e6-472d-b491-49e9b2785e56"
      },
      "source": [
        "for i in a:\r\n",
        "    print(i.text)"
      ],
      "execution_count": null,
      "outputs": [
        {
          "output_type": "stream",
          "text": [
            "@emmalangevinxo @Freddy_bo809 ? https://t.co/VmPrrMQ2ri\n",
            "@MrBeastYT Everyone involved did an incredible job, thanks for putting it together :)\n",
            "@pokimanelol wait\n",
            "@Dream :)\n",
            "@LilNasX absolutely\n"
          ],
          "name": "stdout"
        }
      ]
    },
    {
      "cell_type": "code",
      "metadata": {
        "id": "1b1VpNcoBmSn"
      },
      "source": [
        "def country_codes():\r\n",
        "    places = api.trends_available()\r\n",
        "    all_woeids = {place['name'].lower(): place['woeid'] for place in places}\r\n",
        "    return all_woeids"
      ],
      "execution_count": null,
      "outputs": []
    },
    {
      "cell_type": "code",
      "metadata": {
        "id": "HZGxPvIQBokZ"
      },
      "source": [
        "def country_woeid(country_name):\r\n",
        "    country_name = country_name.lower()\r\n",
        "    trends = api.trends_available()\r\n",
        "    all_woeids = country_codes()\r\n",
        "    return all_woeids[country_name]"
      ],
      "execution_count": null,
      "outputs": []
    },
    {
      "cell_type": "code",
      "metadata": {
        "colab": {
          "base_uri": "https://localhost:8080/"
        },
        "id": "drTTn8C7BsLo",
        "outputId": "b28acde3-9b23-43e3-85e9-7888574c251b"
      },
      "source": [
        "country_woeid('turkey')"
      ],
      "execution_count": null,
      "outputs": [
        {
          "output_type": "execute_result",
          "data": {
            "text/plain": [
              "23424969"
            ]
          },
          "metadata": {
            "tags": []
          },
          "execution_count": 429
        }
      ]
    },
    {
      "cell_type": "code",
      "metadata": {
        "id": "KcwppzReBx5S"
      },
      "source": [
        "trends = api.trends_place(id= 23424969 )"
      ],
      "execution_count": null,
      "outputs": []
    },
    {
      "cell_type": "code",
      "metadata": {
        "id": "5eA4kJ_rB0cB"
      },
      "source": [
        "import json"
      ],
      "execution_count": null,
      "outputs": []
    },
    {
      "cell_type": "code",
      "metadata": {
        "id": "uiYNOOkUB1Iv"
      },
      "source": [
        "turkey = api.trends_place(id= 23424969 )\r\n",
        "trends = turkey[0]['trends']"
      ],
      "execution_count": null,
      "outputs": []
    },
    {
      "cell_type": "markdown",
      "metadata": {
        "id": "cdyC8lI6B58g"
      },
      "source": [
        "## **Pull Data from Hashtag**"
      ]
    },
    {
      "cell_type": "code",
      "metadata": {
        "id": "kbbwfQ8DB7Ro"
      },
      "source": [
        "tweets = api.search(q= '#datascience', lang='en',\r\n",
        "                     result_type='recent', counts = 1000)"
      ],
      "execution_count": null,
      "outputs": []
    },
    {
      "cell_type": "code",
      "metadata": {
        "id": "eg0hAtc5B-aU"
      },
      "source": [
        "def hashtag_df(results):\r\n",
        "    id_list = [tweet.id for tweet in results]\r\n",
        "    data_set = pd.DataFrame(id_list,columns=['id'])\r\n",
        "    \r\n",
        "    \r\n",
        "    data_set['text'] = [tweet.text for tweet in results]\r\n",
        "    data_set['created_at'] = [tweet.created_at for tweet in results]\r\n",
        "    data_set['retweeted'] = [tweet.retweeted for tweet in results]\r\n",
        "    data_set['retweet_count'] = [tweet.retweet_count for tweet in results]\r\n",
        "    data_set['name'] = [tweet.author.name for tweet in results]\r\n",
        "    data_set['user_screen_name'] = [tweet.author.screen_name for tweet in results]\r\n",
        "    data_set['user_followers_count'] = [tweet.author.followers_count for tweet in results]\r\n",
        "    data_set['user_location'] = [tweet.author.location for tweet in results]\r\n",
        "    data_set['Hashtags'] = [tweet.entities.get('hashtags') for tweet in results]\r\n",
        "    \r\n",
        "    return data_set"
      ],
      "execution_count": null,
      "outputs": []
    },
    {
      "cell_type": "code",
      "metadata": {
        "id": "DmgoZINQCf_1"
      },
      "source": [
        "df = hashtag_df(tweets)"
      ],
      "execution_count": null,
      "outputs": []
    },
    {
      "cell_type": "code",
      "metadata": {
        "colab": {
          "base_uri": "https://localhost:8080/"
        },
        "id": "JGZc4T7pCiSO",
        "outputId": "c80f6905-4682-4747-dc87-edd1a529101a"
      },
      "source": [
        "df.shape"
      ],
      "execution_count": null,
      "outputs": [
        {
          "output_type": "execute_result",
          "data": {
            "text/plain": [
              "(15, 10)"
            ]
          },
          "metadata": {
            "tags": []
          },
          "execution_count": 436
        }
      ]
    },
    {
      "cell_type": "code",
      "metadata": {
        "colab": {
          "base_uri": "https://localhost:8080/",
          "height": 514
        },
        "id": "DLZQdHQlCkCv",
        "outputId": "71436789-6c4c-4e77-df29-27badae29508"
      },
      "source": [
        "df"
      ],
      "execution_count": null,
      "outputs": [
        {
          "output_type": "execute_result",
          "data": {
            "text/html": [
              "<div>\n",
              "<style scoped>\n",
              "    .dataframe tbody tr th:only-of-type {\n",
              "        vertical-align: middle;\n",
              "    }\n",
              "\n",
              "    .dataframe tbody tr th {\n",
              "        vertical-align: top;\n",
              "    }\n",
              "\n",
              "    .dataframe thead th {\n",
              "        text-align: right;\n",
              "    }\n",
              "</style>\n",
              "<table border=\"1\" class=\"dataframe\">\n",
              "  <thead>\n",
              "    <tr style=\"text-align: right;\">\n",
              "      <th></th>\n",
              "      <th>id</th>\n",
              "      <th>text</th>\n",
              "      <th>created_at</th>\n",
              "      <th>retweeted</th>\n",
              "      <th>retweet_count</th>\n",
              "      <th>name</th>\n",
              "      <th>user_screen_name</th>\n",
              "      <th>user_followers_count</th>\n",
              "      <th>user_location</th>\n",
              "      <th>Hashtags</th>\n",
              "    </tr>\n",
              "  </thead>\n",
              "  <tbody>\n",
              "    <tr>\n",
              "      <th>0</th>\n",
              "      <td>1346134340028280833</td>\n",
              "      <td>RT @Flexgigzz_team: Mastering AI &amp;amp; data sc...</td>\n",
              "      <td>2021-01-04 16:40:11</td>\n",
              "      <td>False</td>\n",
              "      <td>27</td>\n",
              "      <td>Pythonista Bot</td>\n",
              "      <td>iPythonistaBot</td>\n",
              "      <td>281</td>\n",
              "      <td></td>\n",
              "      <td>[{'text': 'AI', 'indices': [106, 109]}, {'text...</td>\n",
              "    </tr>\n",
              "    <tr>\n",
              "      <th>1</th>\n",
              "      <td>1346134325893468163</td>\n",
              "      <td>RT @XcedeDigital: More data jobs available now...</td>\n",
              "      <td>2021-01-04 16:40:07</td>\n",
              "      <td>False</td>\n",
              "      <td>2</td>\n",
              "      <td>Careers in Growth</td>\n",
              "      <td>careersingrowth</td>\n",
              "      <td>2246</td>\n",
              "      <td>United Kingdom</td>\n",
              "      <td>[{'text': 'XcedeData', 'indices': [74, 84]}, {...</td>\n",
              "    </tr>\n",
              "    <tr>\n",
              "      <th>2</th>\n",
              "      <td>1346134324698099712</td>\n",
              "      <td>RT @Flexgigzz_team: Mastering AI &amp;amp; data sc...</td>\n",
              "      <td>2021-01-04 16:40:07</td>\n",
              "      <td>False</td>\n",
              "      <td>26</td>\n",
              "      <td>xael bot</td>\n",
              "      <td>xaelbot</td>\n",
              "      <td>3544</td>\n",
              "      <td>Earth</td>\n",
              "      <td>[{'text': 'AI', 'indices': [106, 109]}, {'text...</td>\n",
              "    </tr>\n",
              "    <tr>\n",
              "      <th>3</th>\n",
              "      <td>1346134321380397057</td>\n",
              "      <td>RT @CourseOp: Data Analytics A-Z with Python (...</td>\n",
              "      <td>2021-01-04 16:40:06</td>\n",
              "      <td>False</td>\n",
              "      <td>33</td>\n",
              "      <td>100daysofCode</td>\n",
              "      <td>_100DaysOfCode</td>\n",
              "      <td>113855</td>\n",
              "      <td>Earth</td>\n",
              "      <td>[{'text': 'blockchain', 'indices': [62, 73]}, ...</td>\n",
              "    </tr>\n",
              "    <tr>\n",
              "      <th>4</th>\n",
              "      <td>1346134317232058368</td>\n",
              "      <td>RT @Flexgigzz_team: Mastering AI &amp;amp; data sc...</td>\n",
              "      <td>2021-01-04 16:40:05</td>\n",
              "      <td>False</td>\n",
              "      <td>26</td>\n",
              "      <td>CodersNotes</td>\n",
              "      <td>CoderNotesBot</td>\n",
              "      <td>7611</td>\n",
              "      <td>codeanywhere.com</td>\n",
              "      <td>[{'text': 'AI', 'indices': [106, 109]}, {'text...</td>\n",
              "    </tr>\n",
              "    <tr>\n",
              "      <th>5</th>\n",
              "      <td>1346134315437072385</td>\n",
              "      <td>RT @Ronald_vanLoon: Scaling #AI in the Real-Wo...</td>\n",
              "      <td>2021-01-04 16:40:05</td>\n",
              "      <td>False</td>\n",
              "      <td>10</td>\n",
              "      <td>the404code</td>\n",
              "      <td>the404code</td>\n",
              "      <td>1302</td>\n",
              "      <td></td>\n",
              "      <td>[{'text': 'AI', 'indices': [28, 31]}, {'text':...</td>\n",
              "    </tr>\n",
              "    <tr>\n",
              "      <th>6</th>\n",
              "      <td>1346134315416039430</td>\n",
              "      <td>RT @Ronald_vanLoon: Industry Applications of D...</td>\n",
              "      <td>2021-01-04 16:40:05</td>\n",
              "      <td>False</td>\n",
              "      <td>38</td>\n",
              "      <td>the404code</td>\n",
              "      <td>the404code</td>\n",
              "      <td>1302</td>\n",
              "      <td></td>\n",
              "      <td>[{'text': 'MachineLearning', 'indices': [64, 8...</td>\n",
              "    </tr>\n",
              "    <tr>\n",
              "      <th>7</th>\n",
              "      <td>1346134315411906563</td>\n",
              "      <td>RT @Ronald_vanLoon: How to Develop #ModelOps c...</td>\n",
              "      <td>2021-01-04 16:40:05</td>\n",
              "      <td>False</td>\n",
              "      <td>41</td>\n",
              "      <td>the404code</td>\n",
              "      <td>the404code</td>\n",
              "      <td>1302</td>\n",
              "      <td></td>\n",
              "      <td>[{'text': 'ModelOps', 'indices': [35, 44]}, {'...</td>\n",
              "    </tr>\n",
              "    <tr>\n",
              "      <th>8</th>\n",
              "      <td>1346134315382484993</td>\n",
              "      <td>RT @KirkDBorne: What's the difference between ...</td>\n",
              "      <td>2021-01-04 16:40:05</td>\n",
              "      <td>False</td>\n",
              "      <td>403</td>\n",
              "      <td>the404code</td>\n",
              "      <td>the404code</td>\n",
              "      <td>1302</td>\n",
              "      <td></td>\n",
              "      <td>[{'text': 'DataScience', 'indices': [46, 58]},...</td>\n",
              "    </tr>\n",
              "    <tr>\n",
              "      <th>9</th>\n",
              "      <td>1346134315374174208</td>\n",
              "      <td>RT @Ronald_vanLoon: Scaling #AI in the Real-Wo...</td>\n",
              "      <td>2021-01-04 16:40:05</td>\n",
              "      <td>False</td>\n",
              "      <td>10</td>\n",
              "      <td>the404code</td>\n",
              "      <td>the404code</td>\n",
              "      <td>1302</td>\n",
              "      <td></td>\n",
              "      <td>[{'text': 'AI', 'indices': [28, 31]}, {'text':...</td>\n",
              "    </tr>\n",
              "    <tr>\n",
              "      <th>10</th>\n",
              "      <td>1346134315344793601</td>\n",
              "      <td>RT @DeepLearn007: Forbes #AI Awards\\n\\nhttps:/...</td>\n",
              "      <td>2021-01-04 16:40:05</td>\n",
              "      <td>False</td>\n",
              "      <td>40</td>\n",
              "      <td>the404code</td>\n",
              "      <td>the404code</td>\n",
              "      <td>1302</td>\n",
              "      <td></td>\n",
              "      <td>[{'text': 'AI', 'indices': [25, 28]}]</td>\n",
              "    </tr>\n",
              "    <tr>\n",
              "      <th>11</th>\n",
              "      <td>1346134308134637569</td>\n",
              "      <td>RT @CourseOp: Data Analytics A-Z with Python (...</td>\n",
              "      <td>2021-01-04 16:40:03</td>\n",
              "      <td>False</td>\n",
              "      <td>33</td>\n",
              "      <td>LinuxBot</td>\n",
              "      <td>LlnuxBot</td>\n",
              "      <td>3341</td>\n",
              "      <td>Raspberry Pi</td>\n",
              "      <td>[{'text': 'blockchain', 'indices': [62, 73]}, ...</td>\n",
              "    </tr>\n",
              "    <tr>\n",
              "      <th>12</th>\n",
              "      <td>1346134252212146176</td>\n",
              "      <td>RT @TopProRecruits: #GenerousRevolution - Insp...</td>\n",
              "      <td>2021-01-04 16:39:50</td>\n",
              "      <td>False</td>\n",
              "      <td>4</td>\n",
              "      <td>JDi Data</td>\n",
              "      <td>jdidata</td>\n",
              "      <td>1272</td>\n",
              "      <td>FL, CA, NY✈️</td>\n",
              "      <td>[{'text': 'GenerousRevolution', 'indices': [20...</td>\n",
              "    </tr>\n",
              "    <tr>\n",
              "      <th>13</th>\n",
              "      <td>1346134248038817792</td>\n",
              "      <td>RT @workinstartups: 🤖💡 Help shape the future d...</td>\n",
              "      <td>2021-01-04 16:39:49</td>\n",
              "      <td>False</td>\n",
              "      <td>1</td>\n",
              "      <td>Careers in Growth</td>\n",
              "      <td>careersingrowth</td>\n",
              "      <td>2246</td>\n",
              "      <td>United Kingdom</td>\n",
              "      <td>[]</td>\n",
              "    </tr>\n",
              "    <tr>\n",
              "      <th>14</th>\n",
              "      <td>1346134214912192512</td>\n",
              "      <td>RT @globaliqx: 10 #AI Predictions For 2021 \\n\\...</td>\n",
              "      <td>2021-01-04 16:39:41</td>\n",
              "      <td>False</td>\n",
              "      <td>16</td>\n",
              "      <td>S. S. Xman</td>\n",
              "      <td>SSXman2</td>\n",
              "      <td>4697</td>\n",
              "      <td>Benin-City, Nigeria</td>\n",
              "      <td>[{'text': 'AI', 'indices': [18, 21]}, {'text':...</td>\n",
              "    </tr>\n",
              "  </tbody>\n",
              "</table>\n",
              "</div>"
            ],
            "text/plain": [
              "                     id  ...                                           Hashtags\n",
              "0   1346134340028280833  ...  [{'text': 'AI', 'indices': [106, 109]}, {'text...\n",
              "1   1346134325893468163  ...  [{'text': 'XcedeData', 'indices': [74, 84]}, {...\n",
              "2   1346134324698099712  ...  [{'text': 'AI', 'indices': [106, 109]}, {'text...\n",
              "3   1346134321380397057  ...  [{'text': 'blockchain', 'indices': [62, 73]}, ...\n",
              "4   1346134317232058368  ...  [{'text': 'AI', 'indices': [106, 109]}, {'text...\n",
              "5   1346134315437072385  ...  [{'text': 'AI', 'indices': [28, 31]}, {'text':...\n",
              "6   1346134315416039430  ...  [{'text': 'MachineLearning', 'indices': [64, 8...\n",
              "7   1346134315411906563  ...  [{'text': 'ModelOps', 'indices': [35, 44]}, {'...\n",
              "8   1346134315382484993  ...  [{'text': 'DataScience', 'indices': [46, 58]},...\n",
              "9   1346134315374174208  ...  [{'text': 'AI', 'indices': [28, 31]}, {'text':...\n",
              "10  1346134315344793601  ...              [{'text': 'AI', 'indices': [25, 28]}]\n",
              "11  1346134308134637569  ...  [{'text': 'blockchain', 'indices': [62, 73]}, ...\n",
              "12  1346134252212146176  ...  [{'text': 'GenerousRevolution', 'indices': [20...\n",
              "13  1346134248038817792  ...                                                 []\n",
              "14  1346134214912192512  ...  [{'text': 'AI', 'indices': [18, 21]}, {'text':...\n",
              "\n",
              "[15 rows x 10 columns]"
            ]
          },
          "metadata": {
            "tags": []
          },
          "execution_count": 437
        }
      ]
    },
    {
      "cell_type": "code",
      "metadata": {
        "id": "mTc1ERbRCrtC"
      },
      "source": [
        "df['tweet_hour'] = df['created_at'].apply(lambda x: x.strftime('%H'))"
      ],
      "execution_count": null,
      "outputs": []
    },
    {
      "cell_type": "code",
      "metadata": {
        "id": "uOjMFY0pCt0_"
      },
      "source": [
        "df['tweet_hour'] = pd.to_numeric(df['tweet_hour'])"
      ],
      "execution_count": null,
      "outputs": []
    },
    {
      "cell_type": "code",
      "metadata": {
        "colab": {
          "base_uri": "https://localhost:8080/",
          "height": 406
        },
        "id": "5DGNX4qnCvUe",
        "outputId": "7d9f2df1-6fd2-4c93-c206-d38c3fae8a6b"
      },
      "source": [
        "plt.figure(figsize=(10,6))\r\n",
        "sns.distplot(df['tweet_hour'], kde=True, color='blue')"
      ],
      "execution_count": null,
      "outputs": [
        {
          "output_type": "execute_result",
          "data": {
            "text/plain": [
              "<matplotlib.axes._subplots.AxesSubplot at 0x7f3005d72be0>"
            ]
          },
          "metadata": {
            "tags": []
          },
          "execution_count": 440
        },
        {
          "output_type": "display_data",
          "data": {
            "image/png": "[encoded data removed]",
            "text/plain": [
              "<Figure size 720x432 with 1 Axes>"
            ]
          },
          "metadata": {
            "tags": [],
            "needs_background": "light"
          }
        }
      ]
    },
    {
      "cell_type": "code",
      "metadata": {
        "id": "rd09wMtdCyYz"
      },
      "source": [
        "df['days'] = df['created_at'].dt.day_name"
      ],
      "execution_count": null,
      "outputs": []
    },
    {
      "cell_type": "code",
      "metadata": {
        "id": "ONmuuFwjC2dA"
      },
      "source": [
        "gun_freq = df.groupby('days').count()['id']"
      ],
      "execution_count": null,
      "outputs": []
    },
    {
      "cell_type": "code",
      "metadata": {
        "colab": {
          "base_uri": "https://localhost:8080/",
          "height": 1000
        },
        "id": "tc7u8U1DC4y6",
        "outputId": "c1dbfc15-97f8-438c-cbfd-bdbaa1849166"
      },
      "source": [
        "gun_freq.plot.bar(x='days', y='id')"
      ],
      "execution_count": null,
      "outputs": [
        {
          "output_type": "execute_result",
          "data": {
            "text/plain": [
              "<matplotlib.axes._subplots.AxesSubplot at 0x7f3005d72a58>"
            ]
          },
          "metadata": {
            "tags": []
          },
          "execution_count": 443
        },
        {
          "output_type": "display_data",
          "data": {
            "image/png": "[encoded data removed]",
            "text/plain": [
              "<Figure size 432x288 with 1 Axes>"
            ]
          },
          "metadata": {
            "tags": [],
            "needs_background": "light"
          }
        }
      ]
    },
    {
      "cell_type": "markdown",
      "metadata": {
        "id": "EdWIwlhsDDpf"
      },
      "source": [
        "## **Twitter Text Mining**"
      ]
    },
    {
      "cell_type": "code",
      "metadata": {
        "colab": {
          "base_uri": "https://localhost:8080/"
        },
        "id": "cf8y4spADX6B",
        "outputId": "bfb752cb-b0c5-47d9-daed-cd579dbe2a36"
      },
      "source": [
        "import nltk\r\n",
        "nltk.download('stopwords')\r\n",
        "nltk.download('wordnet')"
      ],
      "execution_count": null,
      "outputs": [
        {
          "output_type": "stream",
          "text": [
            "[nltk_data] Downloading package stopwords to /root/nltk_data...\n",
            "[nltk_data]   Package stopwords is already up-to-date!\n",
            "[nltk_data] Downloading package wordnet to /root/nltk_data...\n",
            "[nltk_data]   Package wordnet is already up-to-date!\n"
          ],
          "name": "stdout"
        },
        {
          "output_type": "execute_result",
          "data": {
            "text/plain": [
              "True"
            ]
          },
          "metadata": {
            "tags": []
          },
          "execution_count": 444
        }
      ]
    },
    {
      "cell_type": "code",
      "metadata": {
        "id": "sJWFuZ9oDFEZ"
      },
      "source": [
        "df['text'] = df['text'].apply(lambda x: \" \".join(x.lower() for x in x.split()))\r\n",
        "\r\n",
        "df['text'] = df['text'].str.replace('[^\\w\\s]', '')\r\n",
        "\r\n",
        "df['text'] = df['text'].str.replace('[\\d]','')\r\n",
        "\r\n",
        "\r\n",
        "import nltk\r\n",
        "from nltk.corpus import stopwords\r\n",
        "sw = stopwords.words('english')\r\n",
        "df['text'] = df['text'].apply(lambda x: \" \".join(x for x in x.split() if x not in sw))\r\n",
        "\r\n",
        "#lemmi\r\n",
        "from textblob import Word\r\n",
        "df['text'] = df['text'].apply(lambda x: \" \".join([Word(word).lemmatize() for word in x.split()] ))\r\n",
        "\r\n",
        "df['text'] = df['text'].str.replace('rt', '')"
      ],
      "execution_count": null,
      "outputs": []
    },
    {
      "cell_type": "code",
      "metadata": {
        "colab": {
          "base_uri": "https://localhost:8080/"
        },
        "id": "j9j53okwDoZ8",
        "outputId": "99aa9948-15ef-4ad4-9a98-62389c758569"
      },
      "source": [
        "df.text"
      ],
      "execution_count": null,
      "outputs": [
        {
          "output_type": "execute_result",
          "data": {
            "text/plain": [
              "0      flexgigzz_team mastering ai amp data science ...\n",
              "1      xcededigital data job available httpstcoakygo...\n",
              "2      flexgigzz_team mastering ai amp data science ...\n",
              "3      courseop data analytics az python free blockc...\n",
              "4      flexgigzz_team mastering ai amp data science ...\n",
              "5      ronald_vanloon scaling ai realworld ronald_va...\n",
              "6      ronald_vanloon industry application different...\n",
              "7      ronald_vanloon develop modelops capability ro...\n",
              "8      kirkdborne whats difference datascience machi...\n",
              "9      ronald_vanloon scaling ai realworld ronald_va...\n",
              "10     deeplearn forbes ai award httpstcopqreuxvin s...\n",
              "11     courseop data analytics az python free blockc...\n",
              "12     topprorecruits generousrevolution inspiring i...\n",
              "13     workinstaups help shape future direction tech...\n",
              "14     globaliqx ai prediction via forbes httpstcokb...\n",
              "Name: text, dtype: object"
            ]
          },
          "metadata": {
            "tags": []
          },
          "execution_count": 446
        }
      ]
    },
    {
      "cell_type": "code",
      "metadata": {
        "id": "yUVa_lrtD175"
      },
      "source": [
        "freq_df = df['text'].apply(lambda x:pd.value_counts(x.split(\" \"))).sum(axis = 0).reset_index()"
      ],
      "execution_count": null,
      "outputs": []
    },
    {
      "cell_type": "code",
      "metadata": {
        "id": "oyHvFppOD3wR"
      },
      "source": [
        "freq_df.columns = ['words', 'freqs']"
      ],
      "execution_count": null,
      "outputs": []
    },
    {
      "cell_type": "code",
      "metadata": {
        "colab": {
          "base_uri": "https://localhost:8080/",
          "height": 419
        },
        "id": "CmZe6pl1D67a",
        "outputId": "4e7c7dd2-35d7-4a42-e981-4355e2813224"
      },
      "source": [
        "freq_df.sort_values('freqs',ascending=False)"
      ],
      "execution_count": null,
      "outputs": [
        {
          "output_type": "execute_result",
          "data": {
            "text/html": [
              "<div>\n",
              "<style scoped>\n",
              "    .dataframe tbody tr th:only-of-type {\n",
              "        vertical-align: middle;\n",
              "    }\n",
              "\n",
              "    .dataframe tbody tr th {\n",
              "        vertical-align: top;\n",
              "    }\n",
              "\n",
              "    .dataframe thead th {\n",
              "        text-align: right;\n",
              "    }\n",
              "</style>\n",
              "<table border=\"1\" class=\"dataframe\">\n",
              "  <thead>\n",
              "    <tr style=\"text-align: right;\">\n",
              "      <th></th>\n",
              "      <th>words</th>\n",
              "      <th>freqs</th>\n",
              "    </tr>\n",
              "  </thead>\n",
              "  <tbody>\n",
              "    <tr>\n",
              "      <th>13</th>\n",
              "      <td></td>\n",
              "      <td>15.0</td>\n",
              "    </tr>\n",
              "    <tr>\n",
              "      <th>0</th>\n",
              "      <td>ai</td>\n",
              "      <td>12.0</td>\n",
              "    </tr>\n",
              "    <tr>\n",
              "      <th>4</th>\n",
              "      <td>data</td>\n",
              "      <td>7.0</td>\n",
              "    </tr>\n",
              "    <tr>\n",
              "      <th>32</th>\n",
              "      <td>ronald_vanloon</td>\n",
              "      <td>7.0</td>\n",
              "    </tr>\n",
              "    <tr>\n",
              "      <th>3</th>\n",
              "      <td>python</td>\n",
              "      <td>7.0</td>\n",
              "    </tr>\n",
              "    <tr>\n",
              "      <th>...</th>\n",
              "      <td>...</td>\n",
              "      <td>...</td>\n",
              "    </tr>\n",
              "    <tr>\n",
              "      <th>59</th>\n",
              "      <td>http</td>\n",
              "      <td>1.0</td>\n",
              "    </tr>\n",
              "    <tr>\n",
              "      <th>60</th>\n",
              "      <td>aificial</td>\n",
              "      <td>1.0</td>\n",
              "    </tr>\n",
              "    <tr>\n",
              "      <th>62</th>\n",
              "      <td>xbond</td>\n",
              "      <td>1.0</td>\n",
              "    </tr>\n",
              "    <tr>\n",
              "      <th>63</th>\n",
              "      <td>paula_piccard</td>\n",
              "      <td>1.0</td>\n",
              "    </tr>\n",
              "    <tr>\n",
              "      <th>97</th>\n",
              "      <td>aificialintelligence</td>\n",
              "      <td>1.0</td>\n",
              "    </tr>\n",
              "  </tbody>\n",
              "</table>\n",
              "<p>98 rows × 2 columns</p>\n",
              "</div>"
            ],
            "text/plain": [
              "                   words  freqs\n",
              "13                         15.0\n",
              "0                     ai   12.0\n",
              "4                   data    7.0\n",
              "32        ronald_vanloon    7.0\n",
              "3                 python    7.0\n",
              "..                   ...    ...\n",
              "59                  http    1.0\n",
              "60              aificial    1.0\n",
              "62                 xbond    1.0\n",
              "63         paula_piccard    1.0\n",
              "97  aificialintelligence    1.0\n",
              "\n",
              "[98 rows x 2 columns]"
            ]
          },
          "metadata": {
            "tags": []
          },
          "execution_count": 449
        }
      ]
    },
    {
      "cell_type": "code",
      "metadata": {
        "colab": {
          "base_uri": "https://localhost:8080/"
        },
        "id": "wNDGTyjvENYJ",
        "outputId": "050323f1-03ad-4f42-e8d9-74b464edba8a"
      },
      "source": [
        "freq_df.shape"
      ],
      "execution_count": null,
      "outputs": [
        {
          "output_type": "execute_result",
          "data": {
            "text/plain": [
              "(98, 2)"
            ]
          },
          "metadata": {
            "tags": []
          },
          "execution_count": 450
        }
      ]
    },
    {
      "cell_type": "code",
      "metadata": {
        "id": "DPS_GMcXEPgJ"
      },
      "source": [
        "a = freq_df[freq_df.freqs > freq_df.freqs.mean() + \r\n",
        "       freq_df.freqs.std()] # this code for the being more meaningful"
      ],
      "execution_count": null,
      "outputs": []
    },
    {
      "cell_type": "code",
      "metadata": {
        "colab": {
          "base_uri": "https://localhost:8080/",
          "height": 363
        },
        "id": "3PClK9X-ESwj",
        "outputId": "0cbd9193-594b-4272-d6f4-0d21b0b10a35"
      },
      "source": [
        "a.plot.bar(x= 'words', y= 'freqs')"
      ],
      "execution_count": null,
      "outputs": [
        {
          "output_type": "execute_result",
          "data": {
            "text/plain": [
              "<matplotlib.axes._subplots.AxesSubplot at 0x7f300dd4ccc0>"
            ]
          },
          "metadata": {
            "tags": []
          },
          "execution_count": 452
        },
        {
          "output_type": "display_data",
          "data": {
            "image/png": "[encoded data removed]",
            "text/plain": [
              "<Figure size 432x288 with 1 Axes>"
            ]
          },
          "metadata": {
            "tags": [],
            "needs_background": "light"
          }
        }
      ]
    },
    {
      "cell_type": "markdown",
      "metadata": {
        "id": "N68jMGJFEW4D"
      },
      "source": [
        "## **Word Cloud**"
      ]
    },
    {
      "cell_type": "code",
      "metadata": {
        "id": "AdlnGuUHEX-Y"
      },
      "source": [
        "import numpy as np\r\n",
        "import pandas as pd\r\n",
        "from os import path\r\n",
        "from PIL import Image\r\n",
        "from wordcloud import WordCloud , STOPWORDS, ImageColorGenerator\r\n",
        "import matplotlib.pyplot as plt"
      ],
      "execution_count": null,
      "outputs": []
    },
    {
      "cell_type": "code",
      "metadata": {
        "id": "3YpyoofgEbmp"
      },
      "source": [
        "text = \" \".join(i for i in df.text)"
      ],
      "execution_count": null,
      "outputs": []
    },
    {
      "cell_type": "code",
      "metadata": {
        "colab": {
          "base_uri": "https://localhost:8080/",
          "height": 103
        },
        "id": "m0qG7qPVEdJ2",
        "outputId": "172d1e13-24da-4470-fdf0-cc2914448f14"
      },
      "source": [
        "text"
      ],
      "execution_count": null,
      "outputs": [
        {
          "output_type": "execute_result",
          "data": {
            "application/vnd.google.colaboratory.intrinsic+json": {
              "type": "string"
            },
            "text/plain": [
              "' flexgigzz_team mastering ai amp data science online winter surprised colleague ai datascience python mathematics  xcededigital data job available httpstcoakygoftic xcededata datajobs datascience bigdata dataengineer dataana  flexgigzz_team mastering ai amp data science online winter surprised colleague ai datascience python mathematics  courseop data analytics az python free blockchain javascript cloudcomputing python deeplearning daysofcode  flexgigzz_team mastering ai amp data science online winter surprised colleague ai datascience python mathematics  ronald_vanloon scaling ai realworld ronald_vanloon read httpstcoczxwflsln modzypaner getmodzy modzy  ronald_vanloon industry application different type machinelearning great_learning lindagrass ai bigdata ml mi dat  ronald_vanloon develop modelops capability ronald_vanloon read httpstcoczxwflsln modzypaner getmodz  kirkdborne whats difference datascience machinelearning ai aificial intelligence httpstcoxlrzpjzrj http  ronald_vanloon scaling ai realworld ronald_vanloon read httpstcoczxwflsln modzypaner getmodzy modzy  deeplearn forbes ai award httpstcopqreuxvin spirosmargaris xbond psb_dc jblefevre nigewillson paula_piccard ip  courseop data analytics az python free blockchain javascript cloudcomputing python deeplearning daysofcode  topprorecruits generousrevolution inspiring idea action latest generousrevolution daily httpstcobatgqbga thanks  workinstaups help shape future direction technology sound interesting causalens looking data scien  globaliqx ai prediction via forbes httpstcokbyncnjwwb aificialintelligence machinelearning datascience f'"
            ]
          },
          "metadata": {
            "tags": []
          },
          "execution_count": 455
        }
      ]
    },
    {
      "cell_type": "code",
      "metadata": {
        "colab": {
          "base_uri": "https://localhost:8080/",
          "height": 391
        },
        "id": "43KsRQbVEiMd",
        "outputId": "8ef8ce60-345b-4a28-d5f0-62024c3ad263"
      },
      "source": [
        "wc = WordCloud(background_color='white').generate(text)\r\n",
        "plt.figure(figsize=(10,6))\r\n",
        "plt.imshow(wc, interpolation='bilinear')\r\n",
        "plt.axis('off')\r\n",
        "plt.tight_layout(pad = 0)\r\n",
        "plt.show()"
      ],
      "execution_count": null,
      "outputs": [
        {
          "output_type": "display_data",
          "data": {
            "image/png": "[encoded data removed]",
            "text/plain": [
              "<Figure size 720x432 with 1 Axes>"
            ]
          },
          "metadata": {
            "tags": [],
            "needs_background": "light"
          }
        }
      ]
    },
    {
      "cell_type": "markdown",
      "metadata": {
        "id": "ukehqT6MEoCE"
      },
      "source": [
        "## **Twitter Sentiment**"
      ]
    },
    {
      "cell_type": "code",
      "metadata": {
        "colab": {
          "base_uri": "https://localhost:8080/",
          "height": 786
        },
        "id": "gefJHYvVEpBp",
        "outputId": "52c7c491-f396-4474-8ccd-c82556f8a25b"
      },
      "source": [
        "df"
      ],
      "execution_count": null,
      "outputs": [
        {
          "output_type": "execute_result",
          "data": {
            "text/html": [
              "<div>\n",
              "<style scoped>\n",
              "    .dataframe tbody tr th:only-of-type {\n",
              "        vertical-align: middle;\n",
              "    }\n",
              "\n",
              "    .dataframe tbody tr th {\n",
              "        vertical-align: top;\n",
              "    }\n",
              "\n",
              "    .dataframe thead th {\n",
              "        text-align: right;\n",
              "    }\n",
              "</style>\n",
              "<table border=\"1\" class=\"dataframe\">\n",
              "  <thead>\n",
              "    <tr style=\"text-align: right;\">\n",
              "      <th></th>\n",
              "      <th>id</th>\n",
              "      <th>text</th>\n",
              "      <th>created_at</th>\n",
              "      <th>retweeted</th>\n",
              "      <th>retweet_count</th>\n",
              "      <th>name</th>\n",
              "      <th>user_screen_name</th>\n",
              "      <th>user_followers_count</th>\n",
              "      <th>user_location</th>\n",
              "      <th>Hashtags</th>\n",
              "      <th>tweet_hour</th>\n",
              "      <th>days</th>\n",
              "    </tr>\n",
              "  </thead>\n",
              "  <tbody>\n",
              "    <tr>\n",
              "      <th>0</th>\n",
              "      <td>1346134340028280833</td>\n",
              "      <td>flexgigzz_team mastering ai amp data science ...</td>\n",
              "      <td>2021-01-04 16:40:11</td>\n",
              "      <td>False</td>\n",
              "      <td>27</td>\n",
              "      <td>Pythonista Bot</td>\n",
              "      <td>iPythonistaBot</td>\n",
              "      <td>281</td>\n",
              "      <td></td>\n",
              "      <td>[{'text': 'AI', 'indices': [106, 109]}, {'text...</td>\n",
              "      <td>16</td>\n",
              "      <td>&lt;bound method PandasDelegate._add_delegate_acc...</td>\n",
              "    </tr>\n",
              "    <tr>\n",
              "      <th>1</th>\n",
              "      <td>1346134325893468163</td>\n",
              "      <td>xcededigital data job available httpstcoakygo...</td>\n",
              "      <td>2021-01-04 16:40:07</td>\n",
              "      <td>False</td>\n",
              "      <td>2</td>\n",
              "      <td>Careers in Growth</td>\n",
              "      <td>careersingrowth</td>\n",
              "      <td>2246</td>\n",
              "      <td>United Kingdom</td>\n",
              "      <td>[{'text': 'XcedeData', 'indices': [74, 84]}, {...</td>\n",
              "      <td>16</td>\n",
              "      <td>&lt;bound method PandasDelegate._add_delegate_acc...</td>\n",
              "    </tr>\n",
              "    <tr>\n",
              "      <th>2</th>\n",
              "      <td>1346134324698099712</td>\n",
              "      <td>flexgigzz_team mastering ai amp data science ...</td>\n",
              "      <td>2021-01-04 16:40:07</td>\n",
              "      <td>False</td>\n",
              "      <td>26</td>\n",
              "      <td>xael bot</td>\n",
              "      <td>xaelbot</td>\n",
              "      <td>3544</td>\n",
              "      <td>Earth</td>\n",
              "      <td>[{'text': 'AI', 'indices': [106, 109]}, {'text...</td>\n",
              "      <td>16</td>\n",
              "      <td>&lt;bound method PandasDelegate._add_delegate_acc...</td>\n",
              "    </tr>\n",
              "    <tr>\n",
              "      <th>3</th>\n",
              "      <td>1346134321380397057</td>\n",
              "      <td>courseop data analytics az python free blockc...</td>\n",
              "      <td>2021-01-04 16:40:06</td>\n",
              "      <td>False</td>\n",
              "      <td>33</td>\n",
              "      <td>100daysofCode</td>\n",
              "      <td>_100DaysOfCode</td>\n",
              "      <td>113855</td>\n",
              "      <td>Earth</td>\n",
              "      <td>[{'text': 'blockchain', 'indices': [62, 73]}, ...</td>\n",
              "      <td>16</td>\n",
              "      <td>&lt;bound method PandasDelegate._add_delegate_acc...</td>\n",
              "    </tr>\n",
              "    <tr>\n",
              "      <th>4</th>\n",
              "      <td>1346134317232058368</td>\n",
              "      <td>flexgigzz_team mastering ai amp data science ...</td>\n",
              "      <td>2021-01-04 16:40:05</td>\n",
              "      <td>False</td>\n",
              "      <td>26</td>\n",
              "      <td>CodersNotes</td>\n",
              "      <td>CoderNotesBot</td>\n",
              "      <td>7611</td>\n",
              "      <td>codeanywhere.com</td>\n",
              "      <td>[{'text': 'AI', 'indices': [106, 109]}, {'text...</td>\n",
              "      <td>16</td>\n",
              "      <td>&lt;bound method PandasDelegate._add_delegate_acc...</td>\n",
              "    </tr>\n",
              "    <tr>\n",
              "      <th>5</th>\n",
              "      <td>1346134315437072385</td>\n",
              "      <td>ronald_vanloon scaling ai realworld ronald_va...</td>\n",
              "      <td>2021-01-04 16:40:05</td>\n",
              "      <td>False</td>\n",
              "      <td>10</td>\n",
              "      <td>the404code</td>\n",
              "      <td>the404code</td>\n",
              "      <td>1302</td>\n",
              "      <td></td>\n",
              "      <td>[{'text': 'AI', 'indices': [28, 31]}, {'text':...</td>\n",
              "      <td>16</td>\n",
              "      <td>&lt;bound method PandasDelegate._add_delegate_acc...</td>\n",
              "    </tr>\n",
              "    <tr>\n",
              "      <th>6</th>\n",
              "      <td>1346134315416039430</td>\n",
              "      <td>ronald_vanloon industry application different...</td>\n",
              "      <td>2021-01-04 16:40:05</td>\n",
              "      <td>False</td>\n",
              "      <td>38</td>\n",
              "      <td>the404code</td>\n",
              "      <td>the404code</td>\n",
              "      <td>1302</td>\n",
              "      <td></td>\n",
              "      <td>[{'text': 'MachineLearning', 'indices': [64, 8...</td>\n",
              "      <td>16</td>\n",
              "      <td>&lt;bound method PandasDelegate._add_delegate_acc...</td>\n",
              "    </tr>\n",
              "    <tr>\n",
              "      <th>7</th>\n",
              "      <td>1346134315411906563</td>\n",
              "      <td>ronald_vanloon develop modelops capability ro...</td>\n",
              "      <td>2021-01-04 16:40:05</td>\n",
              "      <td>False</td>\n",
              "      <td>41</td>\n",
              "      <td>the404code</td>\n",
              "      <td>the404code</td>\n",
              "      <td>1302</td>\n",
              "      <td></td>\n",
              "      <td>[{'text': 'ModelOps', 'indices': [35, 44]}, {'...</td>\n",
              "      <td>16</td>\n",
              "      <td>&lt;bound method PandasDelegate._add_delegate_acc...</td>\n",
              "    </tr>\n",
              "    <tr>\n",
              "      <th>8</th>\n",
              "      <td>1346134315382484993</td>\n",
              "      <td>kirkdborne whats difference datascience machi...</td>\n",
              "      <td>2021-01-04 16:40:05</td>\n",
              "      <td>False</td>\n",
              "      <td>403</td>\n",
              "      <td>the404code</td>\n",
              "      <td>the404code</td>\n",
              "      <td>1302</td>\n",
              "      <td></td>\n",
              "      <td>[{'text': 'DataScience', 'indices': [46, 58]},...</td>\n",
              "      <td>16</td>\n",
              "      <td>&lt;bound method PandasDelegate._add_delegate_acc...</td>\n",
              "    </tr>\n",
              "    <tr>\n",
              "      <th>9</th>\n",
              "      <td>1346134315374174208</td>\n",
              "      <td>ronald_vanloon scaling ai realworld ronald_va...</td>\n",
              "      <td>2021-01-04 16:40:05</td>\n",
              "      <td>False</td>\n",
              "      <td>10</td>\n",
              "      <td>the404code</td>\n",
              "      <td>the404code</td>\n",
              "      <td>1302</td>\n",
              "      <td></td>\n",
              "      <td>[{'text': 'AI', 'indices': [28, 31]}, {'text':...</td>\n",
              "      <td>16</td>\n",
              "      <td>&lt;bound method PandasDelegate._add_delegate_acc...</td>\n",
              "    </tr>\n",
              "    <tr>\n",
              "      <th>10</th>\n",
              "      <td>1346134315344793601</td>\n",
              "      <td>deeplearn forbes ai award httpstcopqreuxvin s...</td>\n",
              "      <td>2021-01-04 16:40:05</td>\n",
              "      <td>False</td>\n",
              "      <td>40</td>\n",
              "      <td>the404code</td>\n",
              "      <td>the404code</td>\n",
              "      <td>1302</td>\n",
              "      <td></td>\n",
              "      <td>[{'text': 'AI', 'indices': [25, 28]}]</td>\n",
              "      <td>16</td>\n",
              "      <td>&lt;bound method PandasDelegate._add_delegate_acc...</td>\n",
              "    </tr>\n",
              "    <tr>\n",
              "      <th>11</th>\n",
              "      <td>1346134308134637569</td>\n",
              "      <td>courseop data analytics az python free blockc...</td>\n",
              "      <td>2021-01-04 16:40:03</td>\n",
              "      <td>False</td>\n",
              "      <td>33</td>\n",
              "      <td>LinuxBot</td>\n",
              "      <td>LlnuxBot</td>\n",
              "      <td>3341</td>\n",
              "      <td>Raspberry Pi</td>\n",
              "      <td>[{'text': 'blockchain', 'indices': [62, 73]}, ...</td>\n",
              "      <td>16</td>\n",
              "      <td>&lt;bound method PandasDelegate._add_delegate_acc...</td>\n",
              "    </tr>\n",
              "    <tr>\n",
              "      <th>12</th>\n",
              "      <td>1346134252212146176</td>\n",
              "      <td>topprorecruits generousrevolution inspiring i...</td>\n",
              "      <td>2021-01-04 16:39:50</td>\n",
              "      <td>False</td>\n",
              "      <td>4</td>\n",
              "      <td>JDi Data</td>\n",
              "      <td>jdidata</td>\n",
              "      <td>1272</td>\n",
              "      <td>FL, CA, NY✈️</td>\n",
              "      <td>[{'text': 'GenerousRevolution', 'indices': [20...</td>\n",
              "      <td>16</td>\n",
              "      <td>&lt;bound method PandasDelegate._add_delegate_acc...</td>\n",
              "    </tr>\n",
              "    <tr>\n",
              "      <th>13</th>\n",
              "      <td>1346134248038817792</td>\n",
              "      <td>workinstaups help shape future direction tech...</td>\n",
              "      <td>2021-01-04 16:39:49</td>\n",
              "      <td>False</td>\n",
              "      <td>1</td>\n",
              "      <td>Careers in Growth</td>\n",
              "      <td>careersingrowth</td>\n",
              "      <td>2246</td>\n",
              "      <td>United Kingdom</td>\n",
              "      <td>[]</td>\n",
              "      <td>16</td>\n",
              "      <td>&lt;bound method PandasDelegate._add_delegate_acc...</td>\n",
              "    </tr>\n",
              "    <tr>\n",
              "      <th>14</th>\n",
              "      <td>1346134214912192512</td>\n",
              "      <td>globaliqx ai prediction via forbes httpstcokb...</td>\n",
              "      <td>2021-01-04 16:39:41</td>\n",
              "      <td>False</td>\n",
              "      <td>16</td>\n",
              "      <td>S. S. Xman</td>\n",
              "      <td>SSXman2</td>\n",
              "      <td>4697</td>\n",
              "      <td>Benin-City, Nigeria</td>\n",
              "      <td>[{'text': 'AI', 'indices': [18, 21]}, {'text':...</td>\n",
              "      <td>16</td>\n",
              "      <td>&lt;bound method PandasDelegate._add_delegate_acc...</td>\n",
              "    </tr>\n",
              "  </tbody>\n",
              "</table>\n",
              "</div>"
            ],
            "text/plain": [
              "                     id  ...                                               days\n",
              "0   1346134340028280833  ...  <bound method PandasDelegate._add_delegate_acc...\n",
              "1   1346134325893468163  ...  <bound method PandasDelegate._add_delegate_acc...\n",
              "2   1346134324698099712  ...  <bound method PandasDelegate._add_delegate_acc...\n",
              "3   1346134321380397057  ...  <bound method PandasDelegate._add_delegate_acc...\n",
              "4   1346134317232058368  ...  <bound method PandasDelegate._add_delegate_acc...\n",
              "5   1346134315437072385  ...  <bound method PandasDelegate._add_delegate_acc...\n",
              "6   1346134315416039430  ...  <bound method PandasDelegate._add_delegate_acc...\n",
              "7   1346134315411906563  ...  <bound method PandasDelegate._add_delegate_acc...\n",
              "8   1346134315382484993  ...  <bound method PandasDelegate._add_delegate_acc...\n",
              "9   1346134315374174208  ...  <bound method PandasDelegate._add_delegate_acc...\n",
              "10  1346134315344793601  ...  <bound method PandasDelegate._add_delegate_acc...\n",
              "11  1346134308134637569  ...  <bound method PandasDelegate._add_delegate_acc...\n",
              "12  1346134252212146176  ...  <bound method PandasDelegate._add_delegate_acc...\n",
              "13  1346134248038817792  ...  <bound method PandasDelegate._add_delegate_acc...\n",
              "14  1346134214912192512  ...  <bound method PandasDelegate._add_delegate_acc...\n",
              "\n",
              "[15 rows x 12 columns]"
            ]
          },
          "metadata": {
            "tags": []
          },
          "execution_count": 457
        }
      ]
    },
    {
      "cell_type": "code",
      "metadata": {
        "id": "fqvTToAVE0HY"
      },
      "source": [
        "from textblob import TextBlob"
      ],
      "execution_count": null,
      "outputs": []
    },
    {
      "cell_type": "code",
      "metadata": {
        "id": "x3Ul68N5E3c1"
      },
      "source": [
        "def sentiment_score(df):\r\n",
        "    text = df['text']\r\n",
        "    \r\n",
        "    for i in range(0, len(text)):\r\n",
        "        textB = TextBlob(text[i])\r\n",
        "        sentiment_score = textB.sentiment.polarity\r\n",
        "        df.at[i, 'sentiment_score'] = sentiment_score\r\n",
        "        \r\n",
        "        \r\n",
        "        if sentiment_score < 0.00:\r\n",
        "            sentiment_class = 'Negative'\r\n",
        "            df.at[i, 'sentiment_class'] = sentiment_class\r\n",
        "            \r\n",
        "        elif sentiment_score > 0.00:\r\n",
        "            sentiment_class ='Positive'\r\n",
        "            df.at[i, 'sentiment_class'] = sentiment_class\r\n",
        "        else:\r\n",
        "            sentiment_class = 'Notr'\r\n",
        "            df.at[i, 'sentiment_class'] = sentiment_class\r\n",
        "    return df"
      ],
      "execution_count": null,
      "outputs": []
    },
    {
      "cell_type": "code",
      "metadata": {
        "colab": {
          "base_uri": "https://localhost:8080/",
          "height": 1000
        },
        "id": "pff-5HF_LQEB",
        "outputId": "84fb0b15-26e4-43a2-e969-0c16438bd043"
      },
      "source": [
        "sentiment_score(df)"
      ],
      "execution_count": null,
      "outputs": [
        {
          "output_type": "execute_result",
          "data": {
            "text/html": [
              "<div>\n",
              "<style scoped>\n",
              "    .dataframe tbody tr th:only-of-type {\n",
              "        vertical-align: middle;\n",
              "    }\n",
              "\n",
              "    .dataframe tbody tr th {\n",
              "        vertical-align: top;\n",
              "    }\n",
              "\n",
              "    .dataframe thead th {\n",
              "        text-align: right;\n",
              "    }\n",
              "</style>\n",
              "<table border=\"1\" class=\"dataframe\">\n",
              "  <thead>\n",
              "    <tr style=\"text-align: right;\">\n",
              "      <th></th>\n",
              "      <th>id</th>\n",
              "      <th>text</th>\n",
              "      <th>created_at</th>\n",
              "      <th>retweeted</th>\n",
              "      <th>retweet_count</th>\n",
              "      <th>name</th>\n",
              "      <th>user_screen_name</th>\n",
              "      <th>user_followers_count</th>\n",
              "      <th>user_location</th>\n",
              "      <th>Hashtags</th>\n",
              "      <th>tweet_hour</th>\n",
              "      <th>days</th>\n",
              "      <th>sentiment_score</th>\n",
              "      <th>sentiment_class</th>\n",
              "    </tr>\n",
              "  </thead>\n",
              "  <tbody>\n",
              "    <tr>\n",
              "      <th>0</th>\n",
              "      <td>1346134340028280833</td>\n",
              "      <td>flexgigzz_team mastering ai amp data science ...</td>\n",
              "      <td>2021-01-04 16:40:11</td>\n",
              "      <td>False</td>\n",
              "      <td>27</td>\n",
              "      <td>Pythonista Bot</td>\n",
              "      <td>iPythonistaBot</td>\n",
              "      <td>281</td>\n",
              "      <td></td>\n",
              "      <td>[{'text': 'AI', 'indices': [106, 109]}, {'text...</td>\n",
              "      <td>16</td>\n",
              "      <td>&lt;bound method PandasDelegate._add_delegate_acc...</td>\n",
              "      <td>0.10</td>\n",
              "      <td>Positive</td>\n",
              "    </tr>\n",
              "    <tr>\n",
              "      <th>1</th>\n",
              "      <td>1346134325893468163</td>\n",
              "      <td>xcededigital data job available httpstcoakygo...</td>\n",
              "      <td>2021-01-04 16:40:07</td>\n",
              "      <td>False</td>\n",
              "      <td>2</td>\n",
              "      <td>Careers in Growth</td>\n",
              "      <td>careersingrowth</td>\n",
              "      <td>2246</td>\n",
              "      <td>United Kingdom</td>\n",
              "      <td>[{'text': 'XcedeData', 'indices': [74, 84]}, {...</td>\n",
              "      <td>16</td>\n",
              "      <td>&lt;bound method PandasDelegate._add_delegate_acc...</td>\n",
              "      <td>0.40</td>\n",
              "      <td>Positive</td>\n",
              "    </tr>\n",
              "    <tr>\n",
              "      <th>2</th>\n",
              "      <td>1346134324698099712</td>\n",
              "      <td>flexgigzz_team mastering ai amp data science ...</td>\n",
              "      <td>2021-01-04 16:40:07</td>\n",
              "      <td>False</td>\n",
              "      <td>26</td>\n",
              "      <td>xael bot</td>\n",
              "      <td>xaelbot</td>\n",
              "      <td>3544</td>\n",
              "      <td>Earth</td>\n",
              "      <td>[{'text': 'AI', 'indices': [106, 109]}, {'text...</td>\n",
              "      <td>16</td>\n",
              "      <td>&lt;bound method PandasDelegate._add_delegate_acc...</td>\n",
              "      <td>0.10</td>\n",
              "      <td>Positive</td>\n",
              "    </tr>\n",
              "    <tr>\n",
              "      <th>3</th>\n",
              "      <td>1346134321380397057</td>\n",
              "      <td>courseop data analytics az python free blockc...</td>\n",
              "      <td>2021-01-04 16:40:06</td>\n",
              "      <td>False</td>\n",
              "      <td>33</td>\n",
              "      <td>100daysofCode</td>\n",
              "      <td>_100DaysOfCode</td>\n",
              "      <td>113855</td>\n",
              "      <td>Earth</td>\n",
              "      <td>[{'text': 'blockchain', 'indices': [62, 73]}, ...</td>\n",
              "      <td>16</td>\n",
              "      <td>&lt;bound method PandasDelegate._add_delegate_acc...</td>\n",
              "      <td>0.40</td>\n",
              "      <td>Positive</td>\n",
              "    </tr>\n",
              "    <tr>\n",
              "      <th>4</th>\n",
              "      <td>1346134317232058368</td>\n",
              "      <td>flexgigzz_team mastering ai amp data science ...</td>\n",
              "      <td>2021-01-04 16:40:05</td>\n",
              "      <td>False</td>\n",
              "      <td>26</td>\n",
              "      <td>CodersNotes</td>\n",
              "      <td>CoderNotesBot</td>\n",
              "      <td>7611</td>\n",
              "      <td>codeanywhere.com</td>\n",
              "      <td>[{'text': 'AI', 'indices': [106, 109]}, {'text...</td>\n",
              "      <td>16</td>\n",
              "      <td>&lt;bound method PandasDelegate._add_delegate_acc...</td>\n",
              "      <td>0.10</td>\n",
              "      <td>Positive</td>\n",
              "    </tr>\n",
              "    <tr>\n",
              "      <th>5</th>\n",
              "      <td>1346134315437072385</td>\n",
              "      <td>ronald_vanloon scaling ai realworld ronald_va...</td>\n",
              "      <td>2021-01-04 16:40:05</td>\n",
              "      <td>False</td>\n",
              "      <td>10</td>\n",
              "      <td>the404code</td>\n",
              "      <td>the404code</td>\n",
              "      <td>1302</td>\n",
              "      <td></td>\n",
              "      <td>[{'text': 'AI', 'indices': [28, 31]}, {'text':...</td>\n",
              "      <td>16</td>\n",
              "      <td>&lt;bound method PandasDelegate._add_delegate_acc...</td>\n",
              "      <td>0.00</td>\n",
              "      <td>Notr</td>\n",
              "    </tr>\n",
              "    <tr>\n",
              "      <th>6</th>\n",
              "      <td>1346134315416039430</td>\n",
              "      <td>ronald_vanloon industry application different...</td>\n",
              "      <td>2021-01-04 16:40:05</td>\n",
              "      <td>False</td>\n",
              "      <td>38</td>\n",
              "      <td>the404code</td>\n",
              "      <td>the404code</td>\n",
              "      <td>1302</td>\n",
              "      <td></td>\n",
              "      <td>[{'text': 'MachineLearning', 'indices': [64, 8...</td>\n",
              "      <td>16</td>\n",
              "      <td>&lt;bound method PandasDelegate._add_delegate_acc...</td>\n",
              "      <td>0.00</td>\n",
              "      <td>Notr</td>\n",
              "    </tr>\n",
              "    <tr>\n",
              "      <th>7</th>\n",
              "      <td>1346134315411906563</td>\n",
              "      <td>ronald_vanloon develop modelops capability ro...</td>\n",
              "      <td>2021-01-04 16:40:05</td>\n",
              "      <td>False</td>\n",
              "      <td>41</td>\n",
              "      <td>the404code</td>\n",
              "      <td>the404code</td>\n",
              "      <td>1302</td>\n",
              "      <td></td>\n",
              "      <td>[{'text': 'ModelOps', 'indices': [35, 44]}, {'...</td>\n",
              "      <td>16</td>\n",
              "      <td>&lt;bound method PandasDelegate._add_delegate_acc...</td>\n",
              "      <td>0.00</td>\n",
              "      <td>Notr</td>\n",
              "    </tr>\n",
              "    <tr>\n",
              "      <th>8</th>\n",
              "      <td>1346134315382484993</td>\n",
              "      <td>kirkdborne whats difference datascience machi...</td>\n",
              "      <td>2021-01-04 16:40:05</td>\n",
              "      <td>False</td>\n",
              "      <td>403</td>\n",
              "      <td>the404code</td>\n",
              "      <td>the404code</td>\n",
              "      <td>1302</td>\n",
              "      <td></td>\n",
              "      <td>[{'text': 'DataScience', 'indices': [46, 58]},...</td>\n",
              "      <td>16</td>\n",
              "      <td>&lt;bound method PandasDelegate._add_delegate_acc...</td>\n",
              "      <td>0.00</td>\n",
              "      <td>Notr</td>\n",
              "    </tr>\n",
              "    <tr>\n",
              "      <th>9</th>\n",
              "      <td>1346134315374174208</td>\n",
              "      <td>ronald_vanloon scaling ai realworld ronald_va...</td>\n",
              "      <td>2021-01-04 16:40:05</td>\n",
              "      <td>False</td>\n",
              "      <td>10</td>\n",
              "      <td>the404code</td>\n",
              "      <td>the404code</td>\n",
              "      <td>1302</td>\n",
              "      <td></td>\n",
              "      <td>[{'text': 'AI', 'indices': [28, 31]}, {'text':...</td>\n",
              "      <td>16</td>\n",
              "      <td>&lt;bound method PandasDelegate._add_delegate_acc...</td>\n",
              "      <td>0.00</td>\n",
              "      <td>Notr</td>\n",
              "    </tr>\n",
              "    <tr>\n",
              "      <th>10</th>\n",
              "      <td>1346134315344793601</td>\n",
              "      <td>deeplearn forbes ai award httpstcopqreuxvin s...</td>\n",
              "      <td>2021-01-04 16:40:05</td>\n",
              "      <td>False</td>\n",
              "      <td>40</td>\n",
              "      <td>the404code</td>\n",
              "      <td>the404code</td>\n",
              "      <td>1302</td>\n",
              "      <td></td>\n",
              "      <td>[{'text': 'AI', 'indices': [25, 28]}]</td>\n",
              "      <td>16</td>\n",
              "      <td>&lt;bound method PandasDelegate._add_delegate_acc...</td>\n",
              "      <td>0.00</td>\n",
              "      <td>Notr</td>\n",
              "    </tr>\n",
              "    <tr>\n",
              "      <th>11</th>\n",
              "      <td>1346134308134637569</td>\n",
              "      <td>courseop data analytics az python free blockc...</td>\n",
              "      <td>2021-01-04 16:40:03</td>\n",
              "      <td>False</td>\n",
              "      <td>33</td>\n",
              "      <td>LinuxBot</td>\n",
              "      <td>LlnuxBot</td>\n",
              "      <td>3341</td>\n",
              "      <td>Raspberry Pi</td>\n",
              "      <td>[{'text': 'blockchain', 'indices': [62, 73]}, ...</td>\n",
              "      <td>16</td>\n",
              "      <td>&lt;bound method PandasDelegate._add_delegate_acc...</td>\n",
              "      <td>0.40</td>\n",
              "      <td>Positive</td>\n",
              "    </tr>\n",
              "    <tr>\n",
              "      <th>12</th>\n",
              "      <td>1346134252212146176</td>\n",
              "      <td>topprorecruits generousrevolution inspiring i...</td>\n",
              "      <td>2021-01-04 16:39:50</td>\n",
              "      <td>False</td>\n",
              "      <td>4</td>\n",
              "      <td>JDi Data</td>\n",
              "      <td>jdidata</td>\n",
              "      <td>1272</td>\n",
              "      <td>FL, CA, NY✈️</td>\n",
              "      <td>[{'text': 'GenerousRevolution', 'indices': [20...</td>\n",
              "      <td>16</td>\n",
              "      <td>&lt;bound method PandasDelegate._add_delegate_acc...</td>\n",
              "      <td>0.26</td>\n",
              "      <td>Positive</td>\n",
              "    </tr>\n",
              "    <tr>\n",
              "      <th>13</th>\n",
              "      <td>1346134248038817792</td>\n",
              "      <td>workinstaups help shape future direction tech...</td>\n",
              "      <td>2021-01-04 16:39:49</td>\n",
              "      <td>False</td>\n",
              "      <td>1</td>\n",
              "      <td>Careers in Growth</td>\n",
              "      <td>careersingrowth</td>\n",
              "      <td>2246</td>\n",
              "      <td>United Kingdom</td>\n",
              "      <td>[]</td>\n",
              "      <td>16</td>\n",
              "      <td>&lt;bound method PandasDelegate._add_delegate_acc...</td>\n",
              "      <td>0.30</td>\n",
              "      <td>Positive</td>\n",
              "    </tr>\n",
              "    <tr>\n",
              "      <th>14</th>\n",
              "      <td>1346134214912192512</td>\n",
              "      <td>globaliqx ai prediction via forbes httpstcokb...</td>\n",
              "      <td>2021-01-04 16:39:41</td>\n",
              "      <td>False</td>\n",
              "      <td>16</td>\n",
              "      <td>S. S. Xman</td>\n",
              "      <td>SSXman2</td>\n",
              "      <td>4697</td>\n",
              "      <td>Benin-City, Nigeria</td>\n",
              "      <td>[{'text': 'AI', 'indices': [18, 21]}, {'text':...</td>\n",
              "      <td>16</td>\n",
              "      <td>&lt;bound method PandasDelegate._add_delegate_acc...</td>\n",
              "      <td>0.00</td>\n",
              "      <td>Notr</td>\n",
              "    </tr>\n",
              "  </tbody>\n",
              "</table>\n",
              "</div>"
            ],
            "text/plain": [
              "                     id  ... sentiment_class\n",
              "0   1346134340028280833  ...        Positive\n",
              "1   1346134325893468163  ...        Positive\n",
              "2   1346134324698099712  ...        Positive\n",
              "3   1346134321380397057  ...        Positive\n",
              "4   1346134317232058368  ...        Positive\n",
              "5   1346134315437072385  ...            Notr\n",
              "6   1346134315416039430  ...            Notr\n",
              "7   1346134315411906563  ...            Notr\n",
              "8   1346134315382484993  ...            Notr\n",
              "9   1346134315374174208  ...            Notr\n",
              "10  1346134315344793601  ...            Notr\n",
              "11  1346134308134637569  ...        Positive\n",
              "12  1346134252212146176  ...        Positive\n",
              "13  1346134248038817792  ...        Positive\n",
              "14  1346134214912192512  ...            Notr\n",
              "\n",
              "[15 rows x 14 columns]"
            ]
          },
          "metadata": {
            "tags": []
          },
          "execution_count": 460
        }
      ]
    },
    {
      "cell_type": "code",
      "metadata": {
        "colab": {
          "base_uri": "https://localhost:8080/"
        },
        "id": "ekbkId6xMTq4",
        "outputId": "6cc251eb-2fe2-4de7-904d-e3f767efff0b"
      },
      "source": [
        "df.groupby('sentiment_class').count()['id']"
      ],
      "execution_count": null,
      "outputs": [
        {
          "output_type": "execute_result",
          "data": {
            "text/plain": [
              "sentiment_class\n",
              "Notr        7\n",
              "Positive    8\n",
              "Name: id, dtype: int64"
            ]
          },
          "metadata": {
            "tags": []
          },
          "execution_count": 461
        }
      ]
    },
    {
      "cell_type": "code",
      "metadata": {
        "id": "ov2EioT8MVHF"
      },
      "source": [
        "sentiment_freq = df.groupby('sentiment_class').count()['id']"
      ],
      "execution_count": null,
      "outputs": []
    },
    {
      "cell_type": "code",
      "metadata": {
        "colab": {
          "base_uri": "https://localhost:8080/",
          "height": 326
        },
        "id": "owsGfxOdP4gY",
        "outputId": "56a05773-6d8d-4dcd-e6d5-648d9ee85a14"
      },
      "source": [
        "sentiment_freq.plot.bar(x= 'sentiment_class', y='id')"
      ],
      "execution_count": null,
      "outputs": [
        {
          "output_type": "execute_result",
          "data": {
            "text/plain": [
              "<matplotlib.axes._subplots.AxesSubplot at 0x7f30059d7a20>"
            ]
          },
          "metadata": {
            "tags": []
          },
          "execution_count": 463
        },
        {
          "output_type": "display_data",
          "data": {
            "image/png": "[encoded data removed]",
            "text/plain": [
              "<Figure size 432x288 with 1 Axes>"
            ]
          },
          "metadata": {
            "tags": [],
            "needs_background": "light"
          }
        }
      ]
    },
    {
      "cell_type": "code",
      "metadata": {
        "id": "MIF-kvIxQA4S"
      },
      "source": [
        "tweets = api.search(q = '#apple', lang='en', count=5000)"
      ],
      "execution_count": null,
      "outputs": []
    },
    {
      "cell_type": "code",
      "metadata": {
        "id": "TEVY9pvTQDqx"
      },
      "source": [
        "def hashtag_df(results):\r\n",
        "    id_list = [tweet.id for tweet in results]\r\n",
        "    data_set = pd.DataFrame(id_list,columns=['id'])\r\n",
        "    \r\n",
        "    \r\n",
        "    data_set['text'] = [tweet.text for tweet in results]\r\n",
        "    data_set['created_at'] = [tweet.created_at for tweet in results]\r\n",
        "    data_set['retweeted'] = [tweet.retweeted for tweet in results]\r\n",
        "    data_set['retweet_count'] = [tweet.retweet_count for tweet in results]\r\n",
        "    data_set['name'] = [tweet.author.name for tweet in results]\r\n",
        "    data_set['user_screen_name'] = [tweet.author.screen_name for tweet in results]\r\n",
        "    data_set['user_followers_count'] = [tweet.author.followers_count for tweet in results]\r\n",
        "    data_set['user_location'] = [tweet.author.location for tweet in results]\r\n",
        "    data_set['Hashtags'] = [tweet.entities.get('hashtags') for tweet in results]\r\n",
        "    \r\n",
        "    return data_set"
      ],
      "execution_count": null,
      "outputs": []
    },
    {
      "cell_type": "code",
      "metadata": {
        "id": "fX2EBi5HQFaW"
      },
      "source": [
        "df = hashtag_df(tweets)"
      ],
      "execution_count": null,
      "outputs": []
    },
    {
      "cell_type": "code",
      "metadata": {
        "colab": {
          "base_uri": "https://localhost:8080/"
        },
        "id": "t9-EwzaJQHhY",
        "outputId": "b7633e8d-207b-4cd5-99b7-fdceef369b28"
      },
      "source": [
        "df.shape"
      ],
      "execution_count": null,
      "outputs": [
        {
          "output_type": "execute_result",
          "data": {
            "text/plain": [
              "(100, 10)"
            ]
          },
          "metadata": {
            "tags": []
          },
          "execution_count": 467
        }
      ]
    },
    {
      "cell_type": "code",
      "metadata": {
        "id": "EdOLu8D6QJwy"
      },
      "source": [
        "df['text'] = df['text'].apply(lambda x: \" \".join(x.lower() for x in x.split()))\r\n",
        "\r\n",
        "df['text'] = df['text'].str.replace('[^\\w\\s]', '')\r\n",
        "\r\n",
        "df['text'] = df['text'].str.replace('[\\d]','')\r\n",
        "\r\n",
        "\r\n",
        "import nltk\r\n",
        "from nltk.corpus import stopwords\r\n",
        "sw = stopwords.words('english')\r\n",
        "df['text'] = df['text'].apply(lambda x: \" \".join(x for x in x.split() if x not in sw))\r\n",
        "\r\n",
        "#lemmi\r\n",
        "from textblob import Word\r\n",
        "df['text'] = df['text'].apply(lambda x: \" \".join([Word(word).lemmatize() for word in x.split()] ))\r\n",
        "\r\n",
        "df['text'] = df['text'].str.replace('rt', '')"
      ],
      "execution_count": null,
      "outputs": []
    },
    {
      "cell_type": "code",
      "metadata": {
        "id": "g839ugfxQOo6"
      },
      "source": [
        "def sentiment_score(df):\r\n",
        "    text = df['text']\r\n",
        "    \r\n",
        "    for i in range(0, len(text)):\r\n",
        "        textB = TextBlob(text[i])\r\n",
        "        sentiment_score = textB.sentiment.polarity\r\n",
        "        df.at[i, 'sentiment_score'] = sentiment_score\r\n",
        "    \r\n",
        "        if sentiment_score < 0.00:\r\n",
        "            sentiment_class = 'Negative'\r\n",
        "            df.at[i, 'sentiment_class'] = sentiment_class\r\n",
        "            \r\n",
        "        elif sentiment_score > 0.00:\r\n",
        "            sentiment_class ='Positive'\r\n",
        "            df.at[i, 'sentiment_class'] = sentiment_class\r\n",
        "        else:\r\n",
        "            sentiment_class = 'Notr'\r\n",
        "            df.at[i, 'sentiment_class'] = sentiment_class\r\n",
        "    return df"
      ],
      "execution_count": null,
      "outputs": []
    },
    {
      "cell_type": "code",
      "metadata": {
        "id": "QimU57VTQjbE"
      },
      "source": [
        "df = sentiment_score(df)"
      ],
      "execution_count": null,
      "outputs": []
    },
    {
      "cell_type": "code",
      "metadata": {
        "id": "ZlUkgblvQlK7"
      },
      "source": [
        "sentiment_freq = df.groupby('sentiment_class').count()['id']"
      ],
      "execution_count": null,
      "outputs": []
    },
    {
      "cell_type": "code",
      "metadata": {
        "colab": {
          "base_uri": "https://localhost:8080/"
        },
        "id": "r7_s-KPjQm8l",
        "outputId": "31b61a1d-fa78-45c6-eaa0-b4cf6fd7c46d"
      },
      "source": [
        "sentiment_freq"
      ],
      "execution_count": null,
      "outputs": [
        {
          "output_type": "execute_result",
          "data": {
            "text/plain": [
              "sentiment_class\n",
              "Negative    13\n",
              "Notr        51\n",
              "Positive    36\n",
              "Name: id, dtype: int64"
            ]
          },
          "metadata": {
            "tags": []
          },
          "execution_count": 472
        }
      ]
    },
    {
      "cell_type": "code",
      "metadata": {
        "colab": {
          "base_uri": "https://localhost:8080/",
          "height": 332
        },
        "id": "SHQDuK7RQuZj",
        "outputId": "6795ab70-a41e-4390-bedd-84505f25a80a"
      },
      "source": [
        "sentiment_freq.plot.bar(x = 'sentiment_class', y= 'id')"
      ],
      "execution_count": null,
      "outputs": [
        {
          "output_type": "execute_result",
          "data": {
            "text/plain": [
              "<matplotlib.axes._subplots.AxesSubplot at 0x7f30153bf278>"
            ]
          },
          "metadata": {
            "tags": []
          },
          "execution_count": 473
        },
        {
          "output_type": "display_data",
          "data": {
            "image/png": "[encoded data removed]",
            "text/plain": [
              "<Figure size 432x288 with 1 Axes>"
            ]
          },
          "metadata": {
            "tags": [],
            "needs_background": "light"
          }
        }
      ]
    }
  ]
}